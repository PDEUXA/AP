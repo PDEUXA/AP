{
 "cells": [
  {
   "cell_type": "code",
   "execution_count": 1,
   "metadata": {
    "pycharm": {
     "is_executing": false,
     "name": "#%%\n"
    }
   },
   "outputs": [],
   "source": [
    "import hashlib\n",
    "import json\n",
    "import os\n",
    "from heuristique.genetique import *\n",
    "from objects.solution import Solution\n",
    "from objects.thread import bourlingueur\n",
    "from script.affichage import plot_gantt, net_voisinage\n",
    "from script.data import loader \n",
    "import numpy as np\n",
    "import networkx as nx \n",
    "import copy\n",
    "import matplotlib.pyplot as plt\n",
    "import random\n",
    "from heuristique.heuristique_gloutonne import heuristique_gloutone\n",
    "from heuristique.ordo_avec_liste import alloc_avec_liste, allocation_dispomachine_ASAP,decodage_bier\n",
    "from Results.summary import main\n",
    "from script.utils import vecteur_bier\n",
    "from script.recherche_voisin import *\n",
    "\n",
    "data, optimum= loader('ft10')"
   ]
  },
  {
   "cell_type": "code",
   "execution_count": 10,
   "outputs": [
    {
     "name": "stdout",
     "text": [
      "5\n",
      "5\n",
      "5\n",
      "5\n",
      "5\n",
      "5\n",
      "5\n",
      "5\n",
      "5\n",
      "5\n",
      "5\n",
      "5\n",
      "5\n",
      "5\n",
      "5\n",
      "5\n",
      "5\n",
      "5\n",
      "5\n",
      "5\n"
     ],
     "output_type": "stream"
    }
   ],
   "source": [],
   "metadata": {
    "collapsed": false,
    "pycharm": {
     "name": "#%%\n",
     "is_executing": false
    }
   }
  },
  {
   "cell_type": "code",
   "execution_count": null,
   "outputs": [],
   "source": [
    "main_genetique('ft20',selec = 20, crois=200, gene= 1000)"
   ],
   "metadata": {
    "collapsed": false,
    "pycharm": {
     "name": "#%%\n",
     "is_executing": true
    }
   }
  },
  {
   "cell_type": "code",
   "execution_count": 3,
   "outputs": [],
   "source": [
    "import multiprocess as mp\n",
    "output = mp.Queue()\n",
    "\n",
    "for i in range(3):\n",
    "    processes = [mp.Process(target= main_genetique, args= ('ft20', 20, 200, 1000))for x in range(4)]\n",
    "    \n",
    "    \n",
    "    for p in processes:\n",
    "        p.start()\n",
    "        \n",
    "    for p in processes:\n",
    "        p.join()"
   ],
   "metadata": {
    "collapsed": false,
    "pycharm": {
     "name": "#%% \n",
     "is_executing": false
    }
   }
  },
  {
   "cell_type": "code",
   "execution_count": null,
   "outputs": [],
   "source": [
    "    \n",
    "    \n",
    "att = {'nom' : 'ft20', 'selec': 20, 'crois':200, 'gene': 1000}\n",
    "# Création des threads\n",
    "thread_1 = bourlingueur(**att)\n",
    "thread_2 = bourlingueur(**att)\n",
    "thread_3 = bourlingueur(**att)\n",
    "\n",
    "# Lancement des threads\n",
    "thread_1.start()\n",
    "thread_2.start()\n",
    "thread_3.start()\n",
    "# Attend que les threads se terminent\n",
    "thread_1.join()\n",
    "thread_2.join()\n",
    "thread_3.join()\n",
    "\n"
   ],
   "metadata": {
    "collapsed": false,
    "pycharm": {
     "name": "#%%\n"
    }
   }
  },
  {
   "cell_type": "code",
   "execution_count": 2,
   "outputs": [],
   "source": [
    "chemin='/home/pa/PycharmProjects/AP_JOB_SHOP/Results/génétique ft/ta01'\n",
    "t = main(chemin)"
   ],
   "metadata": {
    "collapsed": false,
    "pycharm": {
     "name": "#%%\n",
     "is_executing": false
    }
   }
  },
  {
   "cell_type": "code",
   "execution_count": null,
   "outputs": [],
   "source": [
    "for file in os.listdir(chemin):\n",
    "    print(file)"
   ],
   "metadata": {
    "collapsed": false,
    "pycharm": {
     "name": "#%%\n",
     "is_executing": true
    }
   }
  },
  {
   "cell_type": "code",
   "execution_count": null,
   "outputs": [],
   "source": [
    "chemin = os.getcwd()\n",
    "chemin"
   ],
   "metadata": {
    "collapsed": false,
    "pycharm": {
     "name": "#%%\n",
     "is_executing": true
    }
   }
  },
  {
   "cell_type": "code",
   "execution_count": null,
   "outputs": [],
   "source": [
    "import operator\n",
    "data, optimum= loader('ft06')\n",
    "instltp = Instance(**data)\n",
    "heuristique_gloutone(instltp, prio = 'SPT')\n",
    "liste= vecteur_bier(instltp)\n",
    "\n",
    "\n",
    "sol = Solution(data, liste, root= \"None\")\n",
    "sol.voisinage()\n",
    "\n",
    "temp = []\n",
    "index = []\n",
    "for i, v in enumerate(sol.voisin):\n",
    "    if v in temp:\n",
    "        temp.append(v)\n",
    "        index.append(i)\n",
    "    else:\n",
    "        sol.voisin.remove(v)\n",
    "\n",
    "best = sorted(sol.voisin, key=operator.attrgetter('makeSpan'))"
   ],
   "metadata": {
    "collapsed": false,
    "pycharm": {
     "name": "#%%\n",
     "is_executing": true
    }
   }
  },
  {
   "cell_type": "code",
   "execution_count": null,
   "metadata": {
    "pycharm": {
     "is_executing": true
    }
   },
   "outputs": [],
   "source": [
    "import hashlib\n",
    "import json\n",
    "from heuristique.genetique import *\n",
    "from objects.population import Population\n",
    "from objects.solution import Solution\n",
    "from script.utils import sort_task, decodage_gene\n",
    "from objects.instance import Instance\n",
    "from script.affichage import plot_gantt, net_voisinage\n",
    "from script.data import loader \n",
    "import numpy as np\n",
    "import networkx as nx \n",
    "import copy\n",
    "import matplotlib.pyplot as plt\n",
    "import random\n",
    "import objects.logger\n",
    "from heurita0stique.heuristique_gloutonne import heuristique_gloutone\n",
    "from heuristique.ordo_avec_liste import alloc_avec_liste, allocation_dispomachine_ASAP,decodage_bier\n",
    "from script.utils import vecteur_bier\n",
    "from script.recherche_voisin import *\n",
    "\n",
    "data, optimum= loader('ft10')\n",
    "meth = [inversion_all, decalage_all, permutation_by_2_all]\n"
   ]
  },
  {
   "cell_type": "code",
   "execution_count": null,
   "metadata": {
    "pycharm": {
     "is_executing": true
    }
   },
   "outputs": [],
   "source": []
  },
  {
   "cell_type": "code",
   "execution_count": null,
   "metadata": {
    "pycharm": {
     "is_executing": true,
     "name": "#%%\n"
    }
   },
   "outputs": [],
   "source": [
    "data, optimum= loader('ft06')\n",
    "instltp = Instance('ft20')\n",
    "heuristique_gloutone(instltp, prio = 'SPT')\n",
    "liste= vecteur_bier(instltp)\n",
    "\n",
    "\n",
    "sol = Solution(instltp, liste, root= \"None\")\n",
    "\n",
    "g = exploration_voisinage(sol, n = 2 , max_depth = 30, crit_stagnation=40)\n",
    "\n"
   ]
  },
  {
   "cell_type": "code",
   "execution_count": null,
   "metadata": {
    "pycharm": {
     "is_executing": true
    }
   },
   "outputs": [],
   "source": [
    "data, optimum= loader('ft06')\n",
    "instltp = Instance('ft20')\n",
    "heuristique_gloutone(instltp, prio = 'LPT')\n",
    "liste= vecteur_bier(instltp)\n",
    "sol = Solution(instltp, liste, root= \"None\")"
   ]
  },
  {
   "cell_type": "code",
   "execution_count": null,
   "metadata": {
    "pycharm": {
     "is_executing": true
    }
   },
   "outputs": [],
   "source": [
    "sol.voisinage()"
   ]
  },
  {
   "cell_type": "code",
   "execution_count": null,
   "outputs": [],
   "source": [
    "for s in sol.voisin:\n",
    "    print(s.nom, s.makeSpan)"
   ],
   "metadata": {
    "collapsed": false,
    "pycharm": {
     "name": "#%%\n",
     "is_executing": true
    }
   }
  },
  {
   "cell_type": "code",
   "execution_count": null,
   "metadata": {
    "pycharm": {
     "is_executing": true
    }
   },
   "outputs": [],
   "source": []
  },
  {
   "cell_type": "code",
   "execution_count": null,
   "metadata": {
    "pycharm": {
     "is_executing": true
    }
   },
   "outputs": [],
   "source": []
  }
 ],
 "metadata": {
  "kernelspec": {
   "display_name": "Python 3",
   "language": "python",
   "name": "python3"
  },
  "language_info": {
   "codemirror_mode": {
    "name": "ipython",
    "version": 3
   },
   "file_extension": ".py",
   "mimetype": "text/x-python",
   "name": "python",
   "nbconvert_exporter": "python",
   "pygments_lexer": "ipython3",
   "version": "3.7.6"
  },
  "pycharm": {
   "stem_cell": {
    "cell_type": "raw",
    "source": [],
    "metadata": {
     "collapsed": false
    }
   }
  }
 },
 "nbformat": 4,
 "nbformat_minor": 4
}