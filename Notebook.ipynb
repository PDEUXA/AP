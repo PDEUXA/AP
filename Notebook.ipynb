{
 "cells": [
  {
   "cell_type": "code",
   "execution_count": 1,
   "metadata": {
    "pycharm": {
     "is_executing": false,
     "name": "#%%\n"
    }
   },
   "outputs": [],
   "source": [
    "from heuristique.genetique import genese, evaluation, selection\n",
    "from objects.population import Population\n",
    "from script.utils import sort_task\n",
    "from objects.instance import Instance\n",
    "from script.affichage import plot_gantt, net_voisinage\n",
    "from script.data import loader \n",
    "import numpy as np\n",
    "import networkx as nx\n",
    "import copy\n",
    "import matplotlib.pyplot as plt\n",
    "import random\n",
    "from heuristique.heuristique_gloutonne import heuristique_gloutone\n",
    "from heuristique.ordo_avec_liste import alloc_avec_liste, allocation_dispomachine_ASAP,decodage_bier\n",
    "from script.utils import vecteur_bier\n",
    "from script.recherche_voisin import permutation_random\n",
    "\n",
    "data, optimum= loader('ft06')"
   ]
  },
  {
   "cell_type": "code",
   "execution_count": 2,
   "outputs": [
    {
     "name": "stdout",
     "text": [
      "0\n",
      "1\n",
      "2\n",
      "3\n",
      "4\n",
      "5\n",
      "6\n",
      "7\n",
      "8\n",
      "9\n"
     ],
     "output_type": "stream"
    }
   ],
   "source": [
    "pop = Population()\n",
    "genese(10, data, pop, data)\n",
    "evaluation(pop, data)\n",
    "a = selection(pop,2)"
   ],
   "metadata": {
    "collapsed": false,
    "pycharm": {
     "name": "#%%\n",
     "is_executing": false
    }
   }
  },
  {
   "cell_type": "code",
   "execution_count": 3,
   "metadata": {
    "pycharm": {
     "is_executing": false,
     "name": "#%%\n"
    }
   },
   "outputs": [],
   "source": [
    "inst = Instance(**data)\n",
    "heuristique_gloutone(inst, verbose=0, prio=\"SPT\", rnd=0)\n",
    "liste = vecteur_bier(inst)\n",
    "\n",
    "\n",
    "\n",
    "sequence = permutation_random(liste, 10)"
   ]
  },
  {
   "cell_type": "code",
   "execution_count": 12,
   "outputs": [
    {
     "name": "stdout",
     "text": [
      "[4 4 4 4 3 0 3 1 2 2 2 1 3 5 3 5 1 2 1 0 0 2 4 5 5 5 2 0 1 1 4 0 3 5 3 0]\n",
      "[2 5 2 0 0 3 5 4 5 4 3 3 2 4 4 2 1 1 1 2 0 1 0 3 0 5 0 1 4 3 2 5 1 3 4 5]\n",
      "[2 3 1 4 3 0 1 4 2 4 5 4 2 0 4 2 0 5 4 5 2 5 0 2 3 5 3 3 1 1 1 5 3 1 0 0]\n",
      "[3 1 2 2 1 5 3 5 0 3 3 2 4 4 4 2 1 1 0 3 1 0 0 1 0 5 5 4 2 3 2 4 5 0 4 5]\n",
      "[1 5 0 0 5 4 0 5 4 2 3 1 2 2 5 4 5 1 3 1 2 0 3 3 1 2 4 4 4 2 0 0 5 3 1 3]\n",
      "[2 2 1 1 3 2 4 4 0 0 5 3 4 4 3 5 2 5 1 1 2 1 3 0 4 0 5 3 1 5 0 5 3 2 4 0]\n",
      "[5 1 2 2 0 0 3 3 1 3 2 4 4 4 0 5 5 1 4 4 5 3 5 1 2 2 1 3 0 2 1 5 0 3 0 4]\n",
      "[5 3 0 4 3 5 4 4 5 4 2 2 2 1 5 5 3 0 0 0 1 1 3 4 0 2 3 5 3 2 2 4 1 1 0 1]\n",
      "[5 3 3 0 2 5 1 2 1 5 4 2 5 1 0 4 1 3 4 5 0 2 3 3 1 3 1 4 2 5 2 0 0 4 4 0]\n",
      "[4 3 1 4 1 2 5 3 0 5 2 2 1 3 1 0 1 0 0 3 1 4 0 0 3 5 4 3 5 4 2 4 2 5 5 2]\n"
     ],
     "output_type": "stream"
    }
   ],
   "source": [
    "for s in sequence:\n",
    "    print(s)\n"
   ],
   "metadata": {
    "collapsed": false,
    "pycharm": {
     "name": "#%%\n",
     "is_executing": false
    }
   }
  },
  {
   "cell_type": "code",
   "execution_count": null,
   "outputs": [],
   "source": [
    "inst = Instance(**data)\n",
    "total = heuristique_gloutone(inst, verbose = 0, prio =\"SPT\" , rnd = 0)\n",
    "liste = vecteur_bier(inst, par = \"Start\")\n",
    "instance = Instance(**data)\n",
    "print(liste)"
   ],
   "metadata": {
    "collapsed": false,
    "pycharm": {
     "name": "#%%\n"
    }
   }
  },
  {
   "cell_type": "code",
   "execution_count": 59,
   "metadata": {
    "pycharm": {
     "is_executing": false
    }
   },
   "outputs": [
    {
     "name": "stdout",
     "output_type": "stream",
     "text": [
      "0\n",
      "[1 1 1 0 5 0 2 3 5 2 4 5 0 3 0 1 2 3 5 3 1 4 0 3 2 3 5 2 5 4 4 0 4 2 4 1] a:3 O 66\n",
      "[0 5 0 2 3 5 2 4 5 0 3 0 1 2 3 5 3 1 4 0 3 2 1 1 1 1 4 2 4 0 4 4 5 2 5 3] _:539 O 67\n",
      "1\n",
      "[1 1 1 0 5 0 2 3 5 2 4 5 0 3 0 1 2 3 5 3 1 4 0 3 2 3 5 2 5 4 4 0 4 2 4 1] a:3 O 66\n",
      "[0 5 0 2 3 5 2 4 5 0 3 0 1 2 3 5 3 1 4 0 3 2 1 1 1 1 4 2 4 0 4 4 5 2 5 3] _:539 O 67\n"
     ]
    }
   ],
   "source": [
    "from script.recherche_voisin import exploration_voisinage, inversion_all, permutation_random\n",
    "\n",
    "b=exploration_voisinage(instance , data)"
   ]
  },
  {
   "cell_type": "code",
   "execution_count": 4,
   "metadata": {},
   "outputs": [
    {
     "ename": "ValueError",
     "evalue": "not enough values to unpack (expected 3, got 2)",
     "output_type": "error",
     "traceback": [
      "\u001b[0;31m---------------------------------------------------------------------------\u001b[0m",
      "\u001b[0;31mValueError\u001b[0m                                Traceback (most recent call last)",
      "\u001b[0;32m<ipython-input-4-419ae5ac83ac>\u001b[0m in \u001b[0;36m<module>\u001b[0;34m\u001b[0m\n\u001b[0;32m----> 1\u001b[0;31m \u001b[0mnet_voisinage\u001b[0m\u001b[0;34m(\u001b[0m\u001b[0mb\u001b[0m\u001b[0;34m)\u001b[0m\u001b[0;34m\u001b[0m\u001b[0;34m\u001b[0m\u001b[0m\n\u001b[0m",
      "\u001b[0;32m~/PycharmProjects/AP_JOB_SHOP/script/affichage.py\u001b[0m in \u001b[0;36mnet_voisinage\u001b[0;34m(graph)\u001b[0m\n\u001b[1;32m     71\u001b[0m     \u001b[0md_edge\u001b[0m \u001b[0;34m=\u001b[0m \u001b[0;34m{\u001b[0m\u001b[0;34m}\u001b[0m\u001b[0;34m\u001b[0m\u001b[0;34m\u001b[0m\u001b[0m\n\u001b[1;32m     72\u001b[0m     \u001b[0;32mfor\u001b[0m \u001b[0mg\u001b[0m \u001b[0;32min\u001b[0m \u001b[0mgraph\u001b[0m\u001b[0;34m.\u001b[0m\u001b[0medges\u001b[0m\u001b[0;34m(\u001b[0m\u001b[0;34m)\u001b[0m\u001b[0;34m:\u001b[0m\u001b[0;34m\u001b[0m\u001b[0;34m\u001b[0m\u001b[0m\n\u001b[0;32m---> 73\u001b[0;31m         \u001b[0md_edge\u001b[0m\u001b[0;34m[\u001b[0m\u001b[0mg\u001b[0m\u001b[0;34m]\u001b[0m \u001b[0;34m=\u001b[0m \u001b[0mgraph\u001b[0m\u001b[0;34m.\u001b[0m\u001b[0medges\u001b[0m\u001b[0;34m[\u001b[0m\u001b[0mg\u001b[0m\u001b[0;34m]\u001b[0m\u001b[0;34m[\u001b[0m\u001b[0;34m'chemin'\u001b[0m\u001b[0;34m]\u001b[0m\u001b[0;34m\u001b[0m\u001b[0;34m\u001b[0m\u001b[0m\n\u001b[0m\u001b[1;32m     74\u001b[0m \u001b[0;34m\u001b[0m\u001b[0m\n\u001b[1;32m     75\u001b[0m     \u001b[0mplt\u001b[0m\u001b[0;34m.\u001b[0m\u001b[0mfigure\u001b[0m\u001b[0;34m(\u001b[0m\u001b[0mfigsize\u001b[0m\u001b[0;34m=\u001b[0m\u001b[0;34m(\u001b[0m\u001b[0;36m8\u001b[0m\u001b[0;34m,\u001b[0m \u001b[0;36m8\u001b[0m\u001b[0;34m)\u001b[0m\u001b[0;34m)\u001b[0m\u001b[0;34m\u001b[0m\u001b[0;34m\u001b[0m\u001b[0m\n",
      "\u001b[0;32m~/anaconda3/envs/AP_JOB_SHOP/lib/python3.7/site-packages/networkx/classes/reportviews.py\u001b[0m in \u001b[0;36m__getitem__\u001b[0;34m(self, e)\u001b[0m\n\u001b[1;32m   1104\u001b[0m \u001b[0;34m\u001b[0m\u001b[0m\n\u001b[1;32m   1105\u001b[0m     \u001b[0;32mdef\u001b[0m \u001b[0m__getitem__\u001b[0m\u001b[0;34m(\u001b[0m\u001b[0mself\u001b[0m\u001b[0;34m,\u001b[0m \u001b[0me\u001b[0m\u001b[0;34m)\u001b[0m\u001b[0;34m:\u001b[0m\u001b[0;34m\u001b[0m\u001b[0;34m\u001b[0m\u001b[0m\n\u001b[0;32m-> 1106\u001b[0;31m         \u001b[0mu\u001b[0m\u001b[0;34m,\u001b[0m \u001b[0mv\u001b[0m\u001b[0;34m,\u001b[0m \u001b[0mk\u001b[0m \u001b[0;34m=\u001b[0m \u001b[0me\u001b[0m\u001b[0;34m\u001b[0m\u001b[0;34m\u001b[0m\u001b[0m\n\u001b[0m\u001b[1;32m   1107\u001b[0m         \u001b[0;32mreturn\u001b[0m \u001b[0mself\u001b[0m\u001b[0;34m.\u001b[0m\u001b[0m_adjdict\u001b[0m\u001b[0;34m[\u001b[0m\u001b[0mu\u001b[0m\u001b[0;34m]\u001b[0m\u001b[0;34m[\u001b[0m\u001b[0mv\u001b[0m\u001b[0;34m]\u001b[0m\u001b[0;34m[\u001b[0m\u001b[0mk\u001b[0m\u001b[0;34m]\u001b[0m\u001b[0;34m\u001b[0m\u001b[0;34m\u001b[0m\u001b[0m\n\u001b[1;32m   1108\u001b[0m \u001b[0;34m\u001b[0m\u001b[0m\n",
      "\u001b[0;31mValueError\u001b[0m: not enough values to unpack (expected 3, got 2)"
     ]
    }
   ],
   "source": [
    "net_voisinage(b)"
   ]
  },
  {
   "cell_type": "code",
   "execution_count": 25,
   "metadata": {
    "collapsed": true
   },
   "outputs": [
    {
     "name": "stdout",
     "output_type": "stream",
     "text": [
      "Help on OutMultiEdgeView in module networkx.classes.reportviews object:\n",
      "\n",
      "class OutMultiEdgeView(OutEdgeView)\n",
      " |  OutMultiEdgeView(G)\n",
      " |  \n",
      " |  A EdgeView class for outward edges of a MultiDiGraph\n",
      " |  \n",
      " |  Method resolution order:\n",
      " |      OutMultiEdgeView\n",
      " |      OutEdgeView\n",
      " |      collections.abc.Set\n",
      " |      collections.abc.Mapping\n",
      " |      collections.abc.Collection\n",
      " |      collections.abc.Sized\n",
      " |      collections.abc.Iterable\n",
      " |      collections.abc.Container\n",
      " |      builtins.object\n",
      " |  \n",
      " |  Methods defined here:\n",
      " |  \n",
      " |  __call__(self, nbunch=None, data=False, keys=False, default=None)\n",
      " |      Call self as a function.\n",
      " |  \n",
      " |  __contains__(self, e)\n",
      " |  \n",
      " |  __getitem__(self, e)\n",
      " |  \n",
      " |  __iter__(self)\n",
      " |  \n",
      " |  __len__(self)\n",
      " |  \n",
      " |  data(self, data=True, keys=False, default=None, nbunch=None)\n",
      " |  \n",
      " |  ----------------------------------------------------------------------\n",
      " |  Data and other attributes defined here:\n",
      " |  \n",
      " |  __abstractmethods__ = frozenset()\n",
      " |  \n",
      " |  dataview = <class 'networkx.classes.reportviews.OutMultiEdgeDataView'>\n",
      " |      An EdgeDataView for outward edges of MultiDiGraph; See EdgeDataView\n",
      " |  \n",
      " |  ----------------------------------------------------------------------\n",
      " |  Methods inherited from OutEdgeView:\n",
      " |  \n",
      " |  __getstate__(self)\n",
      " |  \n",
      " |  __init__(self, G)\n",
      " |      Initialize self.  See help(type(self)) for accurate signature.\n",
      " |  \n",
      " |  __repr__(self)\n",
      " |      Return repr(self).\n",
      " |  \n",
      " |  __setstate__(self, state)\n",
      " |  \n",
      " |  __str__(self)\n",
      " |      Return str(self).\n",
      " |  \n",
      " |  ----------------------------------------------------------------------\n",
      " |  Methods inherited from collections.abc.Set:\n",
      " |  \n",
      " |  __and__(self, other)\n",
      " |  \n",
      " |  __eq__(self, other)\n",
      " |      Return self==value.\n",
      " |  \n",
      " |  __ge__(self, other)\n",
      " |      Return self>=value.\n",
      " |  \n",
      " |  __gt__(self, other)\n",
      " |      Return self>value.\n",
      " |  \n",
      " |  __le__(self, other)\n",
      " |      Return self<=value.\n",
      " |  \n",
      " |  __lt__(self, other)\n",
      " |      Return self<value.\n",
      " |  \n",
      " |  __or__(self, other)\n",
      " |  \n",
      " |  __rand__ = __and__(self, other)\n",
      " |  \n",
      " |  __ror__ = __or__(self, other)\n",
      " |  \n",
      " |  __rsub__(self, other)\n",
      " |  \n",
      " |  __rxor__ = __xor__(self, other)\n",
      " |  \n",
      " |  __sub__(self, other)\n",
      " |  \n",
      " |  __xor__(self, other)\n",
      " |  \n",
      " |  isdisjoint(self, other)\n",
      " |      Return True if two sets have a null intersection.\n",
      " |  \n",
      " |  ----------------------------------------------------------------------\n",
      " |  Data and other attributes inherited from collections.abc.Set:\n",
      " |  \n",
      " |  __hash__ = None\n",
      " |  \n",
      " |  ----------------------------------------------------------------------\n",
      " |  Methods inherited from collections.abc.Mapping:\n",
      " |  \n",
      " |  get(self, key, default=None)\n",
      " |      D.get(k[,d]) -> D[k] if k in D, else d.  d defaults to None.\n",
      " |  \n",
      " |  items(self)\n",
      " |      D.items() -> a set-like object providing a view on D's items\n",
      " |  \n",
      " |  keys(self)\n",
      " |      D.keys() -> a set-like object providing a view on D's keys\n",
      " |  \n",
      " |  values(self)\n",
      " |      D.values() -> an object providing a view on D's values\n",
      " |  \n",
      " |  ----------------------------------------------------------------------\n",
      " |  Data and other attributes inherited from collections.abc.Mapping:\n",
      " |  \n",
      " |  __reversed__ = None\n",
      " |  \n",
      " |  ----------------------------------------------------------------------\n",
      " |  Class methods inherited from collections.abc.Collection:\n",
      " |  \n",
      " |  __subclasshook__(C) from abc.ABCMeta\n",
      " |      Abstract classes can override this to customize issubclass().\n",
      " |      \n",
      " |      This is invoked early on by abc.ABCMeta.__subclasscheck__().\n",
      " |      It should return True, False or NotImplemented.  If it returns\n",
      " |      NotImplemented, the normal algorithm is used.  Otherwise, it\n",
      " |      overrides the normal algorithm (and the outcome is cached).\n",
      "\n"
     ]
    }
   ],
   "source": [
    "help(b.edges)"
   ]
  },
  {
   "cell_type": "code",
   "execution_count": 56,
   "metadata": {},
   "outputs": [
    {
     "ename": "NameError",
     "evalue": "name 'i' is not defined",
     "output_type": "error",
     "traceback": [
      "\u001b[0;31m---------------------------------------------------------------------------\u001b[0m",
      "\u001b[0;31mNameError\u001b[0m                                 Traceback (most recent call last)",
      "\u001b[0;32m<ipython-input-56-e2f84e2ac60b>\u001b[0m in \u001b[0;36m<module>\u001b[0;34m\u001b[0m\n\u001b[1;32m      3\u001b[0m     \u001b[0;32mpass\u001b[0m\u001b[0;34m\u001b[0m\u001b[0;34m\u001b[0m\u001b[0m\n\u001b[1;32m      4\u001b[0m \u001b[0mu\u001b[0m\u001b[0;34m\u001b[0m\u001b[0;34m\u001b[0m\u001b[0m\n\u001b[0;32m----> 5\u001b[0;31m \u001b[0mprint\u001b[0m\u001b[0;34m(\u001b[0m\u001b[0mb\u001b[0m\u001b[0;34m.\u001b[0m\u001b[0medges\u001b[0m\u001b[0;34m[\u001b[0m\u001b[0;34m(\u001b[0m\u001b[0mu\u001b[0m\u001b[0;34m,\u001b[0m\u001b[0mv\u001b[0m\u001b[0;34m,\u001b[0m\u001b[0mi\u001b[0m\u001b[0;34m)\u001b[0m\u001b[0;34m]\u001b[0m\u001b[0;34m)\u001b[0m\u001b[0;34m\u001b[0m\u001b[0;34m\u001b[0m\u001b[0m\n\u001b[0m",
      "\u001b[0;31mNameError\u001b[0m: name 'i' is not defined"
     ]
    }
   ],
   "source": [
    "edge = {}\n",
    "for u,v in b.edges():\n",
    "    pass\n",
    "u\n",
    "print(b.edges[(u,v,i)])"
   ]
  },
  {
   "cell_type": "code",
   "execution_count": 58,
   "metadata": {},
   "outputs": [
    {
     "name": "stdout",
     "output_type": "stream",
     "text": [
      "('O', '[1 1 1 0 5 0 2 3 5 2 4 5 0 3 0 1 2 3 5 3 1 4 0 3 2 3 5 2 5 4 4 0 4 2 4 1]', 0)\n",
      "('O', '[1 1 1 0 5 0 2 3 5 2 4 5 0 3 0 1 2 3 5 3 1 4 0 3 2 3 5 2 5 4 4 0 4 2 4 1]', 1)\n",
      "('O', '[1 1 1 0 5 0 2 3 5 2 4 5 0 3 0 1 2 3 5 3 1 4 0 3 2 3 5 2 5 4 4 0 4 2 4 1]', 2)\n",
      "('O', '[1 1 1 0 5 0 2 3 5 2 4 5 0 3 0 1 2 3 5 3 1 4 0 3 2 3 5 2 5 4 4 0 4 2 4 1]', 3)\n",
      "('O', '[1 1 1 0 5 0 2 3 5 2 4 5 0 3 0 1 2 3 5 3 1 4 0 3 2 3 5 2 5 4 4 0 4 2 4 1]', 4)\n",
      "('O', '[1 1 1 0 5 0 2 3 5 2 4 5 0 3 0 1 2 3 5 3 1 4 0 3 2 3 5 2 5 4 4 0 4 2 4 1]', 5)\n",
      "('O', '[0 5 0 2 3 5 2 4 5 0 3 0 1 2 3 5 3 1 4 0 3 2 1 1 1 1 4 2 4 0 4 4 5 2 5 3]', 0)\n",
      "('O', '[0 5 0 2 3 5 2 4 5 0 3 0 1 2 3 5 3 1 4 0 3 2 1 1 1 1 4 2 4 0 4 4 5 2 5 3]', 1)\n",
      "('O', '[0 5 0 2 3 5 2 4 5 0 3 0 1 2 3 5 3 1 4 0 3 2 1 1 1 1 4 2 4 0 4 4 5 2 5 3]', 2)\n",
      "('O', '[0 5 0 2 3 5 2 4 5 0 3 0 1 2 3 5 3 1 4 0 3 2 1 1 1 1 4 2 4 0 4 4 5 2 5 3]', 3)\n",
      "('O', '[0 5 0 2 3 5 2 4 5 0 3 0 1 2 3 5 3 1 4 0 3 2 1 1 1 1 4 2 4 0 4 4 5 2 5 3]', 4)\n",
      "('O', '[0 5 0 2 3 5 2 4 5 0 3 0 1 2 3 5 3 1 4 0 3 2 1 1 1 1 4 2 4 0 4 4 5 2 5 3]', 5)\n"
     ]
    }
   ],
   "source": [
    "a= list(b.edges)\n",
    "for i in a :\n",
    "    print(i)"
   ]
  },
  {
   "cell_type": "code",
   "execution_count": 17,
   "metadata": {
    "pycharm": {
     "is_executing": false
    }
   },
   "outputs": [
    {
     "data": {
      "text/plain": [
       "NodeView(('O', 90, '[1 1 1 0 5 0 2 3 5 2 4 5 0 3 0 1 2 3 5 3 1 4 0 3 2 3 5 2 5 4 4 0 4 2 4 1]', '[0 5 0 2 3 5 2 4 5 0 3 0 1 2 3 5 3 1 4 0 3 2 1 1 1 1 4 2 4 0 4 4 5 2 5 3]'))"
      ]
     },
     "execution_count": 17,
     "metadata": {},
     "output_type": "execute_result"
    }
   ],
   "source": [
    "b.nodes"
   ]
  },
  {
   "cell_type": "code",
   "execution_count": null,
   "metadata": {
    "pycharm": {
     "is_executing": false
    }
   },
   "outputs": [],
   "source": [
    "for v,truc,root,make in best:\n",
    "    b= exploration_10meilleurs_voisinage(v, inst,graph ,truc)\n",
    "    for v,truc,root,make in b:\n",
    "        print(v,truc, root)\n",
    "        graph.add_node(str(v), makespan = make)\n",
    "        graph.add_edge(root, str(v), chemin = truc)"
   ]
  },
  {
   "cell_type": "code",
   "execution_count": null,
   "metadata": {
    "pycharm": {
     "is_executing": false
    }
   },
   "outputs": [],
   "source": [
    "d"
   ]
  },
  {
   "cell_type": "code",
   "execution_count": null,
   "metadata": {
    "pycharm": {
     "is_executing": false
    }
   },
   "outputs": [],
   "source": [
    "graph.edges.data()"
   ]
  },
  {
   "cell_type": "code",
   "execution_count": null,
   "metadata": {
    "pycharm": {
     "is_executing": false
    }
   },
   "outputs": [],
   "source": [
    "d = {}\n",
    "for g in graph.edges():\n",
    "    graph.edges[('O', '[1 3 4 1 2 5 3 5 5 2 0 4 0 3 0 3 1 5 0 3 1 5 5 2 1 2 4 0 0 2 4 4 2 1 4 3]')]"
   ]
  },
  {
   "cell_type": "code",
   "execution_count": null,
   "metadata": {
    "pycharm": {
     "is_executing": false,
     "name": "#%%\n"
    }
   },
   "outputs": [],
   "source": [
    "graph.nodes.data()"
   ]
  },
  {
   "cell_type": "code",
   "execution_count": null,
   "metadata": {
    "pycharm": {
     "is_executing": false
    }
   },
   "outputs": [],
   "source": [
    "d2 = {}\n",
    "size = []\n",
    "for g in graph.nodes():\n",
    "    d2[g]= graph.nodes[g]['makespan']\n",
    "    size.append(graph.nodes[g]['makespan'])"
   ]
  },
  {
   "cell_type": "code",
   "execution_count": null,
   "metadata": {
    "pycharm": {
     "is_executing": false
    }
   },
   "outputs": [],
   "source": [
    "d2 = {}\n",
    "size = []\n",
    "for g in graph.nodes():\n",
    "    d2[g]= graph.nodes[g]['makespan']\n",
    "    size.append(graph.nodes[g]['makespan'])"
   ]
  },
  {
   "cell_type": "code",
   "execution_count": null,
   "metadata": {
    "pycharm": {
     "is_executing": false
    }
   },
   "outputs": [],
   "source": [
    "import plotly.graph_objects as go\n",
    "\n",
    "plt.figure(figsize=(8,8))\n",
    "pos = nx.spring_layout(graph)\n",
    "nx.draw(graph, pos,node_labels = d2, node_color=range(graph.number_of_nodes()),\n",
    "        edge_color=range(graph.number_of_edges()), edge_cmap=plt.cm.viridis,\n",
    "        node_size=[i for i in size], cmap=plt.cm.viridis)\n",
    "nx.draw_networkx_labels(graph, pos, d2)\n",
    "nx.draw_networkx_edge_labels(graph, pos, edge_labels =d,width=1.0, alpha=0.5,font_size =9)\n",
    "plt.show()"
   ]
  },
  {
   "cell_type": "code",
   "execution_count": null,
   "metadata": {
    "pycharm": {
     "is_executing": false
    }
   },
   "outputs": [],
   "source": [
    "graph = nx.MultiDiGraph()\n",
    "opti, opti_liste, graph ,opti_inst, change = exploration_voisinage(liste, inst,graph)\n",
    "for i in range(8):\n",
    "    if change == \"Yes\":\n",
    "        opti, opti_liste, graph ,opti_inst,change = exploration_voisinage(opti_liste, opti_inst,graph)\n"
   ]
  },
  {
   "cell_type": "code",
   "execution_count": null,
   "metadata": {
    "pycharm": {
     "is_executing": false
    }
   },
   "outputs": [],
   "source": [
    "import plotly.graph_objects as go\n",
    "pos = nx.shell_layout(graph)\n",
    "nx.draw(graph, pos,with_labels =True, node_color=range(graph.number_of_nodes()), node_size=800, cmap=plt.cm.Blues)\n"
   ]
  },
  {
   "cell_type": "code",
   "execution_count": null,
   "metadata": {
    "pycharm": {
     "is_executing": false
    }
   },
   "outputs": [],
   "source": [
    "a = np.array([0,1,2,3,4,5]*6)\n",
    "a = np.sort(a)\n",
    "a"
   ]
  },
  {
   "cell_type": "code",
   "execution_count": null,
   "metadata": {
    "pycharm": {
     "is_executing": false
    }
   },
   "outputs": [],
   "source": [
    "instance = Instance(**data)\n",
    "temp =  alloc_avec_liste(instance,a)\n",
    "affichage_repetition(instance)\n",
    "temp"
   ]
  },
  {
   "cell_type": "code",
   "execution_count": null,
   "metadata": {
    "pycharm": {
     "is_executing": false
    },
    "scrolled": false
   },
   "outputs": [],
   "source": [
    "instance = Instance(**data)\n",
    "temp =  alloc_avec_liste(instance,a)\n",
    "j=0\n",
    "ecart = -1\n",
    "graph = nx.MultiDiGraph() \n",
    "name =str(j)+\":\"+ str(temp)\n",
    "graph.add_node(name,makespan=total )\n",
    "\n",
    "step =0\n",
    "vect = exploration_voisinage_inversion(a)\n",
    "it =iter(vect)\n",
    "verbose = 1\n",
    "j=1\n",
    "while ecart < 10:\n",
    "    instance = Instance(**data)\n",
    "    l = next(it)\n",
    "    alloc_avec_liste(instance,l)\n",
    "    graph.add_node(str(j)+\":\"+str(instance.makeSpan),makespan=instance.makeSpan) \n",
    "    graph.add_edge(name, instance.makeSpan)\n",
    "    if verbose > 1:\n",
    "        print(\"makespan\",instance.makeSpan)\n",
    "    ecart = instance.makeSpan - temp\n",
    "    \n",
    "    if verbose > 1:\n",
    "        print('écart',ecart)\n",
    "        print('optimum',temp)\n",
    "        print(\"====================\")\n",
    "\n",
    "    if instance.makeSpan < temp:\n",
    "        \n",
    "        step = 0\n",
    "        liste = l\n",
    "        name = str(j)+\":\"+str(instance.makeSpan)\n",
    "        j+=1\n",
    "        i = instance\n",
    "        temp = instance.makeSpan\n",
    "        vect = exploration_voisinage_inversion(l)\n",
    "        it =iter(vect)\n",
    "    step += 1\n"
   ]
  },
  {
   "cell_type": "code",
   "execution_count": null,
   "metadata": {
    "pycharm": {
     "is_executing": false
    }
   },
   "outputs": [],
   "source": [
    "graph.nodes.data()\n"
   ]
  },
  {
   "cell_type": "code",
   "execution_count": null,
   "metadata": {
    "pycharm": {
     "is_executing": false
    }
   },
   "outputs": [],
   "source": [
    "graph.nodes.data()\n",
    "test=[]\n",
    "d = dict(graph.nodes.data())\n",
    "for v in d.values():\n",
    "    print(v)\n",
    "    for vv in v.values():\n",
    "        print(vv)\n",
    "        test.append(vv)\n"
   ]
  },
  {
   "cell_type": "code",
   "execution_count": null,
   "metadata": {
    "pycharm": {
     "is_executing": false
    }
   },
   "outputs": [],
   "source": [
    "\n",
    "pos = nx.shell_layout(graph)\n",
    "d = dict(graph.nodes.data())\n",
    "nx.draw(graph, pos,with_labels =True, node_color=range(graph.number_of_nodes()),\n",
    "        edge_color=range(graph.number_of_edges()),\n",
    "        width=4, edge_cmap=plt.cm.viridis,\n",
    "        node_size=[i**2 for i in test], cmap=plt.cm.viridis)\n",
    "plt.show()"
   ]
  },
  {
   "cell_type": "code",
   "execution_count": null,
   "metadata": {
    "pycharm": {
     "is_executing": false
    }
   },
   "outputs": [],
   "source": [
    "plot_gantt(instance, by=\"JOB\", grouping=False)"
   ]
  },
  {
   "cell_type": "code",
   "execution_count": null,
   "metadata": {
    "pycharm": {
     "is_executing": false
    }
   },
   "outputs": [],
   "source": [
    "for j in instance.jobs_list:\n",
    "    print(j)"
   ]
  },
  {
   "cell_type": "code",
   "execution_count": null,
   "metadata": {
    "pycharm": {
     "is_executing": false
    }
   },
   "outputs": [],
   "source": [
    "liste = affichage_repetition(inst)"
   ]
  },
  {
   "cell_type": "code",
   "execution_count": null,
   "metadata": {
    "pycharm": {
     "is_executing": false
    }
   },
   "outputs": [],
   "source": []
  },
  {
   "cell_type": "code",
   "execution_count": null,
   "metadata": {
    "pycharm": {
     "is_executing": false
    }
   },
   "outputs": [],
   "source": [
    "i.makeSpan"
   ]
  },
  {
   "cell_type": "code",
   "execution_count": null,
   "metadata": {
    "pycharm": {
     "is_executing": false
    }
   },
   "outputs": [],
   "source": [
    "instance =Instance(**data)\n",
    "alloc_avec_liste(instance,liste)\n",
    "\n",
    "plot_gantt(instance)\n"
   ]
  },
  {
   "cell_type": "code",
   "execution_count": null,
   "metadata": {
    "pycharm": {
     "is_executing": false
    },
    "scrolled": true
   },
   "outputs": [],
   "source": [
    "for j in i.jobs_list:\n",
    "    print(j)"
   ]
  },
  {
   "cell_type": "code",
   "execution_count": null,
   "metadata": {
    "pycharm": {
     "is_executing": false
    }
   },
   "outputs": [],
   "source": [
    "liste"
   ]
  },
  {
   "cell_type": "code",
   "execution_count": null,
   "metadata": {
    "pycharm": {
     "is_executing": false
    }
   },
   "outputs": [],
   "source": []
  },
  {
   "cell_type": "code",
   "execution_count": null,
   "metadata": {
    "pycharm": {
     "is_executing": false,
     "name": "#%%\n"
    }
   },
   "outputs": [],
   "source": [
    "for j in instance.jobs_list:\n",
    "    print(j)"
   ]
  },
  {
   "cell_type": "code",
   "execution_count": null,
   "metadata": {
    "pycharm": {
     "is_executing": false,
     "name": "#%%\n"
    }
   },
   "outputs": [],
   "source": [
    "plot_gantt(instance, by='MACHINE', grouping =False)"
   ]
  },
  {
   "cell_type": "code",
   "execution_count": null,
   "metadata": {
    "pycharm": {
     "is_executing": false
    }
   },
   "outputs": [],
   "source": [
    "liste = affichage_repetition(inst)\n",
    "liste\n"
   ]
  },
  {
   "cell_type": "code",
   "execution_count": null,
   "metadata": {
    "pycharm": {
     "is_executing": false
    }
   },
   "outputs": [],
   "source": [
    "liste = affichage_repetition(instance)\n",
    "liste\n"
   ]
  },
  {
   "cell_type": "code",
   "execution_count": null,
   "metadata": {
    "pycharm": {
     "is_executing": false
    }
   },
   "outputs": [],
   "source": []
  },
  {
   "cell_type": "code",
   "execution_count": null,
   "metadata": {
    "pycharm": {
     "is_executing": false
    }
   },
   "outputs": [],
   "source": []
  },
  {
   "cell_type": "code",
   "execution_count": null,
   "metadata": {
    "pycharm": {
     "is_executing": false,
     "name": "#%%\n"
    }
   },
   "outputs": [],
   "source": [
    "dfs = pd.DataFrame(test)\n",
    "dfs"
   ]
  },
  {
   "cell_type": "code",
   "execution_count": null,
   "metadata": {
    "pycharm": {
     "is_executing": false,
     "name": "#%%\n"
    }
   },
   "outputs": [],
   "source": [
    "compt = 0\n",
    "minRND = 100000    \n",
    "inst2 = Instance(**data)\n",
    "totalSPT = heuristique_gloutone(inst2, verbose = 0, prio =\"SPT\" , rnd = 0)\n",
    "minSPT = totalSPT\n",
    "\n",
    "for i in range(100):\n",
    "    inst = Instance(**data)\n",
    "    totalRND = heuristique_gloutone(inst, verbose = 0, prio =\"SPT\" , rnd = 1)\n",
    "    if totalRND < minRND :\n",
    "        minRND = totalRND\n",
    "    \n",
    "    if totalRND > totalSPT:\n",
    "        compt += 1\n",
    "        \n",
    "print(\"RND perd\", compt,\"/\", len(range(100)))\n",
    "print(\"RND gagne\", len(range(100)) - compt,\"/\", len(range(100)))\n",
    "print(\"Optimium\", optimum)\n",
    "print(\"minRND\", minRND)\n",
    "print(\"minSPT\", minSPT)"
   ]
  },
  {
   "cell_type": "code",
   "execution_count": null,
   "metadata": {
    "pycharm": {
     "is_executing": false,
     "name": "#%%\n"
    }
   },
   "outputs": [],
   "source": []
  },
  {
   "cell_type": "code",
   "execution_count": null,
   "metadata": {
    "pycharm": {
     "is_executing": false,
     "name": "#%%\n"
    }
   },
   "outputs": [],
   "source": [
    "plot_gantt(inst2, by= \"JOB\", grouping = True)"
   ]
  },
  {
   "cell_type": "code",
   "execution_count": null,
   "metadata": {
    "pycharm": {
     "is_executing": false,
     "name": "#%%\n"
    }
   },
   "outputs": [],
   "source": []
  },
  {
   "cell_type": "code",
   "execution_count": null,
   "metadata": {
    "pycharm": {
     "is_executing": false,
     "name": "#%%\n"
    }
   },
   "outputs": [],
   "source": [
    "import numpy as np\n",
    "a = np.array(a)\n",
    "b = a[:,0]"
   ]
  },
  {
   "cell_type": "code",
   "execution_count": null,
   "metadata": {
    "pycharm": {
     "is_executing": false,
     "name": "#%%\n"
    }
   },
   "outputs": [],
   "source": [
    "        task_list = sorted(task_list.items(), key=lambda x: x[1][2])\n",
    "\n",
    "a[:]"
   ]
  },
  {
   "cell_type": "code",
   "execution_count": null,
   "metadata": {
    "pycharm": {
     "is_executing": false,
     "name": "#%%\n"
    }
   },
   "outputs": [],
   "source": [
    "list(b)"
   ]
  },
  {
   "cell_type": "code",
   "execution_count": null,
   "metadata": {
    "pycharm": {
     "is_executing": false,
     "name": "#%%\n"
    }
   },
   "outputs": [],
   "source": [
    "v = [int(x[0][0]) for x in np.array(a)]\n",
    "\n"
   ]
  },
  {
   "cell_type": "code",
   "execution_count": null,
   "metadata": {
    "pycharm": {
     "is_executing": false,
     "name": "#%%\n"
    }
   },
   "outputs": [],
   "source": [
    "l = affichage_repetition(inst)"
   ]
  },
  {
   "cell_type": "code",
   "execution_count": null,
   "metadata": {
    "pycharm": {
     "is_executing": false,
     "name": "#%%\n"
    }
   },
   "outputs": [],
   "source": [
    "int(True)"
   ]
  },
  {
   "cell_type": "code",
   "execution_count": null,
   "metadata": {
    "pycharm": {
     "is_executing": false,
     "name": "#%%\n"
    }
   },
   "outputs": [],
   "source": [
    "\n"
   ]
  }
 ],
 "metadata": {
  "kernelspec": {
   "display_name": "Python 3",
   "language": "python",
   "name": "python3"
  },
  "language_info": {
   "codemirror_mode": {
    "name": "ipython",
    "version": 3
   },
   "file_extension": ".py",
   "mimetype": "text/x-python",
   "name": "python",
   "nbconvert_exporter": "python",
   "pygments_lexer": "ipython3",
   "version": "3.7.6"
  },
  "pycharm": {
   "stem_cell": {
    "cell_type": "raw",
    "source": [],
    "metadata": {
     "collapsed": false
    }
   }
  }
 },
 "nbformat": 4,
 "nbformat_minor": 4
}