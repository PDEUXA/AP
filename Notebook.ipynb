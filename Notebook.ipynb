{
 "cells": [
  {
   "cell_type": "code",
   "execution_count": null,
   "outputs": [],
   "source": [
    "from objects.instance import Instance\n",
    "from script.affiche import plot_gantt\n",
    "from script.data import loader "
   ],
   "metadata": {
    "collapsed": false,
    "pycharm": {
     "name": "#%%\n"
    }
   }
  },
  {
   "cell_type": "code",
   "execution_count": null,
   "outputs": [],
   "source": [
    "data = loader('ft06')\n",
    "inst = Instance(**data)"
   ],
   "metadata": {
    "collapsed": false,
    "pycharm": {
     "name": "#%%\n"
    }
   }
  },
  {
   "cell_type": "code",
   "execution_count": null,
   "outputs": [],
   "source": [
    "# Recherche des taches possibles à t\n",
    "t=0\n",
    "def recherche_tach(inst,t):\n",
    "    tache = []\n",
    "    # Pour chaque jobs\n",
    "    for j in inst.jobs_list:\n",
    "        if j.state != \"Done\":\n",
    "        # Si la machine de la tâche en cours du job et libre\n",
    "            if j.current_task.machine.state==\"Free\":\n",
    "                # On ajoute cette tache à la liste de tache possible\n",
    "                tache.append(j.current_task)\n",
    "            \n",
    "    # prio\n",
    "# todo prio\n",
    "    # Recherche du max parmis les taches possibles\n",
    "    for k in range(len(tache)):\n",
    "        maxi = -1\n",
    "        for e in tache:\n",
    "            if e.duration > maxi:\n",
    "                if e.machine.state == \"Free\":\n",
    "                    maxi = e.duration\n",
    "                    maxi_task = e\n",
    "        \n",
    "        # assignment\n",
    "        maxi_task.job.update_current_task(maxi_task.taskID, t)\n",
    "        try:\n",
    "            tache.remove(maxi_task)\n",
    "        except:\n",
    "            pass\n",
    "def finish():\n",
    "    for res in inst.jobs_list:\n",
    "        if res.state == \"Not Done\":\n",
    "            return False\n",
    "    return True \n",
    "        "
   ],
   "metadata": {
    "collapsed": false,
    "pycharm": {
     "name": "#%%\n"
    }
   }
  },
  {
   "cell_type": "code",
   "execution_count": null,
   "outputs": [],
   "source": [
    "t = 0\n",
    "recherche_tach(inst, t)\n",
    "\n",
    "for time in range(1, 600):\n",
    "    if finish():\n",
    "        break;\n",
    "    print(\"Temps\",time)\n",
    "    for res in inst.resource_list:\n",
    "        print(res)\n",
    "        if res.current_task == -1 :\n",
    "            recherche_tach(inst, t)\n",
    "        elif res.current_task.finishDate <= time:\n",
    "            res.current_task.deallocate_to_ressource(\"Done\")\n",
    "            recherche_tach(inst, time)"
   ],
   "metadata": {
    "collapsed": false,
    "pycharm": {
     "name": "#%%\n"
    }
   }
  },
  {
   "cell_type": "code",
   "execution_count": null,
   "outputs": [],
   "source": [
    "plot_gantt(inst, grouping= False)\n"
   ],
   "metadata": {
    "collapsed": false,
    "pycharm": {
     "name": "#%%\n"
    }
   }
  },
  {
   "cell_type": "code",
   "execution_count": null,
   "outputs": [],
   "source": [
    "for j in inst.jobs_list:\n",
    "    print(j)"
   ],
   "metadata": {
    "collapsed": false,
    "pycharm": {
     "name": "#%%\n"
    }
   }
  },
  {
   "cell_type": "code",
   "execution_count": null,
   "outputs": [],
   "source": [
    "\n"
   ],
   "metadata": {
    "collapsed": false,
    "pycharm": {
     "name": "#%%\n"
    }
   }
  }
 ],
 "metadata": {
  "kernelspec": {
   "display_name": "Python 3",
   "language": "python",
   "name": "python3"
  },
  "language_info": {
   "codemirror_mode": {
    "name": "ipython",
    "version": 3
   },
   "file_extension": ".py",
   "mimetype": "text/x-python",
   "name": "python",
   "nbconvert_exporter": "python",
   "pygments_lexer": "ipython3",
   "version": "3.6.8"
  },
  "pycharm": {
   "stem_cell": {
    "cell_type": "raw",
    "source": [],
    "metadata": {
     "collapsed": false
    }
   }
  }
 },
 "nbformat": 4,
 "nbformat_minor": 4
}
