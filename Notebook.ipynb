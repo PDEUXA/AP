{
 "cells": [
  {
   "cell_type": "code",
   "execution_count": 2,
   "metadata": {
    "pycharm": {
     "is_executing": false,
     "name": "#%%\n"
    }
   },
   "outputs": [],
   "source": [
    "import hashlib\n",
    "from heuristique.genetique import genese, evaluation, selection, croisement, mutation\n",
    "from objects.population import Population\n",
    "from objects.solution import Solution\n",
    "from script.utils import sort_task, decodage_gene\n",
    "from objects.instance import Instance\n",
    "from script.affichage import plot_gantt, net_voisinage\n",
    "from script.data import loader \n",
    "import numpy as np\n",
    "import networkx as nx \n",
    "import copy\n",
    "import matplotlib.pyplot as plt\n",
    "import random\n",
    "from heuristique.heuristique_gloutonne import heuristique_gloutone\n",
    "from heuristique.ordo_avec_liste import alloc_avec_liste, allocation_dispomachine_ASAP,decodage_bier\n",
    "from script.utils import vecteur_bier\n",
    "from script.recherche_voisin import *\n",
    "\n",
    "data, optimum= loader('la01')\n",
    "meth = [inversion_all, decalage_all, permutation_by_2_all]\n"
   ]
  },
  {
   "cell_type": "code",
   "execution_count": 2,
   "outputs": [
    {
     "name": "stdout",
     "text": [
      "Root:  d3f2 Voisinage:  4299  ,makeSpan:  725 / 769  ,écart:  0.05721716514954486\n",
      "[0 1 7 8 9 2 4 8 1 5 8 2 8 4 5 3 6 0 4 1 7 2 9 6 1 4 2 3 7 8 5 7 1 2 3 6 9\n",
      " 5 3 9 7 5 3 6 0 4 9 0 6 0]\n",
      "Root:  d3f2 Voisinage:  4299  ,makeSpan:  725 / 769  ,écart:  0.05721716514954486\n",
      "[0 1 7 8 9 2 4 8 1 5 8 2 8 4 5 3 6 0 4 1 7 2 9 6 1 4 2 3 7 8 5 7 1 2 3 6 9\n",
      " 5 3 9 7 5 3 6 0 4 9 0 6 0]\n",
      "Root:  4299 Voisinage:  8365  ,makeSpan:  718 / 725  ,écart:  0.009655172413793104\n",
      "[0 1 7 8 9 2 4 8 1 5 8 2 8 4 5 3 6 0 4 1 7 2 9 6 1 5 7 9 3 5 9 6 3 2 1 7 5\n",
      " 8 7 3 2 4 3 6 0 4 9 0 6 0]\n",
      "Root:  4299 Voisinage:  97d8  ,makeSpan:  718 / 725  ,écart:  0.009655172413793104\n",
      "[0 1 7 8 9 2 4 8 1 5 8 2 8 4 5 3 6 0 4 1 7 2 9 6 1 7 9 3 5 9 6 3 2 1 7 5 8\n",
      " 7 3 2 4 5 3 6 0 4 9 0 6 0]\n",
      "Root:  4299 Voisinage:  8365  ,makeSpan:  718 / 725  ,écart:  0.009655172413793104\n",
      "[0 1 7 8 9 2 4 8 1 5 8 2 8 4 5 3 6 0 4 1 7 2 9 6 1 5 7 9 3 5 9 6 3 2 1 7 5\n",
      " 8 7 3 2 4 3 6 0 4 9 0 6 0]\n",
      "Root:  4299 Voisinage:  97d8  ,makeSpan:  718 / 725  ,écart:  0.009655172413793104\n",
      "[0 1 7 8 9 2 4 8 1 5 8 2 8 4 5 3 6 0 4 1 7 2 9 6 1 7 9 3 5 9 6 3 2 1 7 5 8\n",
      " 7 3 2 4 5 3 6 0 4 9 0 6 0]\n",
      "Root:  8365 Voisinage:  2288  ,makeSpan:  708 / 718  ,écart:  0.013927576601671309\n",
      "[0 1 7 8 9 2 4 8 1 5 8 2 8 4 5 3 6 0 4 1 7 2 9 6 1 5 7 9 3 5 9 6 3 2 0 7 5\n",
      " 8 7 3 2 4 3 6 1 4 9 0 6 0]\n",
      "Root:  8365 Voisinage:  896b  ,makeSpan:  708 / 718  ,écart:  0.013927576601671309\n",
      "[0 1 7 8 9 2 4 8 1 5 8 2 8 4 5 3 6 0 4 1 7 2 9 6 1 5 7 9 3 5 9 6 3 2 0 7 5\n",
      " 8 7 3 2 4 3 6 0 4 9 1 6 0]\n",
      "Root:  97d8 Voisinage:  12c2  ,makeSpan:  708 / 718  ,écart:  0.013927576601671309\n",
      "[0 1 7 8 9 2 4 8 1 5 8 2 8 4 5 3 6 0 4 1 7 2 9 6 1 7 9 3 5 9 6 3 2 0 7 5 8\n",
      " 7 3 2 4 5 3 6 1 4 9 0 6 0]\n",
      "Root:  97d8 Voisinage:  1963  ,makeSpan:  708 / 718  ,écart:  0.013927576601671309\n",
      "[0 1 7 8 9 2 4 8 1 5 8 2 8 4 5 3 6 0 4 1 7 2 9 6 1 7 9 3 5 9 6 3 2 0 7 5 8\n",
      " 7 3 2 4 5 3 6 0 4 9 1 6 0]\n",
      "Root:  8365 Voisinage:  2288  ,makeSpan:  708 / 718  ,écart:  0.013927576601671309\n",
      "[0 1 7 8 9 2 4 8 1 5 8 2 8 4 5 3 6 0 4 1 7 2 9 6 1 5 7 9 3 5 9 6 3 2 0 7 5\n",
      " 8 7 3 2 4 3 6 1 4 9 0 6 0]\n",
      "Root:  8365 Voisinage:  896b  ,makeSpan:  708 / 718  ,écart:  0.013927576601671309\n",
      "[0 1 7 8 9 2 4 8 1 5 8 2 8 4 5 3 6 0 4 1 7 2 9 6 1 5 7 9 3 5 9 6 3 2 0 7 5\n",
      " 8 7 3 2 4 3 6 0 4 9 1 6 0]\n",
      "Root:  97d8 Voisinage:  12c2  ,makeSpan:  708 / 718  ,écart:  0.013927576601671309\n",
      "[0 1 7 8 9 2 4 8 1 5 8 2 8 4 5 3 6 0 4 1 7 2 9 6 1 7 9 3 5 9 6 3 2 0 7 5 8\n",
      " 7 3 2 4 5 3 6 1 4 9 0 6 0]\n",
      "Root:  97d8 Voisinage:  1963  ,makeSpan:  708 / 718  ,écart:  0.013927576601671309\n",
      "[0 1 7 8 9 2 4 8 1 5 8 2 8 4 5 3 6 0 4 1 7 2 9 6 1 7 9 3 5 9 6 3 2 0 7 5 8\n",
      " 7 3 2 4 5 3 6 0 4 9 1 6 0]\n",
      "Root:  2288 Voisinage:  1cc8  ,makeSpan:  697 / 708  ,écart:  0.015536723163841809\n",
      "[0 1 7 8 9 2 4 8 1 5 8 2 8 4 5 3 6 0 4 1 7 2 9 6 1 5 7 2 3 6 9 5 3 9 0 7 5\n",
      " 8 7 3 2 4 3 6 1 4 9 0 6 0]\n",
      "Root:  2288 Voisinage:  0fbb  ,makeSpan:  697 / 708  ,écart:  0.015536723163841809\n",
      "[0 1 7 8 9 2 4 8 1 5 8 2 8 4 5 3 7 0 4 1 7 2 9 6 1 5 6 9 3 5 9 6 3 2 0 7 5\n",
      " 8 7 3 2 4 3 6 1 4 9 0 6 0]\n",
      "Root:  896b Voisinage:  1f20  ,makeSpan:  697 / 708  ,écart:  0.015536723163841809\n",
      "[0 1 7 8 9 2 4 8 1 5 8 2 8 4 5 3 6 0 4 1 7 2 9 6 1 5 7 2 3 6 9 5 3 9 0 7 5\n",
      " 8 7 3 2 4 3 6 0 4 9 1 6 0]\n",
      "Root:  896b Voisinage:  dd6e  ,makeSpan:  697 / 708  ,écart:  0.015536723163841809\n",
      "[0 1 7 8 9 2 4 8 1 5 8 2 8 4 5 3 7 0 4 1 7 2 9 6 1 5 6 9 3 5 9 6 3 2 0 7 5\n",
      " 8 7 3 2 4 3 6 0 4 9 1 6 0]\n",
      "Root:  12c2 Voisinage:  10fd  ,makeSpan:  697 / 708  ,écart:  0.015536723163841809\n",
      "[0 1 7 8 9 2 4 8 1 5 8 2 8 4 5 3 6 0 4 1 7 2 9 6 1 7 2 3 6 9 5 3 9 0 7 5 8\n",
      " 7 3 2 4 5 3 6 1 4 9 0 6 0]\n",
      "Root:  12c2 Voisinage:  9132  ,makeSpan:  697 / 708  ,écart:  0.015536723163841809\n",
      "[0 1 7 8 9 2 4 8 1 5 8 2 8 4 5 3 9 0 4 1 7 2 9 6 1 7 9 3 5 6 6 3 2 0 7 5 8\n",
      " 7 3 2 4 5 3 6 1 4 9 0 6 0]\n",
      "Root:  1963 Voisinage:  590e  ,makeSpan:  697 / 708  ,écart:  0.015536723163841809\n",
      "[0 1 7 8 9 2 4 8 1 5 8 2 8 4 5 3 6 0 4 1 7 2 9 6 1 7 2 3 6 9 5 3 9 0 7 5 8\n",
      " 7 3 2 4 5 3 6 0 4 9 1 6 0]\n",
      "Root:  1963 Voisinage:  a6f1  ,makeSpan:  697 / 708  ,écart:  0.015536723163841809\n",
      "[0 1 7 8 9 2 4 8 1 5 8 2 8 4 5 3 9 0 4 1 7 2 9 6 1 7 9 3 5 6 6 3 2 0 7 5 8\n",
      " 7 3 2 4 5 3 6 0 4 9 1 6 0]\n",
      "Root:  2288 Voisinage:  1cc8  ,makeSpan:  697 / 708  ,écart:  0.015536723163841809\n",
      "[0 1 7 8 9 2 4 8 1 5 8 2 8 4 5 3 6 0 4 1 7 2 9 6 1 5 7 2 3 6 9 5 3 9 0 7 5\n",
      " 8 7 3 2 4 3 6 1 4 9 0 6 0]\n",
      "Root:  2288 Voisinage:  0fbb  ,makeSpan:  697 / 708  ,écart:  0.015536723163841809\n",
      "[0 1 7 8 9 2 4 8 1 5 8 2 8 4 5 3 7 0 4 1 7 2 9 6 1 5 6 9 3 5 9 6 3 2 0 7 5\n",
      " 8 7 3 2 4 3 6 1 4 9 0 6 0]\n",
      "Root:  896b Voisinage:  1f20  ,makeSpan:  697 / 708  ,écart:  0.015536723163841809\n",
      "[0 1 7 8 9 2 4 8 1 5 8 2 8 4 5 3 6 0 4 1 7 2 9 6 1 5 7 2 3 6 9 5 3 9 0 7 5\n",
      " 8 7 3 2 4 3 6 0 4 9 1 6 0]\n",
      "Root:  896b Voisinage:  dd6e  ,makeSpan:  697 / 708  ,écart:  0.015536723163841809\n",
      "[0 1 7 8 9 2 4 8 1 5 8 2 8 4 5 3 7 0 4 1 7 2 9 6 1 5 6 9 3 5 9 6 3 2 0 7 5\n",
      " 8 7 3 2 4 3 6 0 4 9 1 6 0]\n",
      "Root:  12c2 Voisinage:  10fd  ,makeSpan:  697 / 708  ,écart:  0.015536723163841809\n",
      "[0 1 7 8 9 2 4 8 1 5 8 2 8 4 5 3 6 0 4 1 7 2 9 6 1 7 2 3 6 9 5 3 9 0 7 5 8\n",
      " 7 3 2 4 5 3 6 1 4 9 0 6 0]\n",
      "Root:  12c2 Voisinage:  9132  ,makeSpan:  697 / 708  ,écart:  0.015536723163841809\n",
      "[0 1 7 8 9 2 4 8 1 5 8 2 8 4 5 3 9 0 4 1 7 2 9 6 1 7 9 3 5 6 6 3 2 0 7 5 8\n",
      " 7 3 2 4 5 3 6 1 4 9 0 6 0]\n",
      "Root:  1963 Voisinage:  590e  ,makeSpan:  697 / 708  ,écart:  0.015536723163841809\n",
      "[0 1 7 8 9 2 4 8 1 5 8 2 8 4 5 3 6 0 4 1 7 2 9 6 1 7 2 3 6 9 5 3 9 0 7 5 8\n",
      " 7 3 2 4 5 3 6 0 4 9 1 6 0]\n",
      "Root:  1963 Voisinage:  a6f1  ,makeSpan:  697 / 708  ,écart:  0.015536723163841809\n",
      "[0 1 7 8 9 2 4 8 1 5 8 2 8 4 5 3 9 0 4 1 7 2 9 6 1 7 9 3 5 6 6 3 2 0 7 5 8\n",
      " 7 3 2 4 5 3 6 0 4 9 1 6 0]\n",
      "Root:  1cc8 Voisinage:  c2f4  ,makeSpan:  678 / 697  ,écart:  0.027259684361549498\n",
      "[0 1 7 8 9 2 4 8 1 5 8 2 8 4 5 3 6 0 4 1 7 2 9 6 1 5 7 2 3 6 9 5 3 9 0 7 5\n",
      " 6 0 9 4 1 6 3 4 2 3 7 8 0]\n",
      "Root:  1cc8 Voisinage:  07e3  ,makeSpan:  678 / 697  ,écart:  0.027259684361549498\n",
      "[0 1 7 8 9 2 4 8 1 5 8 2 8 4 5 3 6 0 4 1 7 2 9 6 1 5 7 2 3 6 9 5 3 9 0 7 5\n",
      " 0 9 4 1 6 3 4 2 3 7 8 6 0]\n",
      "Root:  0fbb Voisinage:  5207  ,makeSpan:  692 / 697  ,écart:  0.007173601147776184\n",
      "[0 1 7 8 9 2 4 8 1 5 8 2 8 4 5 3 7 0 4 1 7 2 9 6 1 5 6 9 3 5 9 6 3 2 0 7 5\n",
      " 8 6 0 9 4 1 6 3 4 2 3 7 0]\n",
      "Root:  0fbb Voisinage:  0bb5  ,makeSpan:  692 / 697  ,écart:  0.007173601147776184\n",
      "[0 1 7 8 9 2 4 8 1 5 8 2 8 4 5 3 7 0 4 1 7 2 9 6 1 5 6 9 3 5 9 6 3 2 0 7 5\n",
      " 8 0 9 4 1 6 3 4 2 3 7 6 0]\n",
      "Root:  1f20 Voisinage:  5f36  ,makeSpan:  678 / 697  ,écart:  0.027259684361549498\n",
      "[0 1 7 8 9 2 4 8 1 5 8 2 8 4 5 3 6 0 4 1 7 2 9 6 1 5 7 2 3 6 9 5 3 9 0 7 5\n",
      " 6 1 9 4 0 6 3 4 2 3 7 8 0]\n",
      "Root:  1f20 Voisinage:  3190  ,makeSpan:  678 / 697  ,écart:  0.027259684361549498\n",
      "[0 1 7 8 9 2 4 8 1 5 8 2 8 4 5 3 6 0 4 1 7 2 9 6 1 5 7 2 3 6 9 5 3 9 0 7 5\n",
      " 1 9 4 0 6 3 4 2 3 7 8 6 0]\n",
      "Root:  dd6e Voisinage:  7764  ,makeSpan:  692 / 697  ,écart:  0.007173601147776184\n",
      "[0 1 7 8 9 2 4 8 1 5 8 2 8 4 5 3 7 0 4 1 7 2 9 6 1 5 6 9 3 5 9 6 3 2 0 7 5\n",
      " 8 6 1 9 4 0 6 3 4 2 3 7 0]\n",
      "Root:  dd6e Voisinage:  1501  ,makeSpan:  692 / 697  ,écart:  0.007173601147776184\n",
      "[0 1 7 8 9 2 4 8 1 5 8 2 8 4 5 3 7 0 4 1 7 2 9 6 1 5 6 9 3 5 9 6 3 2 0 7 5\n",
      " 8 1 9 4 0 6 3 4 2 3 7 6 0]\n",
      "Root:  10fd Voisinage:  7970  ,makeSpan:  697 / 697  ,écart:  0.0\n",
      "[1 8 4 2 9 8 7 1 0 5 8 2 8 4 5 3 6 0 4 1 7 2 9 6 1 7 2 3 6 9 5 3 9 0 7 5 8\n",
      " 7 3 2 4 5 3 6 1 4 9 0 6 0]\n",
      "Root:  10fd Voisinage:  3c5f  ,makeSpan:  697 / 697  ,écart:  0.0\n",
      "[9 8 7 1 0 2 4 8 1 5 8 2 8 4 5 3 6 0 4 1 7 2 9 6 1 7 2 3 6 9 5 3 9 0 7 5 8\n",
      " 7 3 2 4 5 3 6 1 4 9 0 6 0]\n",
      "Root:  9132 Voisinage:  cb18  ,makeSpan:  697 / 697  ,écart:  0.0\n",
      "[1 8 4 2 9 8 7 1 0 5 8 2 8 4 5 3 9 0 4 1 7 2 9 6 1 7 9 3 5 6 6 3 2 0 7 5 8\n",
      " 7 3 2 4 5 3 6 1 4 9 0 6 0]\n",
      "Root:  9132 Voisinage:  5159  ,makeSpan:  697 / 697  ,écart:  0.0\n",
      "[9 8 7 1 0 2 4 8 1 5 8 2 8 4 5 3 9 0 4 1 7 2 9 6 1 7 9 3 5 6 6 3 2 0 7 5 8\n",
      " 7 3 2 4 5 3 6 1 4 9 0 6 0]\n",
      "Root:  590e Voisinage:  bc48  ,makeSpan:  697 / 697  ,écart:  0.0\n",
      "[1 8 4 2 9 8 7 1 0 5 8 2 8 4 5 3 6 0 4 1 7 2 9 6 1 7 2 3 6 9 5 3 9 0 7 5 8\n",
      " 7 3 2 4 5 3 6 0 4 9 1 6 0]\n",
      "Root:  590e Voisinage:  bd02  ,makeSpan:  697 / 697  ,écart:  0.0\n",
      "[9 8 7 1 0 2 4 8 1 5 8 2 8 4 5 3 6 0 4 1 7 2 9 6 1 7 2 3 6 9 5 3 9 0 7 5 8\n",
      " 7 3 2 4 5 3 6 0 4 9 1 6 0]\n",
      "Root:  a6f1 Voisinage:  bf9f  ,makeSpan:  697 / 697  ,écart:  0.0\n",
      "[1 8 4 2 9 8 7 1 0 5 8 2 8 4 5 3 9 0 4 1 7 2 9 6 1 7 9 3 5 6 6 3 2 0 7 5 8\n",
      " 7 3 2 4 5 3 6 0 4 9 1 6 0]\n",
      "Root:  a6f1 Voisinage:  75e0  ,makeSpan:  697 / 697  ,écart:  0.0\n",
      "[9 8 7 1 0 2 4 8 1 5 8 2 8 4 5 3 9 0 4 1 7 2 9 6 1 7 9 3 5 6 6 3 2 0 7 5 8\n",
      " 7 3 2 4 5 3 6 0 4 9 1 6 0]\n",
      "Root:  1cc8 Voisinage:  c2f4  ,makeSpan:  678 / 697  ,écart:  0.027259684361549498\n",
      "[0 1 7 8 9 2 4 8 1 5 8 2 8 4 5 3 6 0 4 1 7 2 9 6 1 5 7 2 3 6 9 5 3 9 0 7 5\n",
      " 6 0 9 4 1 6 3 4 2 3 7 8 0]\n",
      "Root:  1cc8 Voisinage:  07e3  ,makeSpan:  678 / 697  ,écart:  0.027259684361549498\n",
      "[0 1 7 8 9 2 4 8 1 5 8 2 8 4 5 3 6 0 4 1 7 2 9 6 1 5 7 2 3 6 9 5 3 9 0 7 5\n",
      " 0 9 4 1 6 3 4 2 3 7 8 6 0]\n",
      "Root:  0fbb Voisinage:  5207  ,makeSpan:  692 / 697  ,écart:  0.007173601147776184\n",
      "[0 1 7 8 9 2 4 8 1 5 8 2 8 4 5 3 7 0 4 1 7 2 9 6 1 5 6 9 3 5 9 6 3 2 0 7 5\n",
      " 8 6 0 9 4 1 6 3 4 2 3 7 0]\n",
      "Root:  0fbb Voisinage:  0bb5  ,makeSpan:  692 / 697  ,écart:  0.007173601147776184\n",
      "[0 1 7 8 9 2 4 8 1 5 8 2 8 4 5 3 7 0 4 1 7 2 9 6 1 5 6 9 3 5 9 6 3 2 0 7 5\n",
      " 8 0 9 4 1 6 3 4 2 3 7 6 0]\n",
      "Root:  1f20 Voisinage:  5f36  ,makeSpan:  678 / 697  ,écart:  0.027259684361549498\n",
      "[0 1 7 8 9 2 4 8 1 5 8 2 8 4 5 3 6 0 4 1 7 2 9 6 1 5 7 2 3 6 9 5 3 9 0 7 5\n",
      " 6 1 9 4 0 6 3 4 2 3 7 8 0]\n",
      "Root:  1f20 Voisinage:  3190  ,makeSpan:  678 / 697  ,écart:  0.027259684361549498\n",
      "[0 1 7 8 9 2 4 8 1 5 8 2 8 4 5 3 6 0 4 1 7 2 9 6 1 5 7 2 3 6 9 5 3 9 0 7 5\n",
      " 1 9 4 0 6 3 4 2 3 7 8 6 0]\n",
      "Root:  dd6e Voisinage:  7764  ,makeSpan:  692 / 697  ,écart:  0.007173601147776184\n",
      "[0 1 7 8 9 2 4 8 1 5 8 2 8 4 5 3 7 0 4 1 7 2 9 6 1 5 6 9 3 5 9 6 3 2 0 7 5\n",
      " 8 6 1 9 4 0 6 3 4 2 3 7 0]\n",
      "Root:  dd6e Voisinage:  1501  ,makeSpan:  692 / 697  ,écart:  0.007173601147776184\n",
      "[0 1 7 8 9 2 4 8 1 5 8 2 8 4 5 3 7 0 4 1 7 2 9 6 1 5 6 9 3 5 9 6 3 2 0 7 5\n",
      " 8 1 9 4 0 6 3 4 2 3 7 6 0]\n",
      "Root:  10fd Voisinage:  7970  ,makeSpan:  697 / 697  ,écart:  0.0\n",
      "[1 8 4 2 9 8 7 1 0 5 8 2 8 4 5 3 6 0 4 1 7 2 9 6 1 7 2 3 6 9 5 3 9 0 7 5 8\n",
      " 7 3 2 4 5 3 6 1 4 9 0 6 0]\n",
      "Root:  10fd Voisinage:  3c5f  ,makeSpan:  697 / 697  ,écart:  0.0\n",
      "[9 8 7 1 0 2 4 8 1 5 8 2 8 4 5 3 6 0 4 1 7 2 9 6 1 7 2 3 6 9 5 3 9 0 7 5 8\n",
      " 7 3 2 4 5 3 6 1 4 9 0 6 0]\n",
      "Root:  9132 Voisinage:  cb18  ,makeSpan:  697 / 697  ,écart:  0.0\n",
      "[1 8 4 2 9 8 7 1 0 5 8 2 8 4 5 3 9 0 4 1 7 2 9 6 1 7 9 3 5 6 6 3 2 0 7 5 8\n",
      " 7 3 2 4 5 3 6 1 4 9 0 6 0]\n",
      "Root:  9132 Voisinage:  5159  ,makeSpan:  697 / 697  ,écart:  0.0\n",
      "[9 8 7 1 0 2 4 8 1 5 8 2 8 4 5 3 9 0 4 1 7 2 9 6 1 7 9 3 5 6 6 3 2 0 7 5 8\n",
      " 7 3 2 4 5 3 6 1 4 9 0 6 0]\n",
      "Root:  590e Voisinage:  bc48  ,makeSpan:  697 / 697  ,écart:  0.0\n",
      "[1 8 4 2 9 8 7 1 0 5 8 2 8 4 5 3 6 0 4 1 7 2 9 6 1 7 2 3 6 9 5 3 9 0 7 5 8\n",
      " 7 3 2 4 5 3 6 0 4 9 1 6 0]\n",
      "Root:  590e Voisinage:  bd02  ,makeSpan:  697 / 697  ,écart:  0.0\n",
      "[9 8 7 1 0 2 4 8 1 5 8 2 8 4 5 3 6 0 4 1 7 2 9 6 1 7 2 3 6 9 5 3 9 0 7 5 8\n",
      " 7 3 2 4 5 3 6 0 4 9 1 6 0]\n",
      "Root:  a6f1 Voisinage:  bf9f  ,makeSpan:  697 / 697  ,écart:  0.0\n",
      "[1 8 4 2 9 8 7 1 0 5 8 2 8 4 5 3 9 0 4 1 7 2 9 6 1 7 9 3 5 6 6 3 2 0 7 5 8\n",
      " 7 3 2 4 5 3 6 0 4 9 1 6 0]\n",
      "Root:  a6f1 Voisinage:  75e0  ,makeSpan:  697 / 697  ,écart:  0.0\n",
      "[9 8 7 1 0 2 4 8 1 5 8 2 8 4 5 3 9 0 4 1 7 2 9 6 1 7 9 3 5 6 6 3 2 0 7 5 8\n",
      " 7 3 2 4 5 3 6 0 4 9 1 6 0]\n",
      "Root:  c2f4 Voisinage:  77f7  ,makeSpan:  678 / 678  ,écart:  0.0\n",
      "[1 8 4 2 9 8 7 1 0 5 8 2 8 4 5 3 6 0 4 1 7 2 9 6 1 5 7 2 3 6 9 5 3 9 0 7 5\n",
      " 6 0 9 4 1 6 3 4 2 3 7 8 0]\n",
      "Root:  c2f4 Voisinage:  2954  ,makeSpan:  678 / 678  ,écart:  0.0\n",
      "[9 8 7 1 0 2 4 8 1 5 8 2 8 4 5 3 6 0 4 1 7 2 9 6 1 5 7 2 3 6 9 5 3 9 0 7 5\n",
      " 6 0 9 4 1 6 3 4 2 3 7 8 0]\n",
      "Profondeur atteinte\n"
     ],
     "output_type": "stream"
    }
   ],
   "source": [
    "pop = Population(**data)\n",
    "inst = Instance(**data)\n",
    "heuristique_gloutone(inst, \"SPT\")\n",
    "liste = vecteur_bier(inst)\n",
    "# exploration_voisinage(inst,data)\n",
    "\n",
    "sol = Solution(data,liste)\n",
    "sol.voisinage()\n",
    "\n",
    "graph = exploration_voisinage(sol, data,2,5)"
   ],
   "metadata": {
    "collapsed": false,
    "pycharm": {
     "name": "#%%\n",
     "is_executing": false
    }
   }
  },
  {
   "cell_type": "code",
   "execution_count": 3,
   "outputs": [
    {
     "name": "stderr",
     "text": [
      "/home/pa/anaconda3/envs/AP_JOB_SHOP/lib/python3.7/site-packages/networkx/drawing/layout.py:950: FutureWarning:\n",
      "\n",
      "arrays to stack must be passed as a \"sequence\" type such as list or tuple. Support for non-sequence iterables such as generators is deprecated as of NumPy 1.16 and will raise an error in the future.\n",
      "\n"
     ],
     "output_type": "stream"
    },
    {
     "data": {
      "text/plain": "<Figure size 576x576 with 1 Axes>",
      "image/png": "[encoded data removed]"
     },
     "metadata": {},
     "output_type": "display_data"
    }
   ],
   "source": [
    "\n",
    "net_voisinage(graph)"
   ],
   "metadata": {
    "collapsed": false,
    "pycharm": {
     "name": "#%%\n",
     "is_executing": false
    }
   }
  },
  {
   "cell_type": "code",
   "execution_count": null,
   "outputs": [
    {
     "name": "stdout",
     "text": [
      "==========================Nouvel elite !==========================\n",
      "ID: 1-3dfb//4e06/d547, Pere: 0-4e06-A&E , Mere: 0-d547-A&E , Cout: 775, Proba: 1.0 %\n",
      "FACteur demuta: 0.04\n",
      "==========================Nouvel elite !==========================\n",
      "ID: 2-1857//d547/3dfb, Pere: 1-d547//d547/d547, Mere: 1-3dfb//4e06/d547, Cout: 745, Proba: 1.0 %\n",
      "FACteur demuta: 0.04\n",
      "==========================Nouvel elite !==========================\n",
      "ID: 3-a331//1857/c39a, Pere: 2-1857//d547/3dfb, Mere: 2-c39a//d547/f19e, Cout: 730, Proba: 1.0 %\n",
      "FACteur demuta: 0.04\n",
      "==========================Nouvel elite !==========================\n",
      "ID: 4-ee6c//a331/e7e2, Pere: 3-a331//1857/c39a, Mere: 3-e7e2//1857/3dfb, Cout: 723, Proba: 1.0 %\n",
      "FACteur demuta: 0.04\n",
      "==========================Nouvel elite !==========================\n",
      "ID: 5-ee6c//ee6c/ee6c(m), Pere: 4-ee6c//a331/e7e2, Mere: 4-ee6c//a331/e7e2, Cout: 714, Proba: 1.0 %\n",
      "FACteur demuta: 0.2\n",
      "==========================Nouvel elite !==========================\n",
      "ID: 10-8c4e//8c4e/ee6c(m), Pere: 9-8c4e//8c4e/d04b, Mere: 5-ee6c//ee6c/ee6c(m), Cout: 710, Proba: 1.0 %\n",
      "FACteur demuta: 0.2\n",
      "==========================Nouvel elite !==========================\n",
      "ID: 21-d65a//d65a/8c4e(m), Pere: 20-d65a//d65a/8c4e, Mere: 10-8c4e//8c4e/ee6c(m), Cout: 709, Proba: 1.0 %\n",
      "FACteur demuta: 1.8\n",
      "==========================Nouvel elite !==========================\n",
      "ID: 22-1df0//d65a/d65a(m), Pere: 21-d65a//d65a/8c4e(m), Mere: 13-d65a//d65a/8c4e, Cout: 695, Proba: 1.0 %\n",
      "FACteur demuta: 1.8\n",
      "==========================Nouvel elite !==========================\n",
      "ID: 23-1df0//1df0/1df0(m), Pere: 22-1df0//d65a/d65a, Mere: 22-1df0//d65a/d65a, Cout: 690, Proba: 1.0 %\n",
      "FACteur demuta: 1.8\n",
      "==========================Nouvel elite !==========================\n",
      "ID: 25-ef01//ef01/1df0(m), Pere: 24-ef01//1df0/1df0, Mere: 23-1df0//1df0/1df0(m), Cout: 688, Proba: 1.0 %\n",
      "FACteur demuta: 0.68\n",
      "==========================Nouvel elite !==========================\n",
      "ID: 25-ef01//ef01/1df0(m), Pere: 24-ef01//1df0/1df0, Mere: 23-1df0//1df0/1df0(m), Cout: 688, Proba: 1.0 %\n",
      "FACteur demuta: 0.68\n",
      "==========================Nouvel elite !==========================\n",
      "ID: 25-ef01//ef01/1df0(m), Pere: 24-ef01//1df0/1df0, Mere: 23-1df0//1df0/1df0(m), Cout: 688, Proba: 1.0 %\n",
      "FACteur demuta: 0.68\n",
      "==========================Nouvel elite !==========================\n",
      "ID: 25-ef01//ef01/1df0(m), Pere: 24-ef01//1df0/1df0, Mere: 23-1df0//1df0/1df0(m), Cout: 688, Proba: 1.0 %\n",
      "FACteur demuta: 0.68\n",
      "==========================Nouvel elite !==========================\n",
      "ID: 25-ef01//ef01/1df0(m), Pere: 24-ef01//1df0/1df0, Mere: 23-1df0//1df0/1df0(m), Cout: 688, Proba: 1.0 %\n",
      "FACteur demuta: 0.68\n",
      "==========================Nouvel elite !==========================\n",
      "ID: 25-ef01//ef01/1df0(m), Pere: 24-ef01//1df0/1df0, Mere: 23-1df0//1df0/1df0(m), Cout: 688, Proba: 1.0 %\n",
      "FACteur demuta: 0.68\n",
      "==========================Nouvel elite !==========================\n",
      "ID: 25-ef01//ef01/1df0(m), Pere: 24-ef01//1df0/1df0, Mere: 23-1df0//1df0/1df0(m), Cout: 688, Proba: 1.0 %\n",
      "FACteur demuta: 0.68\n",
      "==========================Nouvel elite !==========================\n",
      "ID: 25-ef01//ef01/1df0(m), Pere: 24-ef01//1df0/1df0, Mere: 23-1df0//1df0/1df0(m), Cout: 688, Proba: 1.0 %\n",
      "FACteur demuta: 0.68\n",
      "==========================Nouvel elite !==========================\n",
      "ID: 29-ef29//4e14/ef01(m), Pere: 28-4e14//9a65/d235(m), Mere: 25-ef01//ef01/1df0(m), Cout: 686, Proba: 1.0 %\n",
      "FACteur demuta: 12.2\n",
      "==========================Nouvel elite !==========================\n",
      "ID: 29-ef29//4e14/ef01(m), Pere: 28-4e14//9a65/d235(m), Mere: 25-ef01//ef01/1df0(m), Cout: 686, Proba: 1.0 %\n",
      "FACteur demuta: 12.2\n",
      "==========================Nouvel elite !==========================\n",
      "ID: 30-b8f8//ef29/ef29(m), Pere: 29-ef29//4e14/ef01(m), Mere: 29-ef29//4e14/ef01(m), Cout: 678, Proba: 1.0 %\n",
      "FACteur demuta: 12.2\n",
      "==========================Nouvel elite !==========================\n",
      "ID: 30-b8f8//ef29/ef29(m), Pere: 29-ef29//4e14/ef01(m), Mere: 29-ef29//4e14/ef01(m), Cout: 678, Proba: 1.0 %\n",
      "FACteur demuta: 12.2\n",
      "==========================Nouvel elite !==========================\n",
      "ID: 30-b8f8//ef29/ef29(m), Pere: 29-ef29//4e14/ef01(m), Mere: 29-ef29//4e14/ef01(m), Cout: 678, Proba: 1.0 %\n",
      "FACteur demuta: 12.2\n",
      "==========================Nouvel elite !==========================\n",
      "ID: 30-b8f8//ef29/ef29(m), Pere: 29-ef29//4e14/ef01(m), Mere: 29-ef29//4e14/ef01(m), Cout: 678, Proba: 1.0 %\n",
      "FACteur demuta: 12.2\n",
      "==========================Nouvel elite !==========================\n",
      "ID: 30-b8f8//ef29/ef29(m), Pere: 29-ef29//4e14/ef01(m), Mere: 29-ef29//4e14/ef01(m), Cout: 678, Proba: 1.0 %\n",
      "FACteur demuta: 12.2\n",
      "==========================Nouvel elite !==========================\n",
      "ID: 30-b8f8//ef29/ef29(m), Pere: 29-ef29//4e14/ef01(m), Mere: 29-ef29//4e14/ef01(m), Cout: 678, Proba: 1.0 %\n",
      "FACteur demuta: 12.2\n",
      "==========================Nouvel elite !==========================\n",
      "ID: 30-b8f8//ef29/ef29(m), Pere: 29-ef29//4e14/ef01(m), Mere: 29-ef29//4e14/ef01(m), Cout: 678, Proba: 1.0 %\n",
      "FACteur demuta: 12.2\n",
      "==========================Nouvel elite !==========================\n",
      "ID: 30-b8f8//ef29/ef29(m), Pere: 29-ef29//4e14/ef01(m), Mere: 29-ef29//4e14/ef01(m), Cout: 678, Proba: 1.0 %\n",
      "FACteur demuta: 12.2\n",
      "==========================Nouvel elite !==========================\n",
      "ID: 30-b8f8//ef29/ef29(m), Pere: 29-ef29//4e14/ef01(m), Mere: 29-ef29//4e14/ef01(m), Cout: 678, Proba: 1.0 %\n",
      "FACteur demuta: 12.2\n",
      "==========================Nouvel elite !==========================\n",
      "ID: 30-b8f8//ef29/ef29(m), Pere: 29-ef29//4e14/ef01(m), Mere: 29-ef29//4e14/ef01(m), Cout: 678, Proba: 1.0 %\n",
      "FACteur demuta: 12.2\n",
      "==========================Nouvel elite !==========================\n",
      "ID: 30-b8f8//ef29/ef29(m), Pere: 29-ef29//4e14/ef01(m), Mere: 29-ef29//4e14/ef01(m), Cout: 678, Proba: 1.0 %\n",
      "FACteur demuta: 12.2\n",
      "==========================Nouvel elite !==========================\n",
      "ID: 30-b8f8//ef29/ef29(m), Pere: 29-ef29//4e14/ef01(m), Mere: 29-ef29//4e14/ef01(m), Cout: 678, Proba: 1.0 %\n",
      "FACteur demuta: 12.2\n",
      "==========================Nouvel elite !==========================\n",
      "ID: 30-b8f8//ef29/ef29(m), Pere: 29-ef29//4e14/ef01(m), Mere: 29-ef29//4e14/ef01(m), Cout: 678, Proba: 1.0 %\n",
      "FACteur demuta: 12.2\n",
      "==========================Nouvel elite !==========================\n",
      "ID: 30-b8f8//ef29/ef29(m), Pere: 29-ef29//4e14/ef01(m), Mere: 29-ef29//4e14/ef01(m), Cout: 678, Proba: 1.0 %\n",
      "FACteur demuta: 12.2\n",
      "==========================Nouvel elite !==========================\n",
      "ID: 30-b8f8//ef29/ef29(m), Pere: 29-ef29//4e14/ef01(m), Mere: 29-ef29//4e14/ef01(m), Cout: 678, Proba: 1.0 %\n",
      "FACteur demuta: 12.2\n",
      "==========================Nouvel elite !==========================\n",
      "ID: 30-b8f8//ef29/ef29(m), Pere: 29-ef29//4e14/ef01(m), Mere: 29-ef29//4e14/ef01(m), Cout: 678, Proba: 1.0 %\n",
      "FACteur demuta: 12.2\n",
      "==========================Nouvel elite !==========================\n",
      "ID: 30-b8f8//ef29/ef29(m), Pere: 29-ef29//4e14/ef01(m), Mere: 29-ef29//4e14/ef01(m), Cout: 678, Proba: 1.0 %\n",
      "FACteur demuta: 12.2\n",
      "==========================Nouvel elite !==========================\n",
      "ID: 30-b8f8//ef29/ef29(m), Pere: 29-ef29//4e14/ef01(m), Mere: 29-ef29//4e14/ef01(m), Cout: 678, Proba: 1.0 %\n",
      "FACteur demuta: 12.2\n",
      "==========================Nouvel elite !==========================\n",
      "ID: 30-b8f8//ef29/ef29(m), Pere: 29-ef29//4e14/ef01(m), Mere: 29-ef29//4e14/ef01(m), Cout: 678, Proba: 1.0 %\n",
      "FACteur demuta: 12.2\n",
      "==========================Nouvel elite !==========================\n",
      "ID: 30-b8f8//ef29/ef29(m), Pere: 29-ef29//4e14/ef01(m), Mere: 29-ef29//4e14/ef01(m), Cout: 678, Proba: 1.0 %\n",
      "FACteur demuta: 12.2\n",
      "==========================Nouvel elite !==========================\n",
      "ID: 30-b8f8//ef29/ef29(m), Pere: 29-ef29//4e14/ef01(m), Mere: 29-ef29//4e14/ef01(m), Cout: 678, Proba: 1.0 %\n",
      "FACteur demuta: 12.2\n",
      "==========================Nouvel elite !==========================\n",
      "ID: 30-b8f8//ef29/ef29(m), Pere: 29-ef29//4e14/ef01(m), Mere: 29-ef29//4e14/ef01(m), Cout: 678, Proba: 1.0 %\n",
      "FACteur demuta: 12.2\n",
      "==========================Nouvel elite !==========================\n",
      "ID: 30-b8f8//ef29/ef29(m), Pere: 29-ef29//4e14/ef01(m), Mere: 29-ef29//4e14/ef01(m), Cout: 678, Proba: 1.0 %\n",
      "FACteur demuta: 12.2\n",
      "==========================Nouvel elite !==========================\n",
      "ID: 30-b8f8//ef29/ef29(m), Pere: 29-ef29//4e14/ef01(m), Mere: 29-ef29//4e14/ef01(m), Cout: 678, Proba: 1.0 %\n",
      "FACteur demuta: 12.2\n",
      "==========================Nouvel elite !==========================\n",
      "ID: 30-b8f8//ef29/ef29(m), Pere: 29-ef29//4e14/ef01(m), Mere: 29-ef29//4e14/ef01(m), Cout: 678, Proba: 1.0 %\n",
      "FACteur demuta: 12.2\n",
      "==========================Nouvel elite !==========================\n",
      "ID: 30-b8f8//ef29/ef29(m), Pere: 29-ef29//4e14/ef01(m), Mere: 29-ef29//4e14/ef01(m), Cout: 678, Proba: 1.0 %\n",
      "FACteur demuta: 12.2\n",
      "==========================Nouvel elite !==========================\n",
      "ID: 30-b8f8//ef29/ef29(m), Pere: 29-ef29//4e14/ef01(m), Mere: 29-ef29//4e14/ef01(m), Cout: 678, Proba: 1.0 %\n",
      "FACteur demuta: 12.2\n",
      "==========================Nouvel elite !==========================\n",
      "ID: 30-b8f8//ef29/ef29(m), Pere: 29-ef29//4e14/ef01(m), Mere: 29-ef29//4e14/ef01(m), Cout: 678, Proba: 1.0 %\n",
      "FACteur demuta: 12.2\n",
      "==========================Nouvel elite !==========================\n",
      "ID: 30-b8f8//ef29/ef29(m), Pere: 29-ef29//4e14/ef01(m), Mere: 29-ef29//4e14/ef01(m), Cout: 678, Proba: 1.0 %\n",
      "FACteur demuta: 12.2\n",
      "==========================Nouvel elite !==========================\n",
      "ID: 30-b8f8//ef29/ef29(m), Pere: 29-ef29//4e14/ef01(m), Mere: 29-ef29//4e14/ef01(m), Cout: 678, Proba: 1.0 %\n",
      "FACteur demuta: 12.2\n",
      "==========================Nouvel elite !==========================\n",
      "ID: 30-b8f8//ef29/ef29(m), Pere: 29-ef29//4e14/ef01(m), Mere: 29-ef29//4e14/ef01(m), Cout: 678, Proba: 1.0 %\n",
      "FACteur demuta: 12.2\n",
      "==========================Nouvel elite !==========================\n",
      "ID: 30-b8f8//ef29/ef29(m), Pere: 29-ef29//4e14/ef01(m), Mere: 29-ef29//4e14/ef01(m), Cout: 678, Proba: 1.0 %\n",
      "FACteur demuta: 12.2\n",
      "==========================Nouvel elite !==========================\n",
      "ID: 30-b8f8//ef29/ef29(m), Pere: 29-ef29//4e14/ef01(m), Mere: 29-ef29//4e14/ef01(m), Cout: 678, Proba: 1.0 %\n",
      "FACteur demuta: 12.2\n",
      "==========================Nouvel elite !==========================\n",
      "ID: 30-b8f8//ef29/ef29(m), Pere: 29-ef29//4e14/ef01(m), Mere: 29-ef29//4e14/ef01(m), Cout: 678, Proba: 1.0 %\n",
      "FACteur demuta: 12.2\n",
      "==========================Nouvel elite !==========================\n",
      "ID: 30-b8f8//ef29/ef29(m), Pere: 29-ef29//4e14/ef01(m), Mere: 29-ef29//4e14/ef01(m), Cout: 678, Proba: 1.0 %\n",
      "FACteur demuta: 12.2\n",
      "==========================Nouvel elite !==========================\n",
      "ID: 30-b8f8//ef29/ef29(m), Pere: 29-ef29//4e14/ef01(m), Mere: 29-ef29//4e14/ef01(m), Cout: 678, Proba: 1.0 %\n",
      "FACteur demuta: 12.2\n",
      "==========================Nouvel elite !==========================\n",
      "ID: 30-b8f8//ef29/ef29(m), Pere: 29-ef29//4e14/ef01(m), Mere: 29-ef29//4e14/ef01(m), Cout: 678, Proba: 1.0 %\n",
      "FACteur demuta: 12.2\n",
      "==========================Nouvel elite !==========================\n",
      "ID: 30-b8f8//ef29/ef29(m), Pere: 29-ef29//4e14/ef01(m), Mere: 29-ef29//4e14/ef01(m), Cout: 678, Proba: 1.0 %\n",
      "FACteur demuta: 12.2\n",
      "==========================Nouvel elite !==========================\n",
      "ID: 30-b8f8//ef29/ef29(m), Pere: 29-ef29//4e14/ef01(m), Mere: 29-ef29//4e14/ef01(m), Cout: 678, Proba: 1.0 %\n",
      "FACteur demuta: 12.2\n",
      "==========================Nouvel elite !==========================\n",
      "ID: 30-b8f8//ef29/ef29(m), Pere: 29-ef29//4e14/ef01(m), Mere: 29-ef29//4e14/ef01(m), Cout: 678, Proba: 1.0 %\n",
      "FACteur demuta: 12.2\n",
      "==========================Nouvel elite !==========================\n",
      "ID: 30-b8f8//ef29/ef29(m), Pere: 29-ef29//4e14/ef01(m), Mere: 29-ef29//4e14/ef01(m), Cout: 678, Proba: 1.0 %\n",
      "FACteur demuta: 12.2\n",
      "==========================Nouvel elite !==========================\n",
      "ID: 30-b8f8//ef29/ef29(m), Pere: 29-ef29//4e14/ef01(m), Mere: 29-ef29//4e14/ef01(m), Cout: 678, Proba: 1.0 %\n",
      "FACteur demuta: 12.2\n",
      "==========================Nouvel elite !==========================\n",
      "ID: 30-b8f8//ef29/ef29(m), Pere: 29-ef29//4e14/ef01(m), Mere: 29-ef29//4e14/ef01(m), Cout: 678, Proba: 1.0 %\n",
      "FACteur demuta: 12.2\n",
      "==========================Nouvel elite !==========================\n",
      "ID: 30-b8f8//ef29/ef29(m), Pere: 29-ef29//4e14/ef01(m), Mere: 29-ef29//4e14/ef01(m), Cout: 678, Proba: 1.0 %\n",
      "FACteur demuta: 12.2\n",
      "==========================Nouvel elite !==========================\n",
      "ID: 30-b8f8//ef29/ef29(m), Pere: 29-ef29//4e14/ef01(m), Mere: 29-ef29//4e14/ef01(m), Cout: 678, Proba: 1.0 %\n",
      "FACteur demuta: 12.2\n",
      "==========================Nouvel elite !==========================\n",
      "ID: 30-b8f8//ef29/ef29(m), Pere: 29-ef29//4e14/ef01(m), Mere: 29-ef29//4e14/ef01(m), Cout: 678, Proba: 1.0 %\n",
      "FACteur demuta: 12.2\n",
      "==========================Nouvel elite !==========================\n",
      "ID: 30-b8f8//ef29/ef29(m), Pere: 29-ef29//4e14/ef01(m), Mere: 29-ef29//4e14/ef01(m), Cout: 678, Proba: 1.0 %\n",
      "FACteur demuta: 12.2\n",
      "==========================Nouvel elite !==========================\n",
      "ID: 30-b8f8//ef29/ef29(m), Pere: 29-ef29//4e14/ef01(m), Mere: 29-ef29//4e14/ef01(m), Cout: 678, Proba: 1.0 %\n",
      "FACteur demuta: 12.2\n",
      "==========================Nouvel elite !==========================\n",
      "ID: 30-b8f8//ef29/ef29(m), Pere: 29-ef29//4e14/ef01(m), Mere: 29-ef29//4e14/ef01(m), Cout: 678, Proba: 1.0 %\n",
      "FACteur demuta: 12.2\n",
      "==========================Nouvel elite !==========================\n",
      "ID: 30-b8f8//ef29/ef29(m), Pere: 29-ef29//4e14/ef01(m), Mere: 29-ef29//4e14/ef01(m), Cout: 678, Proba: 1.0 %\n",
      "FACteur demuta: 12.2\n",
      "==========================Nouvel elite !==========================\n",
      "ID: 30-b8f8//ef29/ef29(m), Pere: 29-ef29//4e14/ef01(m), Mere: 29-ef29//4e14/ef01(m), Cout: 678, Proba: 1.0 %\n",
      "FACteur demuta: 12.2\n",
      "==========================Nouvel elite !==========================\n",
      "ID: 30-b8f8//ef29/ef29(m), Pere: 29-ef29//4e14/ef01(m), Mere: 29-ef29//4e14/ef01(m), Cout: 678, Proba: 1.0 %\n",
      "FACteur demuta: 12.2\n",
      "==========================Nouvel elite !==========================\n",
      "ID: 30-b8f8//ef29/ef29(m), Pere: 29-ef29//4e14/ef01(m), Mere: 29-ef29//4e14/ef01(m), Cout: 678, Proba: 1.0 %\n",
      "FACteur demuta: 12.2\n",
      "==========================Nouvel elite !==========================\n",
      "ID: 30-b8f8//ef29/ef29(m), Pere: 29-ef29//4e14/ef01(m), Mere: 29-ef29//4e14/ef01(m), Cout: 678, Proba: 1.0 %\n",
      "FACteur demuta: 12.2\n",
      "==========================Nouvel elite !==========================\n",
      "ID: 30-b8f8//ef29/ef29(m), Pere: 29-ef29//4e14/ef01(m), Mere: 29-ef29//4e14/ef01(m), Cout: 678, Proba: 1.0 %\n",
      "FACteur demuta: 12.2\n",
      "==========================Nouvel elite !==========================\n",
      "ID: 30-b8f8//ef29/ef29(m), Pere: 29-ef29//4e14/ef01(m), Mere: 29-ef29//4e14/ef01(m), Cout: 678, Proba: 1.0 %\n",
      "FACteur demuta: 12.2\n",
      "==========================Nouvel elite !==========================\n",
      "ID: 30-b8f8//ef29/ef29(m), Pere: 29-ef29//4e14/ef01(m), Mere: 29-ef29//4e14/ef01(m), Cout: 678, Proba: 1.0 %\n",
      "FACteur demuta: 12.2\n",
      "==========================Nouvel elite !==========================\n",
      "ID: 30-b8f8//ef29/ef29(m), Pere: 29-ef29//4e14/ef01(m), Mere: 29-ef29//4e14/ef01(m), Cout: 678, Proba: 1.0 %\n",
      "FACteur demuta: 12.2\n",
      "==========================Nouvel elite !==========================\n",
      "ID: 30-b8f8//ef29/ef29(m), Pere: 29-ef29//4e14/ef01(m), Mere: 29-ef29//4e14/ef01(m), Cout: 678, Proba: 1.0 %\n",
      "FACteur demuta: 12.2\n",
      "==========================Nouvel elite !==========================\n",
      "ID: 30-b8f8//ef29/ef29(m), Pere: 29-ef29//4e14/ef01(m), Mere: 29-ef29//4e14/ef01(m), Cout: 678, Proba: 1.0 %\n",
      "FACteur demuta: 12.2\n",
      "==========================Nouvel elite !==========================\n",
      "ID: 30-b8f8//ef29/ef29(m), Pere: 29-ef29//4e14/ef01(m), Mere: 29-ef29//4e14/ef01(m), Cout: 678, Proba: 1.0 %\n",
      "FACteur demuta: 12.2\n",
      "==========================Nouvel elite !==========================\n",
      "ID: 30-b8f8//ef29/ef29(m), Pere: 29-ef29//4e14/ef01(m), Mere: 29-ef29//4e14/ef01(m), Cout: 678, Proba: 1.0 %\n",
      "FACteur demuta: 12.2\n",
      "==========================Nouvel elite !==========================\n",
      "ID: 30-b8f8//ef29/ef29(m), Pere: 29-ef29//4e14/ef01(m), Mere: 29-ef29//4e14/ef01(m), Cout: 678, Proba: 1.0 %\n",
      "FACteur demuta: 12.2\n",
      "==========================Nouvel elite !==========================\n",
      "ID: 30-b8f8//ef29/ef29(m), Pere: 29-ef29//4e14/ef01(m), Mere: 29-ef29//4e14/ef01(m), Cout: 678, Proba: 1.0 %\n",
      "FACteur demuta: 12.2\n",
      "==========================Nouvel elite !==========================\n",
      "ID: 30-b8f8//ef29/ef29(m), Pere: 29-ef29//4e14/ef01(m), Mere: 29-ef29//4e14/ef01(m), Cout: 678, Proba: 1.0 %\n",
      "FACteur demuta: 12.2\n",
      "==========================Nouvel elite !==========================\n",
      "ID: 30-b8f8//ef29/ef29(m), Pere: 29-ef29//4e14/ef01(m), Mere: 29-ef29//4e14/ef01(m), Cout: 678, Proba: 1.0 %\n",
      "FACteur demuta: 12.2\n",
      "==========================Nouvel elite !==========================\n",
      "ID: 30-b8f8//ef29/ef29(m), Pere: 29-ef29//4e14/ef01(m), Mere: 29-ef29//4e14/ef01(m), Cout: 678, Proba: 1.0 %\n",
      "FACteur demuta: 12.2\n",
      "==========================Nouvel elite !==========================\n",
      "ID: 30-b8f8//ef29/ef29(m), Pere: 29-ef29//4e14/ef01(m), Mere: 29-ef29//4e14/ef01(m), Cout: 678, Proba: 1.0 %\n",
      "FACteur demuta: 12.2\n",
      "==========================Nouvel elite !==========================\n",
      "ID: 30-b8f8//ef29/ef29(m), Pere: 29-ef29//4e14/ef01(m), Mere: 29-ef29//4e14/ef01(m), Cout: 678, Proba: 1.0 %\n",
      "FACteur demuta: 12.2\n",
      "==========================Nouvel elite !==========================\n",
      "ID: 30-b8f8//ef29/ef29(m), Pere: 29-ef29//4e14/ef01(m), Mere: 29-ef29//4e14/ef01(m), Cout: 678, Proba: 1.0 %\n",
      "FACteur demuta: 12.2\n",
      "==========================Nouvel elite !==========================\n",
      "ID: 30-b8f8//ef29/ef29(m), Pere: 29-ef29//4e14/ef01(m), Mere: 29-ef29//4e14/ef01(m), Cout: 678, Proba: 1.0 %\n",
      "FACteur demuta: 12.2\n",
      "==========================Nouvel elite !==========================\n",
      "ID: 30-b8f8//ef29/ef29(m), Pere: 29-ef29//4e14/ef01(m), Mere: 29-ef29//4e14/ef01(m), Cout: 678, Proba: 1.0 %\n",
      "FACteur demuta: 12.2\n",
      "==========================Nouvel elite !==========================\n",
      "ID: 30-b8f8//ef29/ef29(m), Pere: 29-ef29//4e14/ef01(m), Mere: 29-ef29//4e14/ef01(m), Cout: 678, Proba: 1.0 %\n",
      "FACteur demuta: 12.2\n",
      "==========================Nouvel elite !==========================\n",
      "ID: 30-b8f8//ef29/ef29(m), Pere: 29-ef29//4e14/ef01(m), Mere: 29-ef29//4e14/ef01(m), Cout: 678, Proba: 1.0 %\n",
      "FACteur demuta: 12.2\n",
      "==========================Nouvel elite !==========================\n",
      "ID: 30-b8f8//ef29/ef29(m), Pere: 29-ef29//4e14/ef01(m), Mere: 29-ef29//4e14/ef01(m), Cout: 678, Proba: 1.0 %\n",
      "FACteur demuta: 12.2\n",
      "==========================Nouvel elite !==========================\n",
      "ID: 30-b8f8//ef29/ef29(m), Pere: 29-ef29//4e14/ef01(m), Mere: 29-ef29//4e14/ef01(m), Cout: 678, Proba: 1.0 %\n",
      "FACteur demuta: 12.2\n",
      "==========================Nouvel elite !==========================\n",
      "ID: 30-b8f8//ef29/ef29(m), Pere: 29-ef29//4e14/ef01(m), Mere: 29-ef29//4e14/ef01(m), Cout: 678, Proba: 1.0 %\n",
      "FACteur demuta: 12.2\n",
      "==========================Nouvel elite !==========================\n",
      "ID: 30-b8f8//ef29/ef29(m), Pere: 29-ef29//4e14/ef01(m), Mere: 29-ef29//4e14/ef01(m), Cout: 678, Proba: 1.0 %\n",
      "FACteur demuta: 12.2\n",
      "==========================Nouvel elite !==========================\n",
      "ID: 30-b8f8//ef29/ef29(m), Pere: 29-ef29//4e14/ef01(m), Mere: 29-ef29//4e14/ef01(m), Cout: 678, Proba: 1.0 %\n",
      "FACteur demuta: 12.2\n",
      "==========================Nouvel elite !==========================\n",
      "ID: 30-b8f8//ef29/ef29(m), Pere: 29-ef29//4e14/ef01(m), Mere: 29-ef29//4e14/ef01(m), Cout: 678, Proba: 1.0 %\n",
      "FACteur demuta: 12.2\n",
      "==========================Nouvel elite !==========================\n",
      "ID: 30-b8f8//ef29/ef29(m), Pere: 29-ef29//4e14/ef01(m), Mere: 29-ef29//4e14/ef01(m), Cout: 678, Proba: 1.0 %\n",
      "FACteur demuta: 12.2\n",
      "==========================Nouvel elite !==========================\n",
      "ID: 30-b8f8//ef29/ef29(m), Pere: 29-ef29//4e14/ef01(m), Mere: 29-ef29//4e14/ef01(m), Cout: 678, Proba: 1.0 %\n",
      "FACteur demuta: 12.2\n",
      "==========================Nouvel elite !==========================\n",
      "ID: 30-b8f8//ef29/ef29(m), Pere: 29-ef29//4e14/ef01(m), Mere: 29-ef29//4e14/ef01(m), Cout: 678, Proba: 1.0 %\n",
      "FACteur demuta: 12.2\n",
      "==========================Nouvel elite !==========================\n",
      "ID: 30-b8f8//ef29/ef29(m), Pere: 29-ef29//4e14/ef01(m), Mere: 29-ef29//4e14/ef01(m), Cout: 678, Proba: 1.0 %\n",
      "FACteur demuta: 12.2\n",
      "==========================Nouvel elite !==========================\n",
      "ID: 30-b8f8//ef29/ef29(m), Pere: 29-ef29//4e14/ef01(m), Mere: 29-ef29//4e14/ef01(m), Cout: 678, Proba: 1.0 %\n",
      "FACteur demuta: 12.2\n",
      "==========================Nouvel elite !==========================\n",
      "ID: 30-b8f8//ef29/ef29(m), Pere: 29-ef29//4e14/ef01(m), Mere: 29-ef29//4e14/ef01(m), Cout: 678, Proba: 1.0 %\n",
      "FACteur demuta: 12.2\n",
      "==========================Nouvel elite !==========================\n",
      "ID: 30-b8f8//ef29/ef29(m), Pere: 29-ef29//4e14/ef01(m), Mere: 29-ef29//4e14/ef01(m), Cout: 678, Proba: 1.0 %\n",
      "FACteur demuta: 12.2\n",
      "==========================Nouvel elite !==========================\n",
      "ID: 30-b8f8//ef29/ef29(m), Pere: 29-ef29//4e14/ef01(m), Mere: 29-ef29//4e14/ef01(m), Cout: 678, Proba: 1.0 %\n",
      "FACteur demuta: 12.2\n",
      "==========================Nouvel elite !==========================\n",
      "ID: 30-b8f8//ef29/ef29(m), Pere: 29-ef29//4e14/ef01(m), Mere: 29-ef29//4e14/ef01(m), Cout: 678, Proba: 1.0 %\n",
      "FACteur demuta: 12.2\n",
      "==========================Nouvel elite !==========================\n",
      "ID: 30-b8f8//ef29/ef29(m), Pere: 29-ef29//4e14/ef01(m), Mere: 29-ef29//4e14/ef01(m), Cout: 678, Proba: 1.0 %\n",
      "FACteur demuta: 12.2\n",
      "==========================Nouvel elite !==========================\n",
      "ID: 33-fab0//652f/652f, Pere: 32-652f//b8f8/652f(m), Mere: 32-652f//652f/b8f8, Cout: 668, Proba: 1.0 %\n",
      "FACteur demuta: 8.52\n",
      "==========================Nouvel elite !==========================\n",
      "ID: 34-fab0//fab0/fab0(m), Pere: 33-fab0//652f/652f, Mere: 33-fab0//652f/652f, Cout: 667, Proba: 1.0 %\n",
      "FACteur demuta: 8.52\n",
      "==========================Nouvel elite !==========================\n",
      "ID: 35-bd85//fab0/fab0(m), Pere: 34-fab0//fab0/fab0(m), Mere: 33-fab0//652f/652f, Cout: 666, Proba: 1.0 %\n",
      "FACteur demuta: 8.52\n",
      "==========================Nouvel elite !==========================\n",
      "ID: 35-bd85//fab0/fab0(m), Pere: 34-fab0//fab0/fab0(m), Mere: 33-fab0//652f/652f, Cout: 666, Proba: 0.8 %\n",
      "FACteur demuta: 8.52\n",
      "==========================Nouvel elite !==========================\n",
      "ID: 35-bd85//fab0/fab0(m), Pere: 34-fab0//fab0/fab0(m), Mere: 33-fab0//652f/652f, Cout: 666, Proba: 0.8 %\n",
      "FACteur demuta: 8.52\n",
      "==========================Nouvel elite !==========================\n",
      "ID: 35-bd85//fab0/fab0(m), Pere: 34-fab0//fab0/fab0(m), Mere: 33-fab0//652f/652f, Cout: 666, Proba: 0.8 %\n",
      "FACteur demuta: 8.52\n",
      "==========================Nouvel elite !==========================\n",
      "ID: 35-bd85//fab0/fab0(m), Pere: 34-fab0//fab0/fab0(m), Mere: 33-fab0//652f/652f, Cout: 666, Proba: 0.8 %\n",
      "FACteur demuta: 8.52\n",
      "==========================Nouvel elite !==========================\n",
      "ID: 35-bd85//fab0/fab0(m), Pere: 34-fab0//fab0/fab0(m), Mere: 33-fab0//652f/652f, Cout: 666, Proba: 0.8 %\n",
      "FACteur demuta: 8.52\n",
      "==========================Nouvel elite !==========================\n",
      "ID: 35-bd85//fab0/fab0(m), Pere: 34-fab0//fab0/fab0(m), Mere: 33-fab0//652f/652f, Cout: 666, Proba: 0.8 %\n",
      "FACteur demuta: 8.52\n",
      "==========================Nouvel elite !==========================\n",
      "ID: 35-bd85//fab0/fab0(m), Pere: 34-fab0//fab0/fab0(m), Mere: 33-fab0//652f/652f, Cout: 666, Proba: 0.8 %\n",
      "FACteur demuta: 8.52\n",
      "==========================Nouvel elite !==========================\n",
      "ID: 35-bd85//fab0/fab0(m), Pere: 34-fab0//fab0/fab0(m), Mere: 33-fab0//652f/652f, Cout: 666, Proba: 0.8 %\n",
      "FACteur demuta: 8.52\n",
      "==========================Nouvel elite !==========================\n",
      "ID: 35-bd85//fab0/fab0(m), Pere: 34-fab0//fab0/fab0(m), Mere: 33-fab0//652f/652f, Cout: 666, Proba: 0.8 %\n",
      "FACteur demuta: 8.52\n",
      "==========================Nouvel elite !==========================\n",
      "ID: 35-bd85//fab0/fab0(m), Pere: 34-fab0//fab0/fab0(m), Mere: 33-fab0//652f/652f, Cout: 666, Proba: 0.8 %\n",
      "FACteur demuta: 8.52\n",
      "==========================Nouvel elite !==========================\n",
      "ID: 35-bd85//fab0/fab0(m), Pere: 34-fab0//fab0/fab0(m), Mere: 33-fab0//652f/652f, Cout: 666, Proba: 0.8 %\n",
      "FACteur demuta: 8.52\n",
      "==========================Nouvel elite !==========================\n",
      "ID: 35-bd85//fab0/fab0(m), Pere: 34-fab0//fab0/fab0(m), Mere: 33-fab0//652f/652f, Cout: 666, Proba: 0.8 %\n",
      "FACteur demuta: 8.52\n",
      "==========================Nouvel elite !==========================\n",
      "ID: 35-bd85//fab0/fab0(m), Pere: 34-fab0//fab0/fab0(m), Mere: 33-fab0//652f/652f, Cout: 666, Proba: 0.8 %\n",
      "FACteur demuta: 8.52\n",
      "==========================Nouvel elite !==========================\n",
      "ID: 35-bd85//fab0/fab0(m), Pere: 34-fab0//fab0/fab0(m), Mere: 33-fab0//652f/652f, Cout: 666, Proba: 0.8 %\n",
      "FACteur demuta: 8.52\n",
      "==========================Nouvel elite !==========================\n",
      "ID: 35-bd85//fab0/fab0(m), Pere: 34-fab0//fab0/fab0(m), Mere: 33-fab0//652f/652f, Cout: 666, Proba: 0.8 %\n",
      "FACteur demuta: 8.52\n",
      "==========================Nouvel elite !==========================\n",
      "ID: 35-bd85//fab0/fab0(m), Pere: 34-fab0//fab0/fab0(m), Mere: 33-fab0//652f/652f, Cout: 666, Proba: 0.8 %\n",
      "FACteur demuta: 8.52\n",
      "==========================Nouvel elite !==========================\n",
      "ID: 35-bd85//fab0/fab0(m), Pere: 34-fab0//fab0/fab0(m), Mere: 33-fab0//652f/652f, Cout: 666, Proba: 0.8 %\n",
      "FACteur demuta: 8.52\n",
      "==========================Nouvel elite !==========================\n",
      "ID: 35-bd85//fab0/fab0(m), Pere: 34-fab0//fab0/fab0(m), Mere: 33-fab0//652f/652f, Cout: 666, Proba: 0.8 %\n",
      "FACteur demuta: 8.52\n",
      "==========================Nouvel elite !==========================\n",
      "ID: 35-bd85//fab0/fab0(m), Pere: 34-fab0//fab0/fab0(m), Mere: 33-fab0//652f/652f, Cout: 666, Proba: 0.8 %\n",
      "FACteur demuta: 8.52\n",
      "==========================Nouvel elite !==========================\n",
      "ID: 35-bd85//fab0/fab0(m), Pere: 34-fab0//fab0/fab0(m), Mere: 33-fab0//652f/652f, Cout: 666, Proba: 0.8 %\n",
      "FACteur demuta: 8.52\n",
      "==========================Nouvel elite !==========================\n",
      "ID: 35-bd85//fab0/fab0(m), Pere: 34-fab0//fab0/fab0(m), Mere: 33-fab0//652f/652f, Cout: 666, Proba: 0.8 %\n",
      "FACteur demuta: 8.52\n",
      "==========================Nouvel elite !==========================\n",
      "ID: 35-bd85//fab0/fab0(m), Pere: 34-fab0//fab0/fab0(m), Mere: 33-fab0//652f/652f, Cout: 666, Proba: 0.8 %\n",
      "FACteur demuta: 8.52\n",
      "==========================Nouvel elite !==========================\n",
      "ID: 35-bd85//fab0/fab0(m), Pere: 34-fab0//fab0/fab0(m), Mere: 33-fab0//652f/652f, Cout: 666, Proba: 0.8 %\n",
      "FACteur demuta: 8.52\n",
      "==========================Nouvel elite !==========================\n",
      "ID: 35-bd85//fab0/fab0(m), Pere: 34-fab0//fab0/fab0(m), Mere: 33-fab0//652f/652f, Cout: 666, Proba: 0.8 %\n",
      "FACteur demuta: 8.52\n",
      "==========================Nouvel elite !==========================\n",
      "ID: 35-bd85//fab0/fab0(m), Pere: 34-fab0//fab0/fab0(m), Mere: 33-fab0//652f/652f, Cout: 666, Proba: 0.8 %\n",
      "FACteur demuta: 8.52\n",
      "==========================Nouvel elite !==========================\n",
      "ID: 35-bd85//fab0/fab0(m), Pere: 34-fab0//fab0/fab0(m), Mere: 33-fab0//652f/652f, Cout: 666, Proba: 0.8 %\n",
      "FACteur demuta: 8.52\n",
      "==========================Nouvel elite !==========================\n",
      "ID: 35-bd85//fab0/fab0(m), Pere: 34-fab0//fab0/fab0(m), Mere: 33-fab0//652f/652f, Cout: 666, Proba: 0.8 %\n",
      "FACteur demuta: 8.52\n",
      "==========================Nouvel elite !==========================\n",
      "ID: 35-bd85//fab0/fab0(m), Pere: 34-fab0//fab0/fab0(m), Mere: 33-fab0//652f/652f, Cout: 666, Proba: 0.8 %\n",
      "FACteur demuta: 8.52\n",
      "==========================Nouvel elite !==========================\n",
      "ID: 35-bd85//fab0/fab0(m), Pere: 34-fab0//fab0/fab0(m), Mere: 33-fab0//652f/652f, Cout: 666, Proba: 0.8 %\n",
      "FACteur demuta: 8.52\n",
      "==========================Nouvel elite !==========================\n",
      "ID: 35-bd85//fab0/fab0(m), Pere: 34-fab0//fab0/fab0(m), Mere: 33-fab0//652f/652f, Cout: 666, Proba: 0.8 %\n",
      "FACteur demuta: 8.52\n",
      "==========================Nouvel elite !==========================\n",
      "ID: 35-bd85//fab0/fab0(m), Pere: 34-fab0//fab0/fab0(m), Mere: 33-fab0//652f/652f, Cout: 666, Proba: 0.8 %\n",
      "FACteur demuta: 8.52\n",
      "==========================Nouvel elite !==========================\n",
      "ID: 35-bd85//fab0/fab0(m), Pere: 34-fab0//fab0/fab0(m), Mere: 33-fab0//652f/652f, Cout: 666, Proba: 0.8 %\n",
      "FACteur demuta: 8.52\n",
      "==========================Nouvel elite !==========================\n",
      "ID: 35-bd85//fab0/fab0(m), Pere: 34-fab0//fab0/fab0(m), Mere: 33-fab0//652f/652f, Cout: 666, Proba: 0.8 %\n",
      "FACteur demuta: 8.52\n",
      "==========================Nouvel elite !==========================\n",
      "ID: 35-bd85//fab0/fab0(m), Pere: 34-fab0//fab0/fab0(m), Mere: 33-fab0//652f/652f, Cout: 666, Proba: 0.8 %\n",
      "FACteur demuta: 8.52\n",
      "==========================Nouvel elite !==========================\n",
      "ID: 35-bd85//fab0/fab0(m), Pere: 34-fab0//fab0/fab0(m), Mere: 33-fab0//652f/652f, Cout: 666, Proba: 0.8 %\n",
      "FACteur demuta: 8.52\n",
      "==========================Nouvel elite !==========================\n",
      "ID: 35-bd85//fab0/fab0(m), Pere: 34-fab0//fab0/fab0(m), Mere: 33-fab0//652f/652f, Cout: 666, Proba: 0.8 %\n",
      "FACteur demuta: 8.52\n",
      "==========================Nouvel elite !==========================\n",
      "ID: 35-bd85//fab0/fab0(m), Pere: 34-fab0//fab0/fab0(m), Mere: 33-fab0//652f/652f, Cout: 666, Proba: 0.8 %\n",
      "FACteur demuta: 8.52\n",
      "==========================Nouvel elite !==========================\n",
      "ID: 35-bd85//fab0/fab0(m), Pere: 34-fab0//fab0/fab0(m), Mere: 33-fab0//652f/652f, Cout: 666, Proba: 0.8 %\n",
      "FACteur demuta: 8.52\n",
      "==========================Nouvel elite !==========================\n",
      "ID: 35-bd85//fab0/fab0(m), Pere: 34-fab0//fab0/fab0(m), Mere: 33-fab0//652f/652f, Cout: 666, Proba: 0.8 %\n",
      "FACteur demuta: 8.52\n",
      "==========================Nouvel elite !==========================\n",
      "ID: 35-bd85//fab0/fab0(m), Pere: 34-fab0//fab0/fab0(m), Mere: 33-fab0//652f/652f, Cout: 666, Proba: 0.8 %\n",
      "FACteur demuta: 8.52\n",
      "==========================Nouvel elite !==========================\n",
      "ID: 35-bd85//fab0/fab0(m), Pere: 34-fab0//fab0/fab0(m), Mere: 33-fab0//652f/652f, Cout: 666, Proba: 0.8 %\n",
      "FACteur demuta: 8.52\n",
      "==========================Nouvel elite !==========================\n",
      "ID: 35-bd85//fab0/fab0(m), Pere: 34-fab0//fab0/fab0(m), Mere: 33-fab0//652f/652f, Cout: 666, Proba: 0.8 %\n",
      "FACteur demuta: 8.52\n",
      "==========================Nouvel elite !==========================\n",
      "ID: 35-bd85//fab0/fab0(m), Pere: 34-fab0//fab0/fab0(m), Mere: 33-fab0//652f/652f, Cout: 666, Proba: 0.8 %\n",
      "FACteur demuta: 8.52\n",
      "==========================Nouvel elite !==========================\n",
      "ID: 35-bd85//fab0/fab0(m), Pere: 34-fab0//fab0/fab0(m), Mere: 33-fab0//652f/652f, Cout: 666, Proba: 0.8 %\n",
      "FACteur demuta: 8.52\n",
      "==========================Nouvel elite !==========================\n",
      "ID: 35-bd85//fab0/fab0(m), Pere: 34-fab0//fab0/fab0(m), Mere: 33-fab0//652f/652f, Cout: 666, Proba: 0.8 %\n",
      "FACteur demuta: 8.52\n",
      "==========================Nouvel elite !==========================\n",
      "ID: 35-bd85//fab0/fab0(m), Pere: 34-fab0//fab0/fab0(m), Mere: 33-fab0//652f/652f, Cout: 666, Proba: 0.8 %\n",
      "FACteur demuta: 8.52\n",
      "==========================Nouvel elite !==========================\n",
      "ID: 35-bd85//fab0/fab0(m), Pere: 34-fab0//fab0/fab0(m), Mere: 33-fab0//652f/652f, Cout: 666, Proba: 0.8 %\n",
      "FACteur demuta: 8.52\n",
      "==========================Nouvel elite !==========================\n",
      "ID: 35-bd85//fab0/fab0(m), Pere: 34-fab0//fab0/fab0(m), Mere: 33-fab0//652f/652f, Cout: 666, Proba: 0.8 %\n",
      "FACteur demuta: 8.52\n",
      "==========================Nouvel elite !==========================\n",
      "ID: 35-bd85//fab0/fab0(m), Pere: 34-fab0//fab0/fab0(m), Mere: 33-fab0//652f/652f, Cout: 666, Proba: 0.8 %\n",
      "FACteur demuta: 8.52\n",
      "==========================Nouvel elite !==========================\n",
      "ID: 35-bd85//fab0/fab0(m), Pere: 34-fab0//fab0/fab0(m), Mere: 33-fab0//652f/652f, Cout: 666, Proba: 0.8 %\n",
      "FACteur demuta: 8.52\n",
      "==========================Nouvel elite !==========================\n",
      "ID: 35-bd85//fab0/fab0(m), Pere: 34-fab0//fab0/fab0(m), Mere: 33-fab0//652f/652f, Cout: 666, Proba: 0.8 %\n",
      "FACteur demuta: 8.52\n",
      "==========================Nouvel elite !==========================\n",
      "ID: 35-bd85//fab0/fab0(m), Pere: 34-fab0//fab0/fab0(m), Mere: 33-fab0//652f/652f, Cout: 666, Proba: 0.8 %\n",
      "FACteur demuta: 8.52\n",
      "==========================Nouvel elite !==========================\n",
      "ID: 35-bd85//fab0/fab0(m), Pere: 34-fab0//fab0/fab0(m), Mere: 33-fab0//652f/652f, Cout: 666, Proba: 0.8 %\n",
      "FACteur demuta: 8.52\n",
      "==========================Nouvel elite !==========================\n",
      "ID: 35-bd85//fab0/fab0(m), Pere: 34-fab0//fab0/fab0(m), Mere: 33-fab0//652f/652f, Cout: 666, Proba: 0.8 %\n",
      "FACteur demuta: 8.52\n",
      "==========================Nouvel elite !==========================\n",
      "ID: 35-bd85//fab0/fab0(m), Pere: 34-fab0//fab0/fab0(m), Mere: 33-fab0//652f/652f, Cout: 666, Proba: 0.8 %\n",
      "FACteur demuta: 8.52\n",
      "==========================Nouvel elite !==========================\n",
      "ID: 35-bd85//fab0/fab0(m), Pere: 34-fab0//fab0/fab0(m), Mere: 33-fab0//652f/652f, Cout: 666, Proba: 0.8 %\n",
      "FACteur demuta: 8.52\n",
      "==========================Nouvel elite !==========================\n",
      "ID: 35-bd85//fab0/fab0(m), Pere: 34-fab0//fab0/fab0(m), Mere: 33-fab0//652f/652f, Cout: 666, Proba: 0.8 %\n",
      "FACteur demuta: 8.52\n",
      "==========================Nouvel elite !==========================\n",
      "ID: 35-bd85//fab0/fab0(m), Pere: 34-fab0//fab0/fab0(m), Mere: 33-fab0//652f/652f, Cout: 666, Proba: 0.8 %\n",
      "FACteur demuta: 8.52\n",
      "==========================Nouvel elite !==========================\n",
      "ID: 35-bd85//fab0/fab0(m), Pere: 34-fab0//fab0/fab0(m), Mere: 33-fab0//652f/652f, Cout: 666, Proba: 0.8 %\n",
      "FACteur demuta: 8.52\n",
      "==========================Nouvel elite !==========================\n",
      "ID: 35-bd85//fab0/fab0(m), Pere: 34-fab0//fab0/fab0(m), Mere: 33-fab0//652f/652f, Cout: 666, Proba: 0.8 %\n",
      "FACteur demuta: 8.52\n",
      "==========================Nouvel elite !==========================\n",
      "ID: 35-bd85//fab0/fab0(m), Pere: 34-fab0//fab0/fab0(m), Mere: 33-fab0//652f/652f, Cout: 666, Proba: 0.8 %\n",
      "FACteur demuta: 8.52\n",
      "==========================Nouvel elite !==========================\n",
      "ID: 35-bd85//fab0/fab0(m), Pere: 34-fab0//fab0/fab0(m), Mere: 33-fab0//652f/652f, Cout: 666, Proba: 0.8 %\n",
      "FACteur demuta: 8.52\n",
      "==========================Nouvel elite !==========================\n",
      "ID: 35-bd85//fab0/fab0(m), Pere: 34-fab0//fab0/fab0(m), Mere: 33-fab0//652f/652f, Cout: 666, Proba: 0.8 %\n",
      "FACteur demuta: 8.52\n",
      "==========================Nouvel elite !==========================\n",
      "ID: 35-bd85//fab0/fab0(m), Pere: 34-fab0//fab0/fab0(m), Mere: 33-fab0//652f/652f, Cout: 666, Proba: 0.8 %\n",
      "FACteur demuta: 8.52\n",
      "==========================Nouvel elite !==========================\n",
      "ID: 35-bd85//fab0/fab0(m), Pere: 34-fab0//fab0/fab0(m), Mere: 33-fab0//652f/652f, Cout: 666, Proba: 0.8 %\n",
      "FACteur demuta: 8.52\n",
      "==========================Nouvel elite !==========================\n",
      "ID: 35-bd85//fab0/fab0(m), Pere: 34-fab0//fab0/fab0(m), Mere: 33-fab0//652f/652f, Cout: 666, Proba: 0.8 %\n",
      "FACteur demuta: 8.52\n",
      "==========================Nouvel elite !==========================\n",
      "ID: 35-bd85//fab0/fab0(m), Pere: 34-fab0//fab0/fab0(m), Mere: 33-fab0//652f/652f, Cout: 666, Proba: 0.8 %\n",
      "FACteur demuta: 8.52\n",
      "==========================Nouvel elite !==========================\n",
      "ID: 35-bd85//fab0/fab0(m), Pere: 34-fab0//fab0/fab0(m), Mere: 33-fab0//652f/652f, Cout: 666, Proba: 0.8 %\n",
      "FACteur demuta: 8.52\n",
      "==========================Nouvel elite !==========================\n",
      "ID: 35-bd85//fab0/fab0(m), Pere: 34-fab0//fab0/fab0(m), Mere: 33-fab0//652f/652f, Cout: 666, Proba: 0.8 %\n",
      "FACteur demuta: 8.52\n",
      "==========================Nouvel elite !==========================\n",
      "ID: 35-bd85//fab0/fab0(m), Pere: 34-fab0//fab0/fab0(m), Mere: 33-fab0//652f/652f, Cout: 666, Proba: 0.8 %\n",
      "FACteur demuta: 8.52\n",
      "==========================Nouvel elite !==========================\n",
      "ID: 35-bd85//fab0/fab0(m), Pere: 34-fab0//fab0/fab0(m), Mere: 33-fab0//652f/652f, Cout: 666, Proba: 0.8 %\n",
      "FACteur demuta: 8.52\n",
      "==========================Nouvel elite !==========================\n",
      "ID: 35-bd85//fab0/fab0(m), Pere: 34-fab0//fab0/fab0(m), Mere: 33-fab0//652f/652f, Cout: 666, Proba: 0.8 %\n",
      "FACteur demuta: 8.52\n",
      "==========================Nouvel elite !==========================\n",
      "ID: 35-bd85//fab0/fab0(m), Pere: 34-fab0//fab0/fab0(m), Mere: 33-fab0//652f/652f, Cout: 666, Proba: 0.8 %\n",
      "FACteur demuta: 8.52\n",
      "==========================Nouvel elite !==========================\n",
      "ID: 35-bd85//fab0/fab0(m), Pere: 34-fab0//fab0/fab0(m), Mere: 33-fab0//652f/652f, Cout: 666, Proba: 0.8 %\n",
      "FACteur demuta: 8.52\n",
      "==========================Nouvel elite !==========================\n",
      "ID: 35-bd85//fab0/fab0(m), Pere: 34-fab0//fab0/fab0(m), Mere: 33-fab0//652f/652f, Cout: 666, Proba: 0.8 %\n",
      "FACteur demuta: 8.52\n",
      "==========================Nouvel elite !==========================\n",
      "ID: 35-bd85//fab0/fab0(m), Pere: 34-fab0//fab0/fab0(m), Mere: 33-fab0//652f/652f, Cout: 666, Proba: 0.8 %\n",
      "FACteur demuta: 8.52\n",
      "==========================Nouvel elite !==========================\n",
      "ID: 35-bd85//fab0/fab0(m), Pere: 34-fab0//fab0/fab0(m), Mere: 33-fab0//652f/652f, Cout: 666, Proba: 0.8 %\n",
      "FACteur demuta: 8.52\n",
      "==========================Nouvel elite !==========================\n",
      "ID: 35-bd85//fab0/fab0(m), Pere: 34-fab0//fab0/fab0(m), Mere: 33-fab0//652f/652f, Cout: 666, Proba: 0.8 %\n",
      "FACteur demuta: 8.52\n",
      "==========================Nouvel elite !==========================\n",
      "ID: 35-bd85//fab0/fab0(m), Pere: 34-fab0//fab0/fab0(m), Mere: 33-fab0//652f/652f, Cout: 666, Proba: 0.8 %\n",
      "FACteur demuta: 8.52\n",
      "==========================Nouvel elite !==========================\n",
      "ID: 35-bd85//fab0/fab0(m), Pere: 34-fab0//fab0/fab0(m), Mere: 33-fab0//652f/652f, Cout: 666, Proba: 0.8 %\n",
      "FACteur demuta: 8.52\n",
      "==========================Nouvel elite !==========================\n",
      "ID: 35-bd85//fab0/fab0(m), Pere: 34-fab0//fab0/fab0(m), Mere: 33-fab0//652f/652f, Cout: 666, Proba: 0.8 %\n",
      "FACteur demuta: 8.52\n",
      "==========================Nouvel elite !==========================\n",
      "ID: 35-bd85//fab0/fab0(m), Pere: 34-fab0//fab0/fab0(m), Mere: 33-fab0//652f/652f, Cout: 666, Proba: 0.8 %\n",
      "FACteur demuta: 8.52\n",
      "==========================Nouvel elite !==========================\n",
      "ID: 35-bd85//fab0/fab0(m), Pere: 34-fab0//fab0/fab0(m), Mere: 33-fab0//652f/652f, Cout: 666, Proba: 0.8 %\n",
      "FACteur demuta: 8.52\n",
      "==========================Nouvel elite !==========================\n",
      "ID: 35-bd85//fab0/fab0(m), Pere: 34-fab0//fab0/fab0(m), Mere: 33-fab0//652f/652f, Cout: 666, Proba: 0.8 %\n",
      "FACteur demuta: 8.52\n",
      "==========================Nouvel elite !==========================\n",
      "ID: 35-bd85//fab0/fab0(m), Pere: 34-fab0//fab0/fab0(m), Mere: 33-fab0//652f/652f, Cout: 666, Proba: 0.8 %\n",
      "FACteur demuta: 8.52\n",
      "==========================Nouvel elite !==========================\n",
      "ID: 35-bd85//fab0/fab0(m), Pere: 34-fab0//fab0/fab0(m), Mere: 33-fab0//652f/652f, Cout: 666, Proba: 0.8 %\n",
      "FACteur demuta: 8.52\n",
      "==========================Nouvel elite !==========================\n",
      "ID: 35-bd85//fab0/fab0(m), Pere: 34-fab0//fab0/fab0(m), Mere: 33-fab0//652f/652f, Cout: 666, Proba: 0.8 %\n",
      "FACteur demuta: 8.52\n",
      "==========================Nouvel elite !==========================\n",
      "ID: 35-bd85//fab0/fab0(m), Pere: 34-fab0//fab0/fab0(m), Mere: 33-fab0//652f/652f, Cout: 666, Proba: 0.8 %\n",
      "FACteur demuta: 8.52\n",
      "==========================Nouvel elite !==========================\n",
      "ID: 35-bd85//fab0/fab0(m), Pere: 34-fab0//fab0/fab0(m), Mere: 33-fab0//652f/652f, Cout: 666, Proba: 0.8 %\n",
      "FACteur demuta: 8.52\n",
      "==========================Nouvel elite !==========================\n",
      "ID: 35-bd85//fab0/fab0(m), Pere: 34-fab0//fab0/fab0(m), Mere: 33-fab0//652f/652f, Cout: 666, Proba: 0.8 %\n",
      "FACteur demuta: 8.52\n",
      "==========================Nouvel elite !==========================\n",
      "ID: 35-bd85//fab0/fab0(m), Pere: 34-fab0//fab0/fab0(m), Mere: 33-fab0//652f/652f, Cout: 666, Proba: 0.8 %\n",
      "FACteur demuta: 8.52\n",
      "==========================Nouvel elite !==========================\n",
      "ID: 35-bd85//fab0/fab0(m), Pere: 34-fab0//fab0/fab0(m), Mere: 33-fab0//652f/652f, Cout: 666, Proba: 0.8 %\n",
      "FACteur demuta: 8.52\n",
      "==========================Nouvel elite !==========================\n",
      "ID: 35-bd85//fab0/fab0(m), Pere: 34-fab0//fab0/fab0(m), Mere: 33-fab0//652f/652f, Cout: 666, Proba: 0.8 %\n",
      "FACteur demuta: 8.52\n",
      "==========================Nouvel elite !==========================\n",
      "ID: 35-bd85//fab0/fab0(m), Pere: 34-fab0//fab0/fab0(m), Mere: 33-fab0//652f/652f, Cout: 666, Proba: 0.8 %\n",
      "FACteur demuta: 8.52\n",
      "==========================Nouvel elite !==========================\n",
      "ID: 35-bd85//fab0/fab0(m), Pere: 34-fab0//fab0/fab0(m), Mere: 33-fab0//652f/652f, Cout: 666, Proba: 0.8 %\n",
      "FACteur demuta: 8.52\n",
      "==========================Nouvel elite !==========================\n",
      "ID: 35-bd85//fab0/fab0(m), Pere: 34-fab0//fab0/fab0(m), Mere: 33-fab0//652f/652f, Cout: 666, Proba: 0.8 %\n",
      "FACteur demuta: 8.52\n",
      "==========================Nouvel elite !==========================\n",
      "ID: 35-bd85//fab0/fab0(m), Pere: 34-fab0//fab0/fab0(m), Mere: 33-fab0//652f/652f, Cout: 666, Proba: 0.8 %\n",
      "FACteur demuta: 8.52\n",
      "==========================Nouvel elite !==========================\n",
      "ID: 35-bd85//fab0/fab0(m), Pere: 34-fab0//fab0/fab0(m), Mere: 33-fab0//652f/652f, Cout: 666, Proba: 0.8 %\n",
      "FACteur demuta: 8.52\n",
      "==========================Nouvel elite !==========================\n",
      "ID: 35-bd85//fab0/fab0(m), Pere: 34-fab0//fab0/fab0(m), Mere: 33-fab0//652f/652f, Cout: 666, Proba: 0.8 %\n",
      "FACteur demuta: 8.52\n",
      "==========================Nouvel elite !==========================\n",
      "ID: 35-bd85//fab0/fab0(m), Pere: 34-fab0//fab0/fab0(m), Mere: 33-fab0//652f/652f, Cout: 666, Proba: 0.8 %\n",
      "FACteur demuta: 8.52\n",
      "==========================Nouvel elite !==========================\n",
      "ID: 35-bd85//fab0/fab0(m), Pere: 34-fab0//fab0/fab0(m), Mere: 33-fab0//652f/652f, Cout: 666, Proba: 0.8 %\n",
      "FACteur demuta: 8.52\n",
      "==========================Nouvel elite !==========================\n",
      "ID: 35-bd85//fab0/fab0(m), Pere: 34-fab0//fab0/fab0(m), Mere: 33-fab0//652f/652f, Cout: 666, Proba: 0.8 %\n",
      "FACteur demuta: 8.52\n",
      "==========================Nouvel elite !==========================\n",
      "ID: 35-bd85//fab0/fab0(m), Pere: 34-fab0//fab0/fab0(m), Mere: 33-fab0//652f/652f, Cout: 666, Proba: 0.8 %\n",
      "FACteur demuta: 8.52\n",
      "==========================Nouvel elite !==========================\n",
      "ID: 35-bd85//fab0/fab0(m), Pere: 34-fab0//fab0/fab0(m), Mere: 33-fab0//652f/652f, Cout: 666, Proba: 0.8 %\n",
      "FACteur demuta: 8.52\n",
      "==========================Nouvel elite !==========================\n",
      "ID: 35-bd85//fab0/fab0(m), Pere: 34-fab0//fab0/fab0(m), Mere: 33-fab0//652f/652f, Cout: 666, Proba: 0.8 %\n",
      "FACteur demuta: 8.52\n",
      "==========================Nouvel elite !==========================\n",
      "ID: 35-bd85//fab0/fab0(m), Pere: 34-fab0//fab0/fab0(m), Mere: 33-fab0//652f/652f, Cout: 666, Proba: 0.8 %\n",
      "FACteur demuta: 8.52\n",
      "==========================Nouvel elite !==========================\n",
      "ID: 35-bd85//fab0/fab0(m), Pere: 34-fab0//fab0/fab0(m), Mere: 33-fab0//652f/652f, Cout: 666, Proba: 0.8 %\n",
      "FACteur demuta: 8.52\n",
      "==========================Nouvel elite !==========================\n",
      "ID: 35-bd85//fab0/fab0(m), Pere: 34-fab0//fab0/fab0(m), Mere: 33-fab0//652f/652f, Cout: 666, Proba: 0.8 %\n",
      "FACteur demuta: 8.52\n",
      "==========================Nouvel elite !==========================\n",
      "ID: 35-bd85//fab0/fab0(m), Pere: 34-fab0//fab0/fab0(m), Mere: 33-fab0//652f/652f, Cout: 666, Proba: 0.8 %\n",
      "FACteur demuta: 8.52\n",
      "==========================Nouvel elite !==========================\n",
      "ID: 35-bd85//fab0/fab0(m), Pere: 34-fab0//fab0/fab0(m), Mere: 33-fab0//652f/652f, Cout: 666, Proba: 0.8 %\n",
      "FACteur demuta: 8.52\n",
      "==========================Nouvel elite !==========================\n",
      "ID: 35-bd85//fab0/fab0(m), Pere: 34-fab0//fab0/fab0(m), Mere: 33-fab0//652f/652f, Cout: 666, Proba: 0.8 %\n",
      "FACteur demuta: 8.52\n",
      "==========================Nouvel elite !==========================\n",
      "ID: 35-bd85//fab0/fab0(m), Pere: 34-fab0//fab0/fab0(m), Mere: 33-fab0//652f/652f, Cout: 666, Proba: 0.8 %\n",
      "FACteur demuta: 8.52\n",
      "==========================Nouvel elite !==========================\n",
      "ID: 35-bd85//fab0/fab0(m), Pere: 34-fab0//fab0/fab0(m), Mere: 33-fab0//652f/652f, Cout: 666, Proba: 0.8 %\n",
      "FACteur demuta: 8.52\n",
      "==========================Nouvel elite !==========================\n",
      "ID: 35-bd85//fab0/fab0(m), Pere: 34-fab0//fab0/fab0(m), Mere: 33-fab0//652f/652f, Cout: 666, Proba: 0.8 %\n",
      "FACteur demuta: 8.52\n",
      "==========================Nouvel elite !==========================\n",
      "ID: 35-bd85//fab0/fab0(m), Pere: 34-fab0//fab0/fab0(m), Mere: 33-fab0//652f/652f, Cout: 666, Proba: 0.8 %\n",
      "FACteur demuta: 8.52\n",
      "==========================Nouvel elite !==========================\n",
      "ID: 35-bd85//fab0/fab0(m), Pere: 34-fab0//fab0/fab0(m), Mere: 33-fab0//652f/652f, Cout: 666, Proba: 0.8 %\n",
      "FACteur demuta: 8.52\n",
      "==========================Nouvel elite !==========================\n",
      "ID: 35-bd85//fab0/fab0(m), Pere: 34-fab0//fab0/fab0(m), Mere: 33-fab0//652f/652f, Cout: 666, Proba: 0.8 %\n",
      "FACteur demuta: 8.52\n",
      "==========================Nouvel elite !==========================\n",
      "ID: 35-bd85//fab0/fab0(m), Pere: 34-fab0//fab0/fab0(m), Mere: 33-fab0//652f/652f, Cout: 666, Proba: 0.8 %\n",
      "FACteur demuta: 8.52\n",
      "==========================Nouvel elite !==========================\n",
      "ID: 35-bd85//fab0/fab0(m), Pere: 34-fab0//fab0/fab0(m), Mere: 33-fab0//652f/652f, Cout: 666, Proba: 0.8 %\n",
      "FACteur demuta: 8.52\n",
      "==========================Nouvel elite !==========================\n",
      "ID: 35-bd85//fab0/fab0(m), Pere: 34-fab0//fab0/fab0(m), Mere: 33-fab0//652f/652f, Cout: 666, Proba: 0.8 %\n",
      "FACteur demuta: 8.52\n",
      "==========================Nouvel elite !==========================\n",
      "ID: 35-bd85//fab0/fab0(m), Pere: 34-fab0//fab0/fab0(m), Mere: 33-fab0//652f/652f, Cout: 666, Proba: 0.8 %\n",
      "FACteur demuta: 8.52\n",
      "==========================Nouvel elite !==========================\n",
      "ID: 35-bd85//fab0/fab0(m), Pere: 34-fab0//fab0/fab0(m), Mere: 33-fab0//652f/652f, Cout: 666, Proba: 0.8 %\n",
      "FACteur demuta: 8.52\n",
      "==========================Nouvel elite !==========================\n",
      "ID: 35-bd85//fab0/fab0(m), Pere: 34-fab0//fab0/fab0(m), Mere: 33-fab0//652f/652f, Cout: 666, Proba: 0.8 %\n",
      "FACteur demuta: 8.52\n",
      "==========================Nouvel elite !==========================\n",
      "ID: 35-bd85//fab0/fab0(m), Pere: 34-fab0//fab0/fab0(m), Mere: 33-fab0//652f/652f, Cout: 666, Proba: 0.8 %\n",
      "FACteur demuta: 8.52\n",
      "==========================Nouvel elite !==========================\n",
      "ID: 35-bd85//fab0/fab0(m), Pere: 34-fab0//fab0/fab0(m), Mere: 33-fab0//652f/652f, Cout: 666, Proba: 0.8 %\n",
      "FACteur demuta: 8.52\n",
      "==========================Nouvel elite !==========================\n",
      "ID: 35-bd85//fab0/fab0(m), Pere: 34-fab0//fab0/fab0(m), Mere: 33-fab0//652f/652f, Cout: 666, Proba: 0.8 %\n",
      "FACteur demuta: 8.52\n",
      "==========================Nouvel elite !==========================\n",
      "ID: 35-bd85//fab0/fab0(m), Pere: 34-fab0//fab0/fab0(m), Mere: 33-fab0//652f/652f, Cout: 666, Proba: 0.8 %\n",
      "FACteur demuta: 8.52\n",
      "==========================Nouvel elite !==========================\n",
      "ID: 35-bd85//fab0/fab0(m), Pere: 34-fab0//fab0/fab0(m), Mere: 33-fab0//652f/652f, Cout: 666, Proba: 0.8 %\n",
      "FACteur demuta: 8.52\n",
      "==========================Nouvel elite !==========================\n",
      "ID: 35-bd85//fab0/fab0(m), Pere: 34-fab0//fab0/fab0(m), Mere: 33-fab0//652f/652f, Cout: 666, Proba: 0.8 %\n",
      "FACteur demuta: 8.52\n",
      "==========================Nouvel elite !==========================\n",
      "ID: 35-bd85//fab0/fab0(m), Pere: 34-fab0//fab0/fab0(m), Mere: 33-fab0//652f/652f, Cout: 666, Proba: 0.8 %\n",
      "FACteur demuta: 8.52\n",
      "==========================Nouvel elite !==========================\n",
      "ID: 35-bd85//fab0/fab0(m), Pere: 34-fab0//fab0/fab0(m), Mere: 33-fab0//652f/652f, Cout: 666, Proba: 0.8 %\n",
      "FACteur demuta: 8.52\n",
      "==========================Nouvel elite !==========================\n",
      "ID: 35-bd85//fab0/fab0(m), Pere: 34-fab0//fab0/fab0(m), Mere: 33-fab0//652f/652f, Cout: 666, Proba: 0.8 %\n",
      "FACteur demuta: 8.52\n",
      "==========================Nouvel elite !==========================\n",
      "ID: 35-bd85//fab0/fab0(m), Pere: 34-fab0//fab0/fab0(m), Mere: 33-fab0//652f/652f, Cout: 666, Proba: 0.8 %\n",
      "FACteur demuta: 8.52\n",
      "==========================Nouvel elite !==========================\n",
      "ID: 35-bd85//fab0/fab0(m), Pere: 34-fab0//fab0/fab0(m), Mere: 33-fab0//652f/652f, Cout: 666, Proba: 0.8 %\n",
      "FACteur demuta: 8.52\n",
      "==========================Nouvel elite !==========================\n",
      "ID: 35-bd85//fab0/fab0(m), Pere: 34-fab0//fab0/fab0(m), Mere: 33-fab0//652f/652f, Cout: 666, Proba: 0.8 %\n",
      "FACteur demuta: 8.52\n",
      "==========================Nouvel elite !==========================\n",
      "ID: 35-bd85//fab0/fab0(m), Pere: 34-fab0//fab0/fab0(m), Mere: 33-fab0//652f/652f, Cout: 666, Proba: 0.8 %\n",
      "FACteur demuta: 8.52\n",
      "==========================Nouvel elite !==========================\n",
      "ID: 35-bd85//fab0/fab0(m), Pere: 34-fab0//fab0/fab0(m), Mere: 33-fab0//652f/652f, Cout: 666, Proba: 0.8 %\n",
      "FACteur demuta: 8.52\n",
      "==========================Nouvel elite !==========================\n",
      "ID: 35-bd85//fab0/fab0(m), Pere: 34-fab0//fab0/fab0(m), Mere: 33-fab0//652f/652f, Cout: 666, Proba: 0.8 %\n",
      "FACteur demuta: 8.52\n",
      "==========================Nouvel elite !==========================\n",
      "ID: 35-bd85//fab0/fab0(m), Pere: 34-fab0//fab0/fab0(m), Mere: 33-fab0//652f/652f, Cout: 666, Proba: 0.8 %\n",
      "FACteur demuta: 8.52\n",
      "==========================Nouvel elite !==========================\n",
      "ID: 35-bd85//fab0/fab0(m), Pere: 34-fab0//fab0/fab0(m), Mere: 33-fab0//652f/652f, Cout: 666, Proba: 0.8 %\n",
      "FACteur demuta: 8.52\n",
      "==========================Nouvel elite !==========================\n",
      "ID: 35-bd85//fab0/fab0(m), Pere: 34-fab0//fab0/fab0(m), Mere: 33-fab0//652f/652f, Cout: 666, Proba: 0.8 %\n",
      "FACteur demuta: 8.52\n",
      "==========================Nouvel elite !==========================\n",
      "ID: 35-bd85//fab0/fab0(m), Pere: 34-fab0//fab0/fab0(m), Mere: 33-fab0//652f/652f, Cout: 666, Proba: 0.8 %\n",
      "FACteur demuta: 8.52\n",
      "==========================Nouvel elite !==========================\n",
      "ID: 35-bd85//fab0/fab0(m), Pere: 34-fab0//fab0/fab0(m), Mere: 33-fab0//652f/652f, Cout: 666, Proba: 0.8 %\n",
      "FACteur demuta: 8.52\n",
      "==========================Nouvel elite !==========================\n",
      "ID: 35-bd85//fab0/fab0(m), Pere: 34-fab0//fab0/fab0(m), Mere: 33-fab0//652f/652f, Cout: 666, Proba: 0.8 %\n",
      "FACteur demuta: 8.52\n",
      "==========================Nouvel elite !==========================\n",
      "ID: 35-bd85//fab0/fab0(m), Pere: 34-fab0//fab0/fab0(m), Mere: 33-fab0//652f/652f, Cout: 666, Proba: 0.8 %\n",
      "FACteur demuta: 8.52\n",
      "==========================Nouvel elite !==========================\n",
      "ID: 35-bd85//fab0/fab0(m), Pere: 34-fab0//fab0/fab0(m), Mere: 33-fab0//652f/652f, Cout: 666, Proba: 0.8 %\n",
      "FACteur demuta: 8.52\n",
      "==========================Nouvel elite !==========================\n",
      "ID: 35-bd85//fab0/fab0(m), Pere: 34-fab0//fab0/fab0(m), Mere: 33-fab0//652f/652f, Cout: 666, Proba: 0.8 %\n",
      "FACteur demuta: 8.52\n",
      "==========================Nouvel elite !==========================\n",
      "ID: 35-bd85//fab0/fab0(m), Pere: 34-fab0//fab0/fab0(m), Mere: 33-fab0//652f/652f, Cout: 666, Proba: 0.8 %\n",
      "FACteur demuta: 8.52\n",
      "==========================Nouvel elite !==========================\n",
      "ID: 35-bd85//fab0/fab0(m), Pere: 34-fab0//fab0/fab0(m), Mere: 33-fab0//652f/652f, Cout: 666, Proba: 0.8 %\n",
      "FACteur demuta: 8.52\n",
      "==========================Nouvel elite !==========================\n",
      "ID: 35-bd85//fab0/fab0(m), Pere: 34-fab0//fab0/fab0(m), Mere: 33-fab0//652f/652f, Cout: 666, Proba: 0.8 %\n",
      "FACteur demuta: 8.52\n",
      "==========================Nouvel elite !==========================\n",
      "ID: 35-bd85//fab0/fab0(m), Pere: 34-fab0//fab0/fab0(m), Mere: 33-fab0//652f/652f, Cout: 666, Proba: 0.8 %\n",
      "FACteur demuta: 8.52\n",
      "==========================Nouvel elite !==========================\n",
      "ID: 35-bd85//fab0/fab0(m), Pere: 34-fab0//fab0/fab0(m), Mere: 33-fab0//652f/652f, Cout: 666, Proba: 0.8 %\n",
      "FACteur demuta: 8.52\n",
      "==========================Nouvel elite !==========================\n",
      "ID: 35-bd85//fab0/fab0(m), Pere: 34-fab0//fab0/fab0(m), Mere: 33-fab0//652f/652f, Cout: 666, Proba: 0.8 %\n",
      "FACteur demuta: 8.52\n",
      "==========================Nouvel elite !==========================\n",
      "ID: 35-bd85//fab0/fab0(m), Pere: 34-fab0//fab0/fab0(m), Mere: 33-fab0//652f/652f, Cout: 666, Proba: 0.8 %\n",
      "FACteur demuta: 8.52\n",
      "==========================Nouvel elite !==========================\n",
      "ID: 35-bd85//fab0/fab0(m), Pere: 34-fab0//fab0/fab0(m), Mere: 33-fab0//652f/652f, Cout: 666, Proba: 0.8 %\n",
      "FACteur demuta: 8.52\n",
      "==========================Nouvel elite !==========================\n",
      "ID: 35-bd85//fab0/fab0(m), Pere: 34-fab0//fab0/fab0(m), Mere: 33-fab0//652f/652f, Cout: 666, Proba: 0.8 %\n",
      "FACteur demuta: 8.52\n",
      "==========================Nouvel elite !==========================\n",
      "ID: 35-bd85//fab0/fab0(m), Pere: 34-fab0//fab0/fab0(m), Mere: 33-fab0//652f/652f, Cout: 666, Proba: 0.8 %\n",
      "FACteur demuta: 8.52\n",
      "==========================Nouvel elite !==========================\n",
      "ID: 35-bd85//fab0/fab0(m), Pere: 34-fab0//fab0/fab0(m), Mere: 33-fab0//652f/652f, Cout: 666, Proba: 0.8 %\n",
      "FACteur demuta: 8.52\n",
      "==========================Nouvel elite !==========================\n",
      "ID: 35-bd85//fab0/fab0(m), Pere: 34-fab0//fab0/fab0(m), Mere: 33-fab0//652f/652f, Cout: 666, Proba: 0.8 %\n",
      "FACteur demuta: 8.52\n",
      "==========================Nouvel elite !==========================\n",
      "ID: 35-bd85//fab0/fab0(m), Pere: 34-fab0//fab0/fab0(m), Mere: 33-fab0//652f/652f, Cout: 666, Proba: 0.8 %\n",
      "FACteur demuta: 8.52\n",
      "==========================Nouvel elite !==========================\n",
      "ID: 35-bd85//fab0/fab0(m), Pere: 34-fab0//fab0/fab0(m), Mere: 33-fab0//652f/652f, Cout: 666, Proba: 0.8 %\n",
      "FACteur demuta: 8.52\n",
      "==========================Nouvel elite !==========================\n",
      "ID: 35-bd85//fab0/fab0(m), Pere: 34-fab0//fab0/fab0(m), Mere: 33-fab0//652f/652f, Cout: 666, Proba: 0.8 %\n",
      "FACteur demuta: 8.52\n",
      "==========================Nouvel elite !==========================\n",
      "ID: 35-bd85//fab0/fab0(m), Pere: 34-fab0//fab0/fab0(m), Mere: 33-fab0//652f/652f, Cout: 666, Proba: 0.8 %\n",
      "FACteur demuta: 8.52\n",
      "==========================Nouvel elite !==========================\n",
      "ID: 35-bd85//fab0/fab0(m), Pere: 34-fab0//fab0/fab0(m), Mere: 33-fab0//652f/652f, Cout: 666, Proba: 0.8 %\n",
      "FACteur demuta: 8.52\n",
      "==========================Nouvel elite !==========================\n",
      "ID: 35-bd85//fab0/fab0(m), Pere: 34-fab0//fab0/fab0(m), Mere: 33-fab0//652f/652f, Cout: 666, Proba: 0.8 %\n",
      "FACteur demuta: 8.52\n",
      "==========================Nouvel elite !==========================\n",
      "ID: 35-bd85//fab0/fab0(m), Pere: 34-fab0//fab0/fab0(m), Mere: 33-fab0//652f/652f, Cout: 666, Proba: 0.8 %\n",
      "FACteur demuta: 8.52\n",
      "==========================Nouvel elite !==========================\n",
      "ID: 35-bd85//fab0/fab0(m), Pere: 34-fab0//fab0/fab0(m), Mere: 33-fab0//652f/652f, Cout: 666, Proba: 0.8 %\n",
      "FACteur demuta: 8.52\n",
      "==========================Nouvel elite !==========================\n",
      "ID: 35-bd85//fab0/fab0(m), Pere: 34-fab0//fab0/fab0(m), Mere: 33-fab0//652f/652f, Cout: 666, Proba: 0.8 %\n",
      "FACteur demuta: 8.52\n",
      "==========================Nouvel elite !==========================\n",
      "ID: 35-bd85//fab0/fab0(m), Pere: 34-fab0//fab0/fab0(m), Mere: 33-fab0//652f/652f, Cout: 666, Proba: 0.8 %\n",
      "FACteur demuta: 8.52\n",
      "==========================Nouvel elite !==========================\n",
      "ID: 35-bd85//fab0/fab0(m), Pere: 34-fab0//fab0/fab0(m), Mere: 33-fab0//652f/652f, Cout: 666, Proba: 0.8 %\n",
      "FACteur demuta: 8.52\n",
      "==========================Nouvel elite !==========================\n",
      "ID: 35-bd85//fab0/fab0(m), Pere: 34-fab0//fab0/fab0(m), Mere: 33-fab0//652f/652f, Cout: 666, Proba: 0.8 %\n",
      "FACteur demuta: 8.52\n",
      "==========================Nouvel elite !==========================\n",
      "ID: 35-bd85//fab0/fab0(m), Pere: 34-fab0//fab0/fab0(m), Mere: 33-fab0//652f/652f, Cout: 666, Proba: 0.8 %\n",
      "FACteur demuta: 8.52\n",
      "==========================Nouvel elite !==========================\n",
      "ID: 35-bd85//fab0/fab0(m), Pere: 34-fab0//fab0/fab0(m), Mere: 33-fab0//652f/652f, Cout: 666, Proba: 0.8 %\n",
      "FACteur demuta: 8.52\n",
      "==========================Nouvel elite !==========================\n",
      "ID: 35-bd85//fab0/fab0(m), Pere: 34-fab0//fab0/fab0(m), Mere: 33-fab0//652f/652f, Cout: 666, Proba: 0.8 %\n",
      "FACteur demuta: 8.52\n",
      "==========================Nouvel elite !==========================\n",
      "ID: 35-bd85//fab0/fab0(m), Pere: 34-fab0//fab0/fab0(m), Mere: 33-fab0//652f/652f, Cout: 666, Proba: 0.8 %\n",
      "FACteur demuta: 8.52\n",
      "==========================Nouvel elite !==========================\n",
      "ID: 35-bd85//fab0/fab0(m), Pere: 34-fab0//fab0/fab0(m), Mere: 33-fab0//652f/652f, Cout: 666, Proba: 0.8 %\n",
      "FACteur demuta: 8.52\n",
      "==========================Nouvel elite !==========================\n",
      "ID: 35-bd85//fab0/fab0(m), Pere: 34-fab0//fab0/fab0(m), Mere: 33-fab0//652f/652f, Cout: 666, Proba: 0.8 %\n",
      "FACteur demuta: 8.52\n",
      "==========================Nouvel elite !==========================\n",
      "ID: 35-bd85//fab0/fab0(m), Pere: 34-fab0//fab0/fab0(m), Mere: 33-fab0//652f/652f, Cout: 666, Proba: 0.8 %\n",
      "FACteur demuta: 8.52\n",
      "==========================Nouvel elite !==========================\n",
      "ID: 35-bd85//fab0/fab0(m), Pere: 34-fab0//fab0/fab0(m), Mere: 33-fab0//652f/652f, Cout: 666, Proba: 0.8 %\n",
      "FACteur demuta: 8.52\n",
      "==========================Nouvel elite !==========================\n",
      "ID: 35-bd85//fab0/fab0(m), Pere: 34-fab0//fab0/fab0(m), Mere: 33-fab0//652f/652f, Cout: 666, Proba: 0.8 %\n",
      "FACteur demuta: 8.52\n",
      "==========================Nouvel elite !==========================\n",
      "ID: 35-bd85//fab0/fab0(m), Pere: 34-fab0//fab0/fab0(m), Mere: 33-fab0//652f/652f, Cout: 666, Proba: 0.8 %\n",
      "FACteur demuta: 8.52\n",
      "==========================Nouvel elite !==========================\n",
      "ID: 35-bd85//fab0/fab0(m), Pere: 34-fab0//fab0/fab0(m), Mere: 33-fab0//652f/652f, Cout: 666, Proba: 0.8 %\n",
      "FACteur demuta: 8.52\n",
      "==========================Nouvel elite !==========================\n",
      "ID: 35-bd85//fab0/fab0(m), Pere: 34-fab0//fab0/fab0(m), Mere: 33-fab0//652f/652f, Cout: 666, Proba: 0.8 %\n",
      "FACteur demuta: 8.52\n",
      "==========================Nouvel elite !==========================\n",
      "ID: 35-bd85//fab0/fab0(m), Pere: 34-fab0//fab0/fab0(m), Mere: 33-fab0//652f/652f, Cout: 666, Proba: 0.8 %\n",
      "FACteur demuta: 8.52\n",
      "==========================Nouvel elite !==========================\n",
      "ID: 35-bd85//fab0/fab0(m), Pere: 34-fab0//fab0/fab0(m), Mere: 33-fab0//652f/652f, Cout: 666, Proba: 0.8 %\n",
      "FACteur demuta: 8.52\n",
      "==========================Nouvel elite !==========================\n",
      "ID: 35-bd85//fab0/fab0(m), Pere: 34-fab0//fab0/fab0(m), Mere: 33-fab0//652f/652f, Cout: 666, Proba: 0.8 %\n",
      "FACteur demuta: 8.52\n"
     ],
     "output_type": "stream"
    }
   ],
   "source": [
    "pop = Population(**data)\n",
    "genese(100, data, pop, data)\n",
    "\n",
    "while pop.generation <=165:\n",
    "    evaluation(pop, data)\n",
    "    selection(pop,5)\n",
    "    while pop.nombre < 200:\n",
    "        croisement(pop)\n",
    "    evaluation(pop, data)\n",
    "    if pop.change == True:\n",
    "        print(\"==========================Nouvel elite !==========================\")\n",
    "        print(pop.elite)\n",
    "        print(\"FACteur demuta:\", pop.facteurMutation)\n",
    "\n",
    "elu = selection(pop,1)"
   ],
   "metadata": {
    "collapsed": false,
    "pycharm": {
     "name": "#%%\n",
     "is_executing": true
    }
   }
  },
  {
   "cell_type": "code",
   "execution_count": null,
   "outputs": [],
   "source": [
    "evaluation(pop, data)"
   ],
   "metadata": {
    "collapsed": false,
    "pycharm": {
     "name": "#%%\n",
     "is_executing": true
    }
   }
  },
  {
   "cell_type": "code",
   "execution_count": null,
   "metadata": {
    "pycharm": {
     "is_executing": true,
     "name": "#%%\n"
    }
   },
   "outputs": [],
   "source": [
    "print(pop.individu[-1].sequence)"
   ]
  },
  {
   "cell_type": "code",
   "execution_count": null,
   "outputs": [],
   "source": [
    "pop.individu[-1].mutationplace"
   ],
   "metadata": {
    "collapsed": false,
    "pycharm": {
     "name": "#%%\n",
     "is_executing": true
    }
   }
  },
  {
   "cell_type": "code",
   "execution_count": null,
   "outputs": [],
   "source": [
    "inst = Instance(**data)\n",
    "heuristique_gloutone(inst, verbose=0, prio=\"SPT\", rnd=0)\n",
    "liste = vecteur_bier(inst)\n",
    "\n",
    "\n",
    "\n",
    "sequence = permutation_random(liste, 10)"
   ],
   "metadata": {
    "collapsed": false,
    "pycharm": {
     "name": "#%%\n",
     "is_executing": true
    }
   }
  },
  {
   "cell_type": "code",
   "execution_count": null,
   "outputs": [],
   "source": [
    "for s in sequence:\n",
    "    print(s)\n"
   ],
   "metadata": {
    "collapsed": false,
    "pycharm": {
     "name": "#%%\n",
     "is_executing": true
    }
   }
  },
  {
   "cell_type": "code",
   "execution_count": null,
   "outputs": [],
   "source": [
    "inst = Instance(**data)\n",
    "total = heuristique_gloutone(inst, verbose = 0, prio =\"SPT\" , rnd = 0)\n",
    "liste = vecteur_bier(inst, par = \"Start\")\n",
    "instance = Instance(**data)\n",
    "print(liste)"
   ],
   "metadata": {
    "collapsed": false,
    "pycharm": {
     "name": "#%%\n",
     "is_executing": true
    }
   }
  },
  {
   "cell_type": "code",
   "execution_count": null,
   "metadata": {
    "pycharm": {
     "is_executing": true
    }
   },
   "outputs": [],
   "source": [
    "from script.recherche_voisin import exploration_voisinage, inversion_all, permutation_random\n",
    "\n",
    "b=exploration_voisinage(instance , data)"
   ]
  },
  {
   "cell_type": "code",
   "execution_count": null,
   "metadata": {
    "pycharm": {
     "is_executing": true
    }
   },
   "outputs": [],
   "source": [
    "net_voisinage(b)"
   ]
  },
  {
   "cell_type": "code",
   "execution_count": null,
   "metadata": {
    "collapsed": true,
    "pycharm": {
     "is_executing": true
    }
   },
   "outputs": [],
   "source": [
    "help(b.edges)"
   ]
  },
  {
   "cell_type": "code",
   "execution_count": null,
   "metadata": {
    "pycharm": {
     "is_executing": true
    }
   },
   "outputs": [],
   "source": [
    "edge = {}\n",
    "for u,v in b.edges():\n",
    "    pass\n",
    "u\n",
    "print(b.edges[(u,v,i)])"
   ]
  },
  {
   "cell_type": "code",
   "execution_count": null,
   "metadata": {
    "pycharm": {
     "is_executing": true
    }
   },
   "outputs": [],
   "source": [
    "a= list(b.edges)\n",
    "for i in a :\n",
    "    print(i)"
   ]
  },
  {
   "cell_type": "code",
   "execution_count": null,
   "metadata": {
    "pycharm": {
     "is_executing": true
    }
   },
   "outputs": [],
   "source": [
    "b.nodes"
   ]
  },
  {
   "cell_type": "code",
   "execution_count": null,
   "metadata": {
    "pycharm": {
     "is_executing": true
    }
   },
   "outputs": [],
   "source": [
    "for v,truc,root,make in best:\n",
    "    b= exploration_10meilleurs_voisinage(v, inst,graph ,truc)\n",
    "    for v,truc,root,make in b:\n",
    "        print(v,truc, root)\n",
    "        graph.add_node(str(v), makespan = make)\n",
    "        graph.add_edge(root, str(v), chemin = truc)"
   ]
  },
  {
   "cell_type": "code",
   "execution_count": null,
   "metadata": {
    "pycharm": {
     "is_executing": true
    }
   },
   "outputs": [],
   "source": [
    "d"
   ]
  },
  {
   "cell_type": "code",
   "execution_count": null,
   "metadata": {
    "pycharm": {
     "is_executing": true
    }
   },
   "outputs": [],
   "source": [
    "graph.edges.data()"
   ]
  },
  {
   "cell_type": "code",
   "execution_count": null,
   "metadata": {
    "pycharm": {
     "is_executing": true
    }
   },
   "outputs": [],
   "source": [
    "d = {}\n",
    "for g in graph.edges():\n",
    "    graph.edges[('O', '[1 3 4 1 2 5 3 5 5 2 0 4 0 3 0 3 1 5 0 3 1 5 5 2 1 2 4 0 0 2 4 4 2 1 4 3]')]"
   ]
  },
  {
   "cell_type": "code",
   "execution_count": null,
   "metadata": {
    "pycharm": {
     "is_executing": true,
     "name": "#%%\n"
    }
   },
   "outputs": [],
   "source": [
    "graph.nodes.data()"
   ]
  },
  {
   "cell_type": "code",
   "execution_count": null,
   "metadata": {
    "pycharm": {
     "is_executing": true
    }
   },
   "outputs": [],
   "source": [
    "d2 = {}\n",
    "size = []\n",
    "for g in graph.nodes():\n",
    "    d2[g]= graph.nodes[g]['makespan']\n",
    "    size.append(graph.nodes[g]['makespan'])"
   ]
  },
  {
   "cell_type": "code",
   "execution_count": null,
   "metadata": {
    "pycharm": {
     "is_executing": true
    }
   },
   "outputs": [],
   "source": [
    "d2 = {}\n",
    "size = []\n",
    "for g in graph.nodes():\n",
    "    d2[g]= graph.nodes[g]['makespan']\n",
    "    size.append(graph.nodes[g]['makespan'])"
   ]
  },
  {
   "cell_type": "code",
   "execution_count": null,
   "metadata": {
    "pycharm": {
     "is_executing": true
    }
   },
   "outputs": [],
   "source": [
    "import plotly.graph_objects as go\n",
    "\n",
    "plt.figure(figsize=(8,8))\n",
    "pos = nx.spring_layout(graph)\n",
    "nx.draw(graph, pos,node_labels = d2, node_color=range(graph.number_of_nodes()),\n",
    "        edge_color=range(graph.number_of_edges()), edge_cmap=plt.cm.viridis,\n",
    "        node_size=[i for i in size], cmap=plt.cm.viridis)\n",
    "nx.draw_networkx_labels(graph, pos, d2)\n",
    "nx.draw_networkx_edge_labels(graph, pos, edge_labels =d,width=1.0, alpha=0.5,font_size =9)\n",
    "plt.show()"
   ]
  },
  {
   "cell_type": "code",
   "execution_count": null,
   "metadata": {
    "pycharm": {
     "is_executing": true
    }
   },
   "outputs": [],
   "source": [
    "graph = nx.MultiDiGraph()\n",
    "opti, opti_liste, graph ,opti_inst, change = exploration_voisinage(liste, inst,graph)\n",
    "for i in range(8):\n",
    "    if change == \"Yes\":\n",
    "        opti, opti_liste, graph ,opti_inst,change = exploration_voisinage(opti_liste, opti_inst,graph)\n"
   ]
  },
  {
   "cell_type": "code",
   "execution_count": null,
   "metadata": {
    "pycharm": {
     "is_executing": true
    }
   },
   "outputs": [],
   "source": [
    "import plotly.graph_objects as go\n",
    "pos = nx.shell_layout(graph)\n",
    "nx.draw(graph, pos,with_labels =True, node_color=range(graph.number_of_nodes()), node_size=800, cmap=plt.cm.Blues)\n"
   ]
  },
  {
   "cell_type": "code",
   "execution_count": null,
   "metadata": {
    "pycharm": {
     "is_executing": true
    }
   },
   "outputs": [],
   "source": [
    "a = np.array([0,1,2,3,4,5]*6)\n",
    "a = np.sort(a)\n",
    "a"
   ]
  },
  {
   "cell_type": "code",
   "execution_count": null,
   "metadata": {
    "pycharm": {
     "is_executing": true
    }
   },
   "outputs": [],
   "source": [
    "instance = Instance(**data)\n",
    "temp =  alloc_avec_liste(instance,a)\n",
    "affichage_repetition(instance)\n",
    "temp"
   ]
  },
  {
   "cell_type": "code",
   "execution_count": null,
   "metadata": {
    "pycharm": {
     "is_executing": true
    },
    "scrolled": false
   },
   "outputs": [],
   "source": [
    "instance = Instance(**data)\n",
    "temp =  alloc_avec_liste(instance,a)\n",
    "j=0\n",
    "ecart = -1\n",
    "graph = nx.MultiDiGraph() \n",
    "name =str(j)+\":\"+ str(temp)\n",
    "graph.add_node(name,makespan=total )\n",
    "\n",
    "step =0\n",
    "vect = exploration_voisinage_inversion(a)\n",
    "it =iter(vect)\n",
    "verbose = 1\n",
    "j=1\n",
    "while ecart < 10:\n",
    "    instance = Instance(**data)\n",
    "    l = next(it)\n",
    "    alloc_avec_liste(instance,l)\n",
    "    graph.add_node(str(j)+\":\"+str(instance.makeSpan),makespan=instance.makeSpan) \n",
    "    graph.add_edge(name, instance.makeSpan)\n",
    "    if verbose > 1:\n",
    "        print(\"makespan\",instance.makeSpan)\n",
    "    ecart = instance.makeSpan - temp\n",
    "    \n",
    "    if verbose > 1:\n",
    "        print('écart',ecart)\n",
    "        print('optimum',temp)\n",
    "        print(\"====================\")\n",
    "\n",
    "    if instance.makeSpan < temp:\n",
    "        \n",
    "        step = 0\n",
    "        liste = l\n",
    "        name = str(j)+\":\"+str(instance.makeSpan)\n",
    "        j+=1\n",
    "        i = instance\n",
    "        temp = instance.makeSpan\n",
    "        vect = exploration_voisinage_inversion(l)\n",
    "        it =iter(vect)\n",
    "    step += 1\n"
   ]
  },
  {
   "cell_type": "code",
   "execution_count": null,
   "metadata": {
    "pycharm": {
     "is_executing": true
    }
   },
   "outputs": [],
   "source": [
    "graph.nodes.data()\n"
   ]
  },
  {
   "cell_type": "code",
   "execution_count": null,
   "metadata": {
    "pycharm": {
     "is_executing": true
    }
   },
   "outputs": [],
   "source": [
    "graph.nodes.data()\n",
    "test=[]\n",
    "d = dict(graph.nodes.data())\n",
    "for v in d.values():\n",
    "    print(v)\n",
    "    for vv in v.values():\n",
    "        print(vv)\n",
    "        test.append(vv)\n"
   ]
  },
  {
   "cell_type": "code",
   "execution_count": null,
   "metadata": {
    "pycharm": {
     "is_executing": true
    }
   },
   "outputs": [],
   "source": [
    "\n",
    "pos = nx.shell_layout(graph)\n",
    "d = dict(graph.nodes.data())\n",
    "nx.draw(graph, pos,with_labels =True, node_color=range(graph.number_of_nodes()),\n",
    "        edge_color=range(graph.number_of_edges()),\n",
    "        width=4, edge_cmap=plt.cm.viridis,\n",
    "        node_size=[i**2 for i in test], cmap=plt.cm.viridis)\n",
    "plt.show()"
   ]
  },
  {
   "cell_type": "code",
   "execution_count": null,
   "metadata": {
    "pycharm": {
     "is_executing": true
    }
   },
   "outputs": [],
   "source": [
    "plot_gantt(instance, by=\"JOB\", grouping=False)"
   ]
  },
  {
   "cell_type": "code",
   "execution_count": null,
   "metadata": {
    "pycharm": {
     "is_executing": true
    }
   },
   "outputs": [],
   "source": [
    "for j in instance.jobs_list:\n",
    "    print(j)"
   ]
  },
  {
   "cell_type": "code",
   "execution_count": null,
   "metadata": {
    "pycharm": {
     "is_executing": true
    }
   },
   "outputs": [],
   "source": [
    "liste = affichage_repetition(inst)"
   ]
  },
  {
   "cell_type": "code",
   "execution_count": null,
   "metadata": {
    "pycharm": {
     "is_executing": true
    }
   },
   "outputs": [],
   "source": []
  },
  {
   "cell_type": "code",
   "execution_count": null,
   "metadata": {
    "pycharm": {
     "is_executing": true
    }
   },
   "outputs": [],
   "source": [
    "i.makeSpan"
   ]
  },
  {
   "cell_type": "code",
   "execution_count": null,
   "metadata": {
    "pycharm": {
     "is_executing": true
    }
   },
   "outputs": [],
   "source": [
    "instance =Instance(**data)\n",
    "alloc_avec_liste(instance,liste)\n",
    "\n",
    "plot_gantt(instance)\n"
   ]
  },
  {
   "cell_type": "code",
   "execution_count": null,
   "metadata": {
    "pycharm": {
     "is_executing": true
    },
    "scrolled": true
   },
   "outputs": [],
   "source": [
    "for j in i.jobs_list:\n",
    "    print(j)"
   ]
  },
  {
   "cell_type": "code",
   "execution_count": null,
   "metadata": {
    "pycharm": {
     "is_executing": true
    }
   },
   "outputs": [],
   "source": [
    "liste"
   ]
  },
  {
   "cell_type": "code",
   "execution_count": null,
   "metadata": {
    "pycharm": {
     "is_executing": true
    }
   },
   "outputs": [],
   "source": []
  },
  {
   "cell_type": "code",
   "execution_count": null,
   "metadata": {
    "pycharm": {
     "is_executing": true,
     "name": "#%%\n"
    }
   },
   "outputs": [],
   "source": [
    "for j in instance.jobs_list:\n",
    "    print(j)"
   ]
  },
  {
   "cell_type": "code",
   "execution_count": null,
   "metadata": {
    "pycharm": {
     "is_executing": true,
     "name": "#%%\n"
    }
   },
   "outputs": [],
   "source": [
    "plot_gantt(instance, by='MACHINE', grouping =False)"
   ]
  },
  {
   "cell_type": "code",
   "execution_count": null,
   "metadata": {
    "pycharm": {
     "is_executing": true
    }
   },
   "outputs": [],
   "source": [
    "liste = affichage_repetition(inst)\n",
    "liste\n"
   ]
  },
  {
   "cell_type": "code",
   "execution_count": null,
   "metadata": {
    "pycharm": {
     "is_executing": true
    }
   },
   "outputs": [],
   "source": [
    "liste = affichage_repetition(instance)\n",
    "liste\n"
   ]
  },
  {
   "cell_type": "code",
   "execution_count": null,
   "metadata": {
    "pycharm": {
     "is_executing": true
    }
   },
   "outputs": [],
   "source": []
  },
  {
   "cell_type": "code",
   "execution_count": null,
   "metadata": {
    "pycharm": {
     "is_executing": true
    }
   },
   "outputs": [],
   "source": []
  },
  {
   "cell_type": "code",
   "execution_count": null,
   "metadata": {
    "pycharm": {
     "is_executing": true,
     "name": "#%%\n"
    }
   },
   "outputs": [],
   "source": [
    "dfs = pd.DataFrame(test)\n",
    "dfs"
   ]
  },
  {
   "cell_type": "code",
   "execution_count": null,
   "metadata": {
    "pycharm": {
     "is_executing": true,
     "name": "#%%\n"
    }
   },
   "outputs": [],
   "source": [
    "compt = 0\n",
    "minRND = 100000    \n",
    "inst2 = Instance(**data)\n",
    "totalSPT = heuristique_gloutone(inst2, verbose = 0, prio =\"SPT\" , rnd = 0)\n",
    "minSPT = totalSPT\n",
    "\n",
    "for i in range(100):\n",
    "    inst = Instance(**data)\n",
    "    totalRND = heuristique_gloutone(inst, verbose = 0, prio =\"SPT\" , rnd = 1)\n",
    "    if totalRND < minRND :\n",
    "        minRND = totalRND\n",
    "    \n",
    "    if totalRND > totalSPT:\n",
    "        compt += 1\n",
    "        \n",
    "print(\"RND perd\", compt,\"/\", len(range(100)))\n",
    "print(\"RND gagne\", len(range(100)) - compt,\"/\", len(range(100)))\n",
    "print(\"Optimium\", optimum)\n",
    "print(\"minRND\", minRND)\n",
    "print(\"minSPT\", minSPT)"
   ]
  },
  {
   "cell_type": "code",
   "execution_count": null,
   "metadata": {
    "pycharm": {
     "is_executing": true,
     "name": "#%%\n"
    }
   },
   "outputs": [],
   "source": []
  },
  {
   "cell_type": "code",
   "execution_count": null,
   "metadata": {
    "pycharm": {
     "is_executing": true,
     "name": "#%%\n"
    }
   },
   "outputs": [],
   "source": [
    "plot_gantt(inst2, by= \"JOB\", grouping = True)"
   ]
  },
  {
   "cell_type": "code",
   "execution_count": null,
   "metadata": {
    "pycharm": {
     "is_executing": true,
     "name": "#%%\n"
    }
   },
   "outputs": [],
   "source": []
  },
  {
   "cell_type": "code",
   "execution_count": null,
   "metadata": {
    "pycharm": {
     "is_executing": true,
     "name": "#%%\n"
    }
   },
   "outputs": [],
   "source": [
    "import numpy as np\n",
    "a = np.array(a)\n",
    "b = a[:,0]"
   ]
  },
  {
   "cell_type": "code",
   "execution_count": null,
   "metadata": {
    "pycharm": {
     "is_executing": true,
     "name": "#%%\n"
    }
   },
   "outputs": [],
   "source": [
    "        task_list = sorted(task_list.items(), key=lambda x: x[1][2])\n",
    "\n",
    "a[:]"
   ]
  },
  {
   "cell_type": "code",
   "execution_count": null,
   "metadata": {
    "pycharm": {
     "is_executing": true,
     "name": "#%%\n"
    }
   },
   "outputs": [],
   "source": [
    "list(b)"
   ]
  },
  {
   "cell_type": "code",
   "execution_count": null,
   "metadata": {
    "pycharm": {
     "is_executing": true,
     "name": "#%%\n"
    }
   },
   "outputs": [],
   "source": [
    "v = [int(x[0][0]) for x in np.array(a)]\n",
    "\n"
   ]
  },
  {
   "cell_type": "code",
   "execution_count": null,
   "metadata": {
    "pycharm": {
     "is_executing": true,
     "name": "#%%\n"
    }
   },
   "outputs": [],
   "source": [
    "l = affichage_repetition(inst)"
   ]
  },
  {
   "cell_type": "code",
   "execution_count": null,
   "metadata": {
    "pycharm": {
     "is_executing": true,
     "name": "#%%\n"
    }
   },
   "outputs": [],
   "source": [
    "int(True)"
   ]
  },
  {
   "cell_type": "code",
   "execution_count": null,
   "metadata": {
    "pycharm": {
     "is_executing": true,
     "name": "#%%\n"
    }
   },
   "outputs": [],
   "source": [
    "\n"
   ]
  }
 ],
 "metadata": {
  "kernelspec": {
   "display_name": "Python 3",
   "language": "python",
   "name": "python3"
  },
  "language_info": {
   "codemirror_mode": {
    "name": "ipython",
    "version": 3
   },
   "file_extension": ".py",
   "mimetype": "text/x-python",
   "name": "python",
   "nbconvert_exporter": "python",
   "pygments_lexer": "ipython3",
   "version": "3.7.6"
  },
  "pycharm": {
   "stem_cell": {
    "cell_type": "raw",
    "source": [],
    "metadata": {
     "collapsed": false
    }
   }
  }
 },
 "nbformat": 4,
 "nbformat_minor": 4
}