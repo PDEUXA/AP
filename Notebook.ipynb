{
 "cells": [
  {
   "cell_type": "code",
   "execution_count": 1,
   "metadata": {
    "pycharm": {
     "is_executing": false,
     "name": "#%%\n"
    }
   },
   "outputs": [],
   "source": [
    "import hashlib\n",
    "import json\n",
    "from heuristique.genetique import *\n",
    "from objects.population import Population\n",
    "from objects.solution import Solution\n",
    "from script.utils import sort_task, decodage_gene\n",
    "from objects.instance import Instance\n",
    "from script.affichage import plot_gantt, net_voisinage\n",
    "from script.data import loader \n",
    "import numpy as np\n",
    "import networkx as nx \n",
    "import copy\n",
    "import matplotlib.pyplot as plt\n",
    "import random\n",
    "from heuristique.heuristique_gloutonne import heuristique_gloutone\n",
    "from heuristique.ordo_avec_liste import alloc_avec_liste, allocation_dispomachine_ASAP,decodage_bier\n",
    "from script.utils import vecteur_bier\n",
    "from script.recherche_voisin import *\n",
    "\n",
    "data, optimum= loader('ft10')\n",
    "meth = [inversion_all, decalage_all, permutation_by_2_all]\n"
   ]
  },
  {
   "cell_type": "code",
   "execution_count": null,
   "metadata": {
    "pycharm": {
     "is_executing": true,
     "name": "#%%\n"
    }
   },
   "outputs": [
    {
     "name": "stdout",
     "output_type": "stream",
     "text": [
      "Géneration:  0\n",
      "==========================Nouvel elite !==========================\n",
      "ID: 1-d4e3//c46f/174d, Pere: 0-c46f-A&E , Mere: 0-174d-A&E , Cout: 1359, Proba: 1.6 %\n",
      "Facteur demuta: 0.04\n",
      "Géneration:  1\n",
      "Géneration:  2\n",
      "==========================Nouvel elite !==========================\n",
      "ID: 3-d4de//7a94/5bd7, Pere: 2-7a94//010b/7aeb, Mere: 2-5bd7//7a70/7aeb, Cout: 1316, Proba: 1.6 %\n",
      "Facteur demuta: 0.12000000000000002\n",
      "Géneration:  3\n",
      "==========================Nouvel elite !==========================\n",
      "ID: 3-c117//d69f/5bd7, Pere: 2-d69f//7be7/d09b, Mere: 2-5bd7//7a70/7aeb, Cout: 1310, Proba: 1.6 %\n",
      "Facteur demuta: 0.12000000000000002\n",
      "Géneration:  4\n",
      "==========================Nouvel elite !==========================\n",
      "ID: 4-af6a//c117/d4de, Pere: 3-c117//d69f/5bd7, Mere: 3-d4de//7a94/5bd7, Cout: 1255, Proba: 1.6 %\n",
      "Facteur demuta: 0.12000000000000002\n",
      "Géneration:  5\n",
      "Géneration:  6\n",
      "==========================Nouvel elite !==========================\n",
      "ID: 7-aec1//07fa/8fdf, Pere: 6-07fa//d4de/8fdf, Mere: 5-8fdf//d4de/6eca, Cout: 1227, Proba: 1.6 %\n",
      "Facteur demuta: 0.12000000000000002\n",
      "Géneration:  7\n",
      "Géneration:  8\n",
      "Géneration:  9\n",
      "==========================Nouvel elite !==========================\n",
      "ID: 10-0262//0e2c/52a6, Pere: 9-0e2c//a7fe/aec1, Mere: 9-52a6//eb7e/a453, Cout: 1225, Proba: 1.6 %\n",
      "Facteur demuta: 0.2\n",
      "Géneration:  10\n",
      "==========================Nouvel elite !==========================\n",
      "ID: 11-588f//aec1/0262, Pere: 10-aec1//aec1/0e2c, Mere: 10-0262//0e2c/52a6, Cout: 1196, Proba: 1.6 %\n",
      "Facteur demuta: 0.2\n",
      "Géneration:  11\n",
      "Géneration:  12\n",
      "==========================Nouvel elite !==========================\n",
      "ID: 13-1ad7//588f/9b95, Pere: 11-588f//aec1/0262, Mere: 12-9b95//aec1/1e9f, Cout: 1188, Proba: 1.6 %\n",
      "Facteur demuta: 0.12000000000000002\n",
      "Géneration:  13\n",
      "==========================Nouvel elite !==========================\n",
      "ID: 14-78a7//1ad7/aec1, Pere: 13-1ad7//588f/9b95, Mere: 13-aec1//aec1/aec1, Cout: 1182, Proba: 1.6 %\n",
      "Facteur demuta: 0.12000000000000002\n",
      "Géneration:  14\n",
      "Géneration:  15\n",
      "==========================Nouvel elite !==========================\n",
      "ID: 16-c680//8e79/6c05, Pere: 15-8e79//78a7/1ad7, Mere: 15-6c05//588f/78a7, Cout: 1177, Proba: 1.6 %\n",
      "Facteur demuta: 0.12000000000000002\n",
      "Géneration:  16\n",
      "Géneration:  17\n",
      "Géneration:  18\n",
      "Géneration:  19\n",
      "Géneration:  20\n",
      "Géneration:  21\n",
      "Géneration:  22\n",
      "==========================Nouvel elite !==========================\n",
      "ID: 23-ff4e//ff4e/deb3(m), Pere: 22-ff4e//e38b/c680, Mere: 22-deb3//3503/0cd6, Cout: 1156, Proba: 1.6 %\n",
      "Facteur demuta: 0.52\n",
      "Géneration:  23\n",
      "Géneration:  24\n",
      "Géneration:  25\n",
      "Géneration:  26\n",
      "Géneration:  27\n",
      "Géneration:  28\n",
      "Géneration:  29\n",
      "Géneration:  30\n",
      "==========================Nouvel elite !==========================\n",
      "ID: 31-72e9//f258/7129(m), Pere: 30-f258//f258/7e81, Mere: 30-7129//be3c/4d1b, Cout: 1154, Proba: 1.6 %\n",
      "Facteur demuta: 0.6\n",
      "Géneration:  31\n",
      "==========================Nouvel elite !==========================\n",
      "ID: 32-018f//4bf3/be3c(m), Pere: 31-4bf3//e0fc/ff4e, Mere: 31-be3c//be3c/1eb5, Cout: 1145, Proba: 1.6 %\n",
      "Facteur demuta: 0.6\n",
      "Géneration:  32\n",
      "Géneration:  33\n",
      "==========================Nouvel elite !==========================\n",
      "ID: 34-7988//415f/62b7, Pere: 33-415f//f7fc/72e9, Mere: 32-62b7//f520/5e4a, Cout: 1144, Proba: 1.6 %\n",
      "Facteur demuta: 0.12000000000000002\n",
      "Géneration:  34\n",
      "Géneration:  35\n",
      "Géneration:  36\n",
      "Géneration:  37\n",
      "Géneration:  38\n",
      "Géneration:  39\n",
      "Géneration:  40\n",
      "Géneration:  41\n",
      "Géneration:  42\n",
      "==========================Nouvel elite !==========================\n",
      "ID: 43-38a6//7988/c249(m), Pere: 42-7988//7988/2009, Mere: 42-c249//c249/2c04, Cout: 1130, Proba: 1.6 %\n",
      "Facteur demuta: 0.68\n",
      "Géneration:  43\n"
     ]
    }
   ],
   "source": [
    "pop = Population(**data)\n",
    "main_genetique(pop, data, 25,100,780)\n"
   ]
  },
  {
   "cell_type": "code",
   "execution_count": null,
   "metadata": {
    "pycharm": {
     "is_executing": true,
     "name": "#%%\n"
    }
   },
   "outputs": [],
   "source": []
  },
  {
   "cell_type": "code",
   "execution_count": null,
   "metadata": {
    "pycharm": {
     "is_executing": true
    }
   },
   "outputs": [],
   "source": [
    "from script.recherche_voisin import exploration_voisinage, inversion_all, permutation_random\n",
    "\n",
    "b=exploration_voisinage(instance , data)"
   ]
  },
  {
   "cell_type": "code",
   "execution_count": null,
   "metadata": {
    "pycharm": {
     "is_executing": true
    }
   },
   "outputs": [],
   "source": [
    "net_voisinage(b)\n",
    "\n",
    "\n",
    "#\n",
    " "
   ]
  },
  {
   "cell_type": "code",
   "execution_count": null,
   "metadata": {
    "pycharm": {
     "is_executing": true,
     "name": "#%%\n"
    }
   },
   "outputs": [],
   "source": [
    "compt = 0\n",
    "minRND = 100000    \n",
    "inst2 = Instance(**data)\n",
    "totalSPT = heuristique_gloutone(inst2, verbose = 0, prio =\"SPT\" , rnd = 0)\n",
    "minSPT = totalSPT\n",
    "\n",
    "for i in range(100):\n",
    "    inst = Instance(**data)\n",
    "    totalRND = heuristique_gloutone(inst, verbose = 0, prio =\"SPT\" , rnd = 1)\n",
    "    if totalRND < minRND :\n",
    "        minRND = totalRND\n",
    "    \n",
    "    if totalRND > totalSPT:\n",
    "        compt += 1\n",
    "        \n",
    "print(\"RND perd\", compt,\"/\", len(range(100)))\n",
    "print(\"RND gagne\", len(range(100)) - compt,\"/\", len(range(100)))\n",
    "print(\"Optimium\", optimum)\n",
    "print(\"minRND\", minRND)\n",
    "print(\"minSPT\", minSPT)"
   ]
  },
  {
   "cell_type": "code",
   "execution_count": 15,
   "metadata": {
    "pycharm": {
     "is_executing": false,
     "name": "#%%\n"
    }
   },
   "outputs": [
    {
     "name": "stdout",
     "output_type": "stream",
     "text": [
      "ft06, rnd= 0 & 90.0 & 79.0 & 55 \\ \\\n",
      "\\hline\n",
      "ft06, rnd= 0.2 & 80.23 & 74.07 & 55 \\ \\\n",
      "\\hline\n",
      "ft06, rnd= 0.5 & 71.85 & 69.89 & 55 \\ \\\n",
      "\\hline\n",
      "ft06, rnd= 1 & 68.56 & 69.53 & 55 \\ \\\n",
      "\\hline\n",
      "ft10, rnd= 0 & 1075.0 & 1299.0 & 930 \\ \\\n",
      "\\hline\n",
      "ft10, rnd= 0.2 & 1150.35 & 1286.14 & 930 \\ \\\n",
      "\\hline\n",
      "ft10, rnd= 0.5 & 1199.6 & 1275.38 & 930 \\ \\\n",
      "\\hline\n",
      "ft10, rnd= 1 & 1227.35 & 1240.99 & 930 \\ \\\n",
      "\\hline\n",
      "ft20, rnd= 0 & 1268.0 & 1633.0 & 1165 \\ \\\n",
      "\\hline\n",
      "ft20, rnd= 0.2 & 1339.6 & 1598.89 & 1165 \\ \\\n",
      "\\hline\n",
      "ft20, rnd= 0.5 & 1390.74 & 1581.68 & 1165 \\ \\\n",
      "\\hline\n",
      "ft20, rnd= 1 & 1528.92 & 1527.58 & 1165 \\ \\\n",
      "\\hline\n"
     ]
    }
   ],
   "source": [
    "l = ['ft']\n",
    "\n",
    "for e in l:        \n",
    "    with open('data/instances.json') as json_data:\n",
    "        data = json.load(json_data)\n",
    "        for i, f in enumerate(data):\n",
    "            if f['name'][:2] == e:\n",
    "                index = i\n",
    "                nb_machine = data[index]['machines']\n",
    "                nb_jobs = data[index]['jobs']\n",
    "                optimum = data[index]['optimum']\n",
    "                file = open(\"data/instances/\" + f['name'], \"r\")\n",
    "                tab = []\n",
    "                for i, line in enumerate(file):\n",
    "                    if e[:2]== 'ta':\n",
    "                        if i > 0:\n",
    "                            tab.append([int(e) for e in line.split()])\n",
    "                    else:\n",
    "                        if i > 4:\n",
    "                            tab.append([int(e) for e in line.split()])\n",
    "                \n",
    "                datas, optimum = {\"nb_machine\":nb_machine, \"nb_jobs\":nb_jobs, \"problem\":tab}, optimum\n",
    "                moy1= 0\n",
    "                moy2 = 0\n",
    "                li = [0, 0.2,0.5,1]\n",
    "                for j in li:\n",
    "                    moy1= 0\n",
    "                    moy2 = 0\n",
    "                    for i in range(100):\n",
    "                        inststp = Instance(**datas)\n",
    "                        heuristique_gloutone(inststp,'SPT',rnd=j)\n",
    "    \n",
    "                        moy1 += inststp.makeSpan\n",
    "                        \n",
    "                        instltp = Instance(**datas)\n",
    "                        heuristique_gloutone(instltp,'LPT',rnd=j)\n",
    "                        moy2 += instltp.makeSpan\n",
    "    \n",
    "                    print(f['name'] + ', rnd= ' +str(j),'&',moy1/100,'&',moy2/100,'&',optimum,'\\\\','\\\\')\n",
    "                    print('\\hline')"
   ]
  },
  {
   "cell_type": "code",
   "execution_count": null,
   "metadata": {
    "pycharm": {
     "is_executing": true,
     "name": "#%%\n"
    }
   },
   "outputs": [],
   "source": [
    "\n"
   ]
  },
  {
   "cell_type": "code",
   "execution_count": null,
   "metadata": {
    "pycharm": {
     "is_executing": true,
     "name": "#%%\n"
    }
   },
   "outputs": [],
   "source": [
    "\n"
   ]
  },
  {
   "cell_type": "code",
   "execution_count": 2,
   "metadata": {
    "pycharm": {
     "is_executing": false,
     "name": "#%%\n"
    }
   },
   "outputs": [],
   "source": []
  },
  {
   "cell_type": "code",
   "execution_count": 5,
   "metadata": {
    "pycharm": {
     "is_executing": false,
     "name": "#%%\n"
    }
   },
   "outputs": [
    {
     "name": "stdout",
     "output_type": "stream",
     "text": [
      "Root:  8c24 Voisinage:  c90f  ,makeSpan:  66 / 88  ,écart:  0.25\n",
      "[1 1 1 0 5 0 2 3 5 2 4 5 0 3 0 1 2 3 5 3 1 4 0 3 2 3 5 2 5 4 4 0 4 2 4 1]\n",
      "Root:  c90f Voisinage:  88f6  ,makeSpan:  61 / 66  ,écart:  0.07575757575757576\n",
      "[1 1 1 0 5 0 2 3 5 2 4 5 0 3 0 1 2 3 5 4 1 4 0 3 2 3 5 2 5 4 4 0 3 2 4 1]\n",
      "Root:  88f6 Voisinage:  372a  ,makeSpan:  59 / 61  ,écart:  0.03278688524590164\n",
      "[2 1 1 0 5 0 2 3 5 2 4 5 0 3 0 1 2 3 5 4 1 4 0 3 1 3 5 2 5 4 4 0 3 2 4 1]\n",
      "Root:  372a Voisinage:  7be6  ,makeSpan:  57 / 59  ,écart:  0.03389830508474576\n",
      "[2 1 3 0 5 0 2 1 5 2 4 5 0 3 0 1 2 3 5 4 1 4 0 3 1 3 5 2 5 4 4 0 3 2 4 1]\n",
      "Root:  7be6 Voisinage:  bae5  ,makeSpan:  56 / 57  ,écart:  0.017543859649122806\n",
      "[2 1 3 0 5 0 2 1 5 2 4 5 3 3 0 1 2 3 5 4 1 4 0 3 1 0 5 2 5 4 4 0 3 2 4 1]\n",
      "Root:  bae5 Voisinage:  00c3  ,makeSpan:  55 / 56  ,écart:  0.017857142857142856\n",
      "[2 1 3 0 5 0 2 1 5 2 4 5 3 3 0 1 2 3 5 4 1 4 0 3 1 0 5 2 5 1 4 0 3 2 4 4]\n",
      "Root:  00c3 Voisinage:  1ca0  ,makeSpan:  55 / 55  ,écart:  0.0\n",
      "[2 1 3 0 5 0 2 1 5 2 4 5 4 3 0 1 2 3 5 4 1 3 0 3 1 0 5 2 5 1 4 0 3 2 4 4]\n",
      "Stagnation du makespan\n",
      "3.9161593914031982\n"
     ]
    }
   ],
   "source": [
    "data, optimum= loader('ft06')\n",
    "instltp = Instance(**data)\n",
    "heuristique_gloutone(instltp, prio = 'SPT')\n",
    "liste= vecteur_bier(instltp)\n",
    "temps1 = time.time()\n",
    "sol = Solution(data, liste, root= \"None\")\n",
    "g = exploration_voisinage(sol, data, n = 1 , max_depth = 60)\n",
    "temps2 = time.time()\n",
    "print(temps2-temps1)"
   ]
  },
  {
   "cell_type": "code",
   "execution_count": 6,
   "metadata": {
    "pycharm": {
     "is_executing": false,
     "name": "#%%\n"
    }
   },
   "outputs": [
    {
     "name": "stdout",
     "output_type": "stream",
     "text": [
      "Root:  3b6d Voisinage:  d4c8  ,makeSpan:  1038 / 1074  ,écart:  0.0335195530726257\n",
      "[0 4 6 7 4 1 5 4 0 4 6 6 8 1 5 3 5 4 7 4 5 0 6 8 3 6 1 4 6 4 6 0 5 7 8 3 4\n",
      " 7 9 6 0 3 1 4 0 1 5 2 8 9 6 9 0 5 8 7 1 0 9 3 9 6 2 5 8 0 9 5 8 5 2 3 7 8\n",
      " 2 0 9 7 1 9 3 8 2 9 1 3 2 7 7 8 2 2 7 3 1 3 9 1 2 2]\n",
      "Root:  d4c8 Voisinage:  269b  ,makeSpan:  1028 / 1038  ,écart:  0.009633911368015413\n",
      "[0 4 6 7 4 1 5 4 0 4 4 6 8 1 5 3 5 4 7 6 5 0 6 8 3 6 1 4 6 4 6 0 5 7 8 3 4\n",
      " 7 9 6 0 3 1 4 0 1 5 2 8 9 6 9 0 5 8 7 1 0 9 3 9 6 2 5 8 0 9 5 8 5 2 3 7 8\n",
      " 2 0 9 7 1 9 3 8 2 9 1 3 2 7 7 8 2 2 7 3 1 3 9 1 2 2]\n",
      "Root:  269b Voisinage:  80b7  ,makeSpan:  1025 / 1028  ,écart:  0.0029182879377431907\n",
      "[0 4 6 7 4 1 5 4 0 4 4 6 8 1 5 3 5 4 7 6 5 0 6 8 3 6 1 4 6 4 6 0 5 7 8 3 4\n",
      " 7 9 6 0 3 1 4 0 1 5 2 8 9 6 9 0 5 8 7 1 0 9 3 9 6 2 5 8 0 9 5 8 5 2 3 7 8\n",
      " 2 0 9 7 1 9 3 8 2 9 1 3 7 2 2 8 7 7 2 3 1 3 9 1 2 2]\n",
      "Root:  80b7 Voisinage:  07e0  ,makeSpan:  1005 / 1025  ,écart:  0.01951219512195122\n",
      "[0 4 6 7 4 1 5 4 0 4 4 6 8 1 5 3 5 4 7 6 5 0 6 8 3 6 1 4 6 4 6 0 5 7 8 3 4\n",
      " 7 9 6 0 3 1 4 0 1 5 2 8 9 6 9 0 5 8 7 1 0 9 3 9 6 2 5 3 0 9 5 8 5 2 3 7 8\n",
      " 2 0 9 7 1 9 3 8 2 9 1 8 7 2 2 8 7 7 2 3 1 3 9 1 2 2]\n",
      "Root:  07e0 Voisinage:  da0b  ,makeSpan:  997 / 1005  ,écart:  0.007960199004975124\n",
      "[0 4 6 7 4 1 5 4 0 4 4 6 8 1 5 3 6 4 7 6 5 0 5 8 3 6 1 4 6 4 6 0 5 7 8 3 4\n",
      " 7 9 6 0 3 1 4 0 1 5 2 8 9 6 9 0 5 8 7 1 0 9 3 9 6 2 5 3 0 9 5 8 5 2 3 7 8\n",
      " 2 0 9 7 1 9 3 8 2 9 1 8 7 2 2 8 7 7 2 3 1 3 9 1 2 2]\n",
      "Root:  da0b Voisinage:  719c  ,makeSpan:  997 / 997  ,écart:  0.0\n",
      "[0 4 6 7 4 1 5 4 0 4 4 6 8 1 5 3 6 4 7 6 5 0 5 8 3 6 1 4 6 4 6 0 5 7 8 3 4\n",
      " 7 9 6 0 3 1 4 0 1 5 0 9 6 9 8 2 5 8 7 1 0 9 3 9 6 2 5 3 0 9 5 8 5 2 3 7 8\n",
      " 2 0 9 7 1 9 3 8 2 9 1 8 7 2 2 8 7 7 2 3 1 3 9 1 2 2]\n",
      "Stagnation du makespan\n",
      "77.44545888900757\n"
     ]
    }
   ],
   "source": [
    "data, optimum= loader('ft10')\n",
    "instltp = Instance(**data)\n",
    "heuristique_gloutone(instltp, prio = 'SPT')\n",
    "liste= vecteur_bier(instltp)\n",
    "temps1 = time.time()\n",
    "sol = Solution(data, liste, root= \"None\")\n",
    "g = exploration_voisinage(sol, data, n = 1 , max_depth = 60)\n",
    "temps2 = time.time()\n",
    "print(temps2-temps1)"
   ]
  },
  {
   "cell_type": "code",
   "execution_count": 9,
   "metadata": {
    "pycharm": {
     "is_executing": false,
     "name": "#%%\n"
    }
   },
   "outputs": [
    {
     "name": "stdout",
     "output_type": "stream",
     "text": [
      "Root:  17af Voisinage:  b50a  ,makeSpan:  1267 / 1267  ,écart:  0.0\n",
      "[ 4 14 15  6 19  7  0  5 16 19  0  4  1  7  4 16  5  0  4  7  4 16  7  6\n",
      " 19  0 14  7  8 18  6 19  0 11  6 12 19  1  8  6 18  5 11 10 17  1 12 14\n",
      " 11 10 18  1 12  5 17 11  1 14 13 10  8 17 15 12 13  9  3 14 10 11  8  3\n",
      " 12  5 15 10 16  2  9  3  8 17 15 18  9 13  3 16  2  9 18 15  3  2 17  9\n",
      " 13  2 13  2]\n",
      "Root:  17af Voisinage:  3db4  ,makeSpan:  1267 / 1267  ,écart:  0.0\n",
      "[ 4 14 15  6 19  7  0  5 16 19  0  4  1  7  4 16  5  0  4  7  4 16  7  6\n",
      " 19  0 14  7  8 18  6 19  0 11  6 12 19  1  8  6 18  5 11 10 17  1 12 14\n",
      " 11 10 18  1 12  5 17 11  1 14 10 15  5 12  3  8 11 10 14  3  9 13 12 15\n",
      "  9  8 10 13 16  2 17  3  8 17 15 18  9 13  3 16  2  9 18 15  3  2 17  9\n",
      " 13  2 13  2]\n",
      "Root:  17af Voisinage:  8960  ,makeSpan:  1267 / 1267  ,écart:  0.0\n",
      "[ 4 14 15  6 19  7  0  5 16 19  0  4  1  7  4 16  5  0  4  7  4 16  7  6\n",
      " 19  0 14  7  8 18  6 19  0 11  6 12 19  1  8  6 18  5 11 10 17  1 12 14\n",
      " 11 10 18  1 12  5 17 11  1 14 10 15  5 12  3  8 11 10 14  3  9 13 12 15\n",
      " 17  8 10 13 16  2  9  3  8 17  9 18 15 13  3 16  2  9 18 15  3  2 17  9\n",
      " 13  2 13  2]\n",
      "Root:  17af Voisinage:  9351  ,makeSpan:  1267 / 1267  ,écart:  0.0\n",
      "[ 4 14 15  6 19  7  0  5 16 19  0  4  1  7  4 16  5  0  4  7  4 16  7  6\n",
      " 19  0 14  7  8 18  6 19  0 11  6 12 19  1  8  6 18  5 11 10 17  1 12 14\n",
      " 11 10 18  1 12  5 17 11  1 14 10 15  5 12  3  8 11 10 14  3  9 13 12  9\n",
      " 17  8 10 13 16  2  9  3  8 17 15 18  9 13  3 16  2 15 18 15  3  2 17  9\n",
      " 13  2 13  2]\n",
      "Root:  17af Voisinage:  67c6  ,makeSpan:  1267 / 1267  ,écart:  0.0\n",
      "[ 4 14 15  6 19  7  0  5 16 19  0  4  1  7  4 16  5  0  4  7  4 16  7  6\n",
      " 19  0 14  7  8 18  6 19  0 11  6 12 19  1  8  6 18  5 11 10 17  1 12 14\n",
      " 11 10 18  1 12  5 17 11  1 14 10 15  5 12  3  8 11 10 14  3  9 13 12 15\n",
      " 17  8 10 13 16  2  9  3  8 17 15 18  9 13  3 16  2  9 18 15  3  2 17  2\n",
      " 13  9 13  2]\n",
      "Root:  17af Voisinage:  c307  ,makeSpan:  1267 / 1267  ,écart:  0.0\n",
      "[ 4 14 15  6 19  7  0  5 16 19  0  4  1  7  4 16  5  0  4  7  4 16  7  6\n",
      " 19  0 14  7  8 18  6 19  0 11  6 12 19  1  8  6 18  5 11 10 17  1 12 14\n",
      " 11 10 18  1 12  5 17 11 10 14 10 15  5 12  3  8 11 10 14  3  9 13 12 15\n",
      " 17  8  1 13 16  2  9  3  8 17 15 18  9 13  3 16  2  9 18 15  3  2 17  9\n",
      " 13  2 13  2]\n",
      "Root:  17af Voisinage:  1044  ,makeSpan:  1267 / 1267  ,écart:  0.0\n",
      "[ 4 14 15  6 19  7  0  4  0 19 16  5  1  7  4 16  5  0  4  7  4 16  7  6\n",
      " 19  0 14  7  8 18  6 19  0 11  6 12 19  1  8  6 18  5 11 10 17  1 12 14\n",
      " 11 10 18  1 12  5 17 11  1 14 10 15  5 12  3  8 11 10 14  3  9 13 12 15\n",
      " 17  8 10 13 16  2  9  3  8 17 15 18  9 13  3 16  2  9 18 15  3  2 17  9\n",
      " 13  2 13  2]\n",
      "Root:  17af Voisinage:  17af  ,makeSpan:  1267 / 1267  ,écart:  0.0\n",
      "[ 4 14 15  6 19  7  0  5 16 19  0  4  1  7  4 16  5  0  4  7  4 16  7  6\n",
      " 19  0 14  7  8 18  6 19  0 11  6 12 19  1  8  6 18  5 11 10 17  1 12 14\n",
      " 11 10 18  1 12  5 17 11  1 14 10 15  5 12  3  8 11 10 14  3  9 13 12 15\n",
      " 17  8 10 13 16  2  9  3  8 17 15 18  9 13  3 16  2  9 18 15  3  2 17  9\n",
      " 13  2 13  2]\n",
      "Root:  17af Voisinage:  edcd  ,makeSpan:  1267 / 1267  ,écart:  0.0\n",
      "[ 4 14 15  6 19  7  0  5 16 19  0  4  1  7  4 16  5  0  4  7  4 16  7  6\n",
      " 19  0 14  7  8 18  6 19  0 11  6 12 19  1  8  6 18  5 11 10 17  1 12 14\n",
      " 11 10 18 14 12  5 17 11  1 14 10 15  5 12  3  8 11 10  1  3  9 13 12 15\n",
      " 17  8 10 13 16  2  9  3  8 17 15 18  9 13  3 16  2  9 18 15  3  2 17  9\n",
      " 13  2 13  2]\n",
      "Root:  17af Voisinage:  28db  ,makeSpan:  1267 / 1267  ,écart:  0.0\n",
      "[ 4 14 15  6 19  7  0  7  1  4  0 19 16  5  4 16  5  0  4  7  4 16  7  6\n",
      " 19  0 14  7  8 18  6 19  0 11  6 12 19  1  8  6 18  5 11 10 17  1 12 14\n",
      " 11 10 18  1 12  5 17 11  1 14 10 15  5 12  3  8 11 10 14  3  9 13 12 15\n",
      " 17  8 10 13 16  2  9  3  8 17 15 18  9 13  3 16  2  9 18 15  3  2 17  9\n",
      " 13  2 13  2]\n",
      "Stagnation du makespan\n",
      "24.21256685256958\n"
     ]
    }
   ],
   "source": [
    "data, optimum= loader('ft20')\n",
    "instltp = Instance(**data)\n",
    "heuristique_gloutone(instltp, prio = 'SPT')\n",
    "liste= vecteur_bier(instltp)\n",
    "temps1 = time.time()\n",
    "sol = Solution(data, liste, root= \"None\")\n",
    "g = exploration_voisinage(sol, data, n = 10 , max_depth = 60)\n",
    "temps2 = time.time()\n",
    "print(temps2-temps1)"
   ]
  },
  {
   "cell_type": "code",
   "execution_count": null,
   "metadata": {},
   "outputs": [],
   "source": []
  }
 ],
 "metadata": {
  "kernelspec": {
   "display_name": "Python 3",
   "language": "python",
   "name": "python3"
  },
  "language_info": {
   "codemirror_mode": {
    "name": "ipython",
    "version": 3
   },
   "file_extension": ".py",
   "mimetype": "text/x-python",
   "name": "python",
   "nbconvert_exporter": "python",
   "pygments_lexer": "ipython3",
   "version": "3.7.6"
  },
  "pycharm": {
   "stem_cell": {
    "cell_type": "raw",
    "metadata": {
     "collapsed": false
    },
    "source": []
   }
  }
 },
 "nbformat": 4,
 "nbformat_minor": 4
}
