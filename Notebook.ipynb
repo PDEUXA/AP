{
 "cells": [
  {
   "cell_type": "code",
   "execution_count": 1,
   "outputs": [],
   "source": [
    "from objects.instance import Instance\n",
    "from script.data import loader "
   ],
   "metadata": {
    "collapsed": false,
    "pycharm": {
     "name": "#%%\n",
     "is_executing": false
    }
   }
  },
  {
   "cell_type": "code",
   "execution_count": 2,
   "outputs": [],
   "source": [
    "data = loader('la01')\n",
    "inst = Instance(**data)"
   ],
   "metadata": {
    "collapsed": false,
    "pycharm": {
     "name": "#%%\n",
     "is_executing": false
    }
   }
  },
  {
   "cell_type": "code",
   "execution_count": 3,
   "outputs": [],
   "source": [
    "# Recherche des taches possibles à t\n",
    "t=0\n",
    "def recherche_tach(inst,t):\n",
    "    tache = []\n",
    "    for j in inst.jobs_list:\n",
    "        if j.current_task.machine.state==\"Free\":\n",
    "            tache.append(j.current_task)\n",
    "    \n",
    "    # prio\n",
    "    # Recherche du max\n",
    "    for k in range(len(tache)):\n",
    "        maxi = -1\n",
    "        for e in tache:\n",
    "            if e.duration > maxi:\n",
    "                if e.machine.state == \"Free\":\n",
    "                    maxi = e.duration\n",
    "                    maxi_task = e\n",
    "        \n",
    "        maxi_task.update_task_and_date(\"On going\",t)\n",
    "        maxi_task.machine.update_current_task(maxi_task)\n",
    "        maxi_task.job.update_all_task()\n",
    "        try:\n",
    "            tache.remove(maxi_task)\n",
    "        except:\n",
    "            pass\n",
    "    for j in inst.jobs_list:\n",
    "        j.update_all_task()"
   ],
   "metadata": {
    "collapsed": false,
    "pycharm": {
     "name": "#%%\n",
     "is_executing": false
    }
   }
  },
  {
   "cell_type": "code",
   "execution_count": 4,
   "outputs": [],
   "source": [
    "recherche_tach(inst,t)"
   ],
   "metadata": {
    "collapsed": false,
    "pycharm": {
     "name": "#%%\n",
     "is_executing": false
    }
   }
  },
  {
   "cell_type": "code",
   "execution_count": 5,
   "outputs": [
    {
     "name": "stdout",
     "text": [
      "Machine number = 0, State = Busy, Current Job = 4, Current Task = 0\n",
      "Machine number = 1, State = Busy, Current Job = 3, Current Task = 0\n",
      "Machine number = 2, State = Busy, Current Job = 7, Current Task = 0\n",
      "Machine number = 3, State = Busy, Current Job = 6, Current Task = 0\n",
      "Machine number = 4, State = Busy, Current Job = 9, Current Task = 0\n"
     ],
     "output_type": "stream"
    }
   ],
   "source": [
    "for res in inst.resource_list:\n",
    "    print(res)"
   ],
   "metadata": {
    "collapsed": false,
    "pycharm": {
     "name": "#%%\n",
     "is_executing": false
    }
   }
  },
  {
   "cell_type": "code",
   "execution_count": 6,
   "outputs": [
    {
     "name": "stdout",
     "text": [
      "true\n",
      "Task list\n",
      "Task # 0 : JobID= 7, taskID= 0, Start= 0, Finish=38, Machine= Machine number = 2, State = Busy, Current Job = 7, Current Task = 0, State= On going\n",
      "Task # 1 : JobID= 7, taskID= 1, Start= 0, Finish=60, Machine= Machine number = 0, State = Busy, Current Job = 4, Current Task = 0, State= Not Started\n",
      "Task # 2 : JobID= 7, taskID= 2, Start= 0, Finish=41, Machine= Machine number = 1, State = Busy, Current Job = 3, Current Task = 0, State= Not Started\n",
      "Task # 3 : JobID= 7, taskID= 3, Start= 0, Finish=24, Machine= Machine number = 3, State = Busy, Current Job = 6, Current Task = 0, State= Not Started\n",
      "Task # 4 : JobID= 7, taskID= 4, Start= 0, Finish=83, Machine= Machine number = 4, State = Busy, Current Job = 9, Current Task = 0, State= Not Started\n",
      "Job state= Not Done\n",
      "Task list\n",
      "Task # 0 : JobID= 7, taskID= 0, Start= 0, Finish=38, Machine= Machine number = 2, State = Free, Current Job = 7, Current Task = 0, State= Done\n",
      "Task # 1 : JobID= 7, taskID= 1, Start= 0, Finish=60, Machine= Machine number = 0, State = Busy, Current Job = 4, Current Task = 0, State= On going\n",
      "Task # 2 : JobID= 7, taskID= 2, Start= 0, Finish=41, Machine= Machine number = 1, State = Busy, Current Job = 3, Current Task = 0, State= Not Started\n",
      "Task # 3 : JobID= 7, taskID= 3, Start= 0, Finish=24, Machine= Machine number = 3, State = Busy, Current Job = 6, Current Task = 0, State= Not Started\n",
      "Task # 4 : JobID= 7, taskID= 4, Start= 0, Finish=83, Machine= Machine number = 4, State = Busy, Current Job = 9, Current Task = 0, State= Not Started\n",
      "Job state= Not Done\n"
     ],
     "output_type": "stream"
    }
   ],
   "source": [
    "for i in range(37,40):\n",
    "    for res in inst.resource_list:\n",
    "        if res.current_task.finishDate < i:\n",
    "            print(\"true\")\n",
    "            print(res.current_job)\n",
    "            res.state= \"Free\"\n",
    "            res.current_job.update_current_task(res.current_task.taskID+1)\n",
    "            res.current_task.update_task(\"Done\")\n",
    "            res.current_job.current_task.update_task(\"On going\")\n",
    "            print(res.current_job)\n",
    "\n",
    "            recherche_tach(inst,i)"
   ],
   "metadata": {
    "collapsed": false,
    "pycharm": {
     "name": "#%%\n",
     "is_executing": false
    }
   }
  },
  {
   "cell_type": "code",
   "execution_count": 7,
   "outputs": [
    {
     "name": "stdout",
     "text": [
      "Machine number = 0, State = Busy, Current Job = 4, Current Task = 0\n",
      "Machine number = 1, State = Busy, Current Job = 3, Current Task = 0\n",
      "Machine number = 2, State = Free, Current Job = 7, Current Task = 0\n",
      "Machine number = 3, State = Busy, Current Job = 6, Current Task = 0\n",
      "Machine number = 4, State = Busy, Current Job = 9, Current Task = 0\n"
     ],
     "output_type": "stream"
    }
   ],
   "source": [
    "for re in inst.resource_list:\n",
    "    print(re)"
   ],
   "metadata": {
    "collapsed": false,
    "pycharm": {
     "name": "#%%\n",
     "is_executing": false
    }
   }
  },
  {
   "cell_type": "code",
   "execution_count": null,
   "outputs": [],
   "source": [],
   "metadata": {
    "collapsed": false,
    "pycharm": {
     "name": "#%%\n"
    }
   }
  },
  {
   "cell_type": "code",
   "execution_count": null,
   "outputs": [],
   "source": [
    "    \n",
    "    # sélectionner l'opération (i,j) de plus grande priorité  \n",
    "\n",
    "\n"
   ],
   "metadata": {
    "collapsed": false,
    "pycharm": {
     "name": "#%%\n"
    }
   }
  },
  {
   "cell_type": "code",
   "execution_count": null,
   "outputs": [],
   "source": [
    "    \n",
    "    # sélectionner l'opération (i,j) de plus grande priorité  \n",
    "\n",
    "\n"
   ],
   "metadata": {
    "collapsed": false,
    "pycharm": {
     "name": "#%%\n"
    }
   }
  },
  {
   "cell_type": "code",
   "execution_count": null,
   "outputs": [],
   "source": [
    "    \n",
    "    # sélectionner l'opération (i,j) de plus grande priorité  \n",
    "\n",
    "\n"
   ],
   "metadata": {
    "collapsed": false,
    "pycharm": {
     "name": "#%%\n"
    }
   }
  },
  {
   "cell_type": "code",
   "execution_count": null,
   "outputs": [],
   "source": [
    "    \n",
    "    # sélectionner l'opération (i,j) de plus grande priorité  \n",
    "\n",
    "\n"
   ],
   "metadata": {
    "collapsed": false,
    "pycharm": {
     "name": "#%%\n"
    }
   }
  },
  {
   "cell_type": "code",
   "execution_count": null,
   "outputs": [],
   "source": [
    "    \n",
    "    # sélectionner l'opération (i,j) de plus grande priorité  \n",
    "\n",
    "\n"
   ],
   "metadata": {
    "collapsed": false,
    "pycharm": {
     "name": "#%%\n"
    }
   }
  },
  {
   "cell_type": "code",
   "execution_count": 9,
   "outputs": [],
   "source": [
    "    \n",
    "    # sélectionner l'opération (i,j) de plus grande priorité  \n",
    "\n",
    "\n"
   ],
   "metadata": {
    "collapsed": false,
    "pycharm": {
     "name": "#%%\n",
     "is_executing": false
    }
   }
  },
  {
   "cell_type": "code",
   "execution_count": 60,
   "outputs": [
    {
     "traceback": [
      "\u001b[0;31m---------------------------------------------------------------------------\u001b[0m",
      "\u001b[0;31mNameError\u001b[0m                                 Traceback (most recent call last)",
      "\u001b[0;32m<ipython-input-60-5378e6bd1edd>\u001b[0m in \u001b[0;36m<module>\u001b[0;34m\u001b[0m\n\u001b[1;32m      1\u001b[0m \u001b[0;31m# Se placer à une date t égale à la plus petite date de début des opérations\u001b[0m\u001b[0;34m\u001b[0m\u001b[0;34m\u001b[0m\u001b[0;34m\u001b[0m\u001b[0m\n\u001b[1;32m      2\u001b[0m \u001b[0mn_machine\u001b[0m\u001b[0;34m,\u001b[0m \u001b[0mn_job\u001b[0m\u001b[0;34m,\u001b[0m \u001b[0mdata\u001b[0m \u001b[0;34m=\u001b[0m \u001b[0mloader\u001b[0m\u001b[0;34m(\u001b[0m\u001b[0;34m'ft06'\u001b[0m\u001b[0;34m)\u001b[0m\u001b[0;34m\u001b[0m\u001b[0;34m\u001b[0m\u001b[0m\n\u001b[0;32m----> 3\u001b[0;31m \u001b[0mmachine\u001b[0m\u001b[0;34m,\u001b[0m \u001b[0mduration\u001b[0m \u001b[0;34m=\u001b[0m \u001b[0mseparate\u001b[0m\u001b[0;34m(\u001b[0m\u001b[0mdata\u001b[0m\u001b[0;34m)\u001b[0m\u001b[0;34m\u001b[0m\u001b[0;34m\u001b[0m\u001b[0m\n\u001b[0m\u001b[1;32m      4\u001b[0m \u001b[0mt\u001b[0m \u001b[0;34m=\u001b[0m \u001b[0;36m0\u001b[0m\u001b[0;34m\u001b[0m\u001b[0;34m\u001b[0m\u001b[0m\n\u001b[1;32m      5\u001b[0m \u001b[0;34m\u001b[0m\u001b[0m\n",
      "\u001b[0;31mNameError\u001b[0m: name 'separate' is not defined"
     ],
     "ename": "NameError",
     "evalue": "name 'separate' is not defined",
     "output_type": "error"
    }
   ],
   "source": [
    "    \n",
    "    # sélectionner l'opération (i,j) de plus grande priorité  \n",
    "\n",
    "\n"
   ],
   "metadata": {
    "collapsed": false,
    "pycharm": {
     "name": "#%%\n",
     "is_executing": false
    }
   }
  }
 ],
 "metadata": {
  "kernelspec": {
   "display_name": "Python 3",
   "language": "python",
   "name": "python3"
  },
  "language_info": {
   "codemirror_mode": {
    "name": "ipython",
    "version": 2
   },
   "file_extension": ".py",
   "mimetype": "text/x-python",
   "name": "python",
   "nbconvert_exporter": "python",
   "pygments_lexer": "ipython2",
   "version": "2.7.6"
  },
  "pycharm": {
   "stem_cell": {
    "cell_type": "raw",
    "source": [],
    "metadata": {
     "collapsed": false
    }
   }
  }
 },
 "nbformat": 4,
 "nbformat_minor": 0
}
