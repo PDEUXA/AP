{
 "cells": [
  {
   "cell_type": "code",
   "execution_count": 1,
   "outputs": [],
   "source": [
    "from objects.instance import Instance\n",
    "from script.affichage import plot_gantt\n",
    "from script.data import loader "
   ],
   "metadata": {
    "collapsed": false,
    "pycharm": {
     "name": "#%%\n",
     "is_executing": false
    }
   }
  },
  {
   "cell_type": "code",
   "execution_count": 7,
   "outputs": [],
   "source": [
    "from script.glouton import heuristique_gloutone\n",
    "data = loader('ft06')\n",
    "inst = Instance(**data)"
   ],
   "metadata": {
    "collapsed": false,
    "pycharm": {
     "name": "#%%\n",
     "is_executing": false
    }
   }
  },
  {
   "cell_type": "code",
   "execution_count": 8,
   "outputs": [
    {
     "data": {
      "text/plain": "69"
     },
     "metadata": {},
     "output_type": "execute_result",
     "execution_count": 8
    }
   ],
   "source": [
    "inst = Instance(**data)\n",
    "total = heuristique_gloutone(inst, verbose = 0, prio =\"SPT\" , rnd = 1)\n",
    "total"
   ],
   "metadata": {
    "collapsed": false,
    "pycharm": {
     "name": "#%%\n",
     "is_executing": false
    }
   }
  },
  {
   "cell_type": "code",
   "execution_count": 4,
   "outputs": [
    {
     "name": "stdout",
     "text": [
      "RND perd 100  sur 999\n",
      "RND gagne 899  sur 999\n"
     ],
     "output_type": "stream"
    }
   ],
   "source": [
    "compt = 0\n",
    "for i in range(100):\n",
    "    total = 0\n",
    "    total2 = 0\n",
    "    \n",
    "    inst2 = Instance(**data)\n",
    "    totalSPT = heuristique_gloutone(inst2, verbose = 0, prio =\"SPT\" , rnd = 0)\n",
    "    \n",
    "    \n",
    "    inst = Instance(**data)\n",
    "    totalRND = heuristique_gloutone(inst, verbose = 0, prio =\"SPT\" , rnd = 1)\n",
    "    \n",
    "    \n",
    "    if totalRND > totalSPT:\n",
    "        compt += 1\n",
    "        \n",
    "print(\"RND perd\", compt, \" sur 999\")\n",
    "print(\"RND gagne\", 999 - compt, \" sur 999\")"
   ],
   "metadata": {
    "collapsed": false,
    "pycharm": {
     "name": "#%%\n",
     "is_executing": false
    }
   }
  },
  {
   "cell_type": "code",
   "execution_count": 9,
   "outputs": [
    {
     "data": {
      "application/vnd.plotly.v1+json": {
       "config": {
        "plotlyServerURL": "https://plot.ly"
       },
       "data": [
        {
         "fill": "toself",
         "fillcolor": "rgb(127, 127, 127)",
         "hoverinfo": "name",
         "legendgroup": "rgb(127, 127, 127)",
         "mode": "none",
         "name": "Job #2",
         "showlegend": true,
         "type": "scatter",
         "x": [
          "0001-01-18T00:00:00",
          "0001-01-27T00:00:00",
          "0001-01-27T00:00:00",
          "0001-01-18T00:00:00",
          "0001-01-18T00:00:00",
          "0001-01-27T00:00:00",
          "0001-01-28T00:00:00",
          "0001-01-28T00:00:00",
          "0001-01-27T00:00:00",
          "0001-01-27T00:00:00",
          "0001-01-01T00:00:00",
          "0001-01-06T00:00:00",
          "0001-01-06T00:00:00",
          "0001-01-01T00:00:00",
          "0001-01-01T00:00:00",
          "0001-01-06T00:00:00",
          "0001-01-10T00:00:00",
          "0001-01-10T00:00:00",
          "0001-01-06T00:00:00",
          "0001-01-06T00:00:00",
          "0001-02-13T00:00:00",
          "0001-02-20T00:00:00",
          "0001-02-20T00:00:00",
          "0001-02-13T00:00:00",
          "0001-02-13T00:00:00",
          "0001-01-10T00:00:00",
          "0001-01-18T00:00:00",
          "0001-01-18T00:00:00",
          "0001-01-10T00:00:00"
         ],
         "y": [
          0.8,
          0.8,
          1.2,
          1.2,
          null,
          9.8,
          9.8,
          10.2,
          10.2,
          null,
          11.8,
          11.8,
          12.2,
          12.2,
          null,
          17.8,
          17.8,
          18.2,
          18.2,
          null,
          26.8,
          26.8,
          27.2,
          27.2,
          null,
          29.8,
          29.8,
          30.2,
          30.2
         ]
        },
        {
         "fill": "toself",
         "fillcolor": "rgb(140, 86, 75)",
         "hoverinfo": "name",
         "legendgroup": "rgb(140, 86, 75)",
         "mode": "none",
         "name": "Job #4",
         "showlegend": true,
         "type": "scatter",
         "x": [
          "0001-02-09T00:00:00",
          "0001-02-12T00:00:00",
          "0001-02-12T00:00:00",
          "0001-02-09T00:00:00",
          "0001-02-09T00:00:00",
          "0001-01-18T00:00:00",
          "0001-01-21T00:00:00",
          "0001-01-21T00:00:00",
          "0001-01-18T00:00:00",
          "0001-01-18T00:00:00",
          "0001-01-06T00:00:00",
          "0001-01-15T00:00:00",
          "0001-01-15T00:00:00",
          "0001-01-06T00:00:00",
          "0001-01-06T00:00:00",
          "0001-02-12T00:00:00",
          "0001-02-13T00:00:00",
          "0001-02-13T00:00:00",
          "0001-02-12T00:00:00",
          "0001-02-12T00:00:00",
          "0001-01-21T00:00:00",
          "0001-01-26T00:00:00",
          "0001-01-26T00:00:00",
          "0001-01-21T00:00:00",
          "0001-01-21T00:00:00",
          "0001-01-28T00:00:00",
          "0001-02-01T00:00:00",
          "0001-02-01T00:00:00",
          "0001-01-28T00:00:00"
         ],
         "y": [
          3.8,
          3.8,
          4.2,
          4.2,
          null,
          8.8,
          8.8,
          9.2,
          9.2,
          null,
          12.8,
          12.8,
          13.2,
          13.2,
          null,
          21.8,
          21.8,
          22.2,
          22.2,
          null,
          23.8,
          23.8,
          24.2,
          24.2,
          null,
          31.8,
          31.8,
          32.2,
          32.2
         ]
        },
        {
         "fill": "toself",
         "fillcolor": "rgb(148, 103, 189)",
         "hoverinfo": "name",
         "legendgroup": "rgb(148, 103, 189)",
         "mode": "none",
         "name": "Job #5",
         "showlegend": true,
         "type": "scatter",
         "x": [
          "0001-01-30T00:00:00",
          "0001-02-09T00:00:00",
          "0001-02-09T00:00:00",
          "0001-01-30T00:00:00",
          "0001-01-30T00:00:00",
          "0001-01-07T00:00:00",
          "0001-01-10T00:00:00",
          "0001-01-10T00:00:00",
          "0001-01-07T00:00:00",
          "0001-01-07T00:00:00",
          "0001-02-25T00:00:00",
          "0001-02-26T00:00:00",
          "0001-02-26T00:00:00",
          "0001-02-25T00:00:00",
          "0001-02-25T00:00:00",
          "0001-01-10T00:00:00",
          "0001-01-13T00:00:00",
          "0001-01-13T00:00:00",
          "0001-01-10T00:00:00",
          "0001-01-10T00:00:00",
          "0001-02-20T00:00:00",
          "0001-02-24T00:00:00",
          "0001-02-24T00:00:00",
          "0001-02-20T00:00:00",
          "0001-02-20T00:00:00",
          "0001-01-19T00:00:00",
          "0001-01-28T00:00:00",
          "0001-01-28T00:00:00",
          "0001-01-19T00:00:00"
         ],
         "y": [
          2.8,
          2.8,
          3.2,
          3.2,
          null,
          6.8,
          6.8,
          7.2,
          7.2,
          null,
          16.8,
          16.8,
          17.2,
          17.2,
          null,
          18.8,
          18.8,
          19.2,
          19.2,
          null,
          27.8,
          27.8,
          28.2,
          28.2,
          null,
          30.8,
          30.8,
          31.2,
          31.2
         ]
        },
        {
         "fill": "toself",
         "fillcolor": "rgb(188, 189, 34)",
         "hoverinfo": "name",
         "legendgroup": "rgb(188, 189, 34)",
         "mode": "none",
         "name": "Job #1",
         "showlegend": true,
         "type": "scatter",
         "x": [
          "0001-02-25T00:00:00",
          "0001-03-07T00:00:00",
          "0001-03-07T00:00:00",
          "0001-02-25T00:00:00",
          "0001-02-25T00:00:00",
          "0001-01-10T00:00:00",
          "0001-01-18T00:00:00",
          "0001-01-18T00:00:00",
          "0001-01-10T00:00:00",
          "0001-01-10T00:00:00",
          "0001-01-20T00:00:00",
          "0001-01-25T00:00:00",
          "0001-01-25T00:00:00",
          "0001-01-20T00:00:00",
          "0001-01-20T00:00:00",
          "0001-03-07T00:00:00",
          "0001-03-11T00:00:00",
          "0001-03-11T00:00:00",
          "0001-03-07T00:00:00",
          "0001-03-07T00:00:00",
          "0001-02-03T00:00:00",
          "0001-02-13T00:00:00",
          "0001-02-13T00:00:00",
          "0001-02-03T00:00:00",
          "0001-02-03T00:00:00",
          "0001-02-15T00:00:00",
          "0001-02-25T00:00:00",
          "0001-02-25T00:00:00",
          "0001-02-15T00:00:00"
         ],
         "y": [
          4.8,
          4.8,
          5.2,
          5.2,
          null,
          7.8,
          7.8,
          8.2,
          8.2,
          null,
          14.8,
          14.8,
          15.2,
          15.2,
          null,
          22.8,
          22.8,
          23.2,
          23.2,
          null,
          25.8,
          25.8,
          26.2,
          26.2,
          null,
          34.8,
          34.8,
          35.2,
          35.2
         ]
        },
        {
         "fill": "toself",
         "fillcolor": "rgb(227, 119, 194)",
         "hoverinfo": "name",
         "legendgroup": "rgb(227, 119, 194)",
         "mode": "none",
         "name": "Job #3",
         "showlegend": true,
         "type": "scatter",
         "x": [
          "0001-01-07T00:00:00",
          "0001-01-12T00:00:00",
          "0001-01-12T00:00:00",
          "0001-01-07T00:00:00",
          "0001-01-07T00:00:00",
          "0001-01-02T00:00:00",
          "0001-01-07T00:00:00",
          "0001-01-07T00:00:00",
          "0001-01-02T00:00:00",
          "0001-01-02T00:00:00",
          "0001-01-15T00:00:00",
          "0001-01-20T00:00:00",
          "0001-01-20T00:00:00",
          "0001-01-15T00:00:00",
          "0001-01-15T00:00:00",
          "0001-01-20T00:00:00",
          "0001-01-23T00:00:00",
          "0001-01-23T00:00:00",
          "0001-01-20T00:00:00",
          "0001-01-20T00:00:00",
          "0001-01-26T00:00:00",
          "0001-02-03T00:00:00",
          "0001-02-03T00:00:00",
          "0001-01-26T00:00:00",
          "0001-01-26T00:00:00",
          "0001-02-03T00:00:00",
          "0001-02-12T00:00:00",
          "0001-02-12T00:00:00",
          "0001-02-03T00:00:00"
         ],
         "y": [
          -0.2,
          -0.2,
          0.2,
          0.2,
          null,
          5.8,
          5.8,
          6.2,
          6.2,
          null,
          13.8,
          13.8,
          14.2,
          14.2,
          null,
          19.8,
          19.8,
          20.2,
          20.2,
          null,
          24.8,
          24.8,
          25.2,
          25.2,
          null,
          32.8,
          32.8,
          33.2,
          33.2
         ]
        },
        {
         "fill": "toself",
         "fillcolor": "rgb(23, 190, 207)",
         "hoverinfo": "name",
         "legendgroup": "rgb(23, 190, 207)",
         "mode": "none",
         "name": "Job #0",
         "showlegend": true,
         "type": "scatter",
         "x": [
          "0001-01-27T00:00:00",
          "0001-01-30T00:00:00",
          "0001-01-30T00:00:00",
          "0001-01-27T00:00:00",
          "0001-01-27T00:00:00",
          "0001-01-30T00:00:00",
          "0001-02-05T00:00:00",
          "0001-02-05T00:00:00",
          "0001-01-30T00:00:00",
          "0001-01-30T00:00:00",
          "0001-01-25T00:00:00",
          "0001-01-26T00:00:00",
          "0001-01-26T00:00:00",
          "0001-01-25T00:00:00",
          "0001-01-25T00:00:00",
          "0001-02-05T00:00:00",
          "0001-02-12T00:00:00",
          "0001-02-12T00:00:00",
          "0001-02-05T00:00:00",
          "0001-02-05T00:00:00",
          "0001-02-24T00:00:00",
          "0001-03-02T00:00:00",
          "0001-03-02T00:00:00",
          "0001-02-24T00:00:00",
          "0001-02-24T00:00:00",
          "0001-02-12T00:00:00",
          "0001-02-15T00:00:00",
          "0001-02-15T00:00:00",
          "0001-02-12T00:00:00"
         ],
         "y": [
          1.8,
          1.8,
          2.2,
          2.2,
          null,
          10.8,
          10.8,
          11.2,
          11.2,
          null,
          15.8,
          15.8,
          16.2,
          16.2,
          null,
          20.8,
          20.8,
          21.2,
          21.2,
          null,
          28.8,
          28.8,
          29.2,
          29.2,
          null,
          33.8,
          33.8,
          34.2,
          34.2
         ]
        },
        {
         "legendgroup": "rgb(127, 127, 127)",
         "marker": {
          "color": "rgb(127, 127, 127)",
          "opacity": 0,
          "size": 1
         },
         "mode": "markers",
         "name": "",
         "showlegend": false,
         "text": [
          null,
          null,
          null,
          null,
          null,
          null,
          null,
          null,
          null,
          null,
          null,
          null
         ],
         "type": "scatter",
         "x": [
          "0001-01-18T00:00:00",
          "0001-01-27T00:00:00",
          "0001-01-27T00:00:00",
          "0001-01-28T00:00:00",
          "0001-01-01T00:00:00",
          "0001-01-06T00:00:00",
          "0001-01-06T00:00:00",
          "0001-01-10T00:00:00",
          "0001-02-13T00:00:00",
          "0001-02-20T00:00:00",
          "0001-01-10T00:00:00",
          "0001-01-18T00:00:00"
         ],
         "y": [
          1,
          1,
          10,
          10,
          12,
          12,
          18,
          18,
          27,
          27,
          30,
          30
         ]
        },
        {
         "legendgroup": "rgb(140, 86, 75)",
         "marker": {
          "color": "rgb(140, 86, 75)",
          "opacity": 0,
          "size": 1
         },
         "mode": "markers",
         "name": "",
         "showlegend": false,
         "text": [
          null,
          null,
          null,
          null,
          null,
          null,
          null,
          null,
          null,
          null,
          null,
          null
         ],
         "type": "scatter",
         "x": [
          "0001-02-09T00:00:00",
          "0001-02-12T00:00:00",
          "0001-01-18T00:00:00",
          "0001-01-21T00:00:00",
          "0001-01-06T00:00:00",
          "0001-01-15T00:00:00",
          "0001-02-12T00:00:00",
          "0001-02-13T00:00:00",
          "0001-01-21T00:00:00",
          "0001-01-26T00:00:00",
          "0001-01-28T00:00:00",
          "0001-02-01T00:00:00"
         ],
         "y": [
          4,
          4,
          9,
          9,
          13,
          13,
          22,
          22,
          24,
          24,
          32,
          32
         ]
        },
        {
         "legendgroup": "rgb(148, 103, 189)",
         "marker": {
          "color": "rgb(148, 103, 189)",
          "opacity": 0,
          "size": 1
         },
         "mode": "markers",
         "name": "",
         "showlegend": false,
         "text": [
          null,
          null,
          null,
          null,
          null,
          null,
          null,
          null,
          null,
          null,
          null,
          null
         ],
         "type": "scatter",
         "x": [
          "0001-01-30T00:00:00",
          "0001-02-09T00:00:00",
          "0001-01-07T00:00:00",
          "0001-01-10T00:00:00",
          "0001-02-25T00:00:00",
          "0001-02-26T00:00:00",
          "0001-01-10T00:00:00",
          "0001-01-13T00:00:00",
          "0001-02-20T00:00:00",
          "0001-02-24T00:00:00",
          "0001-01-19T00:00:00",
          "0001-01-28T00:00:00"
         ],
         "y": [
          3,
          3,
          7,
          7,
          17,
          17,
          19,
          19,
          28,
          28,
          31,
          31
         ]
        },
        {
         "legendgroup": "rgb(188, 189, 34)",
         "marker": {
          "color": "rgb(188, 189, 34)",
          "opacity": 0,
          "size": 1
         },
         "mode": "markers",
         "name": "",
         "showlegend": false,
         "text": [
          null,
          null,
          null,
          null,
          null,
          null,
          null,
          null,
          null,
          null,
          null,
          null
         ],
         "type": "scatter",
         "x": [
          "0001-02-25T00:00:00",
          "0001-03-07T00:00:00",
          "0001-01-10T00:00:00",
          "0001-01-18T00:00:00",
          "0001-01-20T00:00:00",
          "0001-01-25T00:00:00",
          "0001-03-07T00:00:00",
          "0001-03-11T00:00:00",
          "0001-02-03T00:00:00",
          "0001-02-13T00:00:00",
          "0001-02-15T00:00:00",
          "0001-02-25T00:00:00"
         ],
         "y": [
          5,
          5,
          8,
          8,
          15,
          15,
          23,
          23,
          26,
          26,
          35,
          35
         ]
        },
        {
         "legendgroup": "rgb(227, 119, 194)",
         "marker": {
          "color": "rgb(227, 119, 194)",
          "opacity": 0,
          "size": 1
         },
         "mode": "markers",
         "name": "",
         "showlegend": false,
         "text": [
          null,
          null,
          null,
          null,
          null,
          null,
          null,
          null,
          null,
          null,
          null,
          null
         ],
         "type": "scatter",
         "x": [
          "0001-01-07T00:00:00",
          "0001-01-12T00:00:00",
          "0001-01-02T00:00:00",
          "0001-01-07T00:00:00",
          "0001-01-15T00:00:00",
          "0001-01-20T00:00:00",
          "0001-01-20T00:00:00",
          "0001-01-23T00:00:00",
          "0001-01-26T00:00:00",
          "0001-02-03T00:00:00",
          "0001-02-03T00:00:00",
          "0001-02-12T00:00:00"
         ],
         "y": [
          0,
          0,
          6,
          6,
          14,
          14,
          20,
          20,
          25,
          25,
          33,
          33
         ]
        },
        {
         "legendgroup": "rgb(23, 190, 207)",
         "marker": {
          "color": "rgb(23, 190, 207)",
          "opacity": 0,
          "size": 1
         },
         "mode": "markers",
         "name": "",
         "showlegend": false,
         "text": [
          null,
          null,
          null,
          null,
          null,
          null,
          null,
          null,
          null,
          null,
          null,
          null
         ],
         "type": "scatter",
         "x": [
          "0001-01-27T00:00:00",
          "0001-01-30T00:00:00",
          "0001-01-30T00:00:00",
          "0001-02-05T00:00:00",
          "0001-01-25T00:00:00",
          "0001-01-26T00:00:00",
          "0001-02-05T00:00:00",
          "0001-02-12T00:00:00",
          "0001-02-24T00:00:00",
          "0001-03-02T00:00:00",
          "0001-02-12T00:00:00",
          "0001-02-15T00:00:00"
         ],
         "y": [
          2,
          2,
          11,
          11,
          16,
          16,
          21,
          21,
          29,
          29,
          34,
          34
         ]
        }
       ],
       "layout": {
        "height": 600,
        "hovermode": "closest",
        "showlegend": true,
        "template": {
         "data": {
          "bar": [
           {
            "error_x": {
             "color": "#2a3f5f"
            },
            "error_y": {
             "color": "#2a3f5f"
            },
            "marker": {
             "line": {
              "color": "#E5ECF6",
              "width": 0.5
             }
            },
            "type": "bar"
           }
          ],
          "barpolar": [
           {
            "marker": {
             "line": {
              "color": "#E5ECF6",
              "width": 0.5
             }
            },
            "type": "barpolar"
           }
          ],
          "carpet": [
           {
            "aaxis": {
             "endlinecolor": "#2a3f5f",
             "gridcolor": "white",
             "linecolor": "white",
             "minorgridcolor": "white",
             "startlinecolor": "#2a3f5f"
            },
            "baxis": {
             "endlinecolor": "#2a3f5f",
             "gridcolor": "white",
             "linecolor": "white",
             "minorgridcolor": "white",
             "startlinecolor": "#2a3f5f"
            },
            "type": "carpet"
           }
          ],
          "choropleth": [
           {
            "colorbar": {
             "outlinewidth": 0,
             "ticks": ""
            },
            "type": "choropleth"
           }
          ],
          "contour": [
           {
            "colorbar": {
             "outlinewidth": 0,
             "ticks": ""
            },
            "colorscale": [
             [
              0.0,
              "#0d0887"
             ],
             [
              0.1111111111111111,
              "#46039f"
             ],
             [
              0.2222222222222222,
              "#7201a8"
             ],
             [
              0.3333333333333333,
              "#9c179e"
             ],
             [
              0.4444444444444444,
              "#bd3786"
             ],
             [
              0.5555555555555556,
              "#d8576b"
             ],
             [
              0.6666666666666666,
              "#ed7953"
             ],
             [
              0.7777777777777778,
              "#fb9f3a"
             ],
             [
              0.8888888888888888,
              "#fdca26"
             ],
             [
              1.0,
              "#f0f921"
             ]
            ],
            "type": "contour"
           }
          ],
          "contourcarpet": [
           {
            "colorbar": {
             "outlinewidth": 0,
             "ticks": ""
            },
            "type": "contourcarpet"
           }
          ],
          "heatmap": [
           {
            "colorbar": {
             "outlinewidth": 0,
             "ticks": ""
            },
            "colorscale": [
             [
              0.0,
              "#0d0887"
             ],
             [
              0.1111111111111111,
              "#46039f"
             ],
             [
              0.2222222222222222,
              "#7201a8"
             ],
             [
              0.3333333333333333,
              "#9c179e"
             ],
             [
              0.4444444444444444,
              "#bd3786"
             ],
             [
              0.5555555555555556,
              "#d8576b"
             ],
             [
              0.6666666666666666,
              "#ed7953"
             ],
             [
              0.7777777777777778,
              "#fb9f3a"
             ],
             [
              0.8888888888888888,
              "#fdca26"
             ],
             [
              1.0,
              "#f0f921"
             ]
            ],
            "type": "heatmap"
           }
          ],
          "heatmapgl": [
           {
            "colorbar": {
             "outlinewidth": 0,
             "ticks": ""
            },
            "colorscale": [
             [
              0.0,
              "#0d0887"
             ],
             [
              0.1111111111111111,
              "#46039f"
             ],
             [
              0.2222222222222222,
              "#7201a8"
             ],
             [
              0.3333333333333333,
              "#9c179e"
             ],
             [
              0.4444444444444444,
              "#bd3786"
             ],
             [
              0.5555555555555556,
              "#d8576b"
             ],
             [
              0.6666666666666666,
              "#ed7953"
             ],
             [
              0.7777777777777778,
              "#fb9f3a"
             ],
             [
              0.8888888888888888,
              "#fdca26"
             ],
             [
              1.0,
              "#f0f921"
             ]
            ],
            "type": "heatmapgl"
           }
          ],
          "histogram": [
           {
            "marker": {
             "colorbar": {
              "outlinewidth": 0,
              "ticks": ""
             }
            },
            "type": "histogram"
           }
          ],
          "histogram2d": [
           {
            "colorbar": {
             "outlinewidth": 0,
             "ticks": ""
            },
            "colorscale": [
             [
              0.0,
              "#0d0887"
             ],
             [
              0.1111111111111111,
              "#46039f"
             ],
             [
              0.2222222222222222,
              "#7201a8"
             ],
             [
              0.3333333333333333,
              "#9c179e"
             ],
             [
              0.4444444444444444,
              "#bd3786"
             ],
             [
              0.5555555555555556,
              "#d8576b"
             ],
             [
              0.6666666666666666,
              "#ed7953"
             ],
             [
              0.7777777777777778,
              "#fb9f3a"
             ],
             [
              0.8888888888888888,
              "#fdca26"
             ],
             [
              1.0,
              "#f0f921"
             ]
            ],
            "type": "histogram2d"
           }
          ],
          "histogram2dcontour": [
           {
            "colorbar": {
             "outlinewidth": 0,
             "ticks": ""
            },
            "colorscale": [
             [
              0.0,
              "#0d0887"
             ],
             [
              0.1111111111111111,
              "#46039f"
             ],
             [
              0.2222222222222222,
              "#7201a8"
             ],
             [
              0.3333333333333333,
              "#9c179e"
             ],
             [
              0.4444444444444444,
              "#bd3786"
             ],
             [
              0.5555555555555556,
              "#d8576b"
             ],
             [
              0.6666666666666666,
              "#ed7953"
             ],
             [
              0.7777777777777778,
              "#fb9f3a"
             ],
             [
              0.8888888888888888,
              "#fdca26"
             ],
             [
              1.0,
              "#f0f921"
             ]
            ],
            "type": "histogram2dcontour"
           }
          ],
          "mesh3d": [
           {
            "colorbar": {
             "outlinewidth": 0,
             "ticks": ""
            },
            "type": "mesh3d"
           }
          ],
          "parcoords": [
           {
            "line": {
             "colorbar": {
              "outlinewidth": 0,
              "ticks": ""
             }
            },
            "type": "parcoords"
           }
          ],
          "pie": [
           {
            "automargin": true,
            "type": "pie"
           }
          ],
          "scatter": [
           {
            "marker": {
             "colorbar": {
              "outlinewidth": 0,
              "ticks": ""
             }
            },
            "type": "scatter"
           }
          ],
          "scatter3d": [
           {
            "line": {
             "colorbar": {
              "outlinewidth": 0,
              "ticks": ""
             }
            },
            "marker": {
             "colorbar": {
              "outlinewidth": 0,
              "ticks": ""
             }
            },
            "type": "scatter3d"
           }
          ],
          "scattercarpet": [
           {
            "marker": {
             "colorbar": {
              "outlinewidth": 0,
              "ticks": ""
             }
            },
            "type": "scattercarpet"
           }
          ],
          "scattergeo": [
           {
            "marker": {
             "colorbar": {
              "outlinewidth": 0,
              "ticks": ""
             }
            },
            "type": "scattergeo"
           }
          ],
          "scattergl": [
           {
            "marker": {
             "colorbar": {
              "outlinewidth": 0,
              "ticks": ""
             }
            },
            "type": "scattergl"
           }
          ],
          "scattermapbox": [
           {
            "marker": {
             "colorbar": {
              "outlinewidth": 0,
              "ticks": ""
             }
            },
            "type": "scattermapbox"
           }
          ],
          "scatterpolar": [
           {
            "marker": {
             "colorbar": {
              "outlinewidth": 0,
              "ticks": ""
             }
            },
            "type": "scatterpolar"
           }
          ],
          "scatterpolargl": [
           {
            "marker": {
             "colorbar": {
              "outlinewidth": 0,
              "ticks": ""
             }
            },
            "type": "scatterpolargl"
           }
          ],
          "scatterternary": [
           {
            "marker": {
             "colorbar": {
              "outlinewidth": 0,
              "ticks": ""
             }
            },
            "type": "scatterternary"
           }
          ],
          "surface": [
           {
            "colorbar": {
             "outlinewidth": 0,
             "ticks": ""
            },
            "colorscale": [
             [
              0.0,
              "#0d0887"
             ],
             [
              0.1111111111111111,
              "#46039f"
             ],
             [
              0.2222222222222222,
              "#7201a8"
             ],
             [
              0.3333333333333333,
              "#9c179e"
             ],
             [
              0.4444444444444444,
              "#bd3786"
             ],
             [
              0.5555555555555556,
              "#d8576b"
             ],
             [
              0.6666666666666666,
              "#ed7953"
             ],
             [
              0.7777777777777778,
              "#fb9f3a"
             ],
             [
              0.8888888888888888,
              "#fdca26"
             ],
             [
              1.0,
              "#f0f921"
             ]
            ],
            "type": "surface"
           }
          ],
          "table": [
           {
            "cells": {
             "fill": {
              "color": "#EBF0F8"
             },
             "line": {
              "color": "white"
             }
            },
            "header": {
             "fill": {
              "color": "#C8D4E3"
             },
             "line": {
              "color": "white"
             }
            },
            "type": "table"
           }
          ]
         },
         "layout": {
          "annotationdefaults": {
           "arrowcolor": "#2a3f5f",
           "arrowhead": 0,
           "arrowwidth": 1
          },
          "coloraxis": {
           "colorbar": {
            "outlinewidth": 0,
            "ticks": ""
           }
          },
          "colorscale": {
           "diverging": [
            [
             0,
             "#8e0152"
            ],
            [
             0.1,
             "#c51b7d"
            ],
            [
             0.2,
             "#de77ae"
            ],
            [
             0.3,
             "#f1b6da"
            ],
            [
             0.4,
             "#fde0ef"
            ],
            [
             0.5,
             "#f7f7f7"
            ],
            [
             0.6,
             "#e6f5d0"
            ],
            [
             0.7,
             "#b8e186"
            ],
            [
             0.8,
             "#7fbc41"
            ],
            [
             0.9,
             "#4d9221"
            ],
            [
             1,
             "#276419"
            ]
           ],
           "sequential": [
            [
             0.0,
             "#0d0887"
            ],
            [
             0.1111111111111111,
             "#46039f"
            ],
            [
             0.2222222222222222,
             "#7201a8"
            ],
            [
             0.3333333333333333,
             "#9c179e"
            ],
            [
             0.4444444444444444,
             "#bd3786"
            ],
            [
             0.5555555555555556,
             "#d8576b"
            ],
            [
             0.6666666666666666,
             "#ed7953"
            ],
            [
             0.7777777777777778,
             "#fb9f3a"
            ],
            [
             0.8888888888888888,
             "#fdca26"
            ],
            [
             1.0,
             "#f0f921"
            ]
           ],
           "sequentialminus": [
            [
             0.0,
             "#0d0887"
            ],
            [
             0.1111111111111111,
             "#46039f"
            ],
            [
             0.2222222222222222,
             "#7201a8"
            ],
            [
             0.3333333333333333,
             "#9c179e"
            ],
            [
             0.4444444444444444,
             "#bd3786"
            ],
            [
             0.5555555555555556,
             "#d8576b"
            ],
            [
             0.6666666666666666,
             "#ed7953"
            ],
            [
             0.7777777777777778,
             "#fb9f3a"
            ],
            [
             0.8888888888888888,
             "#fdca26"
            ],
            [
             1.0,
             "#f0f921"
            ]
           ]
          },
          "colorway": [
           "#636efa",
           "#EF553B",
           "#00cc96",
           "#ab63fa",
           "#FFA15A",
           "#19d3f3",
           "#FF6692",
           "#B6E880",
           "#FF97FF",
           "#FECB52"
          ],
          "font": {
           "color": "#2a3f5f"
          },
          "geo": {
           "bgcolor": "white",
           "lakecolor": "white",
           "landcolor": "#E5ECF6",
           "showlakes": true,
           "showland": true,
           "subunitcolor": "white"
          },
          "hoverlabel": {
           "align": "left"
          },
          "hovermode": "closest",
          "mapbox": {
           "style": "light"
          },
          "paper_bgcolor": "white",
          "plot_bgcolor": "#E5ECF6",
          "polar": {
           "angularaxis": {
            "gridcolor": "white",
            "linecolor": "white",
            "ticks": ""
           },
           "bgcolor": "#E5ECF6",
           "radialaxis": {
            "gridcolor": "white",
            "linecolor": "white",
            "ticks": ""
           }
          },
          "scene": {
           "xaxis": {
            "backgroundcolor": "#E5ECF6",
            "gridcolor": "white",
            "gridwidth": 2,
            "linecolor": "white",
            "showbackground": true,
            "ticks": "",
            "zerolinecolor": "white"
           },
           "yaxis": {
            "backgroundcolor": "#E5ECF6",
            "gridcolor": "white",
            "gridwidth": 2,
            "linecolor": "white",
            "showbackground": true,
            "ticks": "",
            "zerolinecolor": "white"
           },
           "zaxis": {
            "backgroundcolor": "#E5ECF6",
            "gridcolor": "white",
            "gridwidth": 2,
            "linecolor": "white",
            "showbackground": true,
            "ticks": "",
            "zerolinecolor": "white"
           }
          },
          "shapedefaults": {
           "line": {
            "color": "#2a3f5f"
           }
          },
          "ternary": {
           "aaxis": {
            "gridcolor": "white",
            "linecolor": "white",
            "ticks": ""
           },
           "baxis": {
            "gridcolor": "white",
            "linecolor": "white",
            "ticks": ""
           },
           "bgcolor": "#E5ECF6",
           "caxis": {
            "gridcolor": "white",
            "linecolor": "white",
            "ticks": ""
           }
          },
          "title": {
           "x": 0.05
          },
          "xaxis": {
           "automargin": true,
           "gridcolor": "white",
           "linecolor": "white",
           "ticks": "",
           "title": {
            "standoff": 15
           },
           "zerolinecolor": "white",
           "zerolinewidth": 2
          },
          "yaxis": {
           "automargin": true,
           "gridcolor": "white",
           "linecolor": "white",
           "ticks": "",
           "title": {
            "standoff": 15
           },
           "zerolinecolor": "white",
           "zerolinewidth": 2
          }
         }
        },
        "title": {
         "text": "Gantt Chart"
        },
        "xaxis": {
         "rangeselector": {
          "buttons": [
           {
            "count": 7,
            "label": "1w",
            "step": "day",
            "stepmode": "backward"
           },
           {
            "count": 1,
            "label": "1m",
            "step": "month",
            "stepmode": "backward"
           },
           {
            "count": 6,
            "label": "6m",
            "step": "month",
            "stepmode": "backward"
           },
           {
            "count": 1,
            "label": "YTD",
            "step": "year",
            "stepmode": "todate"
           },
           {
            "count": 1,
            "label": "1y",
            "step": "year",
            "stepmode": "backward"
           },
           {
            "step": "all"
           }
          ]
         },
         "showgrid": true,
         "tickformat": "%",
         "type": "date",
         "zeroline": false
        },
        "yaxis": {
         "autorange": false,
         "range": [
          -1,
          37
         ],
         "showgrid": true,
         "ticktext": [
          "Machine  #0",
          "Machine  #0",
          "Machine  #0",
          "Machine  #0",
          "Machine  #0",
          "Machine  #0",
          "Machine  #1",
          "Machine  #1",
          "Machine  #1",
          "Machine  #1",
          "Machine  #1",
          "Machine  #1",
          "Machine  #2",
          "Machine  #2",
          "Machine  #2",
          "Machine  #2",
          "Machine  #2",
          "Machine  #2",
          "Machine  #3",
          "Machine  #3",
          "Machine  #3",
          "Machine  #3",
          "Machine  #3",
          "Machine  #3",
          "Machine  #4",
          "Machine  #4",
          "Machine  #4",
          "Machine  #4",
          "Machine  #4",
          "Machine  #4",
          "Machine  #5",
          "Machine  #5",
          "Machine  #5",
          "Machine  #5",
          "Machine  #5",
          "Machine  #5"
         ],
         "tickvals": [
          0,
          1,
          2,
          3,
          4,
          5,
          6,
          7,
          8,
          9,
          10,
          11,
          12,
          13,
          14,
          15,
          16,
          17,
          18,
          19,
          20,
          21,
          22,
          23,
          24,
          25,
          26,
          27,
          28,
          29,
          30,
          31,
          32,
          33,
          34,
          35
         ],
         "zeroline": false
        }
       }
      },
      "text/html": "<div>\n        \n        \n            <div id=\"606b5f90-7fdb-4408-8d4f-a9ce9816431c\" class=\"plotly-graph-div\" style=\"height:600px; width:100%;\"></div>\n            <script type=\"text/javascript\">\n                require([\"plotly\"], function(Plotly) {\n                    window.PLOTLYENV=window.PLOTLYENV || {};\n                    \n                if (document.getElementById(\"606b5f90-7fdb-4408-8d4f-a9ce9816431c\")) {\n                    Plotly.newPlot(\n                        '606b5f90-7fdb-4408-8d4f-a9ce9816431c',\n                        [{\"fill\": \"toself\", \"fillcolor\": \"rgb(127, 127, 127)\", \"hoverinfo\": \"name\", \"legendgroup\": \"rgb(127, 127, 127)\", \"mode\": \"none\", \"name\": \"Job #2\", \"showlegend\": true, \"type\": \"scatter\", \"x\": [\"0001-01-18T00:00:00\", \"0001-01-27T00:00:00\", \"0001-01-27T00:00:00\", \"0001-01-18T00:00:00\", \"0001-01-18T00:00:00\", \"0001-01-27T00:00:00\", \"0001-01-28T00:00:00\", \"0001-01-28T00:00:00\", \"0001-01-27T00:00:00\", \"0001-01-27T00:00:00\", \"0001-01-01T00:00:00\", \"0001-01-06T00:00:00\", \"0001-01-06T00:00:00\", \"0001-01-01T00:00:00\", \"0001-01-01T00:00:00\", \"0001-01-06T00:00:00\", \"0001-01-10T00:00:00\", \"0001-01-10T00:00:00\", \"0001-01-06T00:00:00\", \"0001-01-06T00:00:00\", \"0001-02-13T00:00:00\", \"0001-02-20T00:00:00\", \"0001-02-20T00:00:00\", \"0001-02-13T00:00:00\", \"0001-02-13T00:00:00\", \"0001-01-10T00:00:00\", \"0001-01-18T00:00:00\", \"0001-01-18T00:00:00\", \"0001-01-10T00:00:00\"], \"y\": [0.8, 0.8, 1.2, 1.2, null, 9.8, 9.8, 10.2, 10.2, null, 11.8, 11.8, 12.2, 12.2, null, 17.8, 17.8, 18.2, 18.2, null, 26.8, 26.8, 27.2, 27.2, null, 29.8, 29.8, 30.2, 30.2]}, {\"fill\": \"toself\", \"fillcolor\": \"rgb(140, 86, 75)\", \"hoverinfo\": \"name\", \"legendgroup\": \"rgb(140, 86, 75)\", \"mode\": \"none\", \"name\": \"Job #4\", \"showlegend\": true, \"type\": \"scatter\", \"x\": [\"0001-02-09T00:00:00\", \"0001-02-12T00:00:00\", \"0001-02-12T00:00:00\", \"0001-02-09T00:00:00\", \"0001-02-09T00:00:00\", \"0001-01-18T00:00:00\", \"0001-01-21T00:00:00\", \"0001-01-21T00:00:00\", \"0001-01-18T00:00:00\", \"0001-01-18T00:00:00\", \"0001-01-06T00:00:00\", \"0001-01-15T00:00:00\", \"0001-01-15T00:00:00\", \"0001-01-06T00:00:00\", \"0001-01-06T00:00:00\", \"0001-02-12T00:00:00\", \"0001-02-13T00:00:00\", \"0001-02-13T00:00:00\", \"0001-02-12T00:00:00\", \"0001-02-12T00:00:00\", \"0001-01-21T00:00:00\", \"0001-01-26T00:00:00\", \"0001-01-26T00:00:00\", \"0001-01-21T00:00:00\", \"0001-01-21T00:00:00\", \"0001-01-28T00:00:00\", \"0001-02-01T00:00:00\", \"0001-02-01T00:00:00\", \"0001-01-28T00:00:00\"], \"y\": [3.8, 3.8, 4.2, 4.2, null, 8.8, 8.8, 9.2, 9.2, null, 12.8, 12.8, 13.2, 13.2, null, 21.8, 21.8, 22.2, 22.2, null, 23.8, 23.8, 24.2, 24.2, null, 31.8, 31.8, 32.2, 32.2]}, {\"fill\": \"toself\", \"fillcolor\": \"rgb(148, 103, 189)\", \"hoverinfo\": \"name\", \"legendgroup\": \"rgb(148, 103, 189)\", \"mode\": \"none\", \"name\": \"Job #5\", \"showlegend\": true, \"type\": \"scatter\", \"x\": [\"0001-01-30T00:00:00\", \"0001-02-09T00:00:00\", \"0001-02-09T00:00:00\", \"0001-01-30T00:00:00\", \"0001-01-30T00:00:00\", \"0001-01-07T00:00:00\", \"0001-01-10T00:00:00\", \"0001-01-10T00:00:00\", \"0001-01-07T00:00:00\", \"0001-01-07T00:00:00\", \"0001-02-25T00:00:00\", \"0001-02-26T00:00:00\", \"0001-02-26T00:00:00\", \"0001-02-25T00:00:00\", \"0001-02-25T00:00:00\", \"0001-01-10T00:00:00\", \"0001-01-13T00:00:00\", \"0001-01-13T00:00:00\", \"0001-01-10T00:00:00\", \"0001-01-10T00:00:00\", \"0001-02-20T00:00:00\", \"0001-02-24T00:00:00\", \"0001-02-24T00:00:00\", \"0001-02-20T00:00:00\", \"0001-02-20T00:00:00\", \"0001-01-19T00:00:00\", \"0001-01-28T00:00:00\", \"0001-01-28T00:00:00\", \"0001-01-19T00:00:00\"], \"y\": [2.8, 2.8, 3.2, 3.2, null, 6.8, 6.8, 7.2, 7.2, null, 16.8, 16.8, 17.2, 17.2, null, 18.8, 18.8, 19.2, 19.2, null, 27.8, 27.8, 28.2, 28.2, null, 30.8, 30.8, 31.2, 31.2]}, {\"fill\": \"toself\", \"fillcolor\": \"rgb(188, 189, 34)\", \"hoverinfo\": \"name\", \"legendgroup\": \"rgb(188, 189, 34)\", \"mode\": \"none\", \"name\": \"Job #1\", \"showlegend\": true, \"type\": \"scatter\", \"x\": [\"0001-02-25T00:00:00\", \"0001-03-07T00:00:00\", \"0001-03-07T00:00:00\", \"0001-02-25T00:00:00\", \"0001-02-25T00:00:00\", \"0001-01-10T00:00:00\", \"0001-01-18T00:00:00\", \"0001-01-18T00:00:00\", \"0001-01-10T00:00:00\", \"0001-01-10T00:00:00\", \"0001-01-20T00:00:00\", \"0001-01-25T00:00:00\", \"0001-01-25T00:00:00\", \"0001-01-20T00:00:00\", \"0001-01-20T00:00:00\", \"0001-03-07T00:00:00\", \"0001-03-11T00:00:00\", \"0001-03-11T00:00:00\", \"0001-03-07T00:00:00\", \"0001-03-07T00:00:00\", \"0001-02-03T00:00:00\", \"0001-02-13T00:00:00\", \"0001-02-13T00:00:00\", \"0001-02-03T00:00:00\", \"0001-02-03T00:00:00\", \"0001-02-15T00:00:00\", \"0001-02-25T00:00:00\", \"0001-02-25T00:00:00\", \"0001-02-15T00:00:00\"], \"y\": [4.8, 4.8, 5.2, 5.2, null, 7.8, 7.8, 8.2, 8.2, null, 14.8, 14.8, 15.2, 15.2, null, 22.8, 22.8, 23.2, 23.2, null, 25.8, 25.8, 26.2, 26.2, null, 34.8, 34.8, 35.2, 35.2]}, {\"fill\": \"toself\", \"fillcolor\": \"rgb(227, 119, 194)\", \"hoverinfo\": \"name\", \"legendgroup\": \"rgb(227, 119, 194)\", \"mode\": \"none\", \"name\": \"Job #3\", \"showlegend\": true, \"type\": \"scatter\", \"x\": [\"0001-01-07T00:00:00\", \"0001-01-12T00:00:00\", \"0001-01-12T00:00:00\", \"0001-01-07T00:00:00\", \"0001-01-07T00:00:00\", \"0001-01-02T00:00:00\", \"0001-01-07T00:00:00\", \"0001-01-07T00:00:00\", \"0001-01-02T00:00:00\", \"0001-01-02T00:00:00\", \"0001-01-15T00:00:00\", \"0001-01-20T00:00:00\", \"0001-01-20T00:00:00\", \"0001-01-15T00:00:00\", \"0001-01-15T00:00:00\", \"0001-01-20T00:00:00\", \"0001-01-23T00:00:00\", \"0001-01-23T00:00:00\", \"0001-01-20T00:00:00\", \"0001-01-20T00:00:00\", \"0001-01-26T00:00:00\", \"0001-02-03T00:00:00\", \"0001-02-03T00:00:00\", \"0001-01-26T00:00:00\", \"0001-01-26T00:00:00\", \"0001-02-03T00:00:00\", \"0001-02-12T00:00:00\", \"0001-02-12T00:00:00\", \"0001-02-03T00:00:00\"], \"y\": [-0.2, -0.2, 0.2, 0.2, null, 5.8, 5.8, 6.2, 6.2, null, 13.8, 13.8, 14.2, 14.2, null, 19.8, 19.8, 20.2, 20.2, null, 24.8, 24.8, 25.2, 25.2, null, 32.8, 32.8, 33.2, 33.2]}, {\"fill\": \"toself\", \"fillcolor\": \"rgb(23, 190, 207)\", \"hoverinfo\": \"name\", \"legendgroup\": \"rgb(23, 190, 207)\", \"mode\": \"none\", \"name\": \"Job #0\", \"showlegend\": true, \"type\": \"scatter\", \"x\": [\"0001-01-27T00:00:00\", \"0001-01-30T00:00:00\", \"0001-01-30T00:00:00\", \"0001-01-27T00:00:00\", \"0001-01-27T00:00:00\", \"0001-01-30T00:00:00\", \"0001-02-05T00:00:00\", \"0001-02-05T00:00:00\", \"0001-01-30T00:00:00\", \"0001-01-30T00:00:00\", \"0001-01-25T00:00:00\", \"0001-01-26T00:00:00\", \"0001-01-26T00:00:00\", \"0001-01-25T00:00:00\", \"0001-01-25T00:00:00\", \"0001-02-05T00:00:00\", \"0001-02-12T00:00:00\", \"0001-02-12T00:00:00\", \"0001-02-05T00:00:00\", \"0001-02-05T00:00:00\", \"0001-02-24T00:00:00\", \"0001-03-02T00:00:00\", \"0001-03-02T00:00:00\", \"0001-02-24T00:00:00\", \"0001-02-24T00:00:00\", \"0001-02-12T00:00:00\", \"0001-02-15T00:00:00\", \"0001-02-15T00:00:00\", \"0001-02-12T00:00:00\"], \"y\": [1.8, 1.8, 2.2, 2.2, null, 10.8, 10.8, 11.2, 11.2, null, 15.8, 15.8, 16.2, 16.2, null, 20.8, 20.8, 21.2, 21.2, null, 28.8, 28.8, 29.2, 29.2, null, 33.8, 33.8, 34.2, 34.2]}, {\"legendgroup\": \"rgb(127, 127, 127)\", \"marker\": {\"color\": \"rgb(127, 127, 127)\", \"opacity\": 0, \"size\": 1}, \"mode\": \"markers\", \"name\": \"\", \"showlegend\": false, \"text\": [null, null, null, null, null, null, null, null, null, null, null, null], \"type\": \"scatter\", \"x\": [\"0001-01-18T00:00:00\", \"0001-01-27T00:00:00\", \"0001-01-27T00:00:00\", \"0001-01-28T00:00:00\", \"0001-01-01T00:00:00\", \"0001-01-06T00:00:00\", \"0001-01-06T00:00:00\", \"0001-01-10T00:00:00\", \"0001-02-13T00:00:00\", \"0001-02-20T00:00:00\", \"0001-01-10T00:00:00\", \"0001-01-18T00:00:00\"], \"y\": [1, 1, 10, 10, 12, 12, 18, 18, 27, 27, 30, 30]}, {\"legendgroup\": \"rgb(140, 86, 75)\", \"marker\": {\"color\": \"rgb(140, 86, 75)\", \"opacity\": 0, \"size\": 1}, \"mode\": \"markers\", \"name\": \"\", \"showlegend\": false, \"text\": [null, null, null, null, null, null, null, null, null, null, null, null], \"type\": \"scatter\", \"x\": [\"0001-02-09T00:00:00\", \"0001-02-12T00:00:00\", \"0001-01-18T00:00:00\", \"0001-01-21T00:00:00\", \"0001-01-06T00:00:00\", \"0001-01-15T00:00:00\", \"0001-02-12T00:00:00\", \"0001-02-13T00:00:00\", \"0001-01-21T00:00:00\", \"0001-01-26T00:00:00\", \"0001-01-28T00:00:00\", \"0001-02-01T00:00:00\"], \"y\": [4, 4, 9, 9, 13, 13, 22, 22, 24, 24, 32, 32]}, {\"legendgroup\": \"rgb(148, 103, 189)\", \"marker\": {\"color\": \"rgb(148, 103, 189)\", \"opacity\": 0, \"size\": 1}, \"mode\": \"markers\", \"name\": \"\", \"showlegend\": false, \"text\": [null, null, null, null, null, null, null, null, null, null, null, null], \"type\": \"scatter\", \"x\": [\"0001-01-30T00:00:00\", \"0001-02-09T00:00:00\", \"0001-01-07T00:00:00\", \"0001-01-10T00:00:00\", \"0001-02-25T00:00:00\", \"0001-02-26T00:00:00\", \"0001-01-10T00:00:00\", \"0001-01-13T00:00:00\", \"0001-02-20T00:00:00\", \"0001-02-24T00:00:00\", \"0001-01-19T00:00:00\", \"0001-01-28T00:00:00\"], \"y\": [3, 3, 7, 7, 17, 17, 19, 19, 28, 28, 31, 31]}, {\"legendgroup\": \"rgb(188, 189, 34)\", \"marker\": {\"color\": \"rgb(188, 189, 34)\", \"opacity\": 0, \"size\": 1}, \"mode\": \"markers\", \"name\": \"\", \"showlegend\": false, \"text\": [null, null, null, null, null, null, null, null, null, null, null, null], \"type\": \"scatter\", \"x\": [\"0001-02-25T00:00:00\", \"0001-03-07T00:00:00\", \"0001-01-10T00:00:00\", \"0001-01-18T00:00:00\", \"0001-01-20T00:00:00\", \"0001-01-25T00:00:00\", \"0001-03-07T00:00:00\", \"0001-03-11T00:00:00\", \"0001-02-03T00:00:00\", \"0001-02-13T00:00:00\", \"0001-02-15T00:00:00\", \"0001-02-25T00:00:00\"], \"y\": [5, 5, 8, 8, 15, 15, 23, 23, 26, 26, 35, 35]}, {\"legendgroup\": \"rgb(227, 119, 194)\", \"marker\": {\"color\": \"rgb(227, 119, 194)\", \"opacity\": 0, \"size\": 1}, \"mode\": \"markers\", \"name\": \"\", \"showlegend\": false, \"text\": [null, null, null, null, null, null, null, null, null, null, null, null], \"type\": \"scatter\", \"x\": [\"0001-01-07T00:00:00\", \"0001-01-12T00:00:00\", \"0001-01-02T00:00:00\", \"0001-01-07T00:00:00\", \"0001-01-15T00:00:00\", \"0001-01-20T00:00:00\", \"0001-01-20T00:00:00\", \"0001-01-23T00:00:00\", \"0001-01-26T00:00:00\", \"0001-02-03T00:00:00\", \"0001-02-03T00:00:00\", \"0001-02-12T00:00:00\"], \"y\": [0, 0, 6, 6, 14, 14, 20, 20, 25, 25, 33, 33]}, {\"legendgroup\": \"rgb(23, 190, 207)\", \"marker\": {\"color\": \"rgb(23, 190, 207)\", \"opacity\": 0, \"size\": 1}, \"mode\": \"markers\", \"name\": \"\", \"showlegend\": false, \"text\": [null, null, null, null, null, null, null, null, null, null, null, null], \"type\": \"scatter\", \"x\": [\"0001-01-27T00:00:00\", \"0001-01-30T00:00:00\", \"0001-01-30T00:00:00\", \"0001-02-05T00:00:00\", \"0001-01-25T00:00:00\", \"0001-01-26T00:00:00\", \"0001-02-05T00:00:00\", \"0001-02-12T00:00:00\", \"0001-02-24T00:00:00\", \"0001-03-02T00:00:00\", \"0001-02-12T00:00:00\", \"0001-02-15T00:00:00\"], \"y\": [2, 2, 11, 11, 16, 16, 21, 21, 29, 29, 34, 34]}],\n                        {\"height\": 600, \"hovermode\": \"closest\", \"showlegend\": true, \"template\": {\"data\": {\"bar\": [{\"error_x\": {\"color\": \"#2a3f5f\"}, \"error_y\": {\"color\": \"#2a3f5f\"}, \"marker\": {\"line\": {\"color\": \"#E5ECF6\", \"width\": 0.5}}, \"type\": \"bar\"}], \"barpolar\": [{\"marker\": {\"line\": {\"color\": \"#E5ECF6\", \"width\": 0.5}}, \"type\": \"barpolar\"}], \"carpet\": [{\"aaxis\": {\"endlinecolor\": \"#2a3f5f\", \"gridcolor\": \"white\", \"linecolor\": \"white\", \"minorgridcolor\": \"white\", \"startlinecolor\": \"#2a3f5f\"}, \"baxis\": {\"endlinecolor\": \"#2a3f5f\", \"gridcolor\": \"white\", \"linecolor\": \"white\", \"minorgridcolor\": \"white\", \"startlinecolor\": \"#2a3f5f\"}, \"type\": \"carpet\"}], \"choropleth\": [{\"colorbar\": {\"outlinewidth\": 0, \"ticks\": \"\"}, \"type\": \"choropleth\"}], \"contour\": [{\"colorbar\": {\"outlinewidth\": 0, \"ticks\": \"\"}, \"colorscale\": [[0.0, \"#0d0887\"], [0.1111111111111111, \"#46039f\"], [0.2222222222222222, \"#7201a8\"], [0.3333333333333333, \"#9c179e\"], [0.4444444444444444, \"#bd3786\"], [0.5555555555555556, \"#d8576b\"], [0.6666666666666666, \"#ed7953\"], [0.7777777777777778, \"#fb9f3a\"], [0.8888888888888888, \"#fdca26\"], [1.0, \"#f0f921\"]], \"type\": \"contour\"}], \"contourcarpet\": [{\"colorbar\": {\"outlinewidth\": 0, \"ticks\": \"\"}, \"type\": \"contourcarpet\"}], \"heatmap\": [{\"colorbar\": {\"outlinewidth\": 0, \"ticks\": \"\"}, \"colorscale\": [[0.0, \"#0d0887\"], [0.1111111111111111, \"#46039f\"], [0.2222222222222222, \"#7201a8\"], [0.3333333333333333, \"#9c179e\"], [0.4444444444444444, \"#bd3786\"], [0.5555555555555556, \"#d8576b\"], [0.6666666666666666, \"#ed7953\"], [0.7777777777777778, \"#fb9f3a\"], [0.8888888888888888, \"#fdca26\"], [1.0, \"#f0f921\"]], \"type\": \"heatmap\"}], \"heatmapgl\": [{\"colorbar\": {\"outlinewidth\": 0, \"ticks\": \"\"}, \"colorscale\": [[0.0, \"#0d0887\"], [0.1111111111111111, \"#46039f\"], [0.2222222222222222, \"#7201a8\"], [0.3333333333333333, \"#9c179e\"], [0.4444444444444444, \"#bd3786\"], [0.5555555555555556, \"#d8576b\"], [0.6666666666666666, \"#ed7953\"], [0.7777777777777778, \"#fb9f3a\"], [0.8888888888888888, \"#fdca26\"], [1.0, \"#f0f921\"]], \"type\": \"heatmapgl\"}], \"histogram\": [{\"marker\": {\"colorbar\": {\"outlinewidth\": 0, \"ticks\": \"\"}}, \"type\": \"histogram\"}], \"histogram2d\": [{\"colorbar\": {\"outlinewidth\": 0, \"ticks\": \"\"}, \"colorscale\": [[0.0, \"#0d0887\"], [0.1111111111111111, \"#46039f\"], [0.2222222222222222, \"#7201a8\"], [0.3333333333333333, \"#9c179e\"], [0.4444444444444444, \"#bd3786\"], [0.5555555555555556, \"#d8576b\"], [0.6666666666666666, \"#ed7953\"], [0.7777777777777778, \"#fb9f3a\"], [0.8888888888888888, \"#fdca26\"], [1.0, \"#f0f921\"]], \"type\": \"histogram2d\"}], \"histogram2dcontour\": [{\"colorbar\": {\"outlinewidth\": 0, \"ticks\": \"\"}, \"colorscale\": [[0.0, \"#0d0887\"], [0.1111111111111111, \"#46039f\"], [0.2222222222222222, \"#7201a8\"], [0.3333333333333333, \"#9c179e\"], [0.4444444444444444, \"#bd3786\"], [0.5555555555555556, \"#d8576b\"], [0.6666666666666666, \"#ed7953\"], [0.7777777777777778, \"#fb9f3a\"], [0.8888888888888888, \"#fdca26\"], [1.0, \"#f0f921\"]], \"type\": \"histogram2dcontour\"}], \"mesh3d\": [{\"colorbar\": {\"outlinewidth\": 0, \"ticks\": \"\"}, \"type\": \"mesh3d\"}], \"parcoords\": [{\"line\": {\"colorbar\": {\"outlinewidth\": 0, \"ticks\": \"\"}}, \"type\": \"parcoords\"}], \"pie\": [{\"automargin\": true, \"type\": \"pie\"}], \"scatter\": [{\"marker\": {\"colorbar\": {\"outlinewidth\": 0, \"ticks\": \"\"}}, \"type\": \"scatter\"}], \"scatter3d\": [{\"line\": {\"colorbar\": {\"outlinewidth\": 0, \"ticks\": \"\"}}, \"marker\": {\"colorbar\": {\"outlinewidth\": 0, \"ticks\": \"\"}}, \"type\": \"scatter3d\"}], \"scattercarpet\": [{\"marker\": {\"colorbar\": {\"outlinewidth\": 0, \"ticks\": \"\"}}, \"type\": \"scattercarpet\"}], \"scattergeo\": [{\"marker\": {\"colorbar\": {\"outlinewidth\": 0, \"ticks\": \"\"}}, \"type\": \"scattergeo\"}], \"scattergl\": [{\"marker\": {\"colorbar\": {\"outlinewidth\": 0, \"ticks\": \"\"}}, \"type\": \"scattergl\"}], \"scattermapbox\": [{\"marker\": {\"colorbar\": {\"outlinewidth\": 0, \"ticks\": \"\"}}, \"type\": \"scattermapbox\"}], \"scatterpolar\": [{\"marker\": {\"colorbar\": {\"outlinewidth\": 0, \"ticks\": \"\"}}, \"type\": \"scatterpolar\"}], \"scatterpolargl\": [{\"marker\": {\"colorbar\": {\"outlinewidth\": 0, \"ticks\": \"\"}}, \"type\": \"scatterpolargl\"}], \"scatterternary\": [{\"marker\": {\"colorbar\": {\"outlinewidth\": 0, \"ticks\": \"\"}}, \"type\": \"scatterternary\"}], \"surface\": [{\"colorbar\": {\"outlinewidth\": 0, \"ticks\": \"\"}, \"colorscale\": [[0.0, \"#0d0887\"], [0.1111111111111111, \"#46039f\"], [0.2222222222222222, \"#7201a8\"], [0.3333333333333333, \"#9c179e\"], [0.4444444444444444, \"#bd3786\"], [0.5555555555555556, \"#d8576b\"], [0.6666666666666666, \"#ed7953\"], [0.7777777777777778, \"#fb9f3a\"], [0.8888888888888888, \"#fdca26\"], [1.0, \"#f0f921\"]], \"type\": \"surface\"}], \"table\": [{\"cells\": {\"fill\": {\"color\": \"#EBF0F8\"}, \"line\": {\"color\": \"white\"}}, \"header\": {\"fill\": {\"color\": \"#C8D4E3\"}, \"line\": {\"color\": \"white\"}}, \"type\": \"table\"}]}, \"layout\": {\"annotationdefaults\": {\"arrowcolor\": \"#2a3f5f\", \"arrowhead\": 0, \"arrowwidth\": 1}, \"coloraxis\": {\"colorbar\": {\"outlinewidth\": 0, \"ticks\": \"\"}}, \"colorscale\": {\"diverging\": [[0, \"#8e0152\"], [0.1, \"#c51b7d\"], [0.2, \"#de77ae\"], [0.3, \"#f1b6da\"], [0.4, \"#fde0ef\"], [0.5, \"#f7f7f7\"], [0.6, \"#e6f5d0\"], [0.7, \"#b8e186\"], [0.8, \"#7fbc41\"], [0.9, \"#4d9221\"], [1, \"#276419\"]], \"sequential\": [[0.0, \"#0d0887\"], [0.1111111111111111, \"#46039f\"], [0.2222222222222222, \"#7201a8\"], [0.3333333333333333, \"#9c179e\"], [0.4444444444444444, \"#bd3786\"], [0.5555555555555556, \"#d8576b\"], [0.6666666666666666, \"#ed7953\"], [0.7777777777777778, \"#fb9f3a\"], [0.8888888888888888, \"#fdca26\"], [1.0, \"#f0f921\"]], \"sequentialminus\": [[0.0, \"#0d0887\"], [0.1111111111111111, \"#46039f\"], [0.2222222222222222, \"#7201a8\"], [0.3333333333333333, \"#9c179e\"], [0.4444444444444444, \"#bd3786\"], [0.5555555555555556, \"#d8576b\"], [0.6666666666666666, \"#ed7953\"], [0.7777777777777778, \"#fb9f3a\"], [0.8888888888888888, \"#fdca26\"], [1.0, \"#f0f921\"]]}, \"colorway\": [\"#636efa\", \"#EF553B\", \"#00cc96\", \"#ab63fa\", \"#FFA15A\", \"#19d3f3\", \"#FF6692\", \"#B6E880\", \"#FF97FF\", \"#FECB52\"], \"font\": {\"color\": \"#2a3f5f\"}, \"geo\": {\"bgcolor\": \"white\", \"lakecolor\": \"white\", \"landcolor\": \"#E5ECF6\", \"showlakes\": true, \"showland\": true, \"subunitcolor\": \"white\"}, \"hoverlabel\": {\"align\": \"left\"}, \"hovermode\": \"closest\", \"mapbox\": {\"style\": \"light\"}, \"paper_bgcolor\": \"white\", \"plot_bgcolor\": \"#E5ECF6\", \"polar\": {\"angularaxis\": {\"gridcolor\": \"white\", \"linecolor\": \"white\", \"ticks\": \"\"}, \"bgcolor\": \"#E5ECF6\", \"radialaxis\": {\"gridcolor\": \"white\", \"linecolor\": \"white\", \"ticks\": \"\"}}, \"scene\": {\"xaxis\": {\"backgroundcolor\": \"#E5ECF6\", \"gridcolor\": \"white\", \"gridwidth\": 2, \"linecolor\": \"white\", \"showbackground\": true, \"ticks\": \"\", \"zerolinecolor\": \"white\"}, \"yaxis\": {\"backgroundcolor\": \"#E5ECF6\", \"gridcolor\": \"white\", \"gridwidth\": 2, \"linecolor\": \"white\", \"showbackground\": true, \"ticks\": \"\", \"zerolinecolor\": \"white\"}, \"zaxis\": {\"backgroundcolor\": \"#E5ECF6\", \"gridcolor\": \"white\", \"gridwidth\": 2, \"linecolor\": \"white\", \"showbackground\": true, \"ticks\": \"\", \"zerolinecolor\": \"white\"}}, \"shapedefaults\": {\"line\": {\"color\": \"#2a3f5f\"}}, \"ternary\": {\"aaxis\": {\"gridcolor\": \"white\", \"linecolor\": \"white\", \"ticks\": \"\"}, \"baxis\": {\"gridcolor\": \"white\", \"linecolor\": \"white\", \"ticks\": \"\"}, \"bgcolor\": \"#E5ECF6\", \"caxis\": {\"gridcolor\": \"white\", \"linecolor\": \"white\", \"ticks\": \"\"}}, \"title\": {\"x\": 0.05}, \"xaxis\": {\"automargin\": true, \"gridcolor\": \"white\", \"linecolor\": \"white\", \"ticks\": \"\", \"title\": {\"standoff\": 15}, \"zerolinecolor\": \"white\", \"zerolinewidth\": 2}, \"yaxis\": {\"automargin\": true, \"gridcolor\": \"white\", \"linecolor\": \"white\", \"ticks\": \"\", \"title\": {\"standoff\": 15}, \"zerolinecolor\": \"white\", \"zerolinewidth\": 2}}}, \"title\": {\"text\": \"Gantt Chart\"}, \"xaxis\": {\"rangeselector\": {\"buttons\": [{\"count\": 7, \"label\": \"1w\", \"step\": \"day\", \"stepmode\": \"backward\"}, {\"count\": 1, \"label\": \"1m\", \"step\": \"month\", \"stepmode\": \"backward\"}, {\"count\": 6, \"label\": \"6m\", \"step\": \"month\", \"stepmode\": \"backward\"}, {\"count\": 1, \"label\": \"YTD\", \"step\": \"year\", \"stepmode\": \"todate\"}, {\"count\": 1, \"label\": \"1y\", \"step\": \"year\", \"stepmode\": \"backward\"}, {\"step\": \"all\"}]}, \"showgrid\": true, \"tickformat\": \"%\", \"type\": \"date\", \"zeroline\": false}, \"yaxis\": {\"autorange\": false, \"range\": [-1, 37], \"showgrid\": true, \"ticktext\": [\"Machine  #0\", \"Machine  #0\", \"Machine  #0\", \"Machine  #0\", \"Machine  #0\", \"Machine  #0\", \"Machine  #1\", \"Machine  #1\", \"Machine  #1\", \"Machine  #1\", \"Machine  #1\", \"Machine  #1\", \"Machine  #2\", \"Machine  #2\", \"Machine  #2\", \"Machine  #2\", \"Machine  #2\", \"Machine  #2\", \"Machine  #3\", \"Machine  #3\", \"Machine  #3\", \"Machine  #3\", \"Machine  #3\", \"Machine  #3\", \"Machine  #4\", \"Machine  #4\", \"Machine  #4\", \"Machine  #4\", \"Machine  #4\", \"Machine  #4\", \"Machine  #5\", \"Machine  #5\", \"Machine  #5\", \"Machine  #5\", \"Machine  #5\", \"Machine  #5\"], \"tickvals\": [0, 1, 2, 3, 4, 5, 6, 7, 8, 9, 10, 11, 12, 13, 14, 15, 16, 17, 18, 19, 20, 21, 22, 23, 24, 25, 26, 27, 28, 29, 30, 31, 32, 33, 34, 35], \"zeroline\": false}},\n                        {\"responsive\": true}\n                    ).then(function(){\n                            \nvar gd = document.getElementById('606b5f90-7fdb-4408-8d4f-a9ce9816431c');\nvar x = new MutationObserver(function (mutations, observer) {{\n        var display = window.getComputedStyle(gd).display;\n        if (!display || display === 'none') {{\n            console.log([gd, 'removed!']);\n            Plotly.purge(gd);\n            observer.disconnect();\n        }}\n}});\n\n// Listen for the removal of the full notebook cells\nvar notebookContainer = gd.closest('#notebook-container');\nif (notebookContainer) {{\n    x.observe(notebookContainer, {childList: true});\n}}\n\n// Listen for the clearing of the current output cell\nvar outputEl = gd.closest('.output');\nif (outputEl) {{\n    x.observe(outputEl, {childList: true});\n}}\n\n                        })\n                };\n                });\n            </script>\n        </div>"
     },
     "metadata": {},
     "output_type": "display_data"
    }
   ],
   "source": [
    "plot_gantt(inst, by= \"MACHINE\", grouping = False)\n"
   ],
   "metadata": {
    "collapsed": false,
    "pycharm": {
     "name": "#%%\n",
     "is_executing": false
    }
   }
  },
  {
   "cell_type": "code",
   "execution_count": 10,
   "outputs": [
    {
     "data": {
      "application/vnd.plotly.v1+json": {
       "config": {
        "plotlyServerURL": "https://plot.ly"
       },
       "data": [
        {
         "fill": "toself",
         "fillcolor": "rgb(140, 86, 75)",
         "hoverinfo": "name",
         "legendgroup": "rgb(140, 86, 75)",
         "mode": "none",
         "name": "Machine #5",
         "showlegend": true,
         "type": "scatter",
         "x": [
          "0001-02-12T00:00:00",
          "0001-02-15T00:00:00",
          "0001-02-15T00:00:00",
          "0001-02-12T00:00:00",
          "0001-02-12T00:00:00",
          "0001-02-15T00:00:00",
          "0001-02-25T00:00:00",
          "0001-02-25T00:00:00",
          "0001-02-15T00:00:00",
          "0001-02-15T00:00:00",
          "0001-01-10T00:00:00",
          "0001-01-18T00:00:00",
          "0001-01-18T00:00:00",
          "0001-01-10T00:00:00",
          "0001-01-10T00:00:00",
          "0001-02-03T00:00:00",
          "0001-02-12T00:00:00",
          "0001-02-12T00:00:00",
          "0001-02-03T00:00:00",
          "0001-02-03T00:00:00",
          "0001-01-28T00:00:00",
          "0001-02-01T00:00:00",
          "0001-02-01T00:00:00",
          "0001-01-28T00:00:00",
          "0001-01-28T00:00:00",
          "0001-01-19T00:00:00",
          "0001-01-28T00:00:00",
          "0001-01-28T00:00:00",
          "0001-01-19T00:00:00"
         ],
         "y": [
          3.8,
          3.8,
          4.2,
          4.2,
          null,
          8.8,
          8.8,
          9.2,
          9.2,
          null,
          13.8,
          13.8,
          14.2,
          14.2,
          null,
          22.8,
          22.8,
          23.2,
          23.2,
          null,
          26.8,
          26.8,
          27.2,
          27.2,
          null,
          31.8,
          31.8,
          32.2,
          32.2
         ]
        },
        {
         "fill": "toself",
         "fillcolor": "rgb(148, 103, 189)",
         "hoverinfo": "name",
         "legendgroup": "rgb(148, 103, 189)",
         "mode": "none",
         "name": "Machine #4",
         "showlegend": true,
         "type": "scatter",
         "x": [
          "0001-02-24T00:00:00",
          "0001-03-02T00:00:00",
          "0001-03-02T00:00:00",
          "0001-02-24T00:00:00",
          "0001-02-24T00:00:00",
          "0001-02-03T00:00:00",
          "0001-02-13T00:00:00",
          "0001-02-13T00:00:00",
          "0001-02-03T00:00:00",
          "0001-02-03T00:00:00",
          "0001-02-13T00:00:00",
          "0001-02-20T00:00:00",
          "0001-02-20T00:00:00",
          "0001-02-13T00:00:00",
          "0001-02-13T00:00:00",
          "0001-01-26T00:00:00",
          "0001-02-03T00:00:00",
          "0001-02-03T00:00:00",
          "0001-01-26T00:00:00",
          "0001-01-26T00:00:00",
          "0001-01-21T00:00:00",
          "0001-01-26T00:00:00",
          "0001-01-26T00:00:00",
          "0001-01-21T00:00:00",
          "0001-01-21T00:00:00",
          "0001-02-20T00:00:00",
          "0001-02-24T00:00:00",
          "0001-02-24T00:00:00",
          "0001-02-20T00:00:00"
         ],
         "y": [
          4.8,
          4.8,
          5.2,
          5.2,
          null,
          7.8,
          7.8,
          8.2,
          8.2,
          null,
          16.8,
          16.8,
          17.2,
          17.2,
          null,
          21.8,
          21.8,
          22.2,
          22.2,
          null,
          25.8,
          25.8,
          26.2,
          26.2,
          null,
          33.8,
          33.8,
          34.2,
          34.2
         ]
        },
        {
         "fill": "toself",
         "fillcolor": "rgb(214, 39, 40)",
         "hoverinfo": "name",
         "legendgroup": "rgb(214, 39, 40)",
         "mode": "none",
         "name": "Machine #3",
         "showlegend": true,
         "type": "scatter",
         "x": [
          "0001-02-05T00:00:00",
          "0001-02-12T00:00:00",
          "0001-02-12T00:00:00",
          "0001-02-05T00:00:00",
          "0001-02-05T00:00:00",
          "0001-03-07T00:00:00",
          "0001-03-11T00:00:00",
          "0001-03-11T00:00:00",
          "0001-03-07T00:00:00",
          "0001-03-07T00:00:00",
          "0001-01-06T00:00:00",
          "0001-01-10T00:00:00",
          "0001-01-10T00:00:00",
          "0001-01-06T00:00:00",
          "0001-01-06T00:00:00",
          "0001-01-20T00:00:00",
          "0001-01-23T00:00:00",
          "0001-01-23T00:00:00",
          "0001-01-20T00:00:00",
          "0001-01-20T00:00:00",
          "0001-02-12T00:00:00",
          "0001-02-13T00:00:00",
          "0001-02-13T00:00:00",
          "0001-02-12T00:00:00",
          "0001-02-12T00:00:00",
          "0001-01-10T00:00:00",
          "0001-01-13T00:00:00",
          "0001-01-13T00:00:00",
          "0001-01-10T00:00:00"
         ],
         "y": [
          2.8,
          2.8,
          3.2,
          3.2,
          null,
          10.8,
          10.8,
          11.2,
          11.2,
          null,
          12.8,
          12.8,
          13.2,
          13.2,
          null,
          20.8,
          20.8,
          21.2,
          21.2,
          null,
          28.8,
          28.8,
          29.2,
          29.2,
          null,
          30.8,
          30.8,
          31.2,
          31.2
         ]
        },
        {
         "fill": "toself",
         "fillcolor": "rgb(255, 127, 14)",
         "hoverinfo": "name",
         "legendgroup": "rgb(255, 127, 14)",
         "mode": "none",
         "name": "Machine #1",
         "showlegend": true,
         "type": "scatter",
         "x": [
          "0001-01-30T00:00:00",
          "0001-02-05T00:00:00",
          "0001-02-05T00:00:00",
          "0001-01-30T00:00:00",
          "0001-01-30T00:00:00",
          "0001-01-10T00:00:00",
          "0001-01-18T00:00:00",
          "0001-01-18T00:00:00",
          "0001-01-10T00:00:00",
          "0001-01-10T00:00:00",
          "0001-01-27T00:00:00",
          "0001-01-28T00:00:00",
          "0001-01-28T00:00:00",
          "0001-01-27T00:00:00",
          "0001-01-27T00:00:00",
          "0001-01-02T00:00:00",
          "0001-01-07T00:00:00",
          "0001-01-07T00:00:00",
          "0001-01-02T00:00:00",
          "0001-01-02T00:00:00",
          "0001-01-18T00:00:00",
          "0001-01-21T00:00:00",
          "0001-01-21T00:00:00",
          "0001-01-18T00:00:00",
          "0001-01-18T00:00:00",
          "0001-01-07T00:00:00",
          "0001-01-10T00:00:00",
          "0001-01-10T00:00:00",
          "0001-01-07T00:00:00"
         ],
         "y": [
          1.8,
          1.8,
          2.2,
          2.2,
          null,
          5.8,
          5.8,
          6.2,
          6.2,
          null,
          15.8,
          15.8,
          16.2,
          16.2,
          null,
          17.8,
          17.8,
          18.2,
          18.2,
          null,
          24.8,
          24.8,
          25.2,
          25.2,
          null,
          29.8,
          29.8,
          30.2,
          30.2
         ]
        },
        {
         "fill": "toself",
         "fillcolor": "rgb(31, 119, 180)",
         "hoverinfo": "name",
         "legendgroup": "rgb(31, 119, 180)",
         "mode": "none",
         "name": "Machine #0",
         "showlegend": true,
         "type": "scatter",
         "x": [
          "0001-01-27T00:00:00",
          "0001-01-30T00:00:00",
          "0001-01-30T00:00:00",
          "0001-01-27T00:00:00",
          "0001-01-27T00:00:00",
          "0001-02-25T00:00:00",
          "0001-03-07T00:00:00",
          "0001-03-07T00:00:00",
          "0001-02-25T00:00:00",
          "0001-02-25T00:00:00",
          "0001-01-18T00:00:00",
          "0001-01-27T00:00:00",
          "0001-01-27T00:00:00",
          "0001-01-18T00:00:00",
          "0001-01-18T00:00:00",
          "0001-01-07T00:00:00",
          "0001-01-12T00:00:00",
          "0001-01-12T00:00:00",
          "0001-01-07T00:00:00",
          "0001-01-07T00:00:00",
          "0001-02-09T00:00:00",
          "0001-02-12T00:00:00",
          "0001-02-12T00:00:00",
          "0001-02-09T00:00:00",
          "0001-02-09T00:00:00",
          "0001-01-30T00:00:00",
          "0001-02-09T00:00:00",
          "0001-02-09T00:00:00",
          "0001-01-30T00:00:00"
         ],
         "y": [
          0.8,
          0.8,
          1.2,
          1.2,
          null,
          9.8,
          9.8,
          10.2,
          10.2,
          null,
          14.8,
          14.8,
          15.2,
          15.2,
          null,
          18.8,
          18.8,
          19.2,
          19.2,
          null,
          27.8,
          27.8,
          28.2,
          28.2,
          null,
          32.8,
          32.8,
          33.2,
          33.2
         ]
        },
        {
         "fill": "toself",
         "fillcolor": "rgb(44, 160, 44)",
         "hoverinfo": "name",
         "legendgroup": "rgb(44, 160, 44)",
         "mode": "none",
         "name": "Machine #2",
         "showlegend": true,
         "type": "scatter",
         "x": [
          "0001-01-25T00:00:00",
          "0001-01-26T00:00:00",
          "0001-01-26T00:00:00",
          "0001-01-25T00:00:00",
          "0001-01-25T00:00:00",
          "0001-01-20T00:00:00",
          "0001-01-25T00:00:00",
          "0001-01-25T00:00:00",
          "0001-01-20T00:00:00",
          "0001-01-20T00:00:00",
          "0001-01-01T00:00:00",
          "0001-01-06T00:00:00",
          "0001-01-06T00:00:00",
          "0001-01-01T00:00:00",
          "0001-01-01T00:00:00",
          "0001-01-15T00:00:00",
          "0001-01-20T00:00:00",
          "0001-01-20T00:00:00",
          "0001-01-15T00:00:00",
          "0001-01-15T00:00:00",
          "0001-01-06T00:00:00",
          "0001-01-15T00:00:00",
          "0001-01-15T00:00:00",
          "0001-01-06T00:00:00",
          "0001-01-06T00:00:00",
          "0001-02-25T00:00:00",
          "0001-02-26T00:00:00",
          "0001-02-26T00:00:00",
          "0001-02-25T00:00:00"
         ],
         "y": [
          -0.2,
          -0.2,
          0.2,
          0.2,
          null,
          6.8,
          6.8,
          7.2,
          7.2,
          null,
          11.8,
          11.8,
          12.2,
          12.2,
          null,
          19.8,
          19.8,
          20.2,
          20.2,
          null,
          23.8,
          23.8,
          24.2,
          24.2,
          null,
          34.8,
          34.8,
          35.2,
          35.2
         ]
        },
        {
         "legendgroup": "rgb(140, 86, 75)",
         "marker": {
          "color": "rgb(140, 86, 75)",
          "opacity": 0,
          "size": 1
         },
         "mode": "markers",
         "name": "",
         "showlegend": false,
         "text": [
          null,
          null,
          null,
          null,
          null,
          null,
          null,
          null,
          null,
          null,
          null,
          null
         ],
         "type": "scatter",
         "x": [
          "0001-02-12T00:00:00",
          "0001-02-15T00:00:00",
          "0001-02-15T00:00:00",
          "0001-02-25T00:00:00",
          "0001-01-10T00:00:00",
          "0001-01-18T00:00:00",
          "0001-02-03T00:00:00",
          "0001-02-12T00:00:00",
          "0001-01-28T00:00:00",
          "0001-02-01T00:00:00",
          "0001-01-19T00:00:00",
          "0001-01-28T00:00:00"
         ],
         "y": [
          4,
          4,
          9,
          9,
          14,
          14,
          23,
          23,
          27,
          27,
          32,
          32
         ]
        },
        {
         "legendgroup": "rgb(148, 103, 189)",
         "marker": {
          "color": "rgb(148, 103, 189)",
          "opacity": 0,
          "size": 1
         },
         "mode": "markers",
         "name": "",
         "showlegend": false,
         "text": [
          null,
          null,
          null,
          null,
          null,
          null,
          null,
          null,
          null,
          null,
          null,
          null
         ],
         "type": "scatter",
         "x": [
          "0001-02-24T00:00:00",
          "0001-03-02T00:00:00",
          "0001-02-03T00:00:00",
          "0001-02-13T00:00:00",
          "0001-02-13T00:00:00",
          "0001-02-20T00:00:00",
          "0001-01-26T00:00:00",
          "0001-02-03T00:00:00",
          "0001-01-21T00:00:00",
          "0001-01-26T00:00:00",
          "0001-02-20T00:00:00",
          "0001-02-24T00:00:00"
         ],
         "y": [
          5,
          5,
          8,
          8,
          17,
          17,
          22,
          22,
          26,
          26,
          34,
          34
         ]
        },
        {
         "legendgroup": "rgb(214, 39, 40)",
         "marker": {
          "color": "rgb(214, 39, 40)",
          "opacity": 0,
          "size": 1
         },
         "mode": "markers",
         "name": "",
         "showlegend": false,
         "text": [
          null,
          null,
          null,
          null,
          null,
          null,
          null,
          null,
          null,
          null,
          null,
          null
         ],
         "type": "scatter",
         "x": [
          "0001-02-05T00:00:00",
          "0001-02-12T00:00:00",
          "0001-03-07T00:00:00",
          "0001-03-11T00:00:00",
          "0001-01-06T00:00:00",
          "0001-01-10T00:00:00",
          "0001-01-20T00:00:00",
          "0001-01-23T00:00:00",
          "0001-02-12T00:00:00",
          "0001-02-13T00:00:00",
          "0001-01-10T00:00:00",
          "0001-01-13T00:00:00"
         ],
         "y": [
          3,
          3,
          11,
          11,
          13,
          13,
          21,
          21,
          29,
          29,
          31,
          31
         ]
        },
        {
         "legendgroup": "rgb(255, 127, 14)",
         "marker": {
          "color": "rgb(255, 127, 14)",
          "opacity": 0,
          "size": 1
         },
         "mode": "markers",
         "name": "",
         "showlegend": false,
         "text": [
          null,
          null,
          null,
          null,
          null,
          null,
          null,
          null,
          null,
          null,
          null,
          null
         ],
         "type": "scatter",
         "x": [
          "0001-01-30T00:00:00",
          "0001-02-05T00:00:00",
          "0001-01-10T00:00:00",
          "0001-01-18T00:00:00",
          "0001-01-27T00:00:00",
          "0001-01-28T00:00:00",
          "0001-01-02T00:00:00",
          "0001-01-07T00:00:00",
          "0001-01-18T00:00:00",
          "0001-01-21T00:00:00",
          "0001-01-07T00:00:00",
          "0001-01-10T00:00:00"
         ],
         "y": [
          2,
          2,
          6,
          6,
          16,
          16,
          18,
          18,
          25,
          25,
          30,
          30
         ]
        },
        {
         "legendgroup": "rgb(31, 119, 180)",
         "marker": {
          "color": "rgb(31, 119, 180)",
          "opacity": 0,
          "size": 1
         },
         "mode": "markers",
         "name": "",
         "showlegend": false,
         "text": [
          null,
          null,
          null,
          null,
          null,
          null,
          null,
          null,
          null,
          null,
          null,
          null
         ],
         "type": "scatter",
         "x": [
          "0001-01-27T00:00:00",
          "0001-01-30T00:00:00",
          "0001-02-25T00:00:00",
          "0001-03-07T00:00:00",
          "0001-01-18T00:00:00",
          "0001-01-27T00:00:00",
          "0001-01-07T00:00:00",
          "0001-01-12T00:00:00",
          "0001-02-09T00:00:00",
          "0001-02-12T00:00:00",
          "0001-01-30T00:00:00",
          "0001-02-09T00:00:00"
         ],
         "y": [
          1,
          1,
          10,
          10,
          15,
          15,
          19,
          19,
          28,
          28,
          33,
          33
         ]
        },
        {
         "legendgroup": "rgb(44, 160, 44)",
         "marker": {
          "color": "rgb(44, 160, 44)",
          "opacity": 0,
          "size": 1
         },
         "mode": "markers",
         "name": "",
         "showlegend": false,
         "text": [
          null,
          null,
          null,
          null,
          null,
          null,
          null,
          null,
          null,
          null,
          null,
          null
         ],
         "type": "scatter",
         "x": [
          "0001-01-25T00:00:00",
          "0001-01-26T00:00:00",
          "0001-01-20T00:00:00",
          "0001-01-25T00:00:00",
          "0001-01-01T00:00:00",
          "0001-01-06T00:00:00",
          "0001-01-15T00:00:00",
          "0001-01-20T00:00:00",
          "0001-01-06T00:00:00",
          "0001-01-15T00:00:00",
          "0001-02-25T00:00:00",
          "0001-02-26T00:00:00"
         ],
         "y": [
          0,
          0,
          7,
          7,
          12,
          12,
          20,
          20,
          24,
          24,
          35,
          35
         ]
        }
       ],
       "layout": {
        "height": 600,
        "hovermode": "closest",
        "showlegend": true,
        "template": {
         "data": {
          "bar": [
           {
            "error_x": {
             "color": "#2a3f5f"
            },
            "error_y": {
             "color": "#2a3f5f"
            },
            "marker": {
             "line": {
              "color": "#E5ECF6",
              "width": 0.5
             }
            },
            "type": "bar"
           }
          ],
          "barpolar": [
           {
            "marker": {
             "line": {
              "color": "#E5ECF6",
              "width": 0.5
             }
            },
            "type": "barpolar"
           }
          ],
          "carpet": [
           {
            "aaxis": {
             "endlinecolor": "#2a3f5f",
             "gridcolor": "white",
             "linecolor": "white",
             "minorgridcolor": "white",
             "startlinecolor": "#2a3f5f"
            },
            "baxis": {
             "endlinecolor": "#2a3f5f",
             "gridcolor": "white",
             "linecolor": "white",
             "minorgridcolor": "white",
             "startlinecolor": "#2a3f5f"
            },
            "type": "carpet"
           }
          ],
          "choropleth": [
           {
            "colorbar": {
             "outlinewidth": 0,
             "ticks": ""
            },
            "type": "choropleth"
           }
          ],
          "contour": [
           {
            "colorbar": {
             "outlinewidth": 0,
             "ticks": ""
            },
            "colorscale": [
             [
              0.0,
              "#0d0887"
             ],
             [
              0.1111111111111111,
              "#46039f"
             ],
             [
              0.2222222222222222,
              "#7201a8"
             ],
             [
              0.3333333333333333,
              "#9c179e"
             ],
             [
              0.4444444444444444,
              "#bd3786"
             ],
             [
              0.5555555555555556,
              "#d8576b"
             ],
             [
              0.6666666666666666,
              "#ed7953"
             ],
             [
              0.7777777777777778,
              "#fb9f3a"
             ],
             [
              0.8888888888888888,
              "#fdca26"
             ],
             [
              1.0,
              "#f0f921"
             ]
            ],
            "type": "contour"
           }
          ],
          "contourcarpet": [
           {
            "colorbar": {
             "outlinewidth": 0,
             "ticks": ""
            },
            "type": "contourcarpet"
           }
          ],
          "heatmap": [
           {
            "colorbar": {
             "outlinewidth": 0,
             "ticks": ""
            },
            "colorscale": [
             [
              0.0,
              "#0d0887"
             ],
             [
              0.1111111111111111,
              "#46039f"
             ],
             [
              0.2222222222222222,
              "#7201a8"
             ],
             [
              0.3333333333333333,
              "#9c179e"
             ],
             [
              0.4444444444444444,
              "#bd3786"
             ],
             [
              0.5555555555555556,
              "#d8576b"
             ],
             [
              0.6666666666666666,
              "#ed7953"
             ],
             [
              0.7777777777777778,
              "#fb9f3a"
             ],
             [
              0.8888888888888888,
              "#fdca26"
             ],
             [
              1.0,
              "#f0f921"
             ]
            ],
            "type": "heatmap"
           }
          ],
          "heatmapgl": [
           {
            "colorbar": {
             "outlinewidth": 0,
             "ticks": ""
            },
            "colorscale": [
             [
              0.0,
              "#0d0887"
             ],
             [
              0.1111111111111111,
              "#46039f"
             ],
             [
              0.2222222222222222,
              "#7201a8"
             ],
             [
              0.3333333333333333,
              "#9c179e"
             ],
             [
              0.4444444444444444,
              "#bd3786"
             ],
             [
              0.5555555555555556,
              "#d8576b"
             ],
             [
              0.6666666666666666,
              "#ed7953"
             ],
             [
              0.7777777777777778,
              "#fb9f3a"
             ],
             [
              0.8888888888888888,
              "#fdca26"
             ],
             [
              1.0,
              "#f0f921"
             ]
            ],
            "type": "heatmapgl"
           }
          ],
          "histogram": [
           {
            "marker": {
             "colorbar": {
              "outlinewidth": 0,
              "ticks": ""
             }
            },
            "type": "histogram"
           }
          ],
          "histogram2d": [
           {
            "colorbar": {
             "outlinewidth": 0,
             "ticks": ""
            },
            "colorscale": [
             [
              0.0,
              "#0d0887"
             ],
             [
              0.1111111111111111,
              "#46039f"
             ],
             [
              0.2222222222222222,
              "#7201a8"
             ],
             [
              0.3333333333333333,
              "#9c179e"
             ],
             [
              0.4444444444444444,
              "#bd3786"
             ],
             [
              0.5555555555555556,
              "#d8576b"
             ],
             [
              0.6666666666666666,
              "#ed7953"
             ],
             [
              0.7777777777777778,
              "#fb9f3a"
             ],
             [
              0.8888888888888888,
              "#fdca26"
             ],
             [
              1.0,
              "#f0f921"
             ]
            ],
            "type": "histogram2d"
           }
          ],
          "histogram2dcontour": [
           {
            "colorbar": {
             "outlinewidth": 0,
             "ticks": ""
            },
            "colorscale": [
             [
              0.0,
              "#0d0887"
             ],
             [
              0.1111111111111111,
              "#46039f"
             ],
             [
              0.2222222222222222,
              "#7201a8"
             ],
             [
              0.3333333333333333,
              "#9c179e"
             ],
             [
              0.4444444444444444,
              "#bd3786"
             ],
             [
              0.5555555555555556,
              "#d8576b"
             ],
             [
              0.6666666666666666,
              "#ed7953"
             ],
             [
              0.7777777777777778,
              "#fb9f3a"
             ],
             [
              0.8888888888888888,
              "#fdca26"
             ],
             [
              1.0,
              "#f0f921"
             ]
            ],
            "type": "histogram2dcontour"
           }
          ],
          "mesh3d": [
           {
            "colorbar": {
             "outlinewidth": 0,
             "ticks": ""
            },
            "type": "mesh3d"
           }
          ],
          "parcoords": [
           {
            "line": {
             "colorbar": {
              "outlinewidth": 0,
              "ticks": ""
             }
            },
            "type": "parcoords"
           }
          ],
          "pie": [
           {
            "automargin": true,
            "type": "pie"
           }
          ],
          "scatter": [
           {
            "marker": {
             "colorbar": {
              "outlinewidth": 0,
              "ticks": ""
             }
            },
            "type": "scatter"
           }
          ],
          "scatter3d": [
           {
            "line": {
             "colorbar": {
              "outlinewidth": 0,
              "ticks": ""
             }
            },
            "marker": {
             "colorbar": {
              "outlinewidth": 0,
              "ticks": ""
             }
            },
            "type": "scatter3d"
           }
          ],
          "scattercarpet": [
           {
            "marker": {
             "colorbar": {
              "outlinewidth": 0,
              "ticks": ""
             }
            },
            "type": "scattercarpet"
           }
          ],
          "scattergeo": [
           {
            "marker": {
             "colorbar": {
              "outlinewidth": 0,
              "ticks": ""
             }
            },
            "type": "scattergeo"
           }
          ],
          "scattergl": [
           {
            "marker": {
             "colorbar": {
              "outlinewidth": 0,
              "ticks": ""
             }
            },
            "type": "scattergl"
           }
          ],
          "scattermapbox": [
           {
            "marker": {
             "colorbar": {
              "outlinewidth": 0,
              "ticks": ""
             }
            },
            "type": "scattermapbox"
           }
          ],
          "scatterpolar": [
           {
            "marker": {
             "colorbar": {
              "outlinewidth": 0,
              "ticks": ""
             }
            },
            "type": "scatterpolar"
           }
          ],
          "scatterpolargl": [
           {
            "marker": {
             "colorbar": {
              "outlinewidth": 0,
              "ticks": ""
             }
            },
            "type": "scatterpolargl"
           }
          ],
          "scatterternary": [
           {
            "marker": {
             "colorbar": {
              "outlinewidth": 0,
              "ticks": ""
             }
            },
            "type": "scatterternary"
           }
          ],
          "surface": [
           {
            "colorbar": {
             "outlinewidth": 0,
             "ticks": ""
            },
            "colorscale": [
             [
              0.0,
              "#0d0887"
             ],
             [
              0.1111111111111111,
              "#46039f"
             ],
             [
              0.2222222222222222,
              "#7201a8"
             ],
             [
              0.3333333333333333,
              "#9c179e"
             ],
             [
              0.4444444444444444,
              "#bd3786"
             ],
             [
              0.5555555555555556,
              "#d8576b"
             ],
             [
              0.6666666666666666,
              "#ed7953"
             ],
             [
              0.7777777777777778,
              "#fb9f3a"
             ],
             [
              0.8888888888888888,
              "#fdca26"
             ],
             [
              1.0,
              "#f0f921"
             ]
            ],
            "type": "surface"
           }
          ],
          "table": [
           {
            "cells": {
             "fill": {
              "color": "#EBF0F8"
             },
             "line": {
              "color": "white"
             }
            },
            "header": {
             "fill": {
              "color": "#C8D4E3"
             },
             "line": {
              "color": "white"
             }
            },
            "type": "table"
           }
          ]
         },
         "layout": {
          "annotationdefaults": {
           "arrowcolor": "#2a3f5f",
           "arrowhead": 0,
           "arrowwidth": 1
          },
          "coloraxis": {
           "colorbar": {
            "outlinewidth": 0,
            "ticks": ""
           }
          },
          "colorscale": {
           "diverging": [
            [
             0,
             "#8e0152"
            ],
            [
             0.1,
             "#c51b7d"
            ],
            [
             0.2,
             "#de77ae"
            ],
            [
             0.3,
             "#f1b6da"
            ],
            [
             0.4,
             "#fde0ef"
            ],
            [
             0.5,
             "#f7f7f7"
            ],
            [
             0.6,
             "#e6f5d0"
            ],
            [
             0.7,
             "#b8e186"
            ],
            [
             0.8,
             "#7fbc41"
            ],
            [
             0.9,
             "#4d9221"
            ],
            [
             1,
             "#276419"
            ]
           ],
           "sequential": [
            [
             0.0,
             "#0d0887"
            ],
            [
             0.1111111111111111,
             "#46039f"
            ],
            [
             0.2222222222222222,
             "#7201a8"
            ],
            [
             0.3333333333333333,
             "#9c179e"
            ],
            [
             0.4444444444444444,
             "#bd3786"
            ],
            [
             0.5555555555555556,
             "#d8576b"
            ],
            [
             0.6666666666666666,
             "#ed7953"
            ],
            [
             0.7777777777777778,
             "#fb9f3a"
            ],
            [
             0.8888888888888888,
             "#fdca26"
            ],
            [
             1.0,
             "#f0f921"
            ]
           ],
           "sequentialminus": [
            [
             0.0,
             "#0d0887"
            ],
            [
             0.1111111111111111,
             "#46039f"
            ],
            [
             0.2222222222222222,
             "#7201a8"
            ],
            [
             0.3333333333333333,
             "#9c179e"
            ],
            [
             0.4444444444444444,
             "#bd3786"
            ],
            [
             0.5555555555555556,
             "#d8576b"
            ],
            [
             0.6666666666666666,
             "#ed7953"
            ],
            [
             0.7777777777777778,
             "#fb9f3a"
            ],
            [
             0.8888888888888888,
             "#fdca26"
            ],
            [
             1.0,
             "#f0f921"
            ]
           ]
          },
          "colorway": [
           "#636efa",
           "#EF553B",
           "#00cc96",
           "#ab63fa",
           "#FFA15A",
           "#19d3f3",
           "#FF6692",
           "#B6E880",
           "#FF97FF",
           "#FECB52"
          ],
          "font": {
           "color": "#2a3f5f"
          },
          "geo": {
           "bgcolor": "white",
           "lakecolor": "white",
           "landcolor": "#E5ECF6",
           "showlakes": true,
           "showland": true,
           "subunitcolor": "white"
          },
          "hoverlabel": {
           "align": "left"
          },
          "hovermode": "closest",
          "mapbox": {
           "style": "light"
          },
          "paper_bgcolor": "white",
          "plot_bgcolor": "#E5ECF6",
          "polar": {
           "angularaxis": {
            "gridcolor": "white",
            "linecolor": "white",
            "ticks": ""
           },
           "bgcolor": "#E5ECF6",
           "radialaxis": {
            "gridcolor": "white",
            "linecolor": "white",
            "ticks": ""
           }
          },
          "scene": {
           "xaxis": {
            "backgroundcolor": "#E5ECF6",
            "gridcolor": "white",
            "gridwidth": 2,
            "linecolor": "white",
            "showbackground": true,
            "ticks": "",
            "zerolinecolor": "white"
           },
           "yaxis": {
            "backgroundcolor": "#E5ECF6",
            "gridcolor": "white",
            "gridwidth": 2,
            "linecolor": "white",
            "showbackground": true,
            "ticks": "",
            "zerolinecolor": "white"
           },
           "zaxis": {
            "backgroundcolor": "#E5ECF6",
            "gridcolor": "white",
            "gridwidth": 2,
            "linecolor": "white",
            "showbackground": true,
            "ticks": "",
            "zerolinecolor": "white"
           }
          },
          "shapedefaults": {
           "line": {
            "color": "#2a3f5f"
           }
          },
          "ternary": {
           "aaxis": {
            "gridcolor": "white",
            "linecolor": "white",
            "ticks": ""
           },
           "baxis": {
            "gridcolor": "white",
            "linecolor": "white",
            "ticks": ""
           },
           "bgcolor": "#E5ECF6",
           "caxis": {
            "gridcolor": "white",
            "linecolor": "white",
            "ticks": ""
           }
          },
          "title": {
           "x": 0.05
          },
          "xaxis": {
           "automargin": true,
           "gridcolor": "white",
           "linecolor": "white",
           "ticks": "",
           "title": {
            "standoff": 15
           },
           "zerolinecolor": "white",
           "zerolinewidth": 2
          },
          "yaxis": {
           "automargin": true,
           "gridcolor": "white",
           "linecolor": "white",
           "ticks": "",
           "title": {
            "standoff": 15
           },
           "zerolinecolor": "white",
           "zerolinewidth": 2
          }
         }
        },
        "title": {
         "text": "Gantt Chart"
        },
        "xaxis": {
         "rangeselector": {
          "buttons": [
           {
            "count": 7,
            "label": "1w",
            "step": "day",
            "stepmode": "backward"
           },
           {
            "count": 1,
            "label": "1m",
            "step": "month",
            "stepmode": "backward"
           },
           {
            "count": 6,
            "label": "6m",
            "step": "month",
            "stepmode": "backward"
           },
           {
            "count": 1,
            "label": "YTD",
            "step": "year",
            "stepmode": "todate"
           },
           {
            "count": 1,
            "label": "1y",
            "step": "year",
            "stepmode": "backward"
           },
           {
            "step": "all"
           }
          ]
         },
         "showgrid": true,
         "tickformat": "%",
         "type": "date",
         "zeroline": false
        },
        "yaxis": {
         "autorange": false,
         "range": [
          -1,
          37
         ],
         "showgrid": true,
         "ticktext": [
          "Job  #0",
          "Job  #0",
          "Job  #0",
          "Job  #0",
          "Job  #0",
          "Job  #0",
          "Job  #1",
          "Job  #1",
          "Job  #1",
          "Job  #1",
          "Job  #1",
          "Job  #1",
          "Job  #2",
          "Job  #2",
          "Job  #2",
          "Job  #2",
          "Job  #2",
          "Job  #2",
          "Job  #3",
          "Job  #3",
          "Job  #3",
          "Job  #3",
          "Job  #3",
          "Job  #3",
          "Job  #4",
          "Job  #4",
          "Job  #4",
          "Job  #4",
          "Job  #4",
          "Job  #4",
          "Job  #5",
          "Job  #5",
          "Job  #5",
          "Job  #5",
          "Job  #5",
          "Job  #5"
         ],
         "tickvals": [
          0,
          1,
          2,
          3,
          4,
          5,
          6,
          7,
          8,
          9,
          10,
          11,
          12,
          13,
          14,
          15,
          16,
          17,
          18,
          19,
          20,
          21,
          22,
          23,
          24,
          25,
          26,
          27,
          28,
          29,
          30,
          31,
          32,
          33,
          34,
          35
         ],
         "zeroline": false
        }
       }
      },
      "text/html": "<div>\n        \n        \n            <div id=\"0d4f79f1-d55c-4fab-824d-fc98c2d86c15\" class=\"plotly-graph-div\" style=\"height:600px; width:100%;\"></div>\n            <script type=\"text/javascript\">\n                require([\"plotly\"], function(Plotly) {\n                    window.PLOTLYENV=window.PLOTLYENV || {};\n                    \n                if (document.getElementById(\"0d4f79f1-d55c-4fab-824d-fc98c2d86c15\")) {\n                    Plotly.newPlot(\n                        '0d4f79f1-d55c-4fab-824d-fc98c2d86c15',\n                        [{\"fill\": \"toself\", \"fillcolor\": \"rgb(140, 86, 75)\", \"hoverinfo\": \"name\", \"legendgroup\": \"rgb(140, 86, 75)\", \"mode\": \"none\", \"name\": \"Machine #5\", \"showlegend\": true, \"type\": \"scatter\", \"x\": [\"0001-02-12T00:00:00\", \"0001-02-15T00:00:00\", \"0001-02-15T00:00:00\", \"0001-02-12T00:00:00\", \"0001-02-12T00:00:00\", \"0001-02-15T00:00:00\", \"0001-02-25T00:00:00\", \"0001-02-25T00:00:00\", \"0001-02-15T00:00:00\", \"0001-02-15T00:00:00\", \"0001-01-10T00:00:00\", \"0001-01-18T00:00:00\", \"0001-01-18T00:00:00\", \"0001-01-10T00:00:00\", \"0001-01-10T00:00:00\", \"0001-02-03T00:00:00\", \"0001-02-12T00:00:00\", \"0001-02-12T00:00:00\", \"0001-02-03T00:00:00\", \"0001-02-03T00:00:00\", \"0001-01-28T00:00:00\", \"0001-02-01T00:00:00\", \"0001-02-01T00:00:00\", \"0001-01-28T00:00:00\", \"0001-01-28T00:00:00\", \"0001-01-19T00:00:00\", \"0001-01-28T00:00:00\", \"0001-01-28T00:00:00\", \"0001-01-19T00:00:00\"], \"y\": [3.8, 3.8, 4.2, 4.2, null, 8.8, 8.8, 9.2, 9.2, null, 13.8, 13.8, 14.2, 14.2, null, 22.8, 22.8, 23.2, 23.2, null, 26.8, 26.8, 27.2, 27.2, null, 31.8, 31.8, 32.2, 32.2]}, {\"fill\": \"toself\", \"fillcolor\": \"rgb(148, 103, 189)\", \"hoverinfo\": \"name\", \"legendgroup\": \"rgb(148, 103, 189)\", \"mode\": \"none\", \"name\": \"Machine #4\", \"showlegend\": true, \"type\": \"scatter\", \"x\": [\"0001-02-24T00:00:00\", \"0001-03-02T00:00:00\", \"0001-03-02T00:00:00\", \"0001-02-24T00:00:00\", \"0001-02-24T00:00:00\", \"0001-02-03T00:00:00\", \"0001-02-13T00:00:00\", \"0001-02-13T00:00:00\", \"0001-02-03T00:00:00\", \"0001-02-03T00:00:00\", \"0001-02-13T00:00:00\", \"0001-02-20T00:00:00\", \"0001-02-20T00:00:00\", \"0001-02-13T00:00:00\", \"0001-02-13T00:00:00\", \"0001-01-26T00:00:00\", \"0001-02-03T00:00:00\", \"0001-02-03T00:00:00\", \"0001-01-26T00:00:00\", \"0001-01-26T00:00:00\", \"0001-01-21T00:00:00\", \"0001-01-26T00:00:00\", \"0001-01-26T00:00:00\", \"0001-01-21T00:00:00\", \"0001-01-21T00:00:00\", \"0001-02-20T00:00:00\", \"0001-02-24T00:00:00\", \"0001-02-24T00:00:00\", \"0001-02-20T00:00:00\"], \"y\": [4.8, 4.8, 5.2, 5.2, null, 7.8, 7.8, 8.2, 8.2, null, 16.8, 16.8, 17.2, 17.2, null, 21.8, 21.8, 22.2, 22.2, null, 25.8, 25.8, 26.2, 26.2, null, 33.8, 33.8, 34.2, 34.2]}, {\"fill\": \"toself\", \"fillcolor\": \"rgb(214, 39, 40)\", \"hoverinfo\": \"name\", \"legendgroup\": \"rgb(214, 39, 40)\", \"mode\": \"none\", \"name\": \"Machine #3\", \"showlegend\": true, \"type\": \"scatter\", \"x\": [\"0001-02-05T00:00:00\", \"0001-02-12T00:00:00\", \"0001-02-12T00:00:00\", \"0001-02-05T00:00:00\", \"0001-02-05T00:00:00\", \"0001-03-07T00:00:00\", \"0001-03-11T00:00:00\", \"0001-03-11T00:00:00\", \"0001-03-07T00:00:00\", \"0001-03-07T00:00:00\", \"0001-01-06T00:00:00\", \"0001-01-10T00:00:00\", \"0001-01-10T00:00:00\", \"0001-01-06T00:00:00\", \"0001-01-06T00:00:00\", \"0001-01-20T00:00:00\", \"0001-01-23T00:00:00\", \"0001-01-23T00:00:00\", \"0001-01-20T00:00:00\", \"0001-01-20T00:00:00\", \"0001-02-12T00:00:00\", \"0001-02-13T00:00:00\", \"0001-02-13T00:00:00\", \"0001-02-12T00:00:00\", \"0001-02-12T00:00:00\", \"0001-01-10T00:00:00\", \"0001-01-13T00:00:00\", \"0001-01-13T00:00:00\", \"0001-01-10T00:00:00\"], \"y\": [2.8, 2.8, 3.2, 3.2, null, 10.8, 10.8, 11.2, 11.2, null, 12.8, 12.8, 13.2, 13.2, null, 20.8, 20.8, 21.2, 21.2, null, 28.8, 28.8, 29.2, 29.2, null, 30.8, 30.8, 31.2, 31.2]}, {\"fill\": \"toself\", \"fillcolor\": \"rgb(255, 127, 14)\", \"hoverinfo\": \"name\", \"legendgroup\": \"rgb(255, 127, 14)\", \"mode\": \"none\", \"name\": \"Machine #1\", \"showlegend\": true, \"type\": \"scatter\", \"x\": [\"0001-01-30T00:00:00\", \"0001-02-05T00:00:00\", \"0001-02-05T00:00:00\", \"0001-01-30T00:00:00\", \"0001-01-30T00:00:00\", \"0001-01-10T00:00:00\", \"0001-01-18T00:00:00\", \"0001-01-18T00:00:00\", \"0001-01-10T00:00:00\", \"0001-01-10T00:00:00\", \"0001-01-27T00:00:00\", \"0001-01-28T00:00:00\", \"0001-01-28T00:00:00\", \"0001-01-27T00:00:00\", \"0001-01-27T00:00:00\", \"0001-01-02T00:00:00\", \"0001-01-07T00:00:00\", \"0001-01-07T00:00:00\", \"0001-01-02T00:00:00\", \"0001-01-02T00:00:00\", \"0001-01-18T00:00:00\", \"0001-01-21T00:00:00\", \"0001-01-21T00:00:00\", \"0001-01-18T00:00:00\", \"0001-01-18T00:00:00\", \"0001-01-07T00:00:00\", \"0001-01-10T00:00:00\", \"0001-01-10T00:00:00\", \"0001-01-07T00:00:00\"], \"y\": [1.8, 1.8, 2.2, 2.2, null, 5.8, 5.8, 6.2, 6.2, null, 15.8, 15.8, 16.2, 16.2, null, 17.8, 17.8, 18.2, 18.2, null, 24.8, 24.8, 25.2, 25.2, null, 29.8, 29.8, 30.2, 30.2]}, {\"fill\": \"toself\", \"fillcolor\": \"rgb(31, 119, 180)\", \"hoverinfo\": \"name\", \"legendgroup\": \"rgb(31, 119, 180)\", \"mode\": \"none\", \"name\": \"Machine #0\", \"showlegend\": true, \"type\": \"scatter\", \"x\": [\"0001-01-27T00:00:00\", \"0001-01-30T00:00:00\", \"0001-01-30T00:00:00\", \"0001-01-27T00:00:00\", \"0001-01-27T00:00:00\", \"0001-02-25T00:00:00\", \"0001-03-07T00:00:00\", \"0001-03-07T00:00:00\", \"0001-02-25T00:00:00\", \"0001-02-25T00:00:00\", \"0001-01-18T00:00:00\", \"0001-01-27T00:00:00\", \"0001-01-27T00:00:00\", \"0001-01-18T00:00:00\", \"0001-01-18T00:00:00\", \"0001-01-07T00:00:00\", \"0001-01-12T00:00:00\", \"0001-01-12T00:00:00\", \"0001-01-07T00:00:00\", \"0001-01-07T00:00:00\", \"0001-02-09T00:00:00\", \"0001-02-12T00:00:00\", \"0001-02-12T00:00:00\", \"0001-02-09T00:00:00\", \"0001-02-09T00:00:00\", \"0001-01-30T00:00:00\", \"0001-02-09T00:00:00\", \"0001-02-09T00:00:00\", \"0001-01-30T00:00:00\"], \"y\": [0.8, 0.8, 1.2, 1.2, null, 9.8, 9.8, 10.2, 10.2, null, 14.8, 14.8, 15.2, 15.2, null, 18.8, 18.8, 19.2, 19.2, null, 27.8, 27.8, 28.2, 28.2, null, 32.8, 32.8, 33.2, 33.2]}, {\"fill\": \"toself\", \"fillcolor\": \"rgb(44, 160, 44)\", \"hoverinfo\": \"name\", \"legendgroup\": \"rgb(44, 160, 44)\", \"mode\": \"none\", \"name\": \"Machine #2\", \"showlegend\": true, \"type\": \"scatter\", \"x\": [\"0001-01-25T00:00:00\", \"0001-01-26T00:00:00\", \"0001-01-26T00:00:00\", \"0001-01-25T00:00:00\", \"0001-01-25T00:00:00\", \"0001-01-20T00:00:00\", \"0001-01-25T00:00:00\", \"0001-01-25T00:00:00\", \"0001-01-20T00:00:00\", \"0001-01-20T00:00:00\", \"0001-01-01T00:00:00\", \"0001-01-06T00:00:00\", \"0001-01-06T00:00:00\", \"0001-01-01T00:00:00\", \"0001-01-01T00:00:00\", \"0001-01-15T00:00:00\", \"0001-01-20T00:00:00\", \"0001-01-20T00:00:00\", \"0001-01-15T00:00:00\", \"0001-01-15T00:00:00\", \"0001-01-06T00:00:00\", \"0001-01-15T00:00:00\", \"0001-01-15T00:00:00\", \"0001-01-06T00:00:00\", \"0001-01-06T00:00:00\", \"0001-02-25T00:00:00\", \"0001-02-26T00:00:00\", \"0001-02-26T00:00:00\", \"0001-02-25T00:00:00\"], \"y\": [-0.2, -0.2, 0.2, 0.2, null, 6.8, 6.8, 7.2, 7.2, null, 11.8, 11.8, 12.2, 12.2, null, 19.8, 19.8, 20.2, 20.2, null, 23.8, 23.8, 24.2, 24.2, null, 34.8, 34.8, 35.2, 35.2]}, {\"legendgroup\": \"rgb(140, 86, 75)\", \"marker\": {\"color\": \"rgb(140, 86, 75)\", \"opacity\": 0, \"size\": 1}, \"mode\": \"markers\", \"name\": \"\", \"showlegend\": false, \"text\": [null, null, null, null, null, null, null, null, null, null, null, null], \"type\": \"scatter\", \"x\": [\"0001-02-12T00:00:00\", \"0001-02-15T00:00:00\", \"0001-02-15T00:00:00\", \"0001-02-25T00:00:00\", \"0001-01-10T00:00:00\", \"0001-01-18T00:00:00\", \"0001-02-03T00:00:00\", \"0001-02-12T00:00:00\", \"0001-01-28T00:00:00\", \"0001-02-01T00:00:00\", \"0001-01-19T00:00:00\", \"0001-01-28T00:00:00\"], \"y\": [4, 4, 9, 9, 14, 14, 23, 23, 27, 27, 32, 32]}, {\"legendgroup\": \"rgb(148, 103, 189)\", \"marker\": {\"color\": \"rgb(148, 103, 189)\", \"opacity\": 0, \"size\": 1}, \"mode\": \"markers\", \"name\": \"\", \"showlegend\": false, \"text\": [null, null, null, null, null, null, null, null, null, null, null, null], \"type\": \"scatter\", \"x\": [\"0001-02-24T00:00:00\", \"0001-03-02T00:00:00\", \"0001-02-03T00:00:00\", \"0001-02-13T00:00:00\", \"0001-02-13T00:00:00\", \"0001-02-20T00:00:00\", \"0001-01-26T00:00:00\", \"0001-02-03T00:00:00\", \"0001-01-21T00:00:00\", \"0001-01-26T00:00:00\", \"0001-02-20T00:00:00\", \"0001-02-24T00:00:00\"], \"y\": [5, 5, 8, 8, 17, 17, 22, 22, 26, 26, 34, 34]}, {\"legendgroup\": \"rgb(214, 39, 40)\", \"marker\": {\"color\": \"rgb(214, 39, 40)\", \"opacity\": 0, \"size\": 1}, \"mode\": \"markers\", \"name\": \"\", \"showlegend\": false, \"text\": [null, null, null, null, null, null, null, null, null, null, null, null], \"type\": \"scatter\", \"x\": [\"0001-02-05T00:00:00\", \"0001-02-12T00:00:00\", \"0001-03-07T00:00:00\", \"0001-03-11T00:00:00\", \"0001-01-06T00:00:00\", \"0001-01-10T00:00:00\", \"0001-01-20T00:00:00\", \"0001-01-23T00:00:00\", \"0001-02-12T00:00:00\", \"0001-02-13T00:00:00\", \"0001-01-10T00:00:00\", \"0001-01-13T00:00:00\"], \"y\": [3, 3, 11, 11, 13, 13, 21, 21, 29, 29, 31, 31]}, {\"legendgroup\": \"rgb(255, 127, 14)\", \"marker\": {\"color\": \"rgb(255, 127, 14)\", \"opacity\": 0, \"size\": 1}, \"mode\": \"markers\", \"name\": \"\", \"showlegend\": false, \"text\": [null, null, null, null, null, null, null, null, null, null, null, null], \"type\": \"scatter\", \"x\": [\"0001-01-30T00:00:00\", \"0001-02-05T00:00:00\", \"0001-01-10T00:00:00\", \"0001-01-18T00:00:00\", \"0001-01-27T00:00:00\", \"0001-01-28T00:00:00\", \"0001-01-02T00:00:00\", \"0001-01-07T00:00:00\", \"0001-01-18T00:00:00\", \"0001-01-21T00:00:00\", \"0001-01-07T00:00:00\", \"0001-01-10T00:00:00\"], \"y\": [2, 2, 6, 6, 16, 16, 18, 18, 25, 25, 30, 30]}, {\"legendgroup\": \"rgb(31, 119, 180)\", \"marker\": {\"color\": \"rgb(31, 119, 180)\", \"opacity\": 0, \"size\": 1}, \"mode\": \"markers\", \"name\": \"\", \"showlegend\": false, \"text\": [null, null, null, null, null, null, null, null, null, null, null, null], \"type\": \"scatter\", \"x\": [\"0001-01-27T00:00:00\", \"0001-01-30T00:00:00\", \"0001-02-25T00:00:00\", \"0001-03-07T00:00:00\", \"0001-01-18T00:00:00\", \"0001-01-27T00:00:00\", \"0001-01-07T00:00:00\", \"0001-01-12T00:00:00\", \"0001-02-09T00:00:00\", \"0001-02-12T00:00:00\", \"0001-01-30T00:00:00\", \"0001-02-09T00:00:00\"], \"y\": [1, 1, 10, 10, 15, 15, 19, 19, 28, 28, 33, 33]}, {\"legendgroup\": \"rgb(44, 160, 44)\", \"marker\": {\"color\": \"rgb(44, 160, 44)\", \"opacity\": 0, \"size\": 1}, \"mode\": \"markers\", \"name\": \"\", \"showlegend\": false, \"text\": [null, null, null, null, null, null, null, null, null, null, null, null], \"type\": \"scatter\", \"x\": [\"0001-01-25T00:00:00\", \"0001-01-26T00:00:00\", \"0001-01-20T00:00:00\", \"0001-01-25T00:00:00\", \"0001-01-01T00:00:00\", \"0001-01-06T00:00:00\", \"0001-01-15T00:00:00\", \"0001-01-20T00:00:00\", \"0001-01-06T00:00:00\", \"0001-01-15T00:00:00\", \"0001-02-25T00:00:00\", \"0001-02-26T00:00:00\"], \"y\": [0, 0, 7, 7, 12, 12, 20, 20, 24, 24, 35, 35]}],\n                        {\"height\": 600, \"hovermode\": \"closest\", \"showlegend\": true, \"template\": {\"data\": {\"bar\": [{\"error_x\": {\"color\": \"#2a3f5f\"}, \"error_y\": {\"color\": \"#2a3f5f\"}, \"marker\": {\"line\": {\"color\": \"#E5ECF6\", \"width\": 0.5}}, \"type\": \"bar\"}], \"barpolar\": [{\"marker\": {\"line\": {\"color\": \"#E5ECF6\", \"width\": 0.5}}, \"type\": \"barpolar\"}], \"carpet\": [{\"aaxis\": {\"endlinecolor\": \"#2a3f5f\", \"gridcolor\": \"white\", \"linecolor\": \"white\", \"minorgridcolor\": \"white\", \"startlinecolor\": \"#2a3f5f\"}, \"baxis\": {\"endlinecolor\": \"#2a3f5f\", \"gridcolor\": \"white\", \"linecolor\": \"white\", \"minorgridcolor\": \"white\", \"startlinecolor\": \"#2a3f5f\"}, \"type\": \"carpet\"}], \"choropleth\": [{\"colorbar\": {\"outlinewidth\": 0, \"ticks\": \"\"}, \"type\": \"choropleth\"}], \"contour\": [{\"colorbar\": {\"outlinewidth\": 0, \"ticks\": \"\"}, \"colorscale\": [[0.0, \"#0d0887\"], [0.1111111111111111, \"#46039f\"], [0.2222222222222222, \"#7201a8\"], [0.3333333333333333, \"#9c179e\"], [0.4444444444444444, \"#bd3786\"], [0.5555555555555556, \"#d8576b\"], [0.6666666666666666, \"#ed7953\"], [0.7777777777777778, \"#fb9f3a\"], [0.8888888888888888, \"#fdca26\"], [1.0, \"#f0f921\"]], \"type\": \"contour\"}], \"contourcarpet\": [{\"colorbar\": {\"outlinewidth\": 0, \"ticks\": \"\"}, \"type\": \"contourcarpet\"}], \"heatmap\": [{\"colorbar\": {\"outlinewidth\": 0, \"ticks\": \"\"}, \"colorscale\": [[0.0, \"#0d0887\"], [0.1111111111111111, \"#46039f\"], [0.2222222222222222, \"#7201a8\"], [0.3333333333333333, \"#9c179e\"], [0.4444444444444444, \"#bd3786\"], [0.5555555555555556, \"#d8576b\"], [0.6666666666666666, \"#ed7953\"], [0.7777777777777778, \"#fb9f3a\"], [0.8888888888888888, \"#fdca26\"], [1.0, \"#f0f921\"]], \"type\": \"heatmap\"}], \"heatmapgl\": [{\"colorbar\": {\"outlinewidth\": 0, \"ticks\": \"\"}, \"colorscale\": [[0.0, \"#0d0887\"], [0.1111111111111111, \"#46039f\"], [0.2222222222222222, \"#7201a8\"], [0.3333333333333333, \"#9c179e\"], [0.4444444444444444, \"#bd3786\"], [0.5555555555555556, \"#d8576b\"], [0.6666666666666666, \"#ed7953\"], [0.7777777777777778, \"#fb9f3a\"], [0.8888888888888888, \"#fdca26\"], [1.0, \"#f0f921\"]], \"type\": \"heatmapgl\"}], \"histogram\": [{\"marker\": {\"colorbar\": {\"outlinewidth\": 0, \"ticks\": \"\"}}, \"type\": \"histogram\"}], \"histogram2d\": [{\"colorbar\": {\"outlinewidth\": 0, \"ticks\": \"\"}, \"colorscale\": [[0.0, \"#0d0887\"], [0.1111111111111111, \"#46039f\"], [0.2222222222222222, \"#7201a8\"], [0.3333333333333333, \"#9c179e\"], [0.4444444444444444, \"#bd3786\"], [0.5555555555555556, \"#d8576b\"], [0.6666666666666666, \"#ed7953\"], [0.7777777777777778, \"#fb9f3a\"], [0.8888888888888888, \"#fdca26\"], [1.0, \"#f0f921\"]], \"type\": \"histogram2d\"}], \"histogram2dcontour\": [{\"colorbar\": {\"outlinewidth\": 0, \"ticks\": \"\"}, \"colorscale\": [[0.0, \"#0d0887\"], [0.1111111111111111, \"#46039f\"], [0.2222222222222222, \"#7201a8\"], [0.3333333333333333, \"#9c179e\"], [0.4444444444444444, \"#bd3786\"], [0.5555555555555556, \"#d8576b\"], [0.6666666666666666, \"#ed7953\"], [0.7777777777777778, \"#fb9f3a\"], [0.8888888888888888, \"#fdca26\"], [1.0, \"#f0f921\"]], \"type\": \"histogram2dcontour\"}], \"mesh3d\": [{\"colorbar\": {\"outlinewidth\": 0, \"ticks\": \"\"}, \"type\": \"mesh3d\"}], \"parcoords\": [{\"line\": {\"colorbar\": {\"outlinewidth\": 0, \"ticks\": \"\"}}, \"type\": \"parcoords\"}], \"pie\": [{\"automargin\": true, \"type\": \"pie\"}], \"scatter\": [{\"marker\": {\"colorbar\": {\"outlinewidth\": 0, \"ticks\": \"\"}}, \"type\": \"scatter\"}], \"scatter3d\": [{\"line\": {\"colorbar\": {\"outlinewidth\": 0, \"ticks\": \"\"}}, \"marker\": {\"colorbar\": {\"outlinewidth\": 0, \"ticks\": \"\"}}, \"type\": \"scatter3d\"}], \"scattercarpet\": [{\"marker\": {\"colorbar\": {\"outlinewidth\": 0, \"ticks\": \"\"}}, \"type\": \"scattercarpet\"}], \"scattergeo\": [{\"marker\": {\"colorbar\": {\"outlinewidth\": 0, \"ticks\": \"\"}}, \"type\": \"scattergeo\"}], \"scattergl\": [{\"marker\": {\"colorbar\": {\"outlinewidth\": 0, \"ticks\": \"\"}}, \"type\": \"scattergl\"}], \"scattermapbox\": [{\"marker\": {\"colorbar\": {\"outlinewidth\": 0, \"ticks\": \"\"}}, \"type\": \"scattermapbox\"}], \"scatterpolar\": [{\"marker\": {\"colorbar\": {\"outlinewidth\": 0, \"ticks\": \"\"}}, \"type\": \"scatterpolar\"}], \"scatterpolargl\": [{\"marker\": {\"colorbar\": {\"outlinewidth\": 0, \"ticks\": \"\"}}, \"type\": \"scatterpolargl\"}], \"scatterternary\": [{\"marker\": {\"colorbar\": {\"outlinewidth\": 0, \"ticks\": \"\"}}, \"type\": \"scatterternary\"}], \"surface\": [{\"colorbar\": {\"outlinewidth\": 0, \"ticks\": \"\"}, \"colorscale\": [[0.0, \"#0d0887\"], [0.1111111111111111, \"#46039f\"], [0.2222222222222222, \"#7201a8\"], [0.3333333333333333, \"#9c179e\"], [0.4444444444444444, \"#bd3786\"], [0.5555555555555556, \"#d8576b\"], [0.6666666666666666, \"#ed7953\"], [0.7777777777777778, \"#fb9f3a\"], [0.8888888888888888, \"#fdca26\"], [1.0, \"#f0f921\"]], \"type\": \"surface\"}], \"table\": [{\"cells\": {\"fill\": {\"color\": \"#EBF0F8\"}, \"line\": {\"color\": \"white\"}}, \"header\": {\"fill\": {\"color\": \"#C8D4E3\"}, \"line\": {\"color\": \"white\"}}, \"type\": \"table\"}]}, \"layout\": {\"annotationdefaults\": {\"arrowcolor\": \"#2a3f5f\", \"arrowhead\": 0, \"arrowwidth\": 1}, \"coloraxis\": {\"colorbar\": {\"outlinewidth\": 0, \"ticks\": \"\"}}, \"colorscale\": {\"diverging\": [[0, \"#8e0152\"], [0.1, \"#c51b7d\"], [0.2, \"#de77ae\"], [0.3, \"#f1b6da\"], [0.4, \"#fde0ef\"], [0.5, \"#f7f7f7\"], [0.6, \"#e6f5d0\"], [0.7, \"#b8e186\"], [0.8, \"#7fbc41\"], [0.9, \"#4d9221\"], [1, \"#276419\"]], \"sequential\": [[0.0, \"#0d0887\"], [0.1111111111111111, \"#46039f\"], [0.2222222222222222, \"#7201a8\"], [0.3333333333333333, \"#9c179e\"], [0.4444444444444444, \"#bd3786\"], [0.5555555555555556, \"#d8576b\"], [0.6666666666666666, \"#ed7953\"], [0.7777777777777778, \"#fb9f3a\"], [0.8888888888888888, \"#fdca26\"], [1.0, \"#f0f921\"]], \"sequentialminus\": [[0.0, \"#0d0887\"], [0.1111111111111111, \"#46039f\"], [0.2222222222222222, \"#7201a8\"], [0.3333333333333333, \"#9c179e\"], [0.4444444444444444, \"#bd3786\"], [0.5555555555555556, \"#d8576b\"], [0.6666666666666666, \"#ed7953\"], [0.7777777777777778, \"#fb9f3a\"], [0.8888888888888888, \"#fdca26\"], [1.0, \"#f0f921\"]]}, \"colorway\": [\"#636efa\", \"#EF553B\", \"#00cc96\", \"#ab63fa\", \"#FFA15A\", \"#19d3f3\", \"#FF6692\", \"#B6E880\", \"#FF97FF\", \"#FECB52\"], \"font\": {\"color\": \"#2a3f5f\"}, \"geo\": {\"bgcolor\": \"white\", \"lakecolor\": \"white\", \"landcolor\": \"#E5ECF6\", \"showlakes\": true, \"showland\": true, \"subunitcolor\": \"white\"}, \"hoverlabel\": {\"align\": \"left\"}, \"hovermode\": \"closest\", \"mapbox\": {\"style\": \"light\"}, \"paper_bgcolor\": \"white\", \"plot_bgcolor\": \"#E5ECF6\", \"polar\": {\"angularaxis\": {\"gridcolor\": \"white\", \"linecolor\": \"white\", \"ticks\": \"\"}, \"bgcolor\": \"#E5ECF6\", \"radialaxis\": {\"gridcolor\": \"white\", \"linecolor\": \"white\", \"ticks\": \"\"}}, \"scene\": {\"xaxis\": {\"backgroundcolor\": \"#E5ECF6\", \"gridcolor\": \"white\", \"gridwidth\": 2, \"linecolor\": \"white\", \"showbackground\": true, \"ticks\": \"\", \"zerolinecolor\": \"white\"}, \"yaxis\": {\"backgroundcolor\": \"#E5ECF6\", \"gridcolor\": \"white\", \"gridwidth\": 2, \"linecolor\": \"white\", \"showbackground\": true, \"ticks\": \"\", \"zerolinecolor\": \"white\"}, \"zaxis\": {\"backgroundcolor\": \"#E5ECF6\", \"gridcolor\": \"white\", \"gridwidth\": 2, \"linecolor\": \"white\", \"showbackground\": true, \"ticks\": \"\", \"zerolinecolor\": \"white\"}}, \"shapedefaults\": {\"line\": {\"color\": \"#2a3f5f\"}}, \"ternary\": {\"aaxis\": {\"gridcolor\": \"white\", \"linecolor\": \"white\", \"ticks\": \"\"}, \"baxis\": {\"gridcolor\": \"white\", \"linecolor\": \"white\", \"ticks\": \"\"}, \"bgcolor\": \"#E5ECF6\", \"caxis\": {\"gridcolor\": \"white\", \"linecolor\": \"white\", \"ticks\": \"\"}}, \"title\": {\"x\": 0.05}, \"xaxis\": {\"automargin\": true, \"gridcolor\": \"white\", \"linecolor\": \"white\", \"ticks\": \"\", \"title\": {\"standoff\": 15}, \"zerolinecolor\": \"white\", \"zerolinewidth\": 2}, \"yaxis\": {\"automargin\": true, \"gridcolor\": \"white\", \"linecolor\": \"white\", \"ticks\": \"\", \"title\": {\"standoff\": 15}, \"zerolinecolor\": \"white\", \"zerolinewidth\": 2}}}, \"title\": {\"text\": \"Gantt Chart\"}, \"xaxis\": {\"rangeselector\": {\"buttons\": [{\"count\": 7, \"label\": \"1w\", \"step\": \"day\", \"stepmode\": \"backward\"}, {\"count\": 1, \"label\": \"1m\", \"step\": \"month\", \"stepmode\": \"backward\"}, {\"count\": 6, \"label\": \"6m\", \"step\": \"month\", \"stepmode\": \"backward\"}, {\"count\": 1, \"label\": \"YTD\", \"step\": \"year\", \"stepmode\": \"todate\"}, {\"count\": 1, \"label\": \"1y\", \"step\": \"year\", \"stepmode\": \"backward\"}, {\"step\": \"all\"}]}, \"showgrid\": true, \"tickformat\": \"%\", \"type\": \"date\", \"zeroline\": false}, \"yaxis\": {\"autorange\": false, \"range\": [-1, 37], \"showgrid\": true, \"ticktext\": [\"Job  #0\", \"Job  #0\", \"Job  #0\", \"Job  #0\", \"Job  #0\", \"Job  #0\", \"Job  #1\", \"Job  #1\", \"Job  #1\", \"Job  #1\", \"Job  #1\", \"Job  #1\", \"Job  #2\", \"Job  #2\", \"Job  #2\", \"Job  #2\", \"Job  #2\", \"Job  #2\", \"Job  #3\", \"Job  #3\", \"Job  #3\", \"Job  #3\", \"Job  #3\", \"Job  #3\", \"Job  #4\", \"Job  #4\", \"Job  #4\", \"Job  #4\", \"Job  #4\", \"Job  #4\", \"Job  #5\", \"Job  #5\", \"Job  #5\", \"Job  #5\", \"Job  #5\", \"Job  #5\"], \"tickvals\": [0, 1, 2, 3, 4, 5, 6, 7, 8, 9, 10, 11, 12, 13, 14, 15, 16, 17, 18, 19, 20, 21, 22, 23, 24, 25, 26, 27, 28, 29, 30, 31, 32, 33, 34, 35], \"zeroline\": false}},\n                        {\"responsive\": true}\n                    ).then(function(){\n                            \nvar gd = document.getElementById('0d4f79f1-d55c-4fab-824d-fc98c2d86c15');\nvar x = new MutationObserver(function (mutations, observer) {{\n        var display = window.getComputedStyle(gd).display;\n        if (!display || display === 'none') {{\n            console.log([gd, 'removed!']);\n            Plotly.purge(gd);\n            observer.disconnect();\n        }}\n}});\n\n// Listen for the removal of the full notebook cells\nvar notebookContainer = gd.closest('#notebook-container');\nif (notebookContainer) {{\n    x.observe(notebookContainer, {childList: true});\n}}\n\n// Listen for the clearing of the current output cell\nvar outputEl = gd.closest('.output');\nif (outputEl) {{\n    x.observe(outputEl, {childList: true});\n}}\n\n                        })\n                };\n                });\n            </script>\n        </div>"
     },
     "metadata": {},
     "output_type": "display_data"
    }
   ],
   "source": [
    "plot_gantt(inst, by= \"JOB\", grouping = False)"
   ],
   "metadata": {
    "collapsed": false,
    "pycharm": {
     "name": "#%%\n",
     "is_executing": false
    }
   }
  },
  {
   "cell_type": "code",
   "execution_count": null,
   "outputs": [],
   "source": [
    "\n"
   ],
   "metadata": {
    "collapsed": false,
    "pycharm": {
     "name": "#%%\n"
    }
   }
  }
 ],
 "metadata": {
  "kernelspec": {
   "display_name": "Python 3",
   "language": "python",
   "name": "python3"
  },
  "language_info": {
   "codemirror_mode": {
    "name": "ipython",
    "version": 3
   },
   "file_extension": ".py",
   "mimetype": "text/x-python",
   "name": "python",
   "nbconvert_exporter": "python",
   "pygments_lexer": "ipython3",
   "version": "3.6.8"
  },
  "pycharm": {
   "stem_cell": {
    "cell_type": "raw",
    "source": [],
    "metadata": {
     "collapsed": false
    }
   }
  }
 },
 "nbformat": 4,
 "nbformat_minor": 4
}