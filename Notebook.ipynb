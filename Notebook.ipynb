{
 "cells": [
  {
   "cell_type": "code",
   "execution_count": 6,
   "metadata": {
    "pycharm": {
     "is_executing": false,
     "name": "#%%\n"
    }
   },
   "outputs": [
    {
     "ename": "ModuleNotFoundError",
     "evalue": "No module named 'matplotlib'",
     "output_type": "error",
     "traceback": [
      "\u001b[0;31m---------------------------------------------------------------------------\u001b[0m",
      "\u001b[0;31mModuleNotFoundError\u001b[0m                       Traceback (most recent call last)",
      "\u001b[0;32m<ipython-input-6-df6b8b8768f2>\u001b[0m in \u001b[0;36m<module>\u001b[0;34m\u001b[0m\n\u001b[1;32m      1\u001b[0m \u001b[0;32mfrom\u001b[0m \u001b[0mobjects\u001b[0m\u001b[0;34m.\u001b[0m\u001b[0minstance\u001b[0m \u001b[0;32mimport\u001b[0m \u001b[0mInstance\u001b[0m\u001b[0;34m\u001b[0m\u001b[0;34m\u001b[0m\u001b[0m\n\u001b[1;32m      2\u001b[0m \u001b[0;32mfrom\u001b[0m \u001b[0mscript\u001b[0m\u001b[0;34m.\u001b[0m\u001b[0mdata\u001b[0m \u001b[0;32mimport\u001b[0m \u001b[0mloader\u001b[0m\u001b[0;34m\u001b[0m\u001b[0;34m\u001b[0m\u001b[0m\n\u001b[0;32m----> 3\u001b[0;31m \u001b[0;32mimport\u001b[0m \u001b[0mmatplotlib\u001b[0m\u001b[0;34m\u001b[0m\u001b[0;34m\u001b[0m\u001b[0m\n\u001b[0m\u001b[1;32m      4\u001b[0m \u001b[0mdata\u001b[0m\u001b[0;34m\u001b[0m\u001b[0;34m\u001b[0m\u001b[0m\n\u001b[1;32m      5\u001b[0m \u001b[0;34m\u001b[0m\u001b[0m\n",
      "\u001b[0;31mModuleNotFoundError\u001b[0m: No module named 'matplotlib'"
     ]
    }
   ],
   "source": [
    "from objects.instance import Instance\n",
    "from script.data import loader \n",
    "import matplotlib\n",
    "data"
   ]
  },
  {
   "cell_type": "code",
   "execution_count": 4,
   "metadata": {
    "pycharm": {
     "is_executing": false,
     "name": "#%%\n"
    }
   },
   "outputs": [],
   "source": [
    "data = loader('ft06')\n",
    "inst = Instance(**data)"
   ]
  },
  {
   "cell_type": "code",
   "execution_count": 5,
   "metadata": {
    "pycharm": {
     "is_executing": false,
     "name": "#%%\n"
    }
   },
   "outputs": [],
   "source": [
    "# Recherche des taches possibles à t\n",
    "t=0\n",
    "def recherche_tach(inst,t):\n",
    "    tache = []\n",
    "    for j in inst.jobs_list:\n",
    "        if j.current_task.machine.state==\"Free\":\n",
    "            tache.append(j.current_task)\n",
    "    \n",
    "    # prio\n",
    "    # Recherche du max\n",
    "    for k in range(len(tache)):\n",
    "        maxi = -1\n",
    "        for e in tache:\n",
    "            if e.duration > maxi:\n",
    "                if e.machine.state == \"Free\":\n",
    "                    maxi = e.duration\n",
    "                    maxi_task = e\n",
    "        \n",
    "        maxi_task.update_task_and_date(\"On going\",t)\n",
    "        maxi_task.machine.update_current_task(maxi_task)\n",
    "        maxi_task.job.update_all_task()\n",
    "        try:\n",
    "            tache.remove(maxi_task)\n",
    "        except:\n",
    "            pass\n",
    "    for j in inst.jobs_list:\n",
    "        j.update_all_task()"
   ]
  },
  {
   "cell_type": "code",
   "execution_count": 8,
   "metadata": {
    "pycharm": {
     "is_executing": false,
     "name": "#%%\n"
    }
   },
   "outputs": [
    {
     "name": "stdout",
     "output_type": "stream",
     "text": [
      "[[2, 1, 0, 3, 1, 6, 3, 7, 5, 3, 4, 6], [1, 8, 2, 5, 4, 10, 5, 10, 0, 10, 3, 4], [2, 5, 3, 4, 5, 8, 0, 9, 1, 1, 4, 7], [1, 5, 0, 5, 2, 5, 3, 3, 4, 8, 5, 9], [2, 9, 1, 3, 4, 5, 5, 4, 0, 3, 3, 1], [1, 3, 3, 3, 5, 9, 0, 10, 4, 4, 2, 1]]\n"
     ]
    }
   ],
   "source": [
    "print(inst)"
   ]
  },
  {
   "cell_type": "code",
   "execution_count": 6,
   "metadata": {
    "pycharm": {
     "is_executing": false,
     "name": "#%%\n"
    }
   },
   "outputs": [],
   "source": [
    "recherche_tach(inst,t)"
   ]
  },
  {
   "cell_type": "code",
   "execution_count": 7,
   "metadata": {
    "pycharm": {
     "is_executing": false,
     "name": "#%%\n"
    }
   },
   "outputs": [
    {
     "name": "stdout",
     "output_type": "stream",
     "text": [
      "Machine number = 0, State = Free, Current Job = N/A, Current Task = N/A\n",
      "Machine number = 1, State = Busy, Current Job = 1, Current Task = 0\n",
      "Machine number = 2, State = Busy, Current Job = 4, Current Task = 0\n",
      "Machine number = 3, State = Free, Current Job = N/A, Current Task = N/A\n",
      "Machine number = 4, State = Free, Current Job = N/A, Current Task = N/A\n",
      "Machine number = 5, State = Free, Current Job = N/A, Current Task = N/A\n"
     ]
    }
   ],
   "source": [
    "for res in inst.resource_list:\n",
    "    print(res)"
   ]
  },
  {
   "cell_type": "code",
   "execution_count": 9,
   "metadata": {
    "pycharm": {
     "is_executing": false,
     "name": "#%%\n"
    }
   },
   "outputs": [
    {
     "name": "stdout",
     "output_type": "stream",
     "text": [
      "true\n",
      "Task list\n",
      "Task # 0 : JobID= 7, taskID= 0, Start= 0, Finish=38, Machine= Machine number = 2, State = Busy, Current Job = 7, Current Task = 0, State= On going\n",
      "Task # 1 : JobID= 7, taskID= 1, Start= 0, Finish=60, Machine= Machine number = 0, State = Busy, Current Job = 4, Current Task = 0, State= Not Started\n",
      "Task # 2 : JobID= 7, taskID= 2, Start= 0, Finish=41, Machine= Machine number = 1, State = Busy, Current Job = 3, Current Task = 0, State= Not Started\n",
      "Task # 3 : JobID= 7, taskID= 3, Start= 0, Finish=24, Machine= Machine number = 3, State = Busy, Current Job = 6, Current Task = 0, State= Not Started\n",
      "Task # 4 : JobID= 7, taskID= 4, Start= 0, Finish=83, Machine= Machine number = 4, State = Busy, Current Job = 9, Current Task = 0, State= Not Started\n",
      "Job state= Not Done\n",
      "Task list\n",
      "Task # 0 : JobID= 7, taskID= 0, Start= 0, Finish=38, Machine= Machine number = 2, State = Free, Current Job = 7, Current Task = 0, State= Done\n",
      "Task # 1 : JobID= 7, taskID= 1, Start= 0, Finish=60, Machine= Machine number = 0, State = Busy, Current Job = 4, Current Task = 0, State= On going\n",
      "Task # 2 : JobID= 7, taskID= 2, Start= 0, Finish=41, Machine= Machine number = 1, State = Busy, Current Job = 3, Current Task = 0, State= Not Started\n",
      "Task # 3 : JobID= 7, taskID= 3, Start= 0, Finish=24, Machine= Machine number = 3, State = Busy, Current Job = 6, Current Task = 0, State= Not Started\n",
      "Task # 4 : JobID= 7, taskID= 4, Start= 0, Finish=83, Machine= Machine number = 4, State = Busy, Current Job = 9, Current Task = 0, State= Not Started\n",
      "Job state= Not Done\n"
     ]
    }
   ],
   "source": [
    "for i in range(37,40):\n",
    "    for res in inst.resource_list:\n",
    "        if res.current_task.finishDate < i:\n",
    "            print(\"true\")\n",
    "            print(res.current_job)\n",
    "            res.state= \"Free\"\n",
    "            res.current_job.update_current_task(res.current_task.taskID+1)\n",
    "            res.current_task.update_task(\"Done\")\n",
    "            res.current_job.current_task.update_task(\"On going\")\n",
    "            print(res.current_job)\n",
    "\n",
    "            recherche_tach(inst,i)"
   ]
  },
  {
   "cell_type": "code",
   "execution_count": 10,
   "metadata": {
    "pycharm": {
     "is_executing": false,
     "name": "#%%\n"
    }
   },
   "outputs": [
    {
     "name": "stdout",
     "output_type": "stream",
     "text": [
      "Machine number = 0, State = Busy, Current Job = 4, Current Task = 0\n",
      "Machine number = 1, State = Busy, Current Job = 3, Current Task = 0\n",
      "Machine number = 2, State = Free, Current Job = 7, Current Task = 0\n",
      "Machine number = 3, State = Busy, Current Job = 6, Current Task = 0\n",
      "Machine number = 4, State = Busy, Current Job = 9, Current Task = 0\n"
     ]
    }
   ],
   "source": [
    "for re in inst.resource_list:\n",
    "    print(re)"
   ]
  },
  {
   "cell_type": "code",
   "execution_count": 4,
   "metadata": {
    "pycharm": {
     "is_executing": false,
     "name": "#%%\n"
    }
   },
   "outputs": [],
   "source": [
    "import matplotlib\n",
    "%matplotlib qt"
   ]
  },
  {
   "cell_type": "code",
   "execution_count": 5,
   "metadata": {
    "pycharm": {
     "is_executing": false,
     "name": "#%%\n"
    }
   },
   "outputs": [],
   "source": [
    "from objects.instance import Instance\n",
    "from script.data import loader \n",
    "from script.affichage import plot_gantt\n",
    "\n",
    "data = loader('ft06')\n",
    "inst = Instance(**data)    # sélectionner l'opération (i,j) de plus grande priorité  "
   ]
  },
  {
   "cell_type": "code",
   "execution_count": 7,
   "metadata": {
    "pycharm": {
     "is_executing": false,
     "name": "#%%\n"
    }
   },
   "outputs": [
    {
     "data": {
      "application/vnd.plotly.v1+json": {
       "config": {
        "plotlyServerURL": "https://plot.ly"
       },
       "data": [
        {
         "fill": "toself",
         "fillcolor": "rgb(127, 127, 127)",
         "hoverinfo": "name",
         "legendgroup": "rgb(127, 127, 127)",
         "mode": "none",
         "name": "Job #2",
         "showlegend": true,
         "type": "scatter",
         "x": [
          "0001-01-17T00:00:00",
          "0001-01-22T00:00:00",
          "0001-01-22T00:00:00",
          "0001-01-17T00:00:00",
          "0001-01-17T00:00:00",
          "0001-01-09T00:00:00",
          "0001-01-13T00:00:00",
          "0001-01-13T00:00:00",
          "0001-01-09T00:00:00",
          "0001-01-09T00:00:00",
          "0001-01-15T00:00:00",
          "0001-01-23T00:00:00",
          "0001-01-23T00:00:00",
          "0001-01-15T00:00:00",
          "0001-01-15T00:00:00",
          "0001-01-08T00:00:00",
          "0001-01-17T00:00:00",
          "0001-01-17T00:00:00",
          "0001-01-08T00:00:00",
          "0001-01-08T00:00:00",
          "0001-01-13T00:00:00",
          "0001-01-14T00:00:00",
          "0001-01-14T00:00:00",
          "0001-01-13T00:00:00",
          "0001-01-13T00:00:00",
          "0001-01-15T00:00:00",
          "0001-01-22T00:00:00",
          "0001-01-22T00:00:00",
          "0001-01-15T00:00:00"
         ],
         "y": [
          4.8,
          4.8,
          5.2,
          5.2,
          null,
          1.8,
          1.8,
          2.2,
          2.2,
          null,
          0.8,
          0.8,
          1.2,
          1.2,
          null,
          3.8,
          3.8,
          4.2,
          4.2,
          null,
          2.8,
          2.8,
          3.2,
          3.2,
          null,
          -0.2,
          -0.2,
          0.2,
          0.2
         ]
        },
        {
         "fill": "toself",
         "fillcolor": "rgb(140, 86, 75)",
         "hoverinfo": "name",
         "legendgroup": "rgb(140, 86, 75)",
         "mode": "none",
         "name": "Job #4",
         "showlegend": true,
         "type": "scatter",
         "x": [
          "0001-01-08T00:00:00",
          "0001-01-17T00:00:00",
          "0001-01-17T00:00:00",
          "0001-01-08T00:00:00",
          "0001-01-08T00:00:00",
          "0001-01-16T00:00:00",
          "0001-01-19T00:00:00",
          "0001-01-19T00:00:00",
          "0001-01-16T00:00:00",
          "0001-01-16T00:00:00",
          "0001-01-05T00:00:00",
          "0001-01-10T00:00:00",
          "0001-01-10T00:00:00",
          "0001-01-05T00:00:00",
          "0001-01-05T00:00:00",
          "0001-01-14T00:00:00",
          "0001-01-18T00:00:00",
          "0001-01-18T00:00:00",
          "0001-01-14T00:00:00",
          "0001-01-14T00:00:00",
          "0001-01-09T00:00:00",
          "0001-01-12T00:00:00",
          "0001-01-12T00:00:00",
          "0001-01-09T00:00:00",
          "0001-01-09T00:00:00",
          "0001-01-21T00:00:00",
          "0001-01-22T00:00:00",
          "0001-01-22T00:00:00",
          "0001-01-21T00:00:00"
         ],
         "y": [
          4.8,
          4.8,
          5.2,
          5.2,
          null,
          2.8,
          2.8,
          3.2,
          3.2,
          null,
          -0.2,
          -0.2,
          0.2,
          0.2,
          null,
          0.8,
          0.8,
          1.2,
          1.2,
          null,
          3.8,
          3.8,
          4.2,
          4.2,
          null,
          1.8,
          1.8,
          2.2,
          2.2
         ]
        },
        {
         "fill": "toself",
         "fillcolor": "rgb(148, 103, 189)",
         "hoverinfo": "name",
         "legendgroup": "rgb(148, 103, 189)",
         "mode": "none",
         "name": "Job #5",
         "showlegend": true,
         "type": "scatter",
         "x": [
          "0001-01-08T00:00:00",
          "0001-01-11T00:00:00",
          "0001-01-11T00:00:00",
          "0001-01-08T00:00:00",
          "0001-01-08T00:00:00",
          "0001-01-20T00:00:00",
          "0001-01-23T00:00:00",
          "0001-01-23T00:00:00",
          "0001-01-20T00:00:00",
          "0001-01-20T00:00:00",
          "0001-01-18T00:00:00",
          "0001-01-27T00:00:00",
          "0001-01-27T00:00:00",
          "0001-01-18T00:00:00",
          "0001-01-18T00:00:00",
          "0001-01-17T00:00:00",
          "0001-01-27T00:00:00",
          "0001-01-27T00:00:00",
          "0001-01-17T00:00:00",
          "0001-01-17T00:00:00",
          "0001-01-14T00:00:00",
          "0001-01-18T00:00:00",
          "0001-01-18T00:00:00",
          "0001-01-14T00:00:00",
          "0001-01-14T00:00:00",
          "0001-01-05T00:00:00",
          "0001-01-06T00:00:00",
          "0001-01-06T00:00:00",
          "0001-01-05T00:00:00"
         ],
         "y": [
          2.8,
          2.8,
          3.2,
          3.2,
          null,
          1.8,
          1.8,
          2.2,
          2.2,
          null,
          0.8,
          0.8,
          1.2,
          1.2,
          null,
          3.8,
          3.8,
          4.2,
          4.2,
          null,
          -0.2,
          -0.2,
          0.2,
          0.2,
          null,
          4.8,
          4.8,
          5.2,
          5.2
         ]
        },
        {
         "fill": "toself",
         "fillcolor": "rgb(188, 189, 34)",
         "hoverinfo": "name",
         "legendgroup": "rgb(188, 189, 34)",
         "mode": "none",
         "name": "Job #1",
         "showlegend": true,
         "type": "scatter",
         "x": [
          "0001-01-02T00:00:00",
          "0001-01-10T00:00:00",
          "0001-01-10T00:00:00",
          "0001-01-02T00:00:00",
          "0001-01-02T00:00:00",
          "0001-01-09T00:00:00",
          "0001-01-14T00:00:00",
          "0001-01-14T00:00:00",
          "0001-01-09T00:00:00",
          "0001-01-09T00:00:00",
          "0001-01-14T00:00:00",
          "0001-01-24T00:00:00",
          "0001-01-24T00:00:00",
          "0001-01-14T00:00:00",
          "0001-01-14T00:00:00",
          "0001-01-04T00:00:00",
          "0001-01-14T00:00:00",
          "0001-01-14T00:00:00",
          "0001-01-04T00:00:00",
          "0001-01-04T00:00:00",
          "0001-01-10T00:00:00",
          "0001-01-20T00:00:00",
          "0001-01-20T00:00:00",
          "0001-01-10T00:00:00",
          "0001-01-10T00:00:00",
          "0001-01-03T00:00:00",
          "0001-01-07T00:00:00",
          "0001-01-07T00:00:00",
          "0001-01-03T00:00:00"
         ],
         "y": [
          2.8,
          2.8,
          3.2,
          3.2,
          null,
          4.8,
          4.8,
          5.2,
          5.2,
          null,
          -0.2,
          -0.2,
          0.2,
          0.2,
          null,
          0.8,
          0.8,
          1.2,
          1.2,
          null,
          3.8,
          3.8,
          4.2,
          4.2,
          null,
          1.8,
          1.8,
          2.2,
          2.2
         ]
        },
        {
         "fill": "toself",
         "fillcolor": "rgb(227, 119, 194)",
         "hoverinfo": "name",
         "legendgroup": "rgb(227, 119, 194)",
         "mode": "none",
         "name": "Job #3",
         "showlegend": true,
         "type": "scatter",
         "x": [
          "0001-01-06T00:00:00",
          "0001-01-11T00:00:00",
          "0001-01-11T00:00:00",
          "0001-01-06T00:00:00",
          "0001-01-06T00:00:00",
          "0001-01-12T00:00:00",
          "0001-01-17T00:00:00",
          "0001-01-17T00:00:00",
          "0001-01-12T00:00:00",
          "0001-01-12T00:00:00",
          "0001-01-08T00:00:00",
          "0001-01-13T00:00:00",
          "0001-01-13T00:00:00",
          "0001-01-08T00:00:00",
          "0001-01-08T00:00:00",
          "0001-01-11T00:00:00",
          "0001-01-14T00:00:00",
          "0001-01-14T00:00:00",
          "0001-01-11T00:00:00",
          "0001-01-11T00:00:00",
          "0001-01-12T00:00:00",
          "0001-01-20T00:00:00",
          "0001-01-20T00:00:00",
          "0001-01-12T00:00:00",
          "0001-01-12T00:00:00",
          "0001-01-02T00:00:00",
          "0001-01-11T00:00:00",
          "0001-01-11T00:00:00",
          "0001-01-02T00:00:00"
         ],
         "y": [
          2.8,
          2.8,
          3.2,
          3.2,
          null,
          3.8,
          3.8,
          4.2,
          4.2,
          null,
          4.8,
          4.8,
          5.2,
          5.2,
          null,
          1.8,
          1.8,
          2.2,
          2.2,
          null,
          -0.2,
          -0.2,
          0.2,
          0.2,
          null,
          0.8,
          0.8,
          1.2,
          1.2
         ]
        },
        {
         "fill": "toself",
         "fillcolor": "rgb(23, 190, 207)",
         "hoverinfo": "name",
         "legendgroup": "rgb(23, 190, 207)",
         "mode": "none",
         "name": "Job #0",
         "showlegend": true,
         "type": "scatter",
         "x": [
          "0001-01-19T00:00:00",
          "0001-01-20T00:00:00",
          "0001-01-20T00:00:00",
          "0001-01-19T00:00:00",
          "0001-01-19T00:00:00",
          "0001-01-20T00:00:00",
          "0001-01-23T00:00:00",
          "0001-01-23T00:00:00",
          "0001-01-20T00:00:00",
          "0001-01-20T00:00:00",
          "0001-01-17T00:00:00",
          "0001-01-23T00:00:00",
          "0001-01-23T00:00:00",
          "0001-01-17T00:00:00",
          "0001-01-17T00:00:00",
          "0001-01-21T00:00:00",
          "0001-01-28T00:00:00",
          "0001-01-28T00:00:00",
          "0001-01-21T00:00:00",
          "0001-01-21T00:00:00",
          "0001-01-04T00:00:00",
          "0001-01-07T00:00:00",
          "0001-01-07T00:00:00",
          "0001-01-04T00:00:00",
          "0001-01-04T00:00:00",
          "0001-01-19T00:00:00",
          "0001-01-25T00:00:00",
          "0001-01-25T00:00:00",
          "0001-01-19T00:00:00"
         ],
         "y": [
          4.8,
          4.8,
          5.2,
          5.2,
          null,
          3.8,
          3.8,
          4.2,
          4.2,
          null,
          2.8,
          2.8,
          3.2,
          3.2,
          null,
          1.8,
          1.8,
          2.2,
          2.2,
          null,
          0.8,
          0.8,
          1.2,
          1.2,
          null,
          -0.2,
          -0.2,
          0.2,
          0.2
         ]
        },
        {
         "legendgroup": "rgb(127, 127, 127)",
         "marker": {
          "color": "rgb(127, 127, 127)",
          "opacity": 0,
          "size": 1
         },
         "mode": "markers",
         "name": "",
         "showlegend": false,
         "text": [
          null,
          null,
          null,
          null,
          null,
          null,
          null,
          null,
          null,
          null,
          null,
          null
         ],
         "type": "scatter",
         "x": [
          "0001-01-17T00:00:00",
          "0001-01-22T00:00:00",
          "0001-01-09T00:00:00",
          "0001-01-13T00:00:00",
          "0001-01-15T00:00:00",
          "0001-01-23T00:00:00",
          "0001-01-08T00:00:00",
          "0001-01-17T00:00:00",
          "0001-01-13T00:00:00",
          "0001-01-14T00:00:00",
          "0001-01-15T00:00:00",
          "0001-01-22T00:00:00"
         ],
         "y": [
          5,
          5,
          2,
          2,
          1,
          1,
          4,
          4,
          3,
          3,
          0,
          0
         ]
        },
        {
         "legendgroup": "rgb(140, 86, 75)",
         "marker": {
          "color": "rgb(140, 86, 75)",
          "opacity": 0,
          "size": 1
         },
         "mode": "markers",
         "name": "",
         "showlegend": false,
         "text": [
          null,
          null,
          null,
          null,
          null,
          null,
          null,
          null,
          null,
          null,
          null,
          null
         ],
         "type": "scatter",
         "x": [
          "0001-01-08T00:00:00",
          "0001-01-17T00:00:00",
          "0001-01-16T00:00:00",
          "0001-01-19T00:00:00",
          "0001-01-05T00:00:00",
          "0001-01-10T00:00:00",
          "0001-01-14T00:00:00",
          "0001-01-18T00:00:00",
          "0001-01-09T00:00:00",
          "0001-01-12T00:00:00",
          "0001-01-21T00:00:00",
          "0001-01-22T00:00:00"
         ],
         "y": [
          5,
          5,
          3,
          3,
          0,
          0,
          1,
          1,
          4,
          4,
          2,
          2
         ]
        },
        {
         "legendgroup": "rgb(148, 103, 189)",
         "marker": {
          "color": "rgb(148, 103, 189)",
          "opacity": 0,
          "size": 1
         },
         "mode": "markers",
         "name": "",
         "showlegend": false,
         "text": [
          null,
          null,
          null,
          null,
          null,
          null,
          null,
          null,
          null,
          null,
          null,
          null
         ],
         "type": "scatter",
         "x": [
          "0001-01-08T00:00:00",
          "0001-01-11T00:00:00",
          "0001-01-20T00:00:00",
          "0001-01-23T00:00:00",
          "0001-01-18T00:00:00",
          "0001-01-27T00:00:00",
          "0001-01-17T00:00:00",
          "0001-01-27T00:00:00",
          "0001-01-14T00:00:00",
          "0001-01-18T00:00:00",
          "0001-01-05T00:00:00",
          "0001-01-06T00:00:00"
         ],
         "y": [
          3,
          3,
          2,
          2,
          1,
          1,
          4,
          4,
          0,
          0,
          5,
          5
         ]
        },
        {
         "legendgroup": "rgb(188, 189, 34)",
         "marker": {
          "color": "rgb(188, 189, 34)",
          "opacity": 0,
          "size": 1
         },
         "mode": "markers",
         "name": "",
         "showlegend": false,
         "text": [
          null,
          null,
          null,
          null,
          null,
          null,
          null,
          null,
          null,
          null,
          null,
          null
         ],
         "type": "scatter",
         "x": [
          "0001-01-02T00:00:00",
          "0001-01-10T00:00:00",
          "0001-01-09T00:00:00",
          "0001-01-14T00:00:00",
          "0001-01-14T00:00:00",
          "0001-01-24T00:00:00",
          "0001-01-04T00:00:00",
          "0001-01-14T00:00:00",
          "0001-01-10T00:00:00",
          "0001-01-20T00:00:00",
          "0001-01-03T00:00:00",
          "0001-01-07T00:00:00"
         ],
         "y": [
          3,
          3,
          5,
          5,
          0,
          0,
          1,
          1,
          4,
          4,
          2,
          2
         ]
        },
        {
         "legendgroup": "rgb(227, 119, 194)",
         "marker": {
          "color": "rgb(227, 119, 194)",
          "opacity": 0,
          "size": 1
         },
         "mode": "markers",
         "name": "",
         "showlegend": false,
         "text": [
          null,
          null,
          null,
          null,
          null,
          null,
          null,
          null,
          null,
          null,
          null,
          null
         ],
         "type": "scatter",
         "x": [
          "0001-01-06T00:00:00",
          "0001-01-11T00:00:00",
          "0001-01-12T00:00:00",
          "0001-01-17T00:00:00",
          "0001-01-08T00:00:00",
          "0001-01-13T00:00:00",
          "0001-01-11T00:00:00",
          "0001-01-14T00:00:00",
          "0001-01-12T00:00:00",
          "0001-01-20T00:00:00",
          "0001-01-02T00:00:00",
          "0001-01-11T00:00:00"
         ],
         "y": [
          3,
          3,
          4,
          4,
          5,
          5,
          2,
          2,
          0,
          0,
          1,
          1
         ]
        },
        {
         "legendgroup": "rgb(23, 190, 207)",
         "marker": {
          "color": "rgb(23, 190, 207)",
          "opacity": 0,
          "size": 1
         },
         "mode": "markers",
         "name": "",
         "showlegend": false,
         "text": [
          null,
          null,
          null,
          null,
          null,
          null,
          null,
          null,
          null,
          null,
          null,
          null
         ],
         "type": "scatter",
         "x": [
          "0001-01-19T00:00:00",
          "0001-01-20T00:00:00",
          "0001-01-20T00:00:00",
          "0001-01-23T00:00:00",
          "0001-01-17T00:00:00",
          "0001-01-23T00:00:00",
          "0001-01-21T00:00:00",
          "0001-01-28T00:00:00",
          "0001-01-04T00:00:00",
          "0001-01-07T00:00:00",
          "0001-01-19T00:00:00",
          "0001-01-25T00:00:00"
         ],
         "y": [
          5,
          5,
          4,
          4,
          3,
          3,
          2,
          2,
          1,
          1,
          0,
          0
         ]
        }
       ],
       "layout": {
        "height": 600,
        "hovermode": "closest",
        "showlegend": true,
        "template": {
         "data": {
          "bar": [
           {
            "error_x": {
             "color": "#2a3f5f"
            },
            "error_y": {
             "color": "#2a3f5f"
            },
            "marker": {
             "line": {
              "color": "#E5ECF6",
              "width": 0.5
             }
            },
            "type": "bar"
           }
          ],
          "barpolar": [
           {
            "marker": {
             "line": {
              "color": "#E5ECF6",
              "width": 0.5
             }
            },
            "type": "barpolar"
           }
          ],
          "carpet": [
           {
            "aaxis": {
             "endlinecolor": "#2a3f5f",
             "gridcolor": "white",
             "linecolor": "white",
             "minorgridcolor": "white",
             "startlinecolor": "#2a3f5f"
            },
            "baxis": {
             "endlinecolor": "#2a3f5f",
             "gridcolor": "white",
             "linecolor": "white",
             "minorgridcolor": "white",
             "startlinecolor": "#2a3f5f"
            },
            "type": "carpet"
           }
          ],
          "choropleth": [
           {
            "colorbar": {
             "outlinewidth": 0,
             "ticks": ""
            },
            "type": "choropleth"
           }
          ],
          "contour": [
           {
            "colorbar": {
             "outlinewidth": 0,
             "ticks": ""
            },
            "colorscale": [
             [
              0,
              "#0d0887"
             ],
             [
              0.1111111111111111,
              "#46039f"
             ],
             [
              0.2222222222222222,
              "#7201a8"
             ],
             [
              0.3333333333333333,
              "#9c179e"
             ],
             [
              0.4444444444444444,
              "#bd3786"
             ],
             [
              0.5555555555555556,
              "#d8576b"
             ],
             [
              0.6666666666666666,
              "#ed7953"
             ],
             [
              0.7777777777777778,
              "#fb9f3a"
             ],
             [
              0.8888888888888888,
              "#fdca26"
             ],
             [
              1,
              "#f0f921"
             ]
            ],
            "type": "contour"
           }
          ],
          "contourcarpet": [
           {
            "colorbar": {
             "outlinewidth": 0,
             "ticks": ""
            },
            "type": "contourcarpet"
           }
          ],
          "heatmap": [
           {
            "colorbar": {
             "outlinewidth": 0,
             "ticks": ""
            },
            "colorscale": [
             [
              0,
              "#0d0887"
             ],
             [
              0.1111111111111111,
              "#46039f"
             ],
             [
              0.2222222222222222,
              "#7201a8"
             ],
             [
              0.3333333333333333,
              "#9c179e"
             ],
             [
              0.4444444444444444,
              "#bd3786"
             ],
             [
              0.5555555555555556,
              "#d8576b"
             ],
             [
              0.6666666666666666,
              "#ed7953"
             ],
             [
              0.7777777777777778,
              "#fb9f3a"
             ],
             [
              0.8888888888888888,
              "#fdca26"
             ],
             [
              1,
              "#f0f921"
             ]
            ],
            "type": "heatmap"
           }
          ],
          "heatmapgl": [
           {
            "colorbar": {
             "outlinewidth": 0,
             "ticks": ""
            },
            "colorscale": [
             [
              0,
              "#0d0887"
             ],
             [
              0.1111111111111111,
              "#46039f"
             ],
             [
              0.2222222222222222,
              "#7201a8"
             ],
             [
              0.3333333333333333,
              "#9c179e"
             ],
             [
              0.4444444444444444,
              "#bd3786"
             ],
             [
              0.5555555555555556,
              "#d8576b"
             ],
             [
              0.6666666666666666,
              "#ed7953"
             ],
             [
              0.7777777777777778,
              "#fb9f3a"
             ],
             [
              0.8888888888888888,
              "#fdca26"
             ],
             [
              1,
              "#f0f921"
             ]
            ],
            "type": "heatmapgl"
           }
          ],
          "histogram": [
           {
            "marker": {
             "colorbar": {
              "outlinewidth": 0,
              "ticks": ""
             }
            },
            "type": "histogram"
           }
          ],
          "histogram2d": [
           {
            "colorbar": {
             "outlinewidth": 0,
             "ticks": ""
            },
            "colorscale": [
             [
              0,
              "#0d0887"
             ],
             [
              0.1111111111111111,
              "#46039f"
             ],
             [
              0.2222222222222222,
              "#7201a8"
             ],
             [
              0.3333333333333333,
              "#9c179e"
             ],
             [
              0.4444444444444444,
              "#bd3786"
             ],
             [
              0.5555555555555556,
              "#d8576b"
             ],
             [
              0.6666666666666666,
              "#ed7953"
             ],
             [
              0.7777777777777778,
              "#fb9f3a"
             ],
             [
              0.8888888888888888,
              "#fdca26"
             ],
             [
              1,
              "#f0f921"
             ]
            ],
            "type": "histogram2d"
           }
          ],
          "histogram2dcontour": [
           {
            "colorbar": {
             "outlinewidth": 0,
             "ticks": ""
            },
            "colorscale": [
             [
              0,
              "#0d0887"
             ],
             [
              0.1111111111111111,
              "#46039f"
             ],
             [
              0.2222222222222222,
              "#7201a8"
             ],
             [
              0.3333333333333333,
              "#9c179e"
             ],
             [
              0.4444444444444444,
              "#bd3786"
             ],
             [
              0.5555555555555556,
              "#d8576b"
             ],
             [
              0.6666666666666666,
              "#ed7953"
             ],
             [
              0.7777777777777778,
              "#fb9f3a"
             ],
             [
              0.8888888888888888,
              "#fdca26"
             ],
             [
              1,
              "#f0f921"
             ]
            ],
            "type": "histogram2dcontour"
           }
          ],
          "mesh3d": [
           {
            "colorbar": {
             "outlinewidth": 0,
             "ticks": ""
            },
            "type": "mesh3d"
           }
          ],
          "parcoords": [
           {
            "line": {
             "colorbar": {
              "outlinewidth": 0,
              "ticks": ""
             }
            },
            "type": "parcoords"
           }
          ],
          "pie": [
           {
            "automargin": true,
            "type": "pie"
           }
          ],
          "scatter": [
           {
            "marker": {
             "colorbar": {
              "outlinewidth": 0,
              "ticks": ""
             }
            },
            "type": "scatter"
           }
          ],
          "scatter3d": [
           {
            "line": {
             "colorbar": {
              "outlinewidth": 0,
              "ticks": ""
             }
            },
            "marker": {
             "colorbar": {
              "outlinewidth": 0,
              "ticks": ""
             }
            },
            "type": "scatter3d"
           }
          ],
          "scattercarpet": [
           {
            "marker": {
             "colorbar": {
              "outlinewidth": 0,
              "ticks": ""
             }
            },
            "type": "scattercarpet"
           }
          ],
          "scattergeo": [
           {
            "marker": {
             "colorbar": {
              "outlinewidth": 0,
              "ticks": ""
             }
            },
            "type": "scattergeo"
           }
          ],
          "scattergl": [
           {
            "marker": {
             "colorbar": {
              "outlinewidth": 0,
              "ticks": ""
             }
            },
            "type": "scattergl"
           }
          ],
          "scattermapbox": [
           {
            "marker": {
             "colorbar": {
              "outlinewidth": 0,
              "ticks": ""
             }
            },
            "type": "scattermapbox"
           }
          ],
          "scatterpolar": [
           {
            "marker": {
             "colorbar": {
              "outlinewidth": 0,
              "ticks": ""
             }
            },
            "type": "scatterpolar"
           }
          ],
          "scatterpolargl": [
           {
            "marker": {
             "colorbar": {
              "outlinewidth": 0,
              "ticks": ""
             }
            },
            "type": "scatterpolargl"
           }
          ],
          "scatterternary": [
           {
            "marker": {
             "colorbar": {
              "outlinewidth": 0,
              "ticks": ""
             }
            },
            "type": "scatterternary"
           }
          ],
          "surface": [
           {
            "colorbar": {
             "outlinewidth": 0,
             "ticks": ""
            },
            "colorscale": [
             [
              0,
              "#0d0887"
             ],
             [
              0.1111111111111111,
              "#46039f"
             ],
             [
              0.2222222222222222,
              "#7201a8"
             ],
             [
              0.3333333333333333,
              "#9c179e"
             ],
             [
              0.4444444444444444,
              "#bd3786"
             ],
             [
              0.5555555555555556,
              "#d8576b"
             ],
             [
              0.6666666666666666,
              "#ed7953"
             ],
             [
              0.7777777777777778,
              "#fb9f3a"
             ],
             [
              0.8888888888888888,
              "#fdca26"
             ],
             [
              1,
              "#f0f921"
             ]
            ],
            "type": "surface"
           }
          ],
          "table": [
           {
            "cells": {
             "fill": {
              "color": "#EBF0F8"
             },
             "line": {
              "color": "white"
             }
            },
            "header": {
             "fill": {
              "color": "#C8D4E3"
             },
             "line": {
              "color": "white"
             }
            },
            "type": "table"
           }
          ]
         },
         "layout": {
          "annotationdefaults": {
           "arrowcolor": "#2a3f5f",
           "arrowhead": 0,
           "arrowwidth": 1
          },
          "coloraxis": {
           "colorbar": {
            "outlinewidth": 0,
            "ticks": ""
           }
          },
          "colorscale": {
           "diverging": [
            [
             0,
             "#8e0152"
            ],
            [
             0.1,
             "#c51b7d"
            ],
            [
             0.2,
             "#de77ae"
            ],
            [
             0.3,
             "#f1b6da"
            ],
            [
             0.4,
             "#fde0ef"
            ],
            [
             0.5,
             "#f7f7f7"
            ],
            [
             0.6,
             "#e6f5d0"
            ],
            [
             0.7,
             "#b8e186"
            ],
            [
             0.8,
             "#7fbc41"
            ],
            [
             0.9,
             "#4d9221"
            ],
            [
             1,
             "#276419"
            ]
           ],
           "sequential": [
            [
             0,
             "#0d0887"
            ],
            [
             0.1111111111111111,
             "#46039f"
            ],
            [
             0.2222222222222222,
             "#7201a8"
            ],
            [
             0.3333333333333333,
             "#9c179e"
            ],
            [
             0.4444444444444444,
             "#bd3786"
            ],
            [
             0.5555555555555556,
             "#d8576b"
            ],
            [
             0.6666666666666666,
             "#ed7953"
            ],
            [
             0.7777777777777778,
             "#fb9f3a"
            ],
            [
             0.8888888888888888,
             "#fdca26"
            ],
            [
             1,
             "#f0f921"
            ]
           ],
           "sequentialminus": [
            [
             0,
             "#0d0887"
            ],
            [
             0.1111111111111111,
             "#46039f"
            ],
            [
             0.2222222222222222,
             "#7201a8"
            ],
            [
             0.3333333333333333,
             "#9c179e"
            ],
            [
             0.4444444444444444,
             "#bd3786"
            ],
            [
             0.5555555555555556,
             "#d8576b"
            ],
            [
             0.6666666666666666,
             "#ed7953"
            ],
            [
             0.7777777777777778,
             "#fb9f3a"
            ],
            [
             0.8888888888888888,
             "#fdca26"
            ],
            [
             1,
             "#f0f921"
            ]
           ]
          },
          "colorway": [
           "#636efa",
           "#EF553B",
           "#00cc96",
           "#ab63fa",
           "#FFA15A",
           "#19d3f3",
           "#FF6692",
           "#B6E880",
           "#FF97FF",
           "#FECB52"
          ],
          "font": {
           "color": "#2a3f5f"
          },
          "geo": {
           "bgcolor": "white",
           "lakecolor": "white",
           "landcolor": "#E5ECF6",
           "showlakes": true,
           "showland": true,
           "subunitcolor": "white"
          },
          "hoverlabel": {
           "align": "left"
          },
          "hovermode": "closest",
          "mapbox": {
           "style": "light"
          },
          "paper_bgcolor": "white",
          "plot_bgcolor": "#E5ECF6",
          "polar": {
           "angularaxis": {
            "gridcolor": "white",
            "linecolor": "white",
            "ticks": ""
           },
           "bgcolor": "#E5ECF6",
           "radialaxis": {
            "gridcolor": "white",
            "linecolor": "white",
            "ticks": ""
           }
          },
          "scene": {
           "xaxis": {
            "backgroundcolor": "#E5ECF6",
            "gridcolor": "white",
            "gridwidth": 2,
            "linecolor": "white",
            "showbackground": true,
            "ticks": "",
            "zerolinecolor": "white"
           },
           "yaxis": {
            "backgroundcolor": "#E5ECF6",
            "gridcolor": "white",
            "gridwidth": 2,
            "linecolor": "white",
            "showbackground": true,
            "ticks": "",
            "zerolinecolor": "white"
           },
           "zaxis": {
            "backgroundcolor": "#E5ECF6",
            "gridcolor": "white",
            "gridwidth": 2,
            "linecolor": "white",
            "showbackground": true,
            "ticks": "",
            "zerolinecolor": "white"
           }
          },
          "shapedefaults": {
           "line": {
            "color": "#2a3f5f"
           }
          },
          "ternary": {
           "aaxis": {
            "gridcolor": "white",
            "linecolor": "white",
            "ticks": ""
           },
           "baxis": {
            "gridcolor": "white",
            "linecolor": "white",
            "ticks": ""
           },
           "bgcolor": "#E5ECF6",
           "caxis": {
            "gridcolor": "white",
            "linecolor": "white",
            "ticks": ""
           }
          },
          "title": {
           "x": 0.05
          },
          "xaxis": {
           "automargin": true,
           "gridcolor": "white",
           "linecolor": "white",
           "ticks": "",
           "title": {
            "standoff": 15
           },
           "zerolinecolor": "white",
           "zerolinewidth": 2
          },
          "yaxis": {
           "automargin": true,
           "gridcolor": "white",
           "linecolor": "white",
           "ticks": "",
           "title": {
            "standoff": 15
           },
           "zerolinecolor": "white",
           "zerolinewidth": 2
          }
         }
        },
        "title": {
         "text": "Gantt Chart"
        },
        "xaxis": {
         "rangeselector": {
          "buttons": [
           {
            "count": 7,
            "label": "1w",
            "step": "day",
            "stepmode": "backward"
           },
           {
            "count": 1,
            "label": "1m",
            "step": "month",
            "stepmode": "backward"
           },
           {
            "count": 6,
            "label": "6m",
            "step": "month",
            "stepmode": "backward"
           },
           {
            "count": 1,
            "label": "YTD",
            "step": "year",
            "stepmode": "todate"
           },
           {
            "count": 1,
            "label": "1y",
            "step": "year",
            "stepmode": "backward"
           },
           {
            "step": "all"
           }
          ]
         },
         "showgrid": true,
         "tickformat": "%",
         "type": "date",
         "zeroline": false
        },
        "yaxis": {
         "autorange": false,
         "range": [
          -1,
          7
         ],
         "showgrid": true,
         "ticktext": [
          "Machine  #4",
          "Machine  #5",
          "Machine  #3",
          "Machine  #1",
          "Machine  #0",
          "Machine  #2"
         ],
         "tickvals": [
          0,
          1,
          2,
          3,
          4,
          5
         ],
         "zeroline": false
        }
       }
      },
      "text/html": [
       "<div>\n",
       "        \n",
       "        \n",
       "            <div id=\"5fc9365a-2ad4-4789-9301-f57be78a7b26\" class=\"plotly-graph-div\" style=\"height:600px; width:100%;\"></div>\n",
       "            <script type=\"text/javascript\">\n",
       "                require([\"plotly\"], function(Plotly) {\n",
       "                    window.PLOTLYENV=window.PLOTLYENV || {};\n",
       "                    \n",
       "                if (document.getElementById(\"5fc9365a-2ad4-4789-9301-f57be78a7b26\")) {\n",
       "                    Plotly.newPlot(\n",
       "                        '5fc9365a-2ad4-4789-9301-f57be78a7b26',\n",
       "                        [{\"fill\": \"toself\", \"fillcolor\": \"rgb(127, 127, 127)\", \"hoverinfo\": \"name\", \"legendgroup\": \"rgb(127, 127, 127)\", \"mode\": \"none\", \"name\": \"Job #2\", \"showlegend\": true, \"type\": \"scatter\", \"x\": [\"0001-01-17T00:00:00\", \"0001-01-22T00:00:00\", \"0001-01-22T00:00:00\", \"0001-01-17T00:00:00\", \"0001-01-17T00:00:00\", \"0001-01-09T00:00:00\", \"0001-01-13T00:00:00\", \"0001-01-13T00:00:00\", \"0001-01-09T00:00:00\", \"0001-01-09T00:00:00\", \"0001-01-15T00:00:00\", \"0001-01-23T00:00:00\", \"0001-01-23T00:00:00\", \"0001-01-15T00:00:00\", \"0001-01-15T00:00:00\", \"0001-01-08T00:00:00\", \"0001-01-17T00:00:00\", \"0001-01-17T00:00:00\", \"0001-01-08T00:00:00\", \"0001-01-08T00:00:00\", \"0001-01-13T00:00:00\", \"0001-01-14T00:00:00\", \"0001-01-14T00:00:00\", \"0001-01-13T00:00:00\", \"0001-01-13T00:00:00\", \"0001-01-15T00:00:00\", \"0001-01-22T00:00:00\", \"0001-01-22T00:00:00\", \"0001-01-15T00:00:00\"], \"y\": [4.8, 4.8, 5.2, 5.2, null, 1.8, 1.8, 2.2, 2.2, null, 0.8, 0.8, 1.2, 1.2, null, 3.8, 3.8, 4.2, 4.2, null, 2.8, 2.8, 3.2, 3.2, null, -0.2, -0.2, 0.2, 0.2]}, {\"fill\": \"toself\", \"fillcolor\": \"rgb(140, 86, 75)\", \"hoverinfo\": \"name\", \"legendgroup\": \"rgb(140, 86, 75)\", \"mode\": \"none\", \"name\": \"Job #4\", \"showlegend\": true, \"type\": \"scatter\", \"x\": [\"0001-01-08T00:00:00\", \"0001-01-17T00:00:00\", \"0001-01-17T00:00:00\", \"0001-01-08T00:00:00\", \"0001-01-08T00:00:00\", \"0001-01-16T00:00:00\", \"0001-01-19T00:00:00\", \"0001-01-19T00:00:00\", \"0001-01-16T00:00:00\", \"0001-01-16T00:00:00\", \"0001-01-05T00:00:00\", \"0001-01-10T00:00:00\", \"0001-01-10T00:00:00\", \"0001-01-05T00:00:00\", \"0001-01-05T00:00:00\", \"0001-01-14T00:00:00\", \"0001-01-18T00:00:00\", \"0001-01-18T00:00:00\", \"0001-01-14T00:00:00\", \"0001-01-14T00:00:00\", \"0001-01-09T00:00:00\", \"0001-01-12T00:00:00\", \"0001-01-12T00:00:00\", \"0001-01-09T00:00:00\", \"0001-01-09T00:00:00\", \"0001-01-21T00:00:00\", \"0001-01-22T00:00:00\", \"0001-01-22T00:00:00\", \"0001-01-21T00:00:00\"], \"y\": [4.8, 4.8, 5.2, 5.2, null, 2.8, 2.8, 3.2, 3.2, null, -0.2, -0.2, 0.2, 0.2, null, 0.8, 0.8, 1.2, 1.2, null, 3.8, 3.8, 4.2, 4.2, null, 1.8, 1.8, 2.2, 2.2]}, {\"fill\": \"toself\", \"fillcolor\": \"rgb(148, 103, 189)\", \"hoverinfo\": \"name\", \"legendgroup\": \"rgb(148, 103, 189)\", \"mode\": \"none\", \"name\": \"Job #5\", \"showlegend\": true, \"type\": \"scatter\", \"x\": [\"0001-01-08T00:00:00\", \"0001-01-11T00:00:00\", \"0001-01-11T00:00:00\", \"0001-01-08T00:00:00\", \"0001-01-08T00:00:00\", \"0001-01-20T00:00:00\", \"0001-01-23T00:00:00\", \"0001-01-23T00:00:00\", \"0001-01-20T00:00:00\", \"0001-01-20T00:00:00\", \"0001-01-18T00:00:00\", \"0001-01-27T00:00:00\", \"0001-01-27T00:00:00\", \"0001-01-18T00:00:00\", \"0001-01-18T00:00:00\", \"0001-01-17T00:00:00\", \"0001-01-27T00:00:00\", \"0001-01-27T00:00:00\", \"0001-01-17T00:00:00\", \"0001-01-17T00:00:00\", \"0001-01-14T00:00:00\", \"0001-01-18T00:00:00\", \"0001-01-18T00:00:00\", \"0001-01-14T00:00:00\", \"0001-01-14T00:00:00\", \"0001-01-05T00:00:00\", \"0001-01-06T00:00:00\", \"0001-01-06T00:00:00\", \"0001-01-05T00:00:00\"], \"y\": [2.8, 2.8, 3.2, 3.2, null, 1.8, 1.8, 2.2, 2.2, null, 0.8, 0.8, 1.2, 1.2, null, 3.8, 3.8, 4.2, 4.2, null, -0.2, -0.2, 0.2, 0.2, null, 4.8, 4.8, 5.2, 5.2]}, {\"fill\": \"toself\", \"fillcolor\": \"rgb(188, 189, 34)\", \"hoverinfo\": \"name\", \"legendgroup\": \"rgb(188, 189, 34)\", \"mode\": \"none\", \"name\": \"Job #1\", \"showlegend\": true, \"type\": \"scatter\", \"x\": [\"0001-01-02T00:00:00\", \"0001-01-10T00:00:00\", \"0001-01-10T00:00:00\", \"0001-01-02T00:00:00\", \"0001-01-02T00:00:00\", \"0001-01-09T00:00:00\", \"0001-01-14T00:00:00\", \"0001-01-14T00:00:00\", \"0001-01-09T00:00:00\", \"0001-01-09T00:00:00\", \"0001-01-14T00:00:00\", \"0001-01-24T00:00:00\", \"0001-01-24T00:00:00\", \"0001-01-14T00:00:00\", \"0001-01-14T00:00:00\", \"0001-01-04T00:00:00\", \"0001-01-14T00:00:00\", \"0001-01-14T00:00:00\", \"0001-01-04T00:00:00\", \"0001-01-04T00:00:00\", \"0001-01-10T00:00:00\", \"0001-01-20T00:00:00\", \"0001-01-20T00:00:00\", \"0001-01-10T00:00:00\", \"0001-01-10T00:00:00\", \"0001-01-03T00:00:00\", \"0001-01-07T00:00:00\", \"0001-01-07T00:00:00\", \"0001-01-03T00:00:00\"], \"y\": [2.8, 2.8, 3.2, 3.2, null, 4.8, 4.8, 5.2, 5.2, null, -0.2, -0.2, 0.2, 0.2, null, 0.8, 0.8, 1.2, 1.2, null, 3.8, 3.8, 4.2, 4.2, null, 1.8, 1.8, 2.2, 2.2]}, {\"fill\": \"toself\", \"fillcolor\": \"rgb(227, 119, 194)\", \"hoverinfo\": \"name\", \"legendgroup\": \"rgb(227, 119, 194)\", \"mode\": \"none\", \"name\": \"Job #3\", \"showlegend\": true, \"type\": \"scatter\", \"x\": [\"0001-01-06T00:00:00\", \"0001-01-11T00:00:00\", \"0001-01-11T00:00:00\", \"0001-01-06T00:00:00\", \"0001-01-06T00:00:00\", \"0001-01-12T00:00:00\", \"0001-01-17T00:00:00\", \"0001-01-17T00:00:00\", \"0001-01-12T00:00:00\", \"0001-01-12T00:00:00\", \"0001-01-08T00:00:00\", \"0001-01-13T00:00:00\", \"0001-01-13T00:00:00\", \"0001-01-08T00:00:00\", \"0001-01-08T00:00:00\", \"0001-01-11T00:00:00\", \"0001-01-14T00:00:00\", \"0001-01-14T00:00:00\", \"0001-01-11T00:00:00\", \"0001-01-11T00:00:00\", \"0001-01-12T00:00:00\", \"0001-01-20T00:00:00\", \"0001-01-20T00:00:00\", \"0001-01-12T00:00:00\", \"0001-01-12T00:00:00\", \"0001-01-02T00:00:00\", \"0001-01-11T00:00:00\", \"0001-01-11T00:00:00\", \"0001-01-02T00:00:00\"], \"y\": [2.8, 2.8, 3.2, 3.2, null, 3.8, 3.8, 4.2, 4.2, null, 4.8, 4.8, 5.2, 5.2, null, 1.8, 1.8, 2.2, 2.2, null, -0.2, -0.2, 0.2, 0.2, null, 0.8, 0.8, 1.2, 1.2]}, {\"fill\": \"toself\", \"fillcolor\": \"rgb(23, 190, 207)\", \"hoverinfo\": \"name\", \"legendgroup\": \"rgb(23, 190, 207)\", \"mode\": \"none\", \"name\": \"Job #0\", \"showlegend\": true, \"type\": \"scatter\", \"x\": [\"0001-01-19T00:00:00\", \"0001-01-20T00:00:00\", \"0001-01-20T00:00:00\", \"0001-01-19T00:00:00\", \"0001-01-19T00:00:00\", \"0001-01-20T00:00:00\", \"0001-01-23T00:00:00\", \"0001-01-23T00:00:00\", \"0001-01-20T00:00:00\", \"0001-01-20T00:00:00\", \"0001-01-17T00:00:00\", \"0001-01-23T00:00:00\", \"0001-01-23T00:00:00\", \"0001-01-17T00:00:00\", \"0001-01-17T00:00:00\", \"0001-01-21T00:00:00\", \"0001-01-28T00:00:00\", \"0001-01-28T00:00:00\", \"0001-01-21T00:00:00\", \"0001-01-21T00:00:00\", \"0001-01-04T00:00:00\", \"0001-01-07T00:00:00\", \"0001-01-07T00:00:00\", \"0001-01-04T00:00:00\", \"0001-01-04T00:00:00\", \"0001-01-19T00:00:00\", \"0001-01-25T00:00:00\", \"0001-01-25T00:00:00\", \"0001-01-19T00:00:00\"], \"y\": [4.8, 4.8, 5.2, 5.2, null, 3.8, 3.8, 4.2, 4.2, null, 2.8, 2.8, 3.2, 3.2, null, 1.8, 1.8, 2.2, 2.2, null, 0.8, 0.8, 1.2, 1.2, null, -0.2, -0.2, 0.2, 0.2]}, {\"legendgroup\": \"rgb(127, 127, 127)\", \"marker\": {\"color\": \"rgb(127, 127, 127)\", \"opacity\": 0, \"size\": 1}, \"mode\": \"markers\", \"name\": \"\", \"showlegend\": false, \"text\": [null, null, null, null, null, null, null, null, null, null, null, null], \"type\": \"scatter\", \"x\": [\"0001-01-17T00:00:00\", \"0001-01-22T00:00:00\", \"0001-01-09T00:00:00\", \"0001-01-13T00:00:00\", \"0001-01-15T00:00:00\", \"0001-01-23T00:00:00\", \"0001-01-08T00:00:00\", \"0001-01-17T00:00:00\", \"0001-01-13T00:00:00\", \"0001-01-14T00:00:00\", \"0001-01-15T00:00:00\", \"0001-01-22T00:00:00\"], \"y\": [5, 5, 2, 2, 1, 1, 4, 4, 3, 3, 0, 0]}, {\"legendgroup\": \"rgb(140, 86, 75)\", \"marker\": {\"color\": \"rgb(140, 86, 75)\", \"opacity\": 0, \"size\": 1}, \"mode\": \"markers\", \"name\": \"\", \"showlegend\": false, \"text\": [null, null, null, null, null, null, null, null, null, null, null, null], \"type\": \"scatter\", \"x\": [\"0001-01-08T00:00:00\", \"0001-01-17T00:00:00\", \"0001-01-16T00:00:00\", \"0001-01-19T00:00:00\", \"0001-01-05T00:00:00\", \"0001-01-10T00:00:00\", \"0001-01-14T00:00:00\", \"0001-01-18T00:00:00\", \"0001-01-09T00:00:00\", \"0001-01-12T00:00:00\", \"0001-01-21T00:00:00\", \"0001-01-22T00:00:00\"], \"y\": [5, 5, 3, 3, 0, 0, 1, 1, 4, 4, 2, 2]}, {\"legendgroup\": \"rgb(148, 103, 189)\", \"marker\": {\"color\": \"rgb(148, 103, 189)\", \"opacity\": 0, \"size\": 1}, \"mode\": \"markers\", \"name\": \"\", \"showlegend\": false, \"text\": [null, null, null, null, null, null, null, null, null, null, null, null], \"type\": \"scatter\", \"x\": [\"0001-01-08T00:00:00\", \"0001-01-11T00:00:00\", \"0001-01-20T00:00:00\", \"0001-01-23T00:00:00\", \"0001-01-18T00:00:00\", \"0001-01-27T00:00:00\", \"0001-01-17T00:00:00\", \"0001-01-27T00:00:00\", \"0001-01-14T00:00:00\", \"0001-01-18T00:00:00\", \"0001-01-05T00:00:00\", \"0001-01-06T00:00:00\"], \"y\": [3, 3, 2, 2, 1, 1, 4, 4, 0, 0, 5, 5]}, {\"legendgroup\": \"rgb(188, 189, 34)\", \"marker\": {\"color\": \"rgb(188, 189, 34)\", \"opacity\": 0, \"size\": 1}, \"mode\": \"markers\", \"name\": \"\", \"showlegend\": false, \"text\": [null, null, null, null, null, null, null, null, null, null, null, null], \"type\": \"scatter\", \"x\": [\"0001-01-02T00:00:00\", \"0001-01-10T00:00:00\", \"0001-01-09T00:00:00\", \"0001-01-14T00:00:00\", \"0001-01-14T00:00:00\", \"0001-01-24T00:00:00\", \"0001-01-04T00:00:00\", \"0001-01-14T00:00:00\", \"0001-01-10T00:00:00\", \"0001-01-20T00:00:00\", \"0001-01-03T00:00:00\", \"0001-01-07T00:00:00\"], \"y\": [3, 3, 5, 5, 0, 0, 1, 1, 4, 4, 2, 2]}, {\"legendgroup\": \"rgb(227, 119, 194)\", \"marker\": {\"color\": \"rgb(227, 119, 194)\", \"opacity\": 0, \"size\": 1}, \"mode\": \"markers\", \"name\": \"\", \"showlegend\": false, \"text\": [null, null, null, null, null, null, null, null, null, null, null, null], \"type\": \"scatter\", \"x\": [\"0001-01-06T00:00:00\", \"0001-01-11T00:00:00\", \"0001-01-12T00:00:00\", \"0001-01-17T00:00:00\", \"0001-01-08T00:00:00\", \"0001-01-13T00:00:00\", \"0001-01-11T00:00:00\", \"0001-01-14T00:00:00\", \"0001-01-12T00:00:00\", \"0001-01-20T00:00:00\", \"0001-01-02T00:00:00\", \"0001-01-11T00:00:00\"], \"y\": [3, 3, 4, 4, 5, 5, 2, 2, 0, 0, 1, 1]}, {\"legendgroup\": \"rgb(23, 190, 207)\", \"marker\": {\"color\": \"rgb(23, 190, 207)\", \"opacity\": 0, \"size\": 1}, \"mode\": \"markers\", \"name\": \"\", \"showlegend\": false, \"text\": [null, null, null, null, null, null, null, null, null, null, null, null], \"type\": \"scatter\", \"x\": [\"0001-01-19T00:00:00\", \"0001-01-20T00:00:00\", \"0001-01-20T00:00:00\", \"0001-01-23T00:00:00\", \"0001-01-17T00:00:00\", \"0001-01-23T00:00:00\", \"0001-01-21T00:00:00\", \"0001-01-28T00:00:00\", \"0001-01-04T00:00:00\", \"0001-01-07T00:00:00\", \"0001-01-19T00:00:00\", \"0001-01-25T00:00:00\"], \"y\": [5, 5, 4, 4, 3, 3, 2, 2, 1, 1, 0, 0]}],\n",
       "                        {\"height\": 600, \"hovermode\": \"closest\", \"showlegend\": true, \"template\": {\"data\": {\"bar\": [{\"error_x\": {\"color\": \"#2a3f5f\"}, \"error_y\": {\"color\": \"#2a3f5f\"}, \"marker\": {\"line\": {\"color\": \"#E5ECF6\", \"width\": 0.5}}, \"type\": \"bar\"}], \"barpolar\": [{\"marker\": {\"line\": {\"color\": \"#E5ECF6\", \"width\": 0.5}}, \"type\": \"barpolar\"}], \"carpet\": [{\"aaxis\": {\"endlinecolor\": \"#2a3f5f\", \"gridcolor\": \"white\", \"linecolor\": \"white\", \"minorgridcolor\": \"white\", \"startlinecolor\": \"#2a3f5f\"}, \"baxis\": {\"endlinecolor\": \"#2a3f5f\", \"gridcolor\": \"white\", \"linecolor\": \"white\", \"minorgridcolor\": \"white\", \"startlinecolor\": \"#2a3f5f\"}, \"type\": \"carpet\"}], \"choropleth\": [{\"colorbar\": {\"outlinewidth\": 0, \"ticks\": \"\"}, \"type\": \"choropleth\"}], \"contour\": [{\"colorbar\": {\"outlinewidth\": 0, \"ticks\": \"\"}, \"colorscale\": [[0.0, \"#0d0887\"], [0.1111111111111111, \"#46039f\"], [0.2222222222222222, \"#7201a8\"], [0.3333333333333333, \"#9c179e\"], [0.4444444444444444, \"#bd3786\"], [0.5555555555555556, \"#d8576b\"], [0.6666666666666666, \"#ed7953\"], [0.7777777777777778, \"#fb9f3a\"], [0.8888888888888888, \"#fdca26\"], [1.0, \"#f0f921\"]], \"type\": \"contour\"}], \"contourcarpet\": [{\"colorbar\": {\"outlinewidth\": 0, \"ticks\": \"\"}, \"type\": \"contourcarpet\"}], \"heatmap\": [{\"colorbar\": {\"outlinewidth\": 0, \"ticks\": \"\"}, \"colorscale\": [[0.0, \"#0d0887\"], [0.1111111111111111, \"#46039f\"], [0.2222222222222222, \"#7201a8\"], [0.3333333333333333, \"#9c179e\"], [0.4444444444444444, \"#bd3786\"], [0.5555555555555556, \"#d8576b\"], [0.6666666666666666, \"#ed7953\"], [0.7777777777777778, \"#fb9f3a\"], [0.8888888888888888, \"#fdca26\"], [1.0, \"#f0f921\"]], \"type\": \"heatmap\"}], \"heatmapgl\": [{\"colorbar\": {\"outlinewidth\": 0, \"ticks\": \"\"}, \"colorscale\": [[0.0, \"#0d0887\"], [0.1111111111111111, \"#46039f\"], [0.2222222222222222, \"#7201a8\"], [0.3333333333333333, \"#9c179e\"], [0.4444444444444444, \"#bd3786\"], [0.5555555555555556, \"#d8576b\"], [0.6666666666666666, \"#ed7953\"], [0.7777777777777778, \"#fb9f3a\"], [0.8888888888888888, \"#fdca26\"], [1.0, \"#f0f921\"]], \"type\": \"heatmapgl\"}], \"histogram\": [{\"marker\": {\"colorbar\": {\"outlinewidth\": 0, \"ticks\": \"\"}}, \"type\": \"histogram\"}], \"histogram2d\": [{\"colorbar\": {\"outlinewidth\": 0, \"ticks\": \"\"}, \"colorscale\": [[0.0, \"#0d0887\"], [0.1111111111111111, \"#46039f\"], [0.2222222222222222, \"#7201a8\"], [0.3333333333333333, \"#9c179e\"], [0.4444444444444444, \"#bd3786\"], [0.5555555555555556, \"#d8576b\"], [0.6666666666666666, \"#ed7953\"], [0.7777777777777778, \"#fb9f3a\"], [0.8888888888888888, \"#fdca26\"], [1.0, \"#f0f921\"]], \"type\": \"histogram2d\"}], \"histogram2dcontour\": [{\"colorbar\": {\"outlinewidth\": 0, \"ticks\": \"\"}, \"colorscale\": [[0.0, \"#0d0887\"], [0.1111111111111111, \"#46039f\"], [0.2222222222222222, \"#7201a8\"], [0.3333333333333333, \"#9c179e\"], [0.4444444444444444, \"#bd3786\"], [0.5555555555555556, \"#d8576b\"], [0.6666666666666666, \"#ed7953\"], [0.7777777777777778, \"#fb9f3a\"], [0.8888888888888888, \"#fdca26\"], [1.0, \"#f0f921\"]], \"type\": \"histogram2dcontour\"}], \"mesh3d\": [{\"colorbar\": {\"outlinewidth\": 0, \"ticks\": \"\"}, \"type\": \"mesh3d\"}], \"parcoords\": [{\"line\": {\"colorbar\": {\"outlinewidth\": 0, \"ticks\": \"\"}}, \"type\": \"parcoords\"}], \"pie\": [{\"automargin\": true, \"type\": \"pie\"}], \"scatter\": [{\"marker\": {\"colorbar\": {\"outlinewidth\": 0, \"ticks\": \"\"}}, \"type\": \"scatter\"}], \"scatter3d\": [{\"line\": {\"colorbar\": {\"outlinewidth\": 0, \"ticks\": \"\"}}, \"marker\": {\"colorbar\": {\"outlinewidth\": 0, \"ticks\": \"\"}}, \"type\": \"scatter3d\"}], \"scattercarpet\": [{\"marker\": {\"colorbar\": {\"outlinewidth\": 0, \"ticks\": \"\"}}, \"type\": \"scattercarpet\"}], \"scattergeo\": [{\"marker\": {\"colorbar\": {\"outlinewidth\": 0, \"ticks\": \"\"}}, \"type\": \"scattergeo\"}], \"scattergl\": [{\"marker\": {\"colorbar\": {\"outlinewidth\": 0, \"ticks\": \"\"}}, \"type\": \"scattergl\"}], \"scattermapbox\": [{\"marker\": {\"colorbar\": {\"outlinewidth\": 0, \"ticks\": \"\"}}, \"type\": \"scattermapbox\"}], \"scatterpolar\": [{\"marker\": {\"colorbar\": {\"outlinewidth\": 0, \"ticks\": \"\"}}, \"type\": \"scatterpolar\"}], \"scatterpolargl\": [{\"marker\": {\"colorbar\": {\"outlinewidth\": 0, \"ticks\": \"\"}}, \"type\": \"scatterpolargl\"}], \"scatterternary\": [{\"marker\": {\"colorbar\": {\"outlinewidth\": 0, \"ticks\": \"\"}}, \"type\": \"scatterternary\"}], \"surface\": [{\"colorbar\": {\"outlinewidth\": 0, \"ticks\": \"\"}, \"colorscale\": [[0.0, \"#0d0887\"], [0.1111111111111111, \"#46039f\"], [0.2222222222222222, \"#7201a8\"], [0.3333333333333333, \"#9c179e\"], [0.4444444444444444, \"#bd3786\"], [0.5555555555555556, \"#d8576b\"], [0.6666666666666666, \"#ed7953\"], [0.7777777777777778, \"#fb9f3a\"], [0.8888888888888888, \"#fdca26\"], [1.0, \"#f0f921\"]], \"type\": \"surface\"}], \"table\": [{\"cells\": {\"fill\": {\"color\": \"#EBF0F8\"}, \"line\": {\"color\": \"white\"}}, \"header\": {\"fill\": {\"color\": \"#C8D4E3\"}, \"line\": {\"color\": \"white\"}}, \"type\": \"table\"}]}, \"layout\": {\"annotationdefaults\": {\"arrowcolor\": \"#2a3f5f\", \"arrowhead\": 0, \"arrowwidth\": 1}, \"coloraxis\": {\"colorbar\": {\"outlinewidth\": 0, \"ticks\": \"\"}}, \"colorscale\": {\"diverging\": [[0, \"#8e0152\"], [0.1, \"#c51b7d\"], [0.2, \"#de77ae\"], [0.3, \"#f1b6da\"], [0.4, \"#fde0ef\"], [0.5, \"#f7f7f7\"], [0.6, \"#e6f5d0\"], [0.7, \"#b8e186\"], [0.8, \"#7fbc41\"], [0.9, \"#4d9221\"], [1, \"#276419\"]], \"sequential\": [[0.0, \"#0d0887\"], [0.1111111111111111, \"#46039f\"], [0.2222222222222222, \"#7201a8\"], [0.3333333333333333, \"#9c179e\"], [0.4444444444444444, \"#bd3786\"], [0.5555555555555556, \"#d8576b\"], [0.6666666666666666, \"#ed7953\"], [0.7777777777777778, \"#fb9f3a\"], [0.8888888888888888, \"#fdca26\"], [1.0, \"#f0f921\"]], \"sequentialminus\": [[0.0, \"#0d0887\"], [0.1111111111111111, \"#46039f\"], [0.2222222222222222, \"#7201a8\"], [0.3333333333333333, \"#9c179e\"], [0.4444444444444444, \"#bd3786\"], [0.5555555555555556, \"#d8576b\"], [0.6666666666666666, \"#ed7953\"], [0.7777777777777778, \"#fb9f3a\"], [0.8888888888888888, \"#fdca26\"], [1.0, \"#f0f921\"]]}, \"colorway\": [\"#636efa\", \"#EF553B\", \"#00cc96\", \"#ab63fa\", \"#FFA15A\", \"#19d3f3\", \"#FF6692\", \"#B6E880\", \"#FF97FF\", \"#FECB52\"], \"font\": {\"color\": \"#2a3f5f\"}, \"geo\": {\"bgcolor\": \"white\", \"lakecolor\": \"white\", \"landcolor\": \"#E5ECF6\", \"showlakes\": true, \"showland\": true, \"subunitcolor\": \"white\"}, \"hoverlabel\": {\"align\": \"left\"}, \"hovermode\": \"closest\", \"mapbox\": {\"style\": \"light\"}, \"paper_bgcolor\": \"white\", \"plot_bgcolor\": \"#E5ECF6\", \"polar\": {\"angularaxis\": {\"gridcolor\": \"white\", \"linecolor\": \"white\", \"ticks\": \"\"}, \"bgcolor\": \"#E5ECF6\", \"radialaxis\": {\"gridcolor\": \"white\", \"linecolor\": \"white\", \"ticks\": \"\"}}, \"scene\": {\"xaxis\": {\"backgroundcolor\": \"#E5ECF6\", \"gridcolor\": \"white\", \"gridwidth\": 2, \"linecolor\": \"white\", \"showbackground\": true, \"ticks\": \"\", \"zerolinecolor\": \"white\"}, \"yaxis\": {\"backgroundcolor\": \"#E5ECF6\", \"gridcolor\": \"white\", \"gridwidth\": 2, \"linecolor\": \"white\", \"showbackground\": true, \"ticks\": \"\", \"zerolinecolor\": \"white\"}, \"zaxis\": {\"backgroundcolor\": \"#E5ECF6\", \"gridcolor\": \"white\", \"gridwidth\": 2, \"linecolor\": \"white\", \"showbackground\": true, \"ticks\": \"\", \"zerolinecolor\": \"white\"}}, \"shapedefaults\": {\"line\": {\"color\": \"#2a3f5f\"}}, \"ternary\": {\"aaxis\": {\"gridcolor\": \"white\", \"linecolor\": \"white\", \"ticks\": \"\"}, \"baxis\": {\"gridcolor\": \"white\", \"linecolor\": \"white\", \"ticks\": \"\"}, \"bgcolor\": \"#E5ECF6\", \"caxis\": {\"gridcolor\": \"white\", \"linecolor\": \"white\", \"ticks\": \"\"}}, \"title\": {\"x\": 0.05}, \"xaxis\": {\"automargin\": true, \"gridcolor\": \"white\", \"linecolor\": \"white\", \"ticks\": \"\", \"title\": {\"standoff\": 15}, \"zerolinecolor\": \"white\", \"zerolinewidth\": 2}, \"yaxis\": {\"automargin\": true, \"gridcolor\": \"white\", \"linecolor\": \"white\", \"ticks\": \"\", \"title\": {\"standoff\": 15}, \"zerolinecolor\": \"white\", \"zerolinewidth\": 2}}}, \"title\": {\"text\": \"Gantt Chart\"}, \"xaxis\": {\"rangeselector\": {\"buttons\": [{\"count\": 7, \"label\": \"1w\", \"step\": \"day\", \"stepmode\": \"backward\"}, {\"count\": 1, \"label\": \"1m\", \"step\": \"month\", \"stepmode\": \"backward\"}, {\"count\": 6, \"label\": \"6m\", \"step\": \"month\", \"stepmode\": \"backward\"}, {\"count\": 1, \"label\": \"YTD\", \"step\": \"year\", \"stepmode\": \"todate\"}, {\"count\": 1, \"label\": \"1y\", \"step\": \"year\", \"stepmode\": \"backward\"}, {\"step\": \"all\"}]}, \"showgrid\": true, \"tickformat\": \"%\", \"type\": \"date\", \"zeroline\": false}, \"yaxis\": {\"autorange\": false, \"range\": [-1, 7], \"showgrid\": true, \"ticktext\": [\"Machine  #4\", \"Machine  #5\", \"Machine  #3\", \"Machine  #1\", \"Machine  #0\", \"Machine  #2\"], \"tickvals\": [0, 1, 2, 3, 4, 5], \"zeroline\": false}},\n",
       "                        {\"responsive\": true}\n",
       "                    ).then(function(){\n",
       "                            \n",
       "var gd = document.getElementById('5fc9365a-2ad4-4789-9301-f57be78a7b26');\n",
       "var x = new MutationObserver(function (mutations, observer) {{\n",
       "        var display = window.getComputedStyle(gd).display;\n",
       "        if (!display || display === 'none') {{\n",
       "            console.log([gd, 'removed!']);\n",
       "            Plotly.purge(gd);\n",
       "            observer.disconnect();\n",
       "        }}\n",
       "}});\n",
       "\n",
       "// Listen for the removal of the full notebook cells\n",
       "var notebookContainer = gd.closest('#notebook-container');\n",
       "if (notebookContainer) {{\n",
       "    x.observe(notebookContainer, {childList: true});\n",
       "}}\n",
       "\n",
       "// Listen for the clearing of the current output cell\n",
       "var outputEl = gd.closest('.output');\n",
       "if (outputEl) {{\n",
       "    x.observe(outputEl, {childList: true});\n",
       "}}\n",
       "\n",
       "                        })\n",
       "                };\n",
       "                });\n",
       "            </script>\n",
       "        </div>"
      ]
     },
     "metadata": {},
     "output_type": "display_data"
    }
   ],
   "source": [
    "plot_gantt(inst, by=\"MACHINE\")"
   ]
  },
  {
   "cell_type": "code",
   "execution_count": null,
   "metadata": {
    "pycharm": {
     "name": "#%%\n"
    }
   },
   "outputs": [],
   "source": [
    "\n"
   ]
  }
 ],
 "metadata": {
  "kernelspec": {
   "display_name": "Python 3",
   "language": "python",
   "name": "python3"
  },
  "language_info": {
   "codemirror_mode": {
    "name": "ipython",
    "version": 3
   },
   "file_extension": ".py",
   "mimetype": "text/x-python",
   "name": "python",
   "nbconvert_exporter": "python",
   "pygments_lexer": "ipython3",
   "version": "3.7.4"
  },
  "pycharm": {
   "stem_cell": {
    "cell_type": "raw",
    "source": [],
    "metadata": {
     "collapsed": false
    }
   }
  },
  "toc": {
   "base_numbering": 1,
   "nav_menu": {},
   "number_sections": true,
   "sideBar": true,
   "skip_h1_title": false,
   "title_cell": "Table of Contents",
   "title_sidebar": "Contents",
   "toc_cell": false,
   "toc_position": {},
   "toc_section_display": true,
   "toc_window_display": false
  }
 },
 "nbformat": 4,
 "nbformat_minor": 1
}
