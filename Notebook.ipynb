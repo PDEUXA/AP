{
 "cells": [
  {
   "cell_type": "code",
   "execution_count": 19,
   "metadata": {
    "pycharm": {
     "is_executing": false,
     "name": "#%%\n"
    }
   },
   "outputs": [],
   "source": [
    "import hashlib\n",
    "from heuristique.genetique import genese, evaluation, selection, croisement, mutation\n",
    "from objects.population import Population\n",
    "from objects.thread import croiseur\n",
    "from script.utils import sort_task, decodage_gene\n",
    "from objects.instance import Instance\n",
    "from script.affichage import plot_gantt, net_voisinage\n",
    "from script.data import loader \n",
    "import numpy as np\n",
    "import networkx as nx\n",
    "import copy\n",
    "import matplotlib.pyplot as plt\n",
    "import random\n",
    "from heuristique.heuristique_gloutonne import heuristique_gloutone\n",
    "from heuristique.ordo_avec_liste import alloc_avec_liste, allocation_dispomachine_ASAP,decodage_bier\n",
    "from script.utils import vecteur_bier\n",
    "from script.recherche_voisin import permutation_random\n",
    "\n",
    "data, optimum= loader('la01')\n"
   ]
  },
  {
   "cell_type": "code",
   "execution_count": 20,
   "outputs": [],
   "source": [
    "pop = Population(**data)\n",
    "genese(1000, data, pop, data)\n",
    "evaluation(pop, data)\n",
    "a = selection(pop,100)\n",
    "\n",
    "\n",
    "# Création des threads\n",
    "thread_1 = croiseur(pop,500)\n",
    "thread_2 = croiseur(pop,500)"
   ],
   "metadata": {
    "collapsed": false,
    "pycharm": {
     "name": "#%%\n",
     "is_executing": false
    }
   }
  },
  {
   "cell_type": "code",
   "execution_count": 23,
   "outputs": [
    {
     "name": "stderr",
     "text": [
      "Exception in thread Thread-134:\n",
      "Traceback (most recent call last):\n",
      "  File \"/home/pa/anaconda3/envs/AP_JOB_SHOP/lib/python3.7/threading.py\", line 926, in _bootstrap_inner\n",
      "    self.run()\n",
      "  File \"/home/pa/PycharmProjects/AP_JOB_SHOP/objects/thread.py\", line 19, in run\n",
      "    croisement(self.population)\n",
      "  File \"/home/pa/PycharmProjects/AP_JOB_SHOP/heuristique/genetique.py\", line 78, in croisement\n",
      "    pere, mere = np.random.choice(population.individu, size=2, replace=False, p=temp_proba)\n",
      "  File \"mtrand.pyx\", line 759, in numpy.random.mtrand.RandomState.choice\n",
      "ValueError: cannot copy sequence with size 388 to array axis with dimension 386\n",
      "\n",
      "Exception in thread Thread-136:\n",
      "Traceback (most recent call last):\n",
      "  File \"/home/pa/anaconda3/envs/AP_JOB_SHOP/lib/python3.7/threading.py\", line 926, in _bootstrap_inner\n",
      "    self.run()\n",
      "  File \"/home/pa/PycharmProjects/AP_JOB_SHOP/objects/thread.py\", line 19, in run\n",
      "    croisement(self.population)\n",
      "  File \"/home/pa/PycharmProjects/AP_JOB_SHOP/heuristique/genetique.py\", line 78, in croisement\n",
      "    pere, mere = np.random.choice(population.individu, size=2, replace=False, p=temp_proba)\n",
      "  File \"mtrand.pyx\", line 759, in numpy.random.mtrand.RandomState.choice\n",
      "ValueError: cannot copy sequence with size 154 to array axis with dimension 153\n",
      "\n",
      "Exception in thread Thread-139:\n",
      "Traceback (most recent call last):\n",
      "  File \"/home/pa/anaconda3/envs/AP_JOB_SHOP/lib/python3.7/threading.py\", line 926, in _bootstrap_inner\n",
      "    self.run()\n",
      "  File \"/home/pa/PycharmProjects/AP_JOB_SHOP/objects/thread.py\", line 19, in run\n",
      "    croisement(self.population)\n",
      "  File \"/home/pa/PycharmProjects/AP_JOB_SHOP/heuristique/genetique.py\", line 78, in croisement\n",
      "    pere, mere = np.random.choice(population.individu, size=2, replace=False, p=temp_proba)\n",
      "  File \"mtrand.pyx\", line 759, in numpy.random.mtrand.RandomState.choice\n",
      "ValueError: cannot copy sequence with size 214 to array axis with dimension 213\n",
      "\n",
      "Exception in thread Thread-141:\n",
      "Traceback (most recent call last):\n",
      "  File \"/home/pa/anaconda3/envs/AP_JOB_SHOP/lib/python3.7/threading.py\", line 926, in _bootstrap_inner\n",
      "    self.run()\n",
      "  File \"/home/pa/PycharmProjects/AP_JOB_SHOP/objects/thread.py\", line 19, in run\n",
      "    croisement(self.population)\n",
      "  File \"/home/pa/PycharmProjects/AP_JOB_SHOP/heuristique/genetique.py\", line 78, in croisement\n",
      "    pere, mere = np.random.choice(population.individu, size=2, replace=False, p=temp_proba)\n",
      "  File \"mtrand.pyx\", line 759, in numpy.random.mtrand.RandomState.choice\n",
      "ValueError: cannot copy sequence with size 165 to array axis with dimension 164\n",
      "\n",
      "Exception in thread Thread-142:\n",
      "Traceback (most recent call last):\n",
      "  File \"/home/pa/anaconda3/envs/AP_JOB_SHOP/lib/python3.7/threading.py\", line 926, in _bootstrap_inner\n",
      "    self.run()\n",
      "  File \"/home/pa/PycharmProjects/AP_JOB_SHOP/objects/thread.py\", line 19, in run\n",
      "    croisement(self.population)\n",
      "  File \"/home/pa/PycharmProjects/AP_JOB_SHOP/heuristique/genetique.py\", line 78, in croisement\n",
      "    pere, mere = np.random.choice(population.individu, size=2, replace=False, p=temp_proba)\n",
      "  File \"mtrand.pyx\", line 759, in numpy.random.mtrand.RandomState.choice\n",
      "ValueError: cannot copy sequence with size 163 to array axis with dimension 161\n",
      "\n",
      "Exception in thread Thread-145:\n",
      "Traceback (most recent call last):\n",
      "  File \"/home/pa/anaconda3/envs/AP_JOB_SHOP/lib/python3.7/threading.py\", line 926, in _bootstrap_inner\n",
      "    self.run()\n",
      "  File \"/home/pa/PycharmProjects/AP_JOB_SHOP/objects/thread.py\", line 19, in run\n",
      "    croisement(self.population)\n",
      "  File \"/home/pa/PycharmProjects/AP_JOB_SHOP/heuristique/genetique.py\", line 78, in croisement\n",
      "    pere, mere = np.random.choice(population.individu, size=2, replace=False, p=temp_proba)\n",
      "  File \"mtrand.pyx\", line 759, in numpy.random.mtrand.RandomState.choice\n",
      "ValueError: cannot copy sequence with size 138 to array axis with dimension 137\n",
      "\n",
      "Exception in thread Thread-147:\n",
      "Traceback (most recent call last):\n",
      "  File \"/home/pa/anaconda3/envs/AP_JOB_SHOP/lib/python3.7/threading.py\", line 926, in _bootstrap_inner\n",
      "    self.run()\n",
      "  File \"/home/pa/PycharmProjects/AP_JOB_SHOP/objects/thread.py\", line 19, in run\n",
      "    croisement(self.population)\n",
      "  File \"/home/pa/PycharmProjects/AP_JOB_SHOP/heuristique/genetique.py\", line 78, in croisement\n",
      "    pere, mere = np.random.choice(population.individu, size=2, replace=False, p=temp_proba)\n",
      "  File \"mtrand.pyx\", line 759, in numpy.random.mtrand.RandomState.choice\n",
      "ValueError: cannot copy sequence with size 375 to array axis with dimension 374\n",
      "\n"
     ],
     "output_type": "stream"
    }
   ],
   "source": [
    "while pop.generation <=35:\n",
    "    thread_1.start()\n",
    "    thread_2.start()\n",
    "    thread_1.join()\n",
    "    thread_2.join()\n",
    "    thread_1 = croiseur(pop,500)\n",
    "    thread_2 = croiseur(pop,500)\n",
    "    evaluation(pop, data)\n",
    "    selection(pop,100)"
   ],
   "metadata": {
    "collapsed": false,
    "pycharm": {
     "name": "#%%\n",
     "is_executing": false
    }
   }
  },
  {
   "cell_type": "code",
   "execution_count": 10,
   "outputs": [],
   "source": [
    "evaluation(pop, data)"
   ],
   "metadata": {
    "collapsed": false,
    "pycharm": {
     "name": "#%%\n",
     "is_executing": false
    }
   }
  },
  {
   "cell_type": "code",
   "execution_count": null,
   "metadata": {
    "pycharm": {
     "is_executing": false,
     "name": "#%%\n"
    }
   },
   "outputs": [],
   "source": [
    "print(pop.individu[-1].sequence)"
   ]
  },
  {
   "cell_type": "code",
   "execution_count": null,
   "outputs": [],
   "source": [
    "pop.individu[-1].mutationplace"
   ],
   "metadata": {
    "collapsed": false,
    "pycharm": {
     "name": "#%%\n",
     "is_executing": false
    }
   }
  },
  {
   "cell_type": "code",
   "execution_count": null,
   "outputs": [],
   "source": [
    "inst = Instance(**data)\n",
    "heuristique_gloutone(inst, verbose=0, prio=\"SPT\", rnd=0)\n",
    "liste = vecteur_bier(inst)\n",
    "\n",
    "\n",
    "\n",
    "sequence = permutation_random(liste, 10)"
   ],
   "metadata": {
    "collapsed": false,
    "pycharm": {
     "name": "#%%\n",
     "is_executing": false
    }
   }
  },
  {
   "cell_type": "code",
   "execution_count": null,
   "outputs": [],
   "source": [
    "for s in sequence:\n",
    "    print(s)\n"
   ],
   "metadata": {
    "collapsed": false,
    "pycharm": {
     "name": "#%%\n",
     "is_executing": false
    }
   }
  },
  {
   "cell_type": "code",
   "execution_count": null,
   "outputs": [],
   "source": [
    "inst = Instance(**data)\n",
    "total = heuristique_gloutone(inst, verbose = 0, prio =\"SPT\" , rnd = 0)\n",
    "liste = vecteur_bier(inst, par = \"Start\")\n",
    "instance = Instance(**data)\n",
    "print(liste)"
   ],
   "metadata": {
    "collapsed": false,
    "pycharm": {
     "name": "#%%\n",
     "is_executing": false
    }
   }
  },
  {
   "cell_type": "code",
   "execution_count": null,
   "metadata": {
    "pycharm": {
     "is_executing": false
    }
   },
   "outputs": [],
   "source": [
    "from script.recherche_voisin import exploration_voisinage, inversion_all, permutation_random\n",
    "\n",
    "b=exploration_voisinage(instance , data)"
   ]
  },
  {
   "cell_type": "code",
   "execution_count": null,
   "metadata": {
    "pycharm": {
     "is_executing": false
    }
   },
   "outputs": [],
   "source": [
    "net_voisinage(b)"
   ]
  },
  {
   "cell_type": "code",
   "execution_count": null,
   "metadata": {
    "collapsed": true,
    "pycharm": {
     "is_executing": false
    }
   },
   "outputs": [],
   "source": [
    "help(b.edges)"
   ]
  },
  {
   "cell_type": "code",
   "execution_count": null,
   "metadata": {
    "pycharm": {
     "is_executing": false
    }
   },
   "outputs": [],
   "source": [
    "edge = {}\n",
    "for u,v in b.edges():\n",
    "    pass\n",
    "u\n",
    "print(b.edges[(u,v,i)])"
   ]
  },
  {
   "cell_type": "code",
   "execution_count": null,
   "metadata": {
    "pycharm": {
     "is_executing": false
    }
   },
   "outputs": [],
   "source": [
    "a= list(b.edges)\n",
    "for i in a :\n",
    "    print(i)"
   ]
  },
  {
   "cell_type": "code",
   "execution_count": null,
   "metadata": {
    "pycharm": {
     "is_executing": false
    }
   },
   "outputs": [],
   "source": [
    "b.nodes"
   ]
  },
  {
   "cell_type": "code",
   "execution_count": null,
   "metadata": {
    "pycharm": {
     "is_executing": false
    }
   },
   "outputs": [],
   "source": [
    "for v,truc,root,make in best:\n",
    "    b= exploration_10meilleurs_voisinage(v, inst,graph ,truc)\n",
    "    for v,truc,root,make in b:\n",
    "        print(v,truc, root)\n",
    "        graph.add_node(str(v), makespan = make)\n",
    "        graph.add_edge(root, str(v), chemin = truc)"
   ]
  },
  {
   "cell_type": "code",
   "execution_count": null,
   "metadata": {
    "pycharm": {
     "is_executing": false
    }
   },
   "outputs": [],
   "source": [
    "d"
   ]
  },
  {
   "cell_type": "code",
   "execution_count": null,
   "metadata": {
    "pycharm": {
     "is_executing": false
    }
   },
   "outputs": [],
   "source": [
    "graph.edges.data()"
   ]
  },
  {
   "cell_type": "code",
   "execution_count": null,
   "metadata": {
    "pycharm": {
     "is_executing": false
    }
   },
   "outputs": [],
   "source": [
    "d = {}\n",
    "for g in graph.edges():\n",
    "    graph.edges[('O', '[1 3 4 1 2 5 3 5 5 2 0 4 0 3 0 3 1 5 0 3 1 5 5 2 1 2 4 0 0 2 4 4 2 1 4 3]')]"
   ]
  },
  {
   "cell_type": "code",
   "execution_count": null,
   "metadata": {
    "pycharm": {
     "is_executing": false,
     "name": "#%%\n"
    }
   },
   "outputs": [],
   "source": [
    "graph.nodes.data()"
   ]
  },
  {
   "cell_type": "code",
   "execution_count": null,
   "metadata": {
    "pycharm": {
     "is_executing": false
    }
   },
   "outputs": [],
   "source": [
    "d2 = {}\n",
    "size = []\n",
    "for g in graph.nodes():\n",
    "    d2[g]= graph.nodes[g]['makespan']\n",
    "    size.append(graph.nodes[g]['makespan'])"
   ]
  },
  {
   "cell_type": "code",
   "execution_count": null,
   "metadata": {
    "pycharm": {
     "is_executing": false
    }
   },
   "outputs": [],
   "source": [
    "d2 = {}\n",
    "size = []\n",
    "for g in graph.nodes():\n",
    "    d2[g]= graph.nodes[g]['makespan']\n",
    "    size.append(graph.nodes[g]['makespan'])"
   ]
  },
  {
   "cell_type": "code",
   "execution_count": null,
   "metadata": {
    "pycharm": {
     "is_executing": false
    }
   },
   "outputs": [],
   "source": [
    "import plotly.graph_objects as go\n",
    "\n",
    "plt.figure(figsize=(8,8))\n",
    "pos = nx.spring_layout(graph)\n",
    "nx.draw(graph, pos,node_labels = d2, node_color=range(graph.number_of_nodes()),\n",
    "        edge_color=range(graph.number_of_edges()), edge_cmap=plt.cm.viridis,\n",
    "        node_size=[i for i in size], cmap=plt.cm.viridis)\n",
    "nx.draw_networkx_labels(graph, pos, d2)\n",
    "nx.draw_networkx_edge_labels(graph, pos, edge_labels =d,width=1.0, alpha=0.5,font_size =9)\n",
    "plt.show()"
   ]
  },
  {
   "cell_type": "code",
   "execution_count": null,
   "metadata": {
    "pycharm": {
     "is_executing": false
    }
   },
   "outputs": [],
   "source": [
    "graph = nx.MultiDiGraph()\n",
    "opti, opti_liste, graph ,opti_inst, change = exploration_voisinage(liste, inst,graph)\n",
    "for i in range(8):\n",
    "    if change == \"Yes\":\n",
    "        opti, opti_liste, graph ,opti_inst,change = exploration_voisinage(opti_liste, opti_inst,graph)\n"
   ]
  },
  {
   "cell_type": "code",
   "execution_count": null,
   "metadata": {
    "pycharm": {
     "is_executing": false
    }
   },
   "outputs": [],
   "source": [
    "import plotly.graph_objects as go\n",
    "pos = nx.shell_layout(graph)\n",
    "nx.draw(graph, pos,with_labels =True, node_color=range(graph.number_of_nodes()), node_size=800, cmap=plt.cm.Blues)\n"
   ]
  },
  {
   "cell_type": "code",
   "execution_count": null,
   "metadata": {
    "pycharm": {
     "is_executing": false
    }
   },
   "outputs": [],
   "source": [
    "a = np.array([0,1,2,3,4,5]*6)\n",
    "a = np.sort(a)\n",
    "a"
   ]
  },
  {
   "cell_type": "code",
   "execution_count": null,
   "metadata": {
    "pycharm": {
     "is_executing": false
    }
   },
   "outputs": [],
   "source": [
    "instance = Instance(**data)\n",
    "temp =  alloc_avec_liste(instance,a)\n",
    "affichage_repetition(instance)\n",
    "temp"
   ]
  },
  {
   "cell_type": "code",
   "execution_count": null,
   "metadata": {
    "pycharm": {
     "is_executing": false
    },
    "scrolled": false
   },
   "outputs": [],
   "source": [
    "instance = Instance(**data)\n",
    "temp =  alloc_avec_liste(instance,a)\n",
    "j=0\n",
    "ecart = -1\n",
    "graph = nx.MultiDiGraph() \n",
    "name =str(j)+\":\"+ str(temp)\n",
    "graph.add_node(name,makespan=total )\n",
    "\n",
    "step =0\n",
    "vect = exploration_voisinage_inversion(a)\n",
    "it =iter(vect)\n",
    "verbose = 1\n",
    "j=1\n",
    "while ecart < 10:\n",
    "    instance = Instance(**data)\n",
    "    l = next(it)\n",
    "    alloc_avec_liste(instance,l)\n",
    "    graph.add_node(str(j)+\":\"+str(instance.makeSpan),makespan=instance.makeSpan) \n",
    "    graph.add_edge(name, instance.makeSpan)\n",
    "    if verbose > 1:\n",
    "        print(\"makespan\",instance.makeSpan)\n",
    "    ecart = instance.makeSpan - temp\n",
    "    \n",
    "    if verbose > 1:\n",
    "        print('écart',ecart)\n",
    "        print('optimum',temp)\n",
    "        print(\"====================\")\n",
    "\n",
    "    if instance.makeSpan < temp:\n",
    "        \n",
    "        step = 0\n",
    "        liste = l\n",
    "        name = str(j)+\":\"+str(instance.makeSpan)\n",
    "        j+=1\n",
    "        i = instance\n",
    "        temp = instance.makeSpan\n",
    "        vect = exploration_voisinage_inversion(l)\n",
    "        it =iter(vect)\n",
    "    step += 1\n"
   ]
  },
  {
   "cell_type": "code",
   "execution_count": null,
   "metadata": {
    "pycharm": {
     "is_executing": false
    }
   },
   "outputs": [],
   "source": [
    "graph.nodes.data()\n"
   ]
  },
  {
   "cell_type": "code",
   "execution_count": null,
   "metadata": {
    "pycharm": {
     "is_executing": false
    }
   },
   "outputs": [],
   "source": [
    "graph.nodes.data()\n",
    "test=[]\n",
    "d = dict(graph.nodes.data())\n",
    "for v in d.values():\n",
    "    print(v)\n",
    "    for vv in v.values():\n",
    "        print(vv)\n",
    "        test.append(vv)\n"
   ]
  },
  {
   "cell_type": "code",
   "execution_count": null,
   "metadata": {
    "pycharm": {
     "is_executing": false
    }
   },
   "outputs": [],
   "source": [
    "\n",
    "pos = nx.shell_layout(graph)\n",
    "d = dict(graph.nodes.data())\n",
    "nx.draw(graph, pos,with_labels =True, node_color=range(graph.number_of_nodes()),\n",
    "        edge_color=range(graph.number_of_edges()),\n",
    "        width=4, edge_cmap=plt.cm.viridis,\n",
    "        node_size=[i**2 for i in test], cmap=plt.cm.viridis)\n",
    "plt.show()"
   ]
  },
  {
   "cell_type": "code",
   "execution_count": null,
   "metadata": {
    "pycharm": {
     "is_executing": false
    }
   },
   "outputs": [],
   "source": [
    "plot_gantt(instance, by=\"JOB\", grouping=False)"
   ]
  },
  {
   "cell_type": "code",
   "execution_count": null,
   "metadata": {
    "pycharm": {
     "is_executing": false
    }
   },
   "outputs": [],
   "source": [
    "for j in instance.jobs_list:\n",
    "    print(j)"
   ]
  },
  {
   "cell_type": "code",
   "execution_count": null,
   "metadata": {
    "pycharm": {
     "is_executing": false
    }
   },
   "outputs": [],
   "source": [
    "liste = affichage_repetition(inst)"
   ]
  },
  {
   "cell_type": "code",
   "execution_count": null,
   "metadata": {
    "pycharm": {
     "is_executing": false
    }
   },
   "outputs": [],
   "source": []
  },
  {
   "cell_type": "code",
   "execution_count": null,
   "metadata": {
    "pycharm": {
     "is_executing": false
    }
   },
   "outputs": [],
   "source": [
    "i.makeSpan"
   ]
  },
  {
   "cell_type": "code",
   "execution_count": null,
   "metadata": {
    "pycharm": {
     "is_executing": false
    }
   },
   "outputs": [],
   "source": [
    "instance =Instance(**data)\n",
    "alloc_avec_liste(instance,liste)\n",
    "\n",
    "plot_gantt(instance)\n"
   ]
  },
  {
   "cell_type": "code",
   "execution_count": null,
   "metadata": {
    "pycharm": {
     "is_executing": false
    },
    "scrolled": true
   },
   "outputs": [],
   "source": [
    "for j in i.jobs_list:\n",
    "    print(j)"
   ]
  },
  {
   "cell_type": "code",
   "execution_count": null,
   "metadata": {
    "pycharm": {
     "is_executing": false
    }
   },
   "outputs": [],
   "source": [
    "liste"
   ]
  },
  {
   "cell_type": "code",
   "execution_count": null,
   "metadata": {
    "pycharm": {
     "is_executing": false
    }
   },
   "outputs": [],
   "source": []
  },
  {
   "cell_type": "code",
   "execution_count": null,
   "metadata": {
    "pycharm": {
     "is_executing": false,
     "name": "#%%\n"
    }
   },
   "outputs": [],
   "source": [
    "for j in instance.jobs_list:\n",
    "    print(j)"
   ]
  },
  {
   "cell_type": "code",
   "execution_count": null,
   "metadata": {
    "pycharm": {
     "is_executing": false,
     "name": "#%%\n"
    }
   },
   "outputs": [],
   "source": [
    "plot_gantt(instance, by='MACHINE', grouping =False)"
   ]
  },
  {
   "cell_type": "code",
   "execution_count": null,
   "metadata": {
    "pycharm": {
     "is_executing": false
    }
   },
   "outputs": [],
   "source": [
    "liste = affichage_repetition(inst)\n",
    "liste\n"
   ]
  },
  {
   "cell_type": "code",
   "execution_count": null,
   "metadata": {
    "pycharm": {
     "is_executing": false
    }
   },
   "outputs": [],
   "source": [
    "liste = affichage_repetition(instance)\n",
    "liste\n"
   ]
  },
  {
   "cell_type": "code",
   "execution_count": null,
   "metadata": {
    "pycharm": {
     "is_executing": false
    }
   },
   "outputs": [],
   "source": []
  },
  {
   "cell_type": "code",
   "execution_count": null,
   "metadata": {
    "pycharm": {
     "is_executing": false
    }
   },
   "outputs": [],
   "source": []
  },
  {
   "cell_type": "code",
   "execution_count": null,
   "metadata": {
    "pycharm": {
     "is_executing": false,
     "name": "#%%\n"
    }
   },
   "outputs": [],
   "source": [
    "dfs = pd.DataFrame(test)\n",
    "dfs"
   ]
  },
  {
   "cell_type": "code",
   "execution_count": null,
   "metadata": {
    "pycharm": {
     "is_executing": false,
     "name": "#%%\n"
    }
   },
   "outputs": [],
   "source": [
    "compt = 0\n",
    "minRND = 100000    \n",
    "inst2 = Instance(**data)\n",
    "totalSPT = heuristique_gloutone(inst2, verbose = 0, prio =\"SPT\" , rnd = 0)\n",
    "minSPT = totalSPT\n",
    "\n",
    "for i in range(100):\n",
    "    inst = Instance(**data)\n",
    "    totalRND = heuristique_gloutone(inst, verbose = 0, prio =\"SPT\" , rnd = 1)\n",
    "    if totalRND < minRND :\n",
    "        minRND = totalRND\n",
    "    \n",
    "    if totalRND > totalSPT:\n",
    "        compt += 1\n",
    "        \n",
    "print(\"RND perd\", compt,\"/\", len(range(100)))\n",
    "print(\"RND gagne\", len(range(100)) - compt,\"/\", len(range(100)))\n",
    "print(\"Optimium\", optimum)\n",
    "print(\"minRND\", minRND)\n",
    "print(\"minSPT\", minSPT)"
   ]
  },
  {
   "cell_type": "code",
   "execution_count": null,
   "metadata": {
    "pycharm": {
     "is_executing": false,
     "name": "#%%\n"
    }
   },
   "outputs": [],
   "source": []
  },
  {
   "cell_type": "code",
   "execution_count": null,
   "metadata": {
    "pycharm": {
     "is_executing": false,
     "name": "#%%\n"
    }
   },
   "outputs": [],
   "source": [
    "plot_gantt(inst2, by= \"JOB\", grouping = True)"
   ]
  },
  {
   "cell_type": "code",
   "execution_count": null,
   "metadata": {
    "pycharm": {
     "is_executing": false,
     "name": "#%%\n"
    }
   },
   "outputs": [],
   "source": []
  },
  {
   "cell_type": "code",
   "execution_count": null,
   "metadata": {
    "pycharm": {
     "is_executing": false,
     "name": "#%%\n"
    }
   },
   "outputs": [],
   "source": [
    "import numpy as np\n",
    "a = np.array(a)\n",
    "b = a[:,0]"
   ]
  },
  {
   "cell_type": "code",
   "execution_count": null,
   "metadata": {
    "pycharm": {
     "is_executing": false,
     "name": "#%%\n"
    }
   },
   "outputs": [],
   "source": [
    "        task_list = sorted(task_list.items(), key=lambda x: x[1][2])\n",
    "\n",
    "a[:]"
   ]
  },
  {
   "cell_type": "code",
   "execution_count": null,
   "metadata": {
    "pycharm": {
     "is_executing": false,
     "name": "#%%\n"
    }
   },
   "outputs": [],
   "source": [
    "list(b)"
   ]
  },
  {
   "cell_type": "code",
   "execution_count": null,
   "metadata": {
    "pycharm": {
     "is_executing": false,
     "name": "#%%\n"
    }
   },
   "outputs": [],
   "source": [
    "v = [int(x[0][0]) for x in np.array(a)]\n",
    "\n"
   ]
  },
  {
   "cell_type": "code",
   "execution_count": null,
   "metadata": {
    "pycharm": {
     "is_executing": false,
     "name": "#%%\n"
    }
   },
   "outputs": [],
   "source": [
    "l = affichage_repetition(inst)"
   ]
  },
  {
   "cell_type": "code",
   "execution_count": null,
   "metadata": {
    "pycharm": {
     "is_executing": false,
     "name": "#%%\n"
    }
   },
   "outputs": [],
   "source": [
    "int(True)"
   ]
  },
  {
   "cell_type": "code",
   "execution_count": null,
   "metadata": {
    "pycharm": {
     "is_executing": false,
     "name": "#%%\n"
    }
   },
   "outputs": [],
   "source": [
    "\n"
   ]
  }
 ],
 "metadata": {
  "kernelspec": {
   "display_name": "Python 3",
   "language": "python",
   "name": "python3"
  },
  "language_info": {
   "codemirror_mode": {
    "name": "ipython",
    "version": 3
   },
   "file_extension": ".py",
   "mimetype": "text/x-python",
   "name": "python",
   "nbconvert_exporter": "python",
   "pygments_lexer": "ipython3",
   "version": "3.7.6"
  },
  "pycharm": {
   "stem_cell": {
    "cell_type": "raw",
    "source": [],
    "metadata": {
     "collapsed": false
    }
   }
  }
 },
 "nbformat": 4,
 "nbformat_minor": 4
}