{
 "cells": [
  {
   "cell_type": "code",
   "execution_count": 2,
   "outputs": [],
   "source": [
    "from objects.instance import Instance\n",
    "from script.affiche import plot_gantt\n",
    "from script.data import loader "
   ],
   "metadata": {
    "collapsed": false,
    "pycharm": {
     "name": "#%%\n",
     "is_executing": false
    }
   }
  },
  {
   "cell_type": "code",
   "execution_count": 3,
   "outputs": [],
   "source": [
    "data = loader('ft06')\n",
    "inst = Instance(**data)"
   ],
   "metadata": {
    "collapsed": false,
    "pycharm": {
     "name": "#%%\n",
     "is_executing": false
    }
   }
  },
  {
   "cell_type": "code",
   "execution_count": 4,
   "outputs": [],
   "source": [
    "# Recherche des taches possibles à t\n",
    "t=0\n",
    "def recherche_tach(inst,t):\n",
    "    tache = []\n",
    "    # Pour chaque jobs\n",
    "    for j in inst.jobs_list:\n",
    "        if j.state != \"Done\":\n",
    "        # Si la machine de la tâche en cours du job et libre\n",
    "            if j.current_task.machine.state==\"Free\":\n",
    "                # On ajoute cette tache à la liste de tache possible\n",
    "                tache.append(j.current_task)\n",
    "            \n",
    "    # prio\n",
    "# todo prio\n",
    "    # Recherche du max parmis les taches possibles\n",
    "    for k in range(len(tache)):\n",
    "        maxi = -1\n",
    "        for e in tache:\n",
    "            if e.duration > maxi:\n",
    "                if e.machine.state == \"Free\":\n",
    "                    maxi = e.duration\n",
    "                    maxi_task = e\n",
    "        \n",
    "        # assignment\n",
    "        maxi_task.job.update_current_task(maxi_task.taskID, t)\n",
    "        try:\n",
    "            tache.remove(maxi_task)\n",
    "        except:\n",
    "            pass\n",
    "def finish():\n",
    "    for res in inst.jobs_list:\n",
    "        if res.state == \"Not Done\":\n",
    "            return False\n",
    "    return True \n",
    "        "
   ],
   "metadata": {
    "collapsed": false,
    "pycharm": {
     "name": "#%%\n",
     "is_executing": false
    }
   }
  },
  {
   "cell_type": "code",
   "execution_count": 5,
   "outputs": [
    {
     "name": "stdout",
     "text": [
      "Temps 1\n",
      "Machine number = 0, State = Free, Current Job = N/A, Current Task = N/A\n",
      "Machine number = 1, State = Busy, Current Job = 1, Current Task = 0\n",
      "Machine number = 2, State = Busy, Current Job = 4, Current Task = 0\n",
      "Machine number = 3, State = Free, Current Job = N/A, Current Task = N/A\n",
      "Machine number = 4, State = Free, Current Job = N/A, Current Task = N/A\n",
      "Machine number = 5, State = Free, Current Job = N/A, Current Task = N/A\n",
      "Temps 2\n",
      "Machine number = 0, State = Free, Current Job = N/A, Current Task = N/A\n",
      "Machine number = 1, State = Busy, Current Job = 1, Current Task = 0\n",
      "Machine number = 2, State = Busy, Current Job = 4, Current Task = 0\n",
      "Machine number = 3, State = Free, Current Job = N/A, Current Task = N/A\n",
      "Machine number = 4, State = Free, Current Job = N/A, Current Task = N/A\n",
      "Machine number = 5, State = Free, Current Job = N/A, Current Task = N/A\n",
      "Temps 3\n",
      "Machine number = 0, State = Free, Current Job = N/A, Current Task = N/A\n",
      "Machine number = 1, State = Busy, Current Job = 1, Current Task = 0\n",
      "Machine number = 2, State = Busy, Current Job = 4, Current Task = 0\n",
      "Machine number = 3, State = Free, Current Job = N/A, Current Task = N/A\n",
      "Machine number = 4, State = Free, Current Job = N/A, Current Task = N/A\n",
      "Machine number = 5, State = Free, Current Job = N/A, Current Task = N/A\n",
      "Temps 4\n",
      "Machine number = 0, State = Free, Current Job = N/A, Current Task = N/A\n",
      "Machine number = 1, State = Busy, Current Job = 1, Current Task = 0\n",
      "Machine number = 2, State = Busy, Current Job = 4, Current Task = 0\n",
      "Machine number = 3, State = Free, Current Job = N/A, Current Task = N/A\n",
      "Machine number = 4, State = Free, Current Job = N/A, Current Task = N/A\n",
      "Machine number = 5, State = Free, Current Job = N/A, Current Task = N/A\n",
      "Temps 5\n",
      "Machine number = 0, State = Free, Current Job = N/A, Current Task = N/A\n",
      "Machine number = 1, State = Busy, Current Job = 1, Current Task = 0\n",
      "Machine number = 2, State = Busy, Current Job = 4, Current Task = 0\n",
      "Machine number = 3, State = Free, Current Job = N/A, Current Task = N/A\n",
      "Machine number = 4, State = Free, Current Job = N/A, Current Task = N/A\n",
      "Machine number = 5, State = Free, Current Job = N/A, Current Task = N/A\n",
      "Temps 6\n",
      "Machine number = 0, State = Free, Current Job = N/A, Current Task = N/A\n",
      "Machine number = 1, State = Busy, Current Job = 1, Current Task = 0\n",
      "Machine number = 2, State = Busy, Current Job = 4, Current Task = 0\n",
      "Machine number = 3, State = Free, Current Job = N/A, Current Task = N/A\n",
      "Machine number = 4, State = Free, Current Job = N/A, Current Task = N/A\n",
      "Machine number = 5, State = Free, Current Job = N/A, Current Task = N/A\n",
      "Temps 7\n",
      "Machine number = 0, State = Free, Current Job = N/A, Current Task = N/A\n",
      "Machine number = 1, State = Busy, Current Job = 1, Current Task = 0\n",
      "Machine number = 2, State = Busy, Current Job = 4, Current Task = 0\n",
      "Machine number = 3, State = Free, Current Job = N/A, Current Task = N/A\n",
      "Machine number = 4, State = Free, Current Job = N/A, Current Task = N/A\n",
      "Machine number = 5, State = Free, Current Job = N/A, Current Task = N/A\n",
      "Temps 8\n",
      "Machine number = 0, State = Free, Current Job = N/A, Current Task = N/A\n",
      "Machine number = 1, State = Busy, Current Job = 1, Current Task = 0\n",
      "Machine number = 2, State = Busy, Current Job = 4, Current Task = 0\n",
      "Machine number = 3, State = Free, Current Job = N/A, Current Task = N/A\n",
      "Machine number = 4, State = Free, Current Job = N/A, Current Task = N/A\n",
      "Machine number = 5, State = Free, Current Job = N/A, Current Task = N/A\n",
      "Temps 9\n",
      "Machine number = 0, State = Free, Current Job = N/A, Current Task = N/A\n",
      "Machine number = 1, State = Busy, Current Job = 3, Current Task = 0\n",
      "Machine number = 2, State = Busy, Current Job = 4, Current Task = 0\n",
      "Machine number = 3, State = Free, Current Job = N/A, Current Task = N/A\n",
      "Machine number = 4, State = Free, Current Job = N/A, Current Task = N/A\n",
      "Machine number = 5, State = Free, Current Job = N/A, Current Task = N/A\n",
      "Temps 10\n",
      "Machine number = 0, State = Free, Current Job = N/A, Current Task = N/A\n",
      "Machine number = 1, State = Busy, Current Job = 3, Current Task = 0\n",
      "Machine number = 2, State = Busy, Current Job = 1, Current Task = 1\n",
      "Machine number = 3, State = Free, Current Job = N/A, Current Task = N/A\n",
      "Machine number = 4, State = Free, Current Job = N/A, Current Task = N/A\n",
      "Machine number = 5, State = Free, Current Job = N/A, Current Task = N/A\n",
      "Temps 11\n",
      "Machine number = 0, State = Free, Current Job = N/A, Current Task = N/A\n",
      "Machine number = 1, State = Busy, Current Job = 3, Current Task = 0\n",
      "Machine number = 2, State = Busy, Current Job = 1, Current Task = 1\n",
      "Machine number = 3, State = Free, Current Job = N/A, Current Task = N/A\n",
      "Machine number = 4, State = Free, Current Job = N/A, Current Task = N/A\n",
      "Machine number = 5, State = Free, Current Job = N/A, Current Task = N/A\n",
      "Temps 12\n",
      "Machine number = 0, State = Free, Current Job = N/A, Current Task = N/A\n",
      "Machine number = 1, State = Busy, Current Job = 3, Current Task = 0\n",
      "Machine number = 2, State = Busy, Current Job = 1, Current Task = 1\n",
      "Machine number = 3, State = Free, Current Job = N/A, Current Task = N/A\n",
      "Machine number = 4, State = Free, Current Job = N/A, Current Task = N/A\n",
      "Machine number = 5, State = Free, Current Job = N/A, Current Task = N/A\n",
      "Temps 13\n",
      "Machine number = 0, State = Free, Current Job = N/A, Current Task = N/A\n",
      "Machine number = 1, State = Busy, Current Job = 3, Current Task = 0\n",
      "Machine number = 2, State = Busy, Current Job = 1, Current Task = 1\n",
      "Machine number = 3, State = Free, Current Job = N/A, Current Task = N/A\n",
      "Machine number = 4, State = Free, Current Job = N/A, Current Task = N/A\n",
      "Machine number = 5, State = Free, Current Job = N/A, Current Task = N/A\n",
      "Temps 14\n",
      "Machine number = 0, State = Busy, Current Job = 3, Current Task = 1\n",
      "Machine number = 1, State = Busy, Current Job = 4, Current Task = 1\n",
      "Machine number = 2, State = Busy, Current Job = 1, Current Task = 1\n",
      "Machine number = 3, State = Free, Current Job = N/A, Current Task = N/A\n",
      "Machine number = 4, State = Busy, Current Job = 1, Current Task = 2\n",
      "Machine number = 5, State = Free, Current Job = N/A, Current Task = N/A\n",
      "Temps 15\n",
      "Machine number = 0, State = Busy, Current Job = 3, Current Task = 1\n",
      "Machine number = 1, State = Busy, Current Job = 4, Current Task = 1\n",
      "Machine number = 2, State = Busy, Current Job = 2, Current Task = 0\n",
      "Machine number = 3, State = Free, Current Job = N/A, Current Task = N/A\n",
      "Machine number = 4, State = Busy, Current Job = 1, Current Task = 2\n",
      "Machine number = 5, State = Free, Current Job = N/A, Current Task = N/A\n",
      "Temps 16\n",
      "Machine number = 0, State = Busy, Current Job = 3, Current Task = 1\n",
      "Machine number = 1, State = Busy, Current Job = 4, Current Task = 1\n",
      "Machine number = 2, State = Busy, Current Job = 2, Current Task = 0\n",
      "Machine number = 3, State = Free, Current Job = N/A, Current Task = N/A\n",
      "Machine number = 4, State = Busy, Current Job = 1, Current Task = 2\n",
      "Machine number = 5, State = Free, Current Job = N/A, Current Task = N/A\n",
      "Temps 17\n",
      "Machine number = 0, State = Busy, Current Job = 3, Current Task = 1\n",
      "Machine number = 1, State = Busy, Current Job = 5, Current Task = 0\n",
      "Machine number = 2, State = Busy, Current Job = 2, Current Task = 0\n",
      "Machine number = 3, State = Free, Current Job = N/A, Current Task = N/A\n",
      "Machine number = 4, State = Busy, Current Job = 1, Current Task = 2\n",
      "Machine number = 5, State = Free, Current Job = N/A, Current Task = N/A\n",
      "Temps 18\n",
      "Machine number = 0, State = Busy, Current Job = 3, Current Task = 1\n",
      "Machine number = 1, State = Busy, Current Job = 5, Current Task = 0\n",
      "Machine number = 2, State = Busy, Current Job = 2, Current Task = 0\n",
      "Machine number = 3, State = Free, Current Job = N/A, Current Task = N/A\n",
      "Machine number = 4, State = Busy, Current Job = 1, Current Task = 2\n",
      "Machine number = 5, State = Free, Current Job = N/A, Current Task = N/A\n",
      "Temps 19\n",
      "Machine number = 0, State = Free, Current Job = N/A, Current Task = N/A\n",
      "Machine number = 1, State = Busy, Current Job = 5, Current Task = 0\n",
      "Machine number = 2, State = Busy, Current Job = 2, Current Task = 0\n",
      "Machine number = 3, State = Busy, Current Job = 5, Current Task = 1\n",
      "Machine number = 4, State = Busy, Current Job = 1, Current Task = 2\n",
      "Machine number = 5, State = Free, Current Job = N/A, Current Task = N/A\n",
      "Temps 20\n",
      "Machine number = 0, State = Free, Current Job = N/A, Current Task = N/A\n",
      "Machine number = 1, State = Free, Current Job = N/A, Current Task = N/A\n",
      "Machine number = 2, State = Busy, Current Job = 3, Current Task = 2\n",
      "Machine number = 3, State = Busy, Current Job = 5, Current Task = 1\n",
      "Machine number = 4, State = Busy, Current Job = 1, Current Task = 2\n",
      "Machine number = 5, State = Free, Current Job = N/A, Current Task = N/A\n",
      "Temps 21\n",
      "Machine number = 0, State = Free, Current Job = N/A, Current Task = N/A\n",
      "Machine number = 1, State = Free, Current Job = N/A, Current Task = N/A\n",
      "Machine number = 2, State = Busy, Current Job = 3, Current Task = 2\n",
      "Machine number = 3, State = Busy, Current Job = 5, Current Task = 1\n",
      "Machine number = 4, State = Busy, Current Job = 1, Current Task = 2\n",
      "Machine number = 5, State = Free, Current Job = N/A, Current Task = N/A\n",
      "Temps 22\n",
      "Machine number = 0, State = Free, Current Job = N/A, Current Task = N/A\n",
      "Machine number = 1, State = Free, Current Job = N/A, Current Task = N/A\n",
      "Machine number = 2, State = Busy, Current Job = 3, Current Task = 2\n",
      "Machine number = 3, State = Busy, Current Job = 5, Current Task = 1\n",
      "Machine number = 4, State = Busy, Current Job = 1, Current Task = 2\n",
      "Machine number = 5, State = Busy, Current Job = 5, Current Task = 2\n",
      "Temps 23\n",
      "Machine number = 0, State = Free, Current Job = N/A, Current Task = N/A\n",
      "Machine number = 1, State = Free, Current Job = N/A, Current Task = N/A\n",
      "Machine number = 2, State = Busy, Current Job = 3, Current Task = 2\n",
      "Machine number = 3, State = Busy, Current Job = 2, Current Task = 1\n",
      "Machine number = 4, State = Busy, Current Job = 1, Current Task = 2\n",
      "Machine number = 5, State = Busy, Current Job = 5, Current Task = 2\n",
      "Temps 24\n",
      "Machine number = 0, State = Free, Current Job = N/A, Current Task = N/A\n",
      "Machine number = 1, State = Free, Current Job = N/A, Current Task = N/A\n",
      "Machine number = 2, State = Busy, Current Job = 3, Current Task = 2\n",
      "Machine number = 3, State = Busy, Current Job = 2, Current Task = 1\n",
      "Machine number = 4, State = Busy, Current Job = 1, Current Task = 2\n",
      "Machine number = 5, State = Busy, Current Job = 5, Current Task = 2\n",
      "Temps 25\n",
      "Machine number = 0, State = Free, Current Job = N/A, Current Task = N/A\n",
      "Machine number = 1, State = Free, Current Job = N/A, Current Task = N/A\n",
      "Machine number = 2, State = Busy, Current Job = 0, Current Task = 0\n",
      "Machine number = 3, State = Busy, Current Job = 2, Current Task = 1\n",
      "Machine number = 4, State = Busy, Current Job = 4, Current Task = 2\n",
      "Machine number = 5, State = Busy, Current Job = 5, Current Task = 2\n",
      "Temps 26\n",
      "Machine number = 0, State = Busy, Current Job = 0, Current Task = 1\n",
      "Machine number = 1, State = Free, Current Job = N/A, Current Task = N/A\n",
      "Machine number = 2, State = Free, Current Job = N/A, Current Task = N/A\n",
      "Machine number = 3, State = Busy, Current Job = 2, Current Task = 1\n",
      "Machine number = 4, State = Busy, Current Job = 4, Current Task = 2\n",
      "Machine number = 5, State = Busy, Current Job = 5, Current Task = 2\n",
      "Temps 27\n",
      "Machine number = 0, State = Busy, Current Job = 0, Current Task = 1\n",
      "Machine number = 1, State = Free, Current Job = N/A, Current Task = N/A\n",
      "Machine number = 2, State = Free, Current Job = N/A, Current Task = N/A\n",
      "Machine number = 3, State = Busy, Current Job = 3, Current Task = 3\n",
      "Machine number = 4, State = Busy, Current Job = 4, Current Task = 2\n",
      "Machine number = 5, State = Busy, Current Job = 5, Current Task = 2\n",
      "Temps 28\n",
      "Machine number = 0, State = Busy, Current Job = 0, Current Task = 1\n",
      "Machine number = 1, State = Busy, Current Job = 0, Current Task = 2\n",
      "Machine number = 2, State = Free, Current Job = N/A, Current Task = N/A\n",
      "Machine number = 3, State = Busy, Current Job = 3, Current Task = 3\n",
      "Machine number = 4, State = Busy, Current Job = 4, Current Task = 2\n",
      "Machine number = 5, State = Busy, Current Job = 5, Current Task = 2\n",
      "Temps 29\n",
      "Machine number = 0, State = Free, Current Job = N/A, Current Task = N/A\n",
      "Machine number = 1, State = Busy, Current Job = 0, Current Task = 2\n",
      "Machine number = 2, State = Free, Current Job = N/A, Current Task = N/A\n",
      "Machine number = 3, State = Busy, Current Job = 3, Current Task = 3\n",
      "Machine number = 4, State = Busy, Current Job = 4, Current Task = 2\n",
      "Machine number = 5, State = Busy, Current Job = 5, Current Task = 2\n",
      "Temps 30\n",
      "Machine number = 0, State = Free, Current Job = N/A, Current Task = N/A\n",
      "Machine number = 1, State = Busy, Current Job = 0, Current Task = 2\n",
      "Machine number = 2, State = Free, Current Job = N/A, Current Task = N/A\n",
      "Machine number = 3, State = Free, Current Job = N/A, Current Task = N/A\n",
      "Machine number = 4, State = Busy, Current Job = 3, Current Task = 4\n",
      "Machine number = 5, State = Busy, Current Job = 5, Current Task = 2\n",
      "Temps 31\n",
      "Machine number = 0, State = Free, Current Job = N/A, Current Task = N/A\n",
      "Machine number = 1, State = Busy, Current Job = 0, Current Task = 2\n",
      "Machine number = 2, State = Free, Current Job = N/A, Current Task = N/A\n",
      "Machine number = 3, State = Free, Current Job = N/A, Current Task = N/A\n",
      "Machine number = 4, State = Busy, Current Job = 3, Current Task = 4\n",
      "Machine number = 5, State = Busy, Current Job = 5, Current Task = 2\n",
      "Temps 32\n",
      "Machine number = 0, State = Busy, Current Job = 5, Current Task = 3\n",
      "Machine number = 1, State = Busy, Current Job = 0, Current Task = 2\n",
      "Machine number = 2, State = Free, Current Job = N/A, Current Task = N/A\n",
      "Machine number = 3, State = Free, Current Job = N/A, Current Task = N/A\n",
      "Machine number = 4, State = Busy, Current Job = 3, Current Task = 4\n",
      "Machine number = 5, State = Busy, Current Job = 1, Current Task = 3\n",
      "Temps 33\n",
      "Machine number = 0, State = Busy, Current Job = 5, Current Task = 3\n",
      "Machine number = 1, State = Busy, Current Job = 0, Current Task = 2\n",
      "Machine number = 2, State = Free, Current Job = N/A, Current Task = N/A\n",
      "Machine number = 3, State = Free, Current Job = N/A, Current Task = N/A\n",
      "Machine number = 4, State = Busy, Current Job = 3, Current Task = 4\n",
      "Machine number = 5, State = Busy, Current Job = 1, Current Task = 3\n",
      "Temps 34\n",
      "Machine number = 0, State = Busy, Current Job = 5, Current Task = 3\n",
      "Machine number = 1, State = Busy, Current Job = 0, Current Task = 2\n",
      "Machine number = 2, State = Free, Current Job = N/A, Current Task = N/A\n",
      "Machine number = 3, State = Busy, Current Job = 0, Current Task = 3\n",
      "Machine number = 4, State = Busy, Current Job = 3, Current Task = 4\n",
      "Machine number = 5, State = Busy, Current Job = 1, Current Task = 3\n",
      "Temps 35\n",
      "Machine number = 0, State = Busy, Current Job = 5, Current Task = 3\n",
      "Machine number = 1, State = Free, Current Job = N/A, Current Task = N/A\n",
      "Machine number = 2, State = Free, Current Job = N/A, Current Task = N/A\n",
      "Machine number = 3, State = Busy, Current Job = 0, Current Task = 3\n",
      "Machine number = 4, State = Busy, Current Job = 3, Current Task = 4\n",
      "Machine number = 5, State = Busy, Current Job = 1, Current Task = 3\n",
      "Temps 36\n",
      "Machine number = 0, State = Busy, Current Job = 5, Current Task = 3\n",
      "Machine number = 1, State = Free, Current Job = N/A, Current Task = N/A\n",
      "Machine number = 2, State = Free, Current Job = N/A, Current Task = N/A\n",
      "Machine number = 3, State = Busy, Current Job = 0, Current Task = 3\n",
      "Machine number = 4, State = Busy, Current Job = 3, Current Task = 4\n",
      "Machine number = 5, State = Busy, Current Job = 1, Current Task = 3\n",
      "Temps 37\n",
      "Machine number = 0, State = Busy, Current Job = 5, Current Task = 3\n",
      "Machine number = 1, State = Free, Current Job = N/A, Current Task = N/A\n",
      "Machine number = 2, State = Free, Current Job = N/A, Current Task = N/A\n",
      "Machine number = 3, State = Busy, Current Job = 0, Current Task = 3\n",
      "Machine number = 4, State = Busy, Current Job = 3, Current Task = 4\n",
      "Machine number = 5, State = Busy, Current Job = 1, Current Task = 3\n",
      "Temps 38\n",
      "Machine number = 0, State = Busy, Current Job = 5, Current Task = 3\n",
      "Machine number = 1, State = Free, Current Job = N/A, Current Task = N/A\n",
      "Machine number = 2, State = Free, Current Job = N/A, Current Task = N/A\n",
      "Machine number = 3, State = Busy, Current Job = 0, Current Task = 3\n",
      "Machine number = 4, State = Free, Current Job = N/A, Current Task = N/A\n",
      "Machine number = 5, State = Busy, Current Job = 1, Current Task = 3\n",
      "Temps 39\n",
      "Machine number = 0, State = Busy, Current Job = 5, Current Task = 3\n",
      "Machine number = 1, State = Free, Current Job = N/A, Current Task = N/A\n",
      "Machine number = 2, State = Free, Current Job = N/A, Current Task = N/A\n",
      "Machine number = 3, State = Busy, Current Job = 0, Current Task = 3\n",
      "Machine number = 4, State = Free, Current Job = N/A, Current Task = N/A\n",
      "Machine number = 5, State = Busy, Current Job = 1, Current Task = 3\n",
      "Temps 40\n",
      "Machine number = 0, State = Busy, Current Job = 5, Current Task = 3\n",
      "Machine number = 1, State = Free, Current Job = N/A, Current Task = N/A\n",
      "Machine number = 2, State = Free, Current Job = N/A, Current Task = N/A\n",
      "Machine number = 3, State = Busy, Current Job = 0, Current Task = 3\n",
      "Machine number = 4, State = Free, Current Job = N/A, Current Task = N/A\n",
      "Machine number = 5, State = Busy, Current Job = 1, Current Task = 3\n",
      "Temps 41\n",
      "Machine number = 0, State = Busy, Current Job = 5, Current Task = 3\n",
      "Machine number = 1, State = Free, Current Job = N/A, Current Task = N/A\n",
      "Machine number = 2, State = Free, Current Job = N/A, Current Task = N/A\n",
      "Machine number = 3, State = Busy, Current Job = 0, Current Task = 3\n",
      "Machine number = 4, State = Busy, Current Job = 5, Current Task = 4\n",
      "Machine number = 5, State = Busy, Current Job = 1, Current Task = 3\n",
      "Temps 42\n",
      "Machine number = 0, State = Busy, Current Job = 1, Current Task = 4\n",
      "Machine number = 1, State = Free, Current Job = N/A, Current Task = N/A\n",
      "Machine number = 2, State = Free, Current Job = N/A, Current Task = N/A\n",
      "Machine number = 3, State = Free, Current Job = N/A, Current Task = N/A\n",
      "Machine number = 4, State = Busy, Current Job = 5, Current Task = 4\n",
      "Machine number = 5, State = Busy, Current Job = 3, Current Task = 5\n",
      "Temps 43\n",
      "Machine number = 0, State = Busy, Current Job = 1, Current Task = 4\n",
      "Machine number = 1, State = Free, Current Job = N/A, Current Task = N/A\n",
      "Machine number = 2, State = Free, Current Job = N/A, Current Task = N/A\n",
      "Machine number = 3, State = Free, Current Job = N/A, Current Task = N/A\n",
      "Machine number = 4, State = Busy, Current Job = 5, Current Task = 4\n",
      "Machine number = 5, State = Busy, Current Job = 3, Current Task = 5\n",
      "Temps 44\n",
      "Machine number = 0, State = Busy, Current Job = 1, Current Task = 4\n",
      "Machine number = 1, State = Free, Current Job = N/A, Current Task = N/A\n",
      "Machine number = 2, State = Free, Current Job = N/A, Current Task = N/A\n",
      "Machine number = 3, State = Free, Current Job = N/A, Current Task = N/A\n",
      "Machine number = 4, State = Busy, Current Job = 5, Current Task = 4\n",
      "Machine number = 5, State = Busy, Current Job = 3, Current Task = 5\n",
      "Temps 45\n",
      "Machine number = 0, State = Busy, Current Job = 1, Current Task = 4\n",
      "Machine number = 1, State = Free, Current Job = N/A, Current Task = N/A\n",
      "Machine number = 2, State = Free, Current Job = N/A, Current Task = N/A\n",
      "Machine number = 3, State = Free, Current Job = N/A, Current Task = N/A\n",
      "Machine number = 4, State = Busy, Current Job = 5, Current Task = 4\n",
      "Machine number = 5, State = Busy, Current Job = 3, Current Task = 5\n",
      "Temps 46\n",
      "Machine number = 0, State = Busy, Current Job = 1, Current Task = 4\n",
      "Machine number = 1, State = Free, Current Job = N/A, Current Task = N/A\n",
      "Machine number = 2, State = Busy, Current Job = 5, Current Task = 5\n",
      "Machine number = 3, State = Free, Current Job = N/A, Current Task = N/A\n",
      "Machine number = 4, State = Free, Current Job = N/A, Current Task = N/A\n",
      "Machine number = 5, State = Busy, Current Job = 3, Current Task = 5\n",
      "Temps 47\n",
      "Machine number = 0, State = Busy, Current Job = 1, Current Task = 4\n",
      "Machine number = 1, State = Free, Current Job = N/A, Current Task = N/A\n",
      "Machine number = 2, State = Free, Current Job = N/A, Current Task = N/A\n",
      "Machine number = 3, State = Free, Current Job = N/A, Current Task = N/A\n",
      "Machine number = 4, State = Free, Current Job = N/A, Current Task = N/A\n",
      "Machine number = 5, State = Busy, Current Job = 3, Current Task = 5\n",
      "Temps 48\n",
      "Machine number = 0, State = Busy, Current Job = 1, Current Task = 4\n",
      "Machine number = 1, State = Free, Current Job = N/A, Current Task = N/A\n",
      "Machine number = 2, State = Free, Current Job = N/A, Current Task = N/A\n",
      "Machine number = 3, State = Free, Current Job = N/A, Current Task = N/A\n",
      "Machine number = 4, State = Free, Current Job = N/A, Current Task = N/A\n",
      "Machine number = 5, State = Busy, Current Job = 3, Current Task = 5\n",
      "Temps 49\n",
      "Machine number = 0, State = Busy, Current Job = 1, Current Task = 4\n",
      "Machine number = 1, State = Free, Current Job = N/A, Current Task = N/A\n",
      "Machine number = 2, State = Free, Current Job = N/A, Current Task = N/A\n",
      "Machine number = 3, State = Free, Current Job = N/A, Current Task = N/A\n",
      "Machine number = 4, State = Free, Current Job = N/A, Current Task = N/A\n",
      "Machine number = 5, State = Busy, Current Job = 3, Current Task = 5\n",
      "Temps 50\n",
      "Machine number = 0, State = Busy, Current Job = 1, Current Task = 4\n",
      "Machine number = 1, State = Free, Current Job = N/A, Current Task = N/A\n",
      "Machine number = 2, State = Free, Current Job = N/A, Current Task = N/A\n",
      "Machine number = 3, State = Free, Current Job = N/A, Current Task = N/A\n",
      "Machine number = 4, State = Free, Current Job = N/A, Current Task = N/A\n",
      "Machine number = 5, State = Busy, Current Job = 3, Current Task = 5\n",
      "Temps 51\n",
      "Machine number = 0, State = Busy, Current Job = 1, Current Task = 4\n",
      "Machine number = 1, State = Free, Current Job = N/A, Current Task = N/A\n",
      "Machine number = 2, State = Free, Current Job = N/A, Current Task = N/A\n",
      "Machine number = 3, State = Busy, Current Job = 1, Current Task = 5\n",
      "Machine number = 4, State = Free, Current Job = N/A, Current Task = N/A\n",
      "Machine number = 5, State = Busy, Current Job = 2, Current Task = 2\n",
      "Temps 52\n",
      "Machine number = 0, State = Free, Current Job = N/A, Current Task = N/A\n",
      "Machine number = 1, State = Free, Current Job = N/A, Current Task = N/A\n",
      "Machine number = 2, State = Free, Current Job = N/A, Current Task = N/A\n",
      "Machine number = 3, State = Busy, Current Job = 1, Current Task = 5\n",
      "Machine number = 4, State = Free, Current Job = N/A, Current Task = N/A\n",
      "Machine number = 5, State = Busy, Current Job = 2, Current Task = 2\n",
      "Temps 53\n",
      "Machine number = 0, State = Free, Current Job = N/A, Current Task = N/A\n",
      "Machine number = 1, State = Free, Current Job = N/A, Current Task = N/A\n",
      "Machine number = 2, State = Free, Current Job = N/A, Current Task = N/A\n",
      "Machine number = 3, State = Busy, Current Job = 1, Current Task = 5\n",
      "Machine number = 4, State = Free, Current Job = N/A, Current Task = N/A\n",
      "Machine number = 5, State = Busy, Current Job = 2, Current Task = 2\n",
      "Temps 54\n",
      "Machine number = 0, State = Free, Current Job = N/A, Current Task = N/A\n",
      "Machine number = 1, State = Free, Current Job = N/A, Current Task = N/A\n",
      "Machine number = 2, State = Free, Current Job = N/A, Current Task = N/A\n",
      "Machine number = 3, State = Busy, Current Job = 1, Current Task = 5\n",
      "Machine number = 4, State = Free, Current Job = N/A, Current Task = N/A\n",
      "Machine number = 5, State = Busy, Current Job = 2, Current Task = 2\n",
      "Temps 55\n",
      "Machine number = 0, State = Free, Current Job = N/A, Current Task = N/A\n",
      "Machine number = 1, State = Free, Current Job = N/A, Current Task = N/A\n",
      "Machine number = 2, State = Free, Current Job = N/A, Current Task = N/A\n",
      "Machine number = 3, State = Busy, Current Job = 1, Current Task = 5\n",
      "Machine number = 4, State = Free, Current Job = N/A, Current Task = N/A\n",
      "Machine number = 5, State = Busy, Current Job = 2, Current Task = 2\n",
      "Temps 56\n",
      "Machine number = 0, State = Free, Current Job = N/A, Current Task = N/A\n",
      "Machine number = 1, State = Free, Current Job = N/A, Current Task = N/A\n",
      "Machine number = 2, State = Free, Current Job = N/A, Current Task = N/A\n",
      "Machine number = 3, State = Free, Current Job = N/A, Current Task = N/A\n",
      "Machine number = 4, State = Free, Current Job = N/A, Current Task = N/A\n",
      "Machine number = 5, State = Busy, Current Job = 2, Current Task = 2\n",
      "Temps 57\n",
      "Machine number = 0, State = Free, Current Job = N/A, Current Task = N/A\n",
      "Machine number = 1, State = Free, Current Job = N/A, Current Task = N/A\n",
      "Machine number = 2, State = Free, Current Job = N/A, Current Task = N/A\n",
      "Machine number = 3, State = Free, Current Job = N/A, Current Task = N/A\n",
      "Machine number = 4, State = Free, Current Job = N/A, Current Task = N/A\n",
      "Machine number = 5, State = Busy, Current Job = 2, Current Task = 2\n",
      "Temps 58\n",
      "Machine number = 0, State = Free, Current Job = N/A, Current Task = N/A\n",
      "Machine number = 1, State = Free, Current Job = N/A, Current Task = N/A\n",
      "Machine number = 2, State = Free, Current Job = N/A, Current Task = N/A\n",
      "Machine number = 3, State = Free, Current Job = N/A, Current Task = N/A\n",
      "Machine number = 4, State = Free, Current Job = N/A, Current Task = N/A\n",
      "Machine number = 5, State = Busy, Current Job = 2, Current Task = 2\n",
      "Temps 59\n",
      "Machine number = 0, State = Busy, Current Job = 2, Current Task = 3\n",
      "Machine number = 1, State = Free, Current Job = N/A, Current Task = N/A\n",
      "Machine number = 2, State = Free, Current Job = N/A, Current Task = N/A\n",
      "Machine number = 3, State = Free, Current Job = N/A, Current Task = N/A\n",
      "Machine number = 4, State = Free, Current Job = N/A, Current Task = N/A\n",
      "Machine number = 5, State = Busy, Current Job = 4, Current Task = 3\n",
      "Temps 60\n",
      "Machine number = 0, State = Busy, Current Job = 2, Current Task = 3\n",
      "Machine number = 1, State = Free, Current Job = N/A, Current Task = N/A\n",
      "Machine number = 2, State = Free, Current Job = N/A, Current Task = N/A\n",
      "Machine number = 3, State = Free, Current Job = N/A, Current Task = N/A\n",
      "Machine number = 4, State = Free, Current Job = N/A, Current Task = N/A\n",
      "Machine number = 5, State = Busy, Current Job = 4, Current Task = 3\n",
      "Temps 61\n",
      "Machine number = 0, State = Busy, Current Job = 2, Current Task = 3\n",
      "Machine number = 1, State = Free, Current Job = N/A, Current Task = N/A\n",
      "Machine number = 2, State = Free, Current Job = N/A, Current Task = N/A\n",
      "Machine number = 3, State = Free, Current Job = N/A, Current Task = N/A\n",
      "Machine number = 4, State = Free, Current Job = N/A, Current Task = N/A\n",
      "Machine number = 5, State = Busy, Current Job = 4, Current Task = 3\n",
      "Temps 62\n",
      "Machine number = 0, State = Busy, Current Job = 2, Current Task = 3\n",
      "Machine number = 1, State = Free, Current Job = N/A, Current Task = N/A\n",
      "Machine number = 2, State = Free, Current Job = N/A, Current Task = N/A\n",
      "Machine number = 3, State = Free, Current Job = N/A, Current Task = N/A\n",
      "Machine number = 4, State = Free, Current Job = N/A, Current Task = N/A\n",
      "Machine number = 5, State = Busy, Current Job = 4, Current Task = 3\n",
      "Temps 63\n",
      "Machine number = 0, State = Busy, Current Job = 2, Current Task = 3\n",
      "Machine number = 1, State = Free, Current Job = N/A, Current Task = N/A\n",
      "Machine number = 2, State = Free, Current Job = N/A, Current Task = N/A\n",
      "Machine number = 3, State = Free, Current Job = N/A, Current Task = N/A\n",
      "Machine number = 4, State = Free, Current Job = N/A, Current Task = N/A\n",
      "Machine number = 5, State = Busy, Current Job = 0, Current Task = 4\n",
      "Temps 64\n",
      "Machine number = 0, State = Busy, Current Job = 2, Current Task = 3\n",
      "Machine number = 1, State = Free, Current Job = N/A, Current Task = N/A\n",
      "Machine number = 2, State = Free, Current Job = N/A, Current Task = N/A\n",
      "Machine number = 3, State = Free, Current Job = N/A, Current Task = N/A\n",
      "Machine number = 4, State = Free, Current Job = N/A, Current Task = N/A\n",
      "Machine number = 5, State = Busy, Current Job = 0, Current Task = 4\n",
      "Temps 65\n",
      "Machine number = 0, State = Busy, Current Job = 2, Current Task = 3\n",
      "Machine number = 1, State = Free, Current Job = N/A, Current Task = N/A\n",
      "Machine number = 2, State = Free, Current Job = N/A, Current Task = N/A\n",
      "Machine number = 3, State = Free, Current Job = N/A, Current Task = N/A\n",
      "Machine number = 4, State = Free, Current Job = N/A, Current Task = N/A\n",
      "Machine number = 5, State = Busy, Current Job = 0, Current Task = 4\n",
      "Temps 66\n",
      "Machine number = 0, State = Busy, Current Job = 2, Current Task = 3\n",
      "Machine number = 1, State = Free, Current Job = N/A, Current Task = N/A\n",
      "Machine number = 2, State = Free, Current Job = N/A, Current Task = N/A\n",
      "Machine number = 3, State = Free, Current Job = N/A, Current Task = N/A\n",
      "Machine number = 4, State = Busy, Current Job = 0, Current Task = 5\n",
      "Machine number = 5, State = Free, Current Job = N/A, Current Task = N/A\n",
      "Temps 67\n",
      "Machine number = 0, State = Busy, Current Job = 2, Current Task = 3\n",
      "Machine number = 1, State = Busy, Current Job = 2, Current Task = 4\n",
      "Machine number = 2, State = Free, Current Job = N/A, Current Task = N/A\n",
      "Machine number = 3, State = Free, Current Job = N/A, Current Task = N/A\n",
      "Machine number = 4, State = Busy, Current Job = 0, Current Task = 5\n",
      "Machine number = 5, State = Free, Current Job = N/A, Current Task = N/A\n",
      "Temps 68\n",
      "Machine number = 0, State = Busy, Current Job = 4, Current Task = 4\n",
      "Machine number = 1, State = Busy, Current Job = 2, Current Task = 4\n",
      "Machine number = 2, State = Free, Current Job = N/A, Current Task = N/A\n",
      "Machine number = 3, State = Free, Current Job = N/A, Current Task = N/A\n",
      "Machine number = 4, State = Busy, Current Job = 0, Current Task = 5\n",
      "Machine number = 5, State = Free, Current Job = N/A, Current Task = N/A\n",
      "Temps 69\n",
      "Machine number = 0, State = Busy, Current Job = 4, Current Task = 4\n",
      "Machine number = 1, State = Free, Current Job = N/A, Current Task = N/A\n",
      "Machine number = 2, State = Free, Current Job = N/A, Current Task = N/A\n",
      "Machine number = 3, State = Free, Current Job = N/A, Current Task = N/A\n",
      "Machine number = 4, State = Busy, Current Job = 0, Current Task = 5\n",
      "Machine number = 5, State = Free, Current Job = N/A, Current Task = N/A\n",
      "Temps 70\n",
      "Machine number = 0, State = Busy, Current Job = 4, Current Task = 4\n",
      "Machine number = 1, State = Free, Current Job = N/A, Current Task = N/A\n",
      "Machine number = 2, State = Free, Current Job = N/A, Current Task = N/A\n",
      "Machine number = 3, State = Busy, Current Job = 4, Current Task = 5\n",
      "Machine number = 4, State = Busy, Current Job = 0, Current Task = 5\n",
      "Machine number = 5, State = Free, Current Job = N/A, Current Task = N/A\n",
      "Temps 71\n",
      "Machine number = 0, State = Free, Current Job = N/A, Current Task = N/A\n",
      "Machine number = 1, State = Free, Current Job = N/A, Current Task = N/A\n",
      "Machine number = 2, State = Free, Current Job = N/A, Current Task = N/A\n",
      "Machine number = 3, State = Busy, Current Job = 4, Current Task = 5\n",
      "Machine number = 4, State = Busy, Current Job = 0, Current Task = 5\n",
      "Machine number = 5, State = Free, Current Job = N/A, Current Task = N/A\n",
      "Temps 72\n",
      "Machine number = 0, State = Free, Current Job = N/A, Current Task = N/A\n",
      "Machine number = 1, State = Free, Current Job = N/A, Current Task = N/A\n",
      "Machine number = 2, State = Free, Current Job = N/A, Current Task = N/A\n",
      "Machine number = 3, State = Free, Current Job = N/A, Current Task = N/A\n",
      "Machine number = 4, State = Busy, Current Job = 2, Current Task = 5\n",
      "Machine number = 5, State = Free, Current Job = N/A, Current Task = N/A\n",
      "Temps 73\n",
      "Machine number = 0, State = Free, Current Job = N/A, Current Task = N/A\n",
      "Machine number = 1, State = Free, Current Job = N/A, Current Task = N/A\n",
      "Machine number = 2, State = Free, Current Job = N/A, Current Task = N/A\n",
      "Machine number = 3, State = Free, Current Job = N/A, Current Task = N/A\n",
      "Machine number = 4, State = Busy, Current Job = 2, Current Task = 5\n",
      "Machine number = 5, State = Free, Current Job = N/A, Current Task = N/A\n",
      "Temps 74\n",
      "Machine number = 0, State = Free, Current Job = N/A, Current Task = N/A\n",
      "Machine number = 1, State = Free, Current Job = N/A, Current Task = N/A\n",
      "Machine number = 2, State = Free, Current Job = N/A, Current Task = N/A\n",
      "Machine number = 3, State = Free, Current Job = N/A, Current Task = N/A\n",
      "Machine number = 4, State = Busy, Current Job = 2, Current Task = 5\n",
      "Machine number = 5, State = Free, Current Job = N/A, Current Task = N/A\n",
      "Temps 75\n",
      "Machine number = 0, State = Free, Current Job = N/A, Current Task = N/A\n",
      "Machine number = 1, State = Free, Current Job = N/A, Current Task = N/A\n",
      "Machine number = 2, State = Free, Current Job = N/A, Current Task = N/A\n",
      "Machine number = 3, State = Free, Current Job = N/A, Current Task = N/A\n",
      "Machine number = 4, State = Busy, Current Job = 2, Current Task = 5\n",
      "Machine number = 5, State = Free, Current Job = N/A, Current Task = N/A\n",
      "Temps 76\n",
      "Machine number = 0, State = Free, Current Job = N/A, Current Task = N/A\n",
      "Machine number = 1, State = Free, Current Job = N/A, Current Task = N/A\n",
      "Machine number = 2, State = Free, Current Job = N/A, Current Task = N/A\n",
      "Machine number = 3, State = Free, Current Job = N/A, Current Task = N/A\n",
      "Machine number = 4, State = Busy, Current Job = 2, Current Task = 5\n",
      "Machine number = 5, State = Free, Current Job = N/A, Current Task = N/A\n",
      "Temps 77\n",
      "Machine number = 0, State = Free, Current Job = N/A, Current Task = N/A\n",
      "Machine number = 1, State = Free, Current Job = N/A, Current Task = N/A\n",
      "Machine number = 2, State = Free, Current Job = N/A, Current Task = N/A\n",
      "Machine number = 3, State = Free, Current Job = N/A, Current Task = N/A\n",
      "Machine number = 4, State = Busy, Current Job = 2, Current Task = 5\n",
      "Machine number = 5, State = Free, Current Job = N/A, Current Task = N/A\n",
      "Temps 78\n",
      "Machine number = 0, State = Free, Current Job = N/A, Current Task = N/A\n",
      "Machine number = 1, State = Free, Current Job = N/A, Current Task = N/A\n",
      "Machine number = 2, State = Free, Current Job = N/A, Current Task = N/A\n",
      "Machine number = 3, State = Free, Current Job = N/A, Current Task = N/A\n",
      "Machine number = 4, State = Busy, Current Job = 2, Current Task = 5\n",
      "Machine number = 5, State = Free, Current Job = N/A, Current Task = N/A\n"
     ],
     "output_type": "stream"
    }
   ],
   "source": [
    "t = 0\n",
    "recherche_tach(inst, t)\n",
    "\n",
    "for time in range(1, 600):\n",
    "    if finish():\n",
    "        break;\n",
    "    print(\"Temps\",time)\n",
    "    for res in inst.resource_list:\n",
    "        print(res)\n",
    "        if res.current_task == -1 :\n",
    "            recherche_tach(inst, t)\n",
    "        elif res.current_task.finishDate <= time:\n",
    "            res.current_task.deallocate_to_ressource(\"Done\")\n",
    "            recherche_tach(inst, time)"
   ],
   "metadata": {
    "collapsed": false,
    "pycharm": {
     "name": "#%%\n",
     "is_executing": false
    }
   }
  },
  {
   "cell_type": "code",
   "execution_count": 9,
   "outputs": [
    {
     "data": {
      "application/vnd.plotly.v1+json": {
       "config": {
        "plotlyServerURL": "https://plot.ly"
       },
       "data": [
        {
         "fill": "toself",
         "fillcolor": "rgb(127, 127, 127)",
         "hoverinfo": "name",
         "legendgroup": "rgb(127, 127, 127)",
         "mode": "none",
         "name": "Machine #2",
         "showlegend": true,
         "type": "scatter",
         "x": [
          "0001-01-25T00:00:00",
          "0001-01-26T00:00:00",
          "0001-01-26T00:00:00",
          "0001-01-25T00:00:00",
          "0001-01-25T00:00:00",
          "0001-01-10T00:00:00",
          "0001-01-15T00:00:00",
          "0001-01-15T00:00:00",
          "0001-01-10T00:00:00",
          "0001-01-10T00:00:00",
          "0001-01-15T00:00:00",
          "0001-01-20T00:00:00",
          "0001-01-20T00:00:00",
          "0001-01-15T00:00:00",
          "0001-01-15T00:00:00",
          "0001-01-20T00:00:00",
          "0001-01-25T00:00:00",
          "0001-01-25T00:00:00",
          "0001-01-20T00:00:00",
          "0001-01-20T00:00:00",
          "0001-01-01T00:00:00",
          "0001-01-10T00:00:00",
          "0001-01-10T00:00:00",
          "0001-01-01T00:00:00",
          "0001-01-01T00:00:00",
          "0001-02-15T00:00:00",
          "0001-02-16T00:00:00",
          "0001-02-16T00:00:00",
          "0001-02-15T00:00:00"
         ],
         "y": [
          -0.2,
          -0.2,
          0.2,
          0.2,
          null,
          6.8,
          6.8,
          7.2,
          7.2,
          null,
          11.8,
          11.8,
          12.2,
          12.2,
          null,
          19.8,
          19.8,
          20.2,
          20.2,
          null,
          23.8,
          23.8,
          24.2,
          24.2,
          null,
          34.8,
          34.8,
          35.2,
          35.2
         ]
        },
        {
         "fill": "toself",
         "fillcolor": "rgb(140, 86, 75)",
         "hoverinfo": "name",
         "legendgroup": "rgb(140, 86, 75)",
         "mode": "none",
         "name": "Machine #4",
         "showlegend": true,
         "type": "scatter",
         "x": [
          "0001-03-07T00:00:00",
          "0001-03-13T00:00:00",
          "0001-03-13T00:00:00",
          "0001-03-07T00:00:00",
          "0001-03-07T00:00:00",
          "0001-01-15T00:00:00",
          "0001-01-25T00:00:00",
          "0001-01-25T00:00:00",
          "0001-01-15T00:00:00",
          "0001-01-15T00:00:00",
          "0001-03-13T00:00:00",
          "0001-03-20T00:00:00",
          "0001-03-20T00:00:00",
          "0001-03-13T00:00:00",
          "0001-03-13T00:00:00",
          "0001-01-30T00:00:00",
          "0001-02-07T00:00:00",
          "0001-02-07T00:00:00",
          "0001-01-30T00:00:00",
          "0001-01-30T00:00:00",
          "0001-01-25T00:00:00",
          "0001-01-30T00:00:00",
          "0001-01-30T00:00:00",
          "0001-01-25T00:00:00",
          "0001-01-25T00:00:00",
          "0001-02-11T00:00:00",
          "0001-02-15T00:00:00",
          "0001-02-15T00:00:00",
          "0001-02-11T00:00:00"
         ],
         "y": [
          4.8,
          4.8,
          5.2,
          5.2,
          null,
          7.8,
          7.8,
          8.2,
          8.2,
          null,
          16.8,
          16.8,
          17.2,
          17.2,
          null,
          21.8,
          21.8,
          22.2,
          22.2,
          null,
          25.8,
          25.8,
          26.2,
          26.2,
          null,
          33.8,
          33.8,
          34.2,
          34.2
         ]
        },
        {
         "fill": "toself",
         "fillcolor": "rgb(148, 103, 189)",
         "hoverinfo": "name",
         "legendgroup": "rgb(148, 103, 189)",
         "mode": "none",
         "name": "Machine #5",
         "showlegend": true,
         "type": "scatter",
         "x": [
          "0001-03-04T00:00:00",
          "0001-03-07T00:00:00",
          "0001-03-07T00:00:00",
          "0001-03-04T00:00:00",
          "0001-03-04T00:00:00",
          "0001-02-01T00:00:00",
          "0001-02-11T00:00:00",
          "0001-02-11T00:00:00",
          "0001-02-01T00:00:00",
          "0001-02-01T00:00:00",
          "0001-02-20T00:00:00",
          "0001-02-28T00:00:00",
          "0001-02-28T00:00:00",
          "0001-02-20T00:00:00",
          "0001-02-20T00:00:00",
          "0001-02-11T00:00:00",
          "0001-02-20T00:00:00",
          "0001-02-20T00:00:00",
          "0001-02-11T00:00:00",
          "0001-02-11T00:00:00",
          "0001-02-28T00:00:00",
          "0001-03-04T00:00:00",
          "0001-03-04T00:00:00",
          "0001-02-28T00:00:00",
          "0001-02-28T00:00:00",
          "0001-01-23T00:00:00",
          "0001-02-01T00:00:00",
          "0001-02-01T00:00:00",
          "0001-01-23T00:00:00"
         ],
         "y": [
          3.8,
          3.8,
          4.2,
          4.2,
          null,
          8.8,
          8.8,
          9.2,
          9.2,
          null,
          13.8,
          13.8,
          14.2,
          14.2,
          null,
          22.8,
          22.8,
          23.2,
          23.2,
          null,
          26.8,
          26.8,
          27.2,
          27.2,
          null,
          31.8,
          31.8,
          32.2,
          32.2
         ]
        },
        {
         "fill": "toself",
         "fillcolor": "rgb(188, 189, 34)",
         "hoverinfo": "name",
         "legendgroup": "rgb(188, 189, 34)",
         "mode": "none",
         "name": "Machine #1",
         "showlegend": true,
         "type": "scatter",
         "x": [
          "0001-01-29T00:00:00",
          "0001-02-04T00:00:00",
          "0001-02-04T00:00:00",
          "0001-01-29T00:00:00",
          "0001-01-29T00:00:00",
          "0001-01-01T00:00:00",
          "0001-01-09T00:00:00",
          "0001-01-09T00:00:00",
          "0001-01-01T00:00:00",
          "0001-01-01T00:00:00",
          "0001-03-09T00:00:00",
          "0001-03-10T00:00:00",
          "0001-03-10T00:00:00",
          "0001-03-09T00:00:00",
          "0001-03-09T00:00:00",
          "0001-01-09T00:00:00",
          "0001-01-14T00:00:00",
          "0001-01-14T00:00:00",
          "0001-01-09T00:00:00",
          "0001-01-09T00:00:00",
          "0001-01-14T00:00:00",
          "0001-01-17T00:00:00",
          "0001-01-17T00:00:00",
          "0001-01-14T00:00:00",
          "0001-01-14T00:00:00",
          "0001-01-17T00:00:00",
          "0001-01-20T00:00:00",
          "0001-01-20T00:00:00",
          "0001-01-17T00:00:00"
         ],
         "y": [
          1.8,
          1.8,
          2.2,
          2.2,
          null,
          5.8,
          5.8,
          6.2,
          6.2,
          null,
          15.8,
          15.8,
          16.2,
          16.2,
          null,
          17.8,
          17.8,
          18.2,
          18.2,
          null,
          24.8,
          24.8,
          25.2,
          25.2,
          null,
          29.8,
          29.8,
          30.2,
          30.2
         ]
        },
        {
         "fill": "toself",
         "fillcolor": "rgb(227, 119, 194)",
         "hoverinfo": "name",
         "legendgroup": "rgb(227, 119, 194)",
         "mode": "none",
         "name": "Machine #3",
         "showlegend": true,
         "type": "scatter",
         "x": [
          "0001-02-04T00:00:00",
          "0001-02-11T00:00:00",
          "0001-02-11T00:00:00",
          "0001-02-04T00:00:00",
          "0001-02-04T00:00:00",
          "0001-02-21T00:00:00",
          "0001-02-25T00:00:00",
          "0001-02-25T00:00:00",
          "0001-02-21T00:00:00",
          "0001-02-21T00:00:00",
          "0001-01-23T00:00:00",
          "0001-01-27T00:00:00",
          "0001-01-27T00:00:00",
          "0001-01-23T00:00:00",
          "0001-01-23T00:00:00",
          "0001-01-27T00:00:00",
          "0001-01-30T00:00:00",
          "0001-01-30T00:00:00",
          "0001-01-27T00:00:00",
          "0001-01-27T00:00:00",
          "0001-03-12T00:00:00",
          "0001-03-13T00:00:00",
          "0001-03-13T00:00:00",
          "0001-03-12T00:00:00",
          "0001-03-12T00:00:00",
          "0001-01-20T00:00:00",
          "0001-01-23T00:00:00",
          "0001-01-23T00:00:00",
          "0001-01-20T00:00:00"
         ],
         "y": [
          2.8,
          2.8,
          3.2,
          3.2,
          null,
          10.8,
          10.8,
          11.2,
          11.2,
          null,
          12.8,
          12.8,
          13.2,
          13.2,
          null,
          20.8,
          20.8,
          21.2,
          21.2,
          null,
          28.8,
          28.8,
          29.2,
          29.2,
          null,
          30.8,
          30.8,
          31.2,
          31.2
         ]
        },
        {
         "fill": "toself",
         "fillcolor": "rgb(23, 190, 207)",
         "hoverinfo": "name",
         "legendgroup": "rgb(23, 190, 207)",
         "mode": "none",
         "name": "Machine #0",
         "showlegend": true,
         "type": "scatter",
         "x": [
          "0001-01-26T00:00:00",
          "0001-01-29T00:00:00",
          "0001-01-29T00:00:00",
          "0001-01-26T00:00:00",
          "0001-01-26T00:00:00",
          "0001-02-11T00:00:00",
          "0001-02-21T00:00:00",
          "0001-02-21T00:00:00",
          "0001-02-11T00:00:00",
          "0001-02-11T00:00:00",
          "0001-02-28T00:00:00",
          "0001-03-09T00:00:00",
          "0001-03-09T00:00:00",
          "0001-02-28T00:00:00",
          "0001-02-28T00:00:00",
          "0001-01-14T00:00:00",
          "0001-01-19T00:00:00",
          "0001-01-19T00:00:00",
          "0001-01-14T00:00:00",
          "0001-01-14T00:00:00",
          "0001-03-09T00:00:00",
          "0001-03-12T00:00:00",
          "0001-03-12T00:00:00",
          "0001-03-09T00:00:00",
          "0001-03-09T00:00:00",
          "0001-02-01T00:00:00",
          "0001-02-11T00:00:00",
          "0001-02-11T00:00:00",
          "0001-02-01T00:00:00"
         ],
         "y": [
          0.8,
          0.8,
          1.2,
          1.2,
          null,
          9.8,
          9.8,
          10.2,
          10.2,
          null,
          14.8,
          14.8,
          15.2,
          15.2,
          null,
          18.8,
          18.8,
          19.2,
          19.2,
          null,
          27.8,
          27.8,
          28.2,
          28.2,
          null,
          32.8,
          32.8,
          33.2,
          33.2
         ]
        },
        {
         "legendgroup": "rgb(127, 127, 127)",
         "marker": {
          "color": "rgb(127, 127, 127)",
          "opacity": 0,
          "size": 1
         },
         "mode": "markers",
         "name": "",
         "showlegend": false,
         "text": [
          null,
          null,
          null,
          null,
          null,
          null,
          null,
          null,
          null,
          null,
          null,
          null
         ],
         "type": "scatter",
         "x": [
          "0001-01-25T00:00:00",
          "0001-01-26T00:00:00",
          "0001-01-10T00:00:00",
          "0001-01-15T00:00:00",
          "0001-01-15T00:00:00",
          "0001-01-20T00:00:00",
          "0001-01-20T00:00:00",
          "0001-01-25T00:00:00",
          "0001-01-01T00:00:00",
          "0001-01-10T00:00:00",
          "0001-02-15T00:00:00",
          "0001-02-16T00:00:00"
         ],
         "y": [
          0,
          0,
          7,
          7,
          12,
          12,
          20,
          20,
          24,
          24,
          35,
          35
         ]
        },
        {
         "legendgroup": "rgb(140, 86, 75)",
         "marker": {
          "color": "rgb(140, 86, 75)",
          "opacity": 0,
          "size": 1
         },
         "mode": "markers",
         "name": "",
         "showlegend": false,
         "text": [
          null,
          null,
          null,
          null,
          null,
          null,
          null,
          null,
          null,
          null,
          null,
          null
         ],
         "type": "scatter",
         "x": [
          "0001-03-07T00:00:00",
          "0001-03-13T00:00:00",
          "0001-01-15T00:00:00",
          "0001-01-25T00:00:00",
          "0001-03-13T00:00:00",
          "0001-03-20T00:00:00",
          "0001-01-30T00:00:00",
          "0001-02-07T00:00:00",
          "0001-01-25T00:00:00",
          "0001-01-30T00:00:00",
          "0001-02-11T00:00:00",
          "0001-02-15T00:00:00"
         ],
         "y": [
          5,
          5,
          8,
          8,
          17,
          17,
          22,
          22,
          26,
          26,
          34,
          34
         ]
        },
        {
         "legendgroup": "rgb(148, 103, 189)",
         "marker": {
          "color": "rgb(148, 103, 189)",
          "opacity": 0,
          "size": 1
         },
         "mode": "markers",
         "name": "",
         "showlegend": false,
         "text": [
          null,
          null,
          null,
          null,
          null,
          null,
          null,
          null,
          null,
          null,
          null,
          null
         ],
         "type": "scatter",
         "x": [
          "0001-03-04T00:00:00",
          "0001-03-07T00:00:00",
          "0001-02-01T00:00:00",
          "0001-02-11T00:00:00",
          "0001-02-20T00:00:00",
          "0001-02-28T00:00:00",
          "0001-02-11T00:00:00",
          "0001-02-20T00:00:00",
          "0001-02-28T00:00:00",
          "0001-03-04T00:00:00",
          "0001-01-23T00:00:00",
          "0001-02-01T00:00:00"
         ],
         "y": [
          4,
          4,
          9,
          9,
          14,
          14,
          23,
          23,
          27,
          27,
          32,
          32
         ]
        },
        {
         "legendgroup": "rgb(188, 189, 34)",
         "marker": {
          "color": "rgb(188, 189, 34)",
          "opacity": 0,
          "size": 1
         },
         "mode": "markers",
         "name": "",
         "showlegend": false,
         "text": [
          null,
          null,
          null,
          null,
          null,
          null,
          null,
          null,
          null,
          null,
          null,
          null
         ],
         "type": "scatter",
         "x": [
          "0001-01-29T00:00:00",
          "0001-02-04T00:00:00",
          "0001-01-01T00:00:00",
          "0001-01-09T00:00:00",
          "0001-03-09T00:00:00",
          "0001-03-10T00:00:00",
          "0001-01-09T00:00:00",
          "0001-01-14T00:00:00",
          "0001-01-14T00:00:00",
          "0001-01-17T00:00:00",
          "0001-01-17T00:00:00",
          "0001-01-20T00:00:00"
         ],
         "y": [
          2,
          2,
          6,
          6,
          16,
          16,
          18,
          18,
          25,
          25,
          30,
          30
         ]
        },
        {
         "legendgroup": "rgb(227, 119, 194)",
         "marker": {
          "color": "rgb(227, 119, 194)",
          "opacity": 0,
          "size": 1
         },
         "mode": "markers",
         "name": "",
         "showlegend": false,
         "text": [
          null,
          null,
          null,
          null,
          null,
          null,
          null,
          null,
          null,
          null,
          null,
          null
         ],
         "type": "scatter",
         "x": [
          "0001-02-04T00:00:00",
          "0001-02-11T00:00:00",
          "0001-02-21T00:00:00",
          "0001-02-25T00:00:00",
          "0001-01-23T00:00:00",
          "0001-01-27T00:00:00",
          "0001-01-27T00:00:00",
          "0001-01-30T00:00:00",
          "0001-03-12T00:00:00",
          "0001-03-13T00:00:00",
          "0001-01-20T00:00:00",
          "0001-01-23T00:00:00"
         ],
         "y": [
          3,
          3,
          11,
          11,
          13,
          13,
          21,
          21,
          29,
          29,
          31,
          31
         ]
        },
        {
         "legendgroup": "rgb(23, 190, 207)",
         "marker": {
          "color": "rgb(23, 190, 207)",
          "opacity": 0,
          "size": 1
         },
         "mode": "markers",
         "name": "",
         "showlegend": false,
         "text": [
          null,
          null,
          null,
          null,
          null,
          null,
          null,
          null,
          null,
          null,
          null,
          null
         ],
         "type": "scatter",
         "x": [
          "0001-01-26T00:00:00",
          "0001-01-29T00:00:00",
          "0001-02-11T00:00:00",
          "0001-02-21T00:00:00",
          "0001-02-28T00:00:00",
          "0001-03-09T00:00:00",
          "0001-01-14T00:00:00",
          "0001-01-19T00:00:00",
          "0001-03-09T00:00:00",
          "0001-03-12T00:00:00",
          "0001-02-01T00:00:00",
          "0001-02-11T00:00:00"
         ],
         "y": [
          1,
          1,
          10,
          10,
          15,
          15,
          19,
          19,
          28,
          28,
          33,
          33
         ]
        }
       ],
       "layout": {
        "height": 600,
        "hovermode": "closest",
        "showlegend": true,
        "template": {
         "data": {
          "bar": [
           {
            "error_x": {
             "color": "#2a3f5f"
            },
            "error_y": {
             "color": "#2a3f5f"
            },
            "marker": {
             "line": {
              "color": "#E5ECF6",
              "width": 0.5
             }
            },
            "type": "bar"
           }
          ],
          "barpolar": [
           {
            "marker": {
             "line": {
              "color": "#E5ECF6",
              "width": 0.5
             }
            },
            "type": "barpolar"
           }
          ],
          "carpet": [
           {
            "aaxis": {
             "endlinecolor": "#2a3f5f",
             "gridcolor": "white",
             "linecolor": "white",
             "minorgridcolor": "white",
             "startlinecolor": "#2a3f5f"
            },
            "baxis": {
             "endlinecolor": "#2a3f5f",
             "gridcolor": "white",
             "linecolor": "white",
             "minorgridcolor": "white",
             "startlinecolor": "#2a3f5f"
            },
            "type": "carpet"
           }
          ],
          "choropleth": [
           {
            "colorbar": {
             "outlinewidth": 0,
             "ticks": ""
            },
            "type": "choropleth"
           }
          ],
          "contour": [
           {
            "colorbar": {
             "outlinewidth": 0,
             "ticks": ""
            },
            "colorscale": [
             [
              0.0,
              "#0d0887"
             ],
             [
              0.1111111111111111,
              "#46039f"
             ],
             [
              0.2222222222222222,
              "#7201a8"
             ],
             [
              0.3333333333333333,
              "#9c179e"
             ],
             [
              0.4444444444444444,
              "#bd3786"
             ],
             [
              0.5555555555555556,
              "#d8576b"
             ],
             [
              0.6666666666666666,
              "#ed7953"
             ],
             [
              0.7777777777777778,
              "#fb9f3a"
             ],
             [
              0.8888888888888888,
              "#fdca26"
             ],
             [
              1.0,
              "#f0f921"
             ]
            ],
            "type": "contour"
           }
          ],
          "contourcarpet": [
           {
            "colorbar": {
             "outlinewidth": 0,
             "ticks": ""
            },
            "type": "contourcarpet"
           }
          ],
          "heatmap": [
           {
            "colorbar": {
             "outlinewidth": 0,
             "ticks": ""
            },
            "colorscale": [
             [
              0.0,
              "#0d0887"
             ],
             [
              0.1111111111111111,
              "#46039f"
             ],
             [
              0.2222222222222222,
              "#7201a8"
             ],
             [
              0.3333333333333333,
              "#9c179e"
             ],
             [
              0.4444444444444444,
              "#bd3786"
             ],
             [
              0.5555555555555556,
              "#d8576b"
             ],
             [
              0.6666666666666666,
              "#ed7953"
             ],
             [
              0.7777777777777778,
              "#fb9f3a"
             ],
             [
              0.8888888888888888,
              "#fdca26"
             ],
             [
              1.0,
              "#f0f921"
             ]
            ],
            "type": "heatmap"
           }
          ],
          "heatmapgl": [
           {
            "colorbar": {
             "outlinewidth": 0,
             "ticks": ""
            },
            "colorscale": [
             [
              0.0,
              "#0d0887"
             ],
             [
              0.1111111111111111,
              "#46039f"
             ],
             [
              0.2222222222222222,
              "#7201a8"
             ],
             [
              0.3333333333333333,
              "#9c179e"
             ],
             [
              0.4444444444444444,
              "#bd3786"
             ],
             [
              0.5555555555555556,
              "#d8576b"
             ],
             [
              0.6666666666666666,
              "#ed7953"
             ],
             [
              0.7777777777777778,
              "#fb9f3a"
             ],
             [
              0.8888888888888888,
              "#fdca26"
             ],
             [
              1.0,
              "#f0f921"
             ]
            ],
            "type": "heatmapgl"
           }
          ],
          "histogram": [
           {
            "marker": {
             "colorbar": {
              "outlinewidth": 0,
              "ticks": ""
             }
            },
            "type": "histogram"
           }
          ],
          "histogram2d": [
           {
            "colorbar": {
             "outlinewidth": 0,
             "ticks": ""
            },
            "colorscale": [
             [
              0.0,
              "#0d0887"
             ],
             [
              0.1111111111111111,
              "#46039f"
             ],
             [
              0.2222222222222222,
              "#7201a8"
             ],
             [
              0.3333333333333333,
              "#9c179e"
             ],
             [
              0.4444444444444444,
              "#bd3786"
             ],
             [
              0.5555555555555556,
              "#d8576b"
             ],
             [
              0.6666666666666666,
              "#ed7953"
             ],
             [
              0.7777777777777778,
              "#fb9f3a"
             ],
             [
              0.8888888888888888,
              "#fdca26"
             ],
             [
              1.0,
              "#f0f921"
             ]
            ],
            "type": "histogram2d"
           }
          ],
          "histogram2dcontour": [
           {
            "colorbar": {
             "outlinewidth": 0,
             "ticks": ""
            },
            "colorscale": [
             [
              0.0,
              "#0d0887"
             ],
             [
              0.1111111111111111,
              "#46039f"
             ],
             [
              0.2222222222222222,
              "#7201a8"
             ],
             [
              0.3333333333333333,
              "#9c179e"
             ],
             [
              0.4444444444444444,
              "#bd3786"
             ],
             [
              0.5555555555555556,
              "#d8576b"
             ],
             [
              0.6666666666666666,
              "#ed7953"
             ],
             [
              0.7777777777777778,
              "#fb9f3a"
             ],
             [
              0.8888888888888888,
              "#fdca26"
             ],
             [
              1.0,
              "#f0f921"
             ]
            ],
            "type": "histogram2dcontour"
           }
          ],
          "mesh3d": [
           {
            "colorbar": {
             "outlinewidth": 0,
             "ticks": ""
            },
            "type": "mesh3d"
           }
          ],
          "parcoords": [
           {
            "line": {
             "colorbar": {
              "outlinewidth": 0,
              "ticks": ""
             }
            },
            "type": "parcoords"
           }
          ],
          "pie": [
           {
            "automargin": true,
            "type": "pie"
           }
          ],
          "scatter": [
           {
            "marker": {
             "colorbar": {
              "outlinewidth": 0,
              "ticks": ""
             }
            },
            "type": "scatter"
           }
          ],
          "scatter3d": [
           {
            "line": {
             "colorbar": {
              "outlinewidth": 0,
              "ticks": ""
             }
            },
            "marker": {
             "colorbar": {
              "outlinewidth": 0,
              "ticks": ""
             }
            },
            "type": "scatter3d"
           }
          ],
          "scattercarpet": [
           {
            "marker": {
             "colorbar": {
              "outlinewidth": 0,
              "ticks": ""
             }
            },
            "type": "scattercarpet"
           }
          ],
          "scattergeo": [
           {
            "marker": {
             "colorbar": {
              "outlinewidth": 0,
              "ticks": ""
             }
            },
            "type": "scattergeo"
           }
          ],
          "scattergl": [
           {
            "marker": {
             "colorbar": {
              "outlinewidth": 0,
              "ticks": ""
             }
            },
            "type": "scattergl"
           }
          ],
          "scattermapbox": [
           {
            "marker": {
             "colorbar": {
              "outlinewidth": 0,
              "ticks": ""
             }
            },
            "type": "scattermapbox"
           }
          ],
          "scatterpolar": [
           {
            "marker": {
             "colorbar": {
              "outlinewidth": 0,
              "ticks": ""
             }
            },
            "type": "scatterpolar"
           }
          ],
          "scatterpolargl": [
           {
            "marker": {
             "colorbar": {
              "outlinewidth": 0,
              "ticks": ""
             }
            },
            "type": "scatterpolargl"
           }
          ],
          "scatterternary": [
           {
            "marker": {
             "colorbar": {
              "outlinewidth": 0,
              "ticks": ""
             }
            },
            "type": "scatterternary"
           }
          ],
          "surface": [
           {
            "colorbar": {
             "outlinewidth": 0,
             "ticks": ""
            },
            "colorscale": [
             [
              0.0,
              "#0d0887"
             ],
             [
              0.1111111111111111,
              "#46039f"
             ],
             [
              0.2222222222222222,
              "#7201a8"
             ],
             [
              0.3333333333333333,
              "#9c179e"
             ],
             [
              0.4444444444444444,
              "#bd3786"
             ],
             [
              0.5555555555555556,
              "#d8576b"
             ],
             [
              0.6666666666666666,
              "#ed7953"
             ],
             [
              0.7777777777777778,
              "#fb9f3a"
             ],
             [
              0.8888888888888888,
              "#fdca26"
             ],
             [
              1.0,
              "#f0f921"
             ]
            ],
            "type": "surface"
           }
          ],
          "table": [
           {
            "cells": {
             "fill": {
              "color": "#EBF0F8"
             },
             "line": {
              "color": "white"
             }
            },
            "header": {
             "fill": {
              "color": "#C8D4E3"
             },
             "line": {
              "color": "white"
             }
            },
            "type": "table"
           }
          ]
         },
         "layout": {
          "annotationdefaults": {
           "arrowcolor": "#2a3f5f",
           "arrowhead": 0,
           "arrowwidth": 1
          },
          "coloraxis": {
           "colorbar": {
            "outlinewidth": 0,
            "ticks": ""
           }
          },
          "colorscale": {
           "diverging": [
            [
             0,
             "#8e0152"
            ],
            [
             0.1,
             "#c51b7d"
            ],
            [
             0.2,
             "#de77ae"
            ],
            [
             0.3,
             "#f1b6da"
            ],
            [
             0.4,
             "#fde0ef"
            ],
            [
             0.5,
             "#f7f7f7"
            ],
            [
             0.6,
             "#e6f5d0"
            ],
            [
             0.7,
             "#b8e186"
            ],
            [
             0.8,
             "#7fbc41"
            ],
            [
             0.9,
             "#4d9221"
            ],
            [
             1,
             "#276419"
            ]
           ],
           "sequential": [
            [
             0.0,
             "#0d0887"
            ],
            [
             0.1111111111111111,
             "#46039f"
            ],
            [
             0.2222222222222222,
             "#7201a8"
            ],
            [
             0.3333333333333333,
             "#9c179e"
            ],
            [
             0.4444444444444444,
             "#bd3786"
            ],
            [
             0.5555555555555556,
             "#d8576b"
            ],
            [
             0.6666666666666666,
             "#ed7953"
            ],
            [
             0.7777777777777778,
             "#fb9f3a"
            ],
            [
             0.8888888888888888,
             "#fdca26"
            ],
            [
             1.0,
             "#f0f921"
            ]
           ],
           "sequentialminus": [
            [
             0.0,
             "#0d0887"
            ],
            [
             0.1111111111111111,
             "#46039f"
            ],
            [
             0.2222222222222222,
             "#7201a8"
            ],
            [
             0.3333333333333333,
             "#9c179e"
            ],
            [
             0.4444444444444444,
             "#bd3786"
            ],
            [
             0.5555555555555556,
             "#d8576b"
            ],
            [
             0.6666666666666666,
             "#ed7953"
            ],
            [
             0.7777777777777778,
             "#fb9f3a"
            ],
            [
             0.8888888888888888,
             "#fdca26"
            ],
            [
             1.0,
             "#f0f921"
            ]
           ]
          },
          "colorway": [
           "#636efa",
           "#EF553B",
           "#00cc96",
           "#ab63fa",
           "#FFA15A",
           "#19d3f3",
           "#FF6692",
           "#B6E880",
           "#FF97FF",
           "#FECB52"
          ],
          "font": {
           "color": "#2a3f5f"
          },
          "geo": {
           "bgcolor": "white",
           "lakecolor": "white",
           "landcolor": "#E5ECF6",
           "showlakes": true,
           "showland": true,
           "subunitcolor": "white"
          },
          "hoverlabel": {
           "align": "left"
          },
          "hovermode": "closest",
          "mapbox": {
           "style": "light"
          },
          "paper_bgcolor": "white",
          "plot_bgcolor": "#E5ECF6",
          "polar": {
           "angularaxis": {
            "gridcolor": "white",
            "linecolor": "white",
            "ticks": ""
           },
           "bgcolor": "#E5ECF6",
           "radialaxis": {
            "gridcolor": "white",
            "linecolor": "white",
            "ticks": ""
           }
          },
          "scene": {
           "xaxis": {
            "backgroundcolor": "#E5ECF6",
            "gridcolor": "white",
            "gridwidth": 2,
            "linecolor": "white",
            "showbackground": true,
            "ticks": "",
            "zerolinecolor": "white"
           },
           "yaxis": {
            "backgroundcolor": "#E5ECF6",
            "gridcolor": "white",
            "gridwidth": 2,
            "linecolor": "white",
            "showbackground": true,
            "ticks": "",
            "zerolinecolor": "white"
           },
           "zaxis": {
            "backgroundcolor": "#E5ECF6",
            "gridcolor": "white",
            "gridwidth": 2,
            "linecolor": "white",
            "showbackground": true,
            "ticks": "",
            "zerolinecolor": "white"
           }
          },
          "shapedefaults": {
           "line": {
            "color": "#2a3f5f"
           }
          },
          "ternary": {
           "aaxis": {
            "gridcolor": "white",
            "linecolor": "white",
            "ticks": ""
           },
           "baxis": {
            "gridcolor": "white",
            "linecolor": "white",
            "ticks": ""
           },
           "bgcolor": "#E5ECF6",
           "caxis": {
            "gridcolor": "white",
            "linecolor": "white",
            "ticks": ""
           }
          },
          "title": {
           "x": 0.05
          },
          "xaxis": {
           "automargin": true,
           "gridcolor": "white",
           "linecolor": "white",
           "ticks": "",
           "title": {
            "standoff": 15
           },
           "zerolinecolor": "white",
           "zerolinewidth": 2
          },
          "yaxis": {
           "automargin": true,
           "gridcolor": "white",
           "linecolor": "white",
           "ticks": "",
           "title": {
            "standoff": 15
           },
           "zerolinecolor": "white",
           "zerolinewidth": 2
          }
         }
        },
        "title": {
         "text": "Gantt Chart"
        },
        "xaxis": {
         "rangeselector": {
          "buttons": [
           {
            "count": 7,
            "label": "1w",
            "step": "day",
            "stepmode": "backward"
           },
           {
            "count": 1,
            "label": "1m",
            "step": "month",
            "stepmode": "backward"
           },
           {
            "count": 6,
            "label": "6m",
            "step": "month",
            "stepmode": "backward"
           },
           {
            "count": 1,
            "label": "YTD",
            "step": "year",
            "stepmode": "todate"
           },
           {
            "count": 1,
            "label": "1y",
            "step": "year",
            "stepmode": "backward"
           },
           {
            "step": "all"
           }
          ]
         },
         "showgrid": true,
         "tickformat": "%",
         "type": "date",
         "zeroline": false
        },
        "yaxis": {
         "autorange": false,
         "range": [
          -1,
          37
         ],
         "showgrid": true,
         "ticktext": [
          "Job  #0",
          "Job  #0",
          "Job  #0",
          "Job  #0",
          "Job  #0",
          "Job  #0",
          "Job  #1",
          "Job  #1",
          "Job  #1",
          "Job  #1",
          "Job  #1",
          "Job  #1",
          "Job  #2",
          "Job  #2",
          "Job  #2",
          "Job  #2",
          "Job  #2",
          "Job  #2",
          "Job  #3",
          "Job  #3",
          "Job  #3",
          "Job  #3",
          "Job  #3",
          "Job  #3",
          "Job  #4",
          "Job  #4",
          "Job  #4",
          "Job  #4",
          "Job  #4",
          "Job  #4",
          "Job  #5",
          "Job  #5",
          "Job  #5",
          "Job  #5",
          "Job  #5",
          "Job  #5"
         ],
         "tickvals": [
          0,
          1,
          2,
          3,
          4,
          5,
          6,
          7,
          8,
          9,
          10,
          11,
          12,
          13,
          14,
          15,
          16,
          17,
          18,
          19,
          20,
          21,
          22,
          23,
          24,
          25,
          26,
          27,
          28,
          29,
          30,
          31,
          32,
          33,
          34,
          35
         ],
         "zeroline": false
        }
       }
      },
      "text/html": "<div>\n        \n        \n            <div id=\"4a7661aa-d322-4716-81e8-e1356a85d05b\" class=\"plotly-graph-div\" style=\"height:600px; width:100%;\"></div>\n            <script type=\"text/javascript\">\n                require([\"plotly\"], function(Plotly) {\n                    window.PLOTLYENV=window.PLOTLYENV || {};\n                    \n                if (document.getElementById(\"4a7661aa-d322-4716-81e8-e1356a85d05b\")) {\n                    Plotly.newPlot(\n                        '4a7661aa-d322-4716-81e8-e1356a85d05b',\n                        [{\"fill\": \"toself\", \"fillcolor\": \"rgb(127, 127, 127)\", \"hoverinfo\": \"name\", \"legendgroup\": \"rgb(127, 127, 127)\", \"mode\": \"none\", \"name\": \"Machine #2\", \"showlegend\": true, \"type\": \"scatter\", \"x\": [\"0001-01-25T00:00:00\", \"0001-01-26T00:00:00\", \"0001-01-26T00:00:00\", \"0001-01-25T00:00:00\", \"0001-01-25T00:00:00\", \"0001-01-10T00:00:00\", \"0001-01-15T00:00:00\", \"0001-01-15T00:00:00\", \"0001-01-10T00:00:00\", \"0001-01-10T00:00:00\", \"0001-01-15T00:00:00\", \"0001-01-20T00:00:00\", \"0001-01-20T00:00:00\", \"0001-01-15T00:00:00\", \"0001-01-15T00:00:00\", \"0001-01-20T00:00:00\", \"0001-01-25T00:00:00\", \"0001-01-25T00:00:00\", \"0001-01-20T00:00:00\", \"0001-01-20T00:00:00\", \"0001-01-01T00:00:00\", \"0001-01-10T00:00:00\", \"0001-01-10T00:00:00\", \"0001-01-01T00:00:00\", \"0001-01-01T00:00:00\", \"0001-02-15T00:00:00\", \"0001-02-16T00:00:00\", \"0001-02-16T00:00:00\", \"0001-02-15T00:00:00\"], \"y\": [-0.2, -0.2, 0.2, 0.2, null, 6.8, 6.8, 7.2, 7.2, null, 11.8, 11.8, 12.2, 12.2, null, 19.8, 19.8, 20.2, 20.2, null, 23.8, 23.8, 24.2, 24.2, null, 34.8, 34.8, 35.2, 35.2]}, {\"fill\": \"toself\", \"fillcolor\": \"rgb(140, 86, 75)\", \"hoverinfo\": \"name\", \"legendgroup\": \"rgb(140, 86, 75)\", \"mode\": \"none\", \"name\": \"Machine #4\", \"showlegend\": true, \"type\": \"scatter\", \"x\": [\"0001-03-07T00:00:00\", \"0001-03-13T00:00:00\", \"0001-03-13T00:00:00\", \"0001-03-07T00:00:00\", \"0001-03-07T00:00:00\", \"0001-01-15T00:00:00\", \"0001-01-25T00:00:00\", \"0001-01-25T00:00:00\", \"0001-01-15T00:00:00\", \"0001-01-15T00:00:00\", \"0001-03-13T00:00:00\", \"0001-03-20T00:00:00\", \"0001-03-20T00:00:00\", \"0001-03-13T00:00:00\", \"0001-03-13T00:00:00\", \"0001-01-30T00:00:00\", \"0001-02-07T00:00:00\", \"0001-02-07T00:00:00\", \"0001-01-30T00:00:00\", \"0001-01-30T00:00:00\", \"0001-01-25T00:00:00\", \"0001-01-30T00:00:00\", \"0001-01-30T00:00:00\", \"0001-01-25T00:00:00\", \"0001-01-25T00:00:00\", \"0001-02-11T00:00:00\", \"0001-02-15T00:00:00\", \"0001-02-15T00:00:00\", \"0001-02-11T00:00:00\"], \"y\": [4.8, 4.8, 5.2, 5.2, null, 7.8, 7.8, 8.2, 8.2, null, 16.8, 16.8, 17.2, 17.2, null, 21.8, 21.8, 22.2, 22.2, null, 25.8, 25.8, 26.2, 26.2, null, 33.8, 33.8, 34.2, 34.2]}, {\"fill\": \"toself\", \"fillcolor\": \"rgb(148, 103, 189)\", \"hoverinfo\": \"name\", \"legendgroup\": \"rgb(148, 103, 189)\", \"mode\": \"none\", \"name\": \"Machine #5\", \"showlegend\": true, \"type\": \"scatter\", \"x\": [\"0001-03-04T00:00:00\", \"0001-03-07T00:00:00\", \"0001-03-07T00:00:00\", \"0001-03-04T00:00:00\", \"0001-03-04T00:00:00\", \"0001-02-01T00:00:00\", \"0001-02-11T00:00:00\", \"0001-02-11T00:00:00\", \"0001-02-01T00:00:00\", \"0001-02-01T00:00:00\", \"0001-02-20T00:00:00\", \"0001-02-28T00:00:00\", \"0001-02-28T00:00:00\", \"0001-02-20T00:00:00\", \"0001-02-20T00:00:00\", \"0001-02-11T00:00:00\", \"0001-02-20T00:00:00\", \"0001-02-20T00:00:00\", \"0001-02-11T00:00:00\", \"0001-02-11T00:00:00\", \"0001-02-28T00:00:00\", \"0001-03-04T00:00:00\", \"0001-03-04T00:00:00\", \"0001-02-28T00:00:00\", \"0001-02-28T00:00:00\", \"0001-01-23T00:00:00\", \"0001-02-01T00:00:00\", \"0001-02-01T00:00:00\", \"0001-01-23T00:00:00\"], \"y\": [3.8, 3.8, 4.2, 4.2, null, 8.8, 8.8, 9.2, 9.2, null, 13.8, 13.8, 14.2, 14.2, null, 22.8, 22.8, 23.2, 23.2, null, 26.8, 26.8, 27.2, 27.2, null, 31.8, 31.8, 32.2, 32.2]}, {\"fill\": \"toself\", \"fillcolor\": \"rgb(188, 189, 34)\", \"hoverinfo\": \"name\", \"legendgroup\": \"rgb(188, 189, 34)\", \"mode\": \"none\", \"name\": \"Machine #1\", \"showlegend\": true, \"type\": \"scatter\", \"x\": [\"0001-01-29T00:00:00\", \"0001-02-04T00:00:00\", \"0001-02-04T00:00:00\", \"0001-01-29T00:00:00\", \"0001-01-29T00:00:00\", \"0001-01-01T00:00:00\", \"0001-01-09T00:00:00\", \"0001-01-09T00:00:00\", \"0001-01-01T00:00:00\", \"0001-01-01T00:00:00\", \"0001-03-09T00:00:00\", \"0001-03-10T00:00:00\", \"0001-03-10T00:00:00\", \"0001-03-09T00:00:00\", \"0001-03-09T00:00:00\", \"0001-01-09T00:00:00\", \"0001-01-14T00:00:00\", \"0001-01-14T00:00:00\", \"0001-01-09T00:00:00\", \"0001-01-09T00:00:00\", \"0001-01-14T00:00:00\", \"0001-01-17T00:00:00\", \"0001-01-17T00:00:00\", \"0001-01-14T00:00:00\", \"0001-01-14T00:00:00\", \"0001-01-17T00:00:00\", \"0001-01-20T00:00:00\", \"0001-01-20T00:00:00\", \"0001-01-17T00:00:00\"], \"y\": [1.8, 1.8, 2.2, 2.2, null, 5.8, 5.8, 6.2, 6.2, null, 15.8, 15.8, 16.2, 16.2, null, 17.8, 17.8, 18.2, 18.2, null, 24.8, 24.8, 25.2, 25.2, null, 29.8, 29.8, 30.2, 30.2]}, {\"fill\": \"toself\", \"fillcolor\": \"rgb(227, 119, 194)\", \"hoverinfo\": \"name\", \"legendgroup\": \"rgb(227, 119, 194)\", \"mode\": \"none\", \"name\": \"Machine #3\", \"showlegend\": true, \"type\": \"scatter\", \"x\": [\"0001-02-04T00:00:00\", \"0001-02-11T00:00:00\", \"0001-02-11T00:00:00\", \"0001-02-04T00:00:00\", \"0001-02-04T00:00:00\", \"0001-02-21T00:00:00\", \"0001-02-25T00:00:00\", \"0001-02-25T00:00:00\", \"0001-02-21T00:00:00\", \"0001-02-21T00:00:00\", \"0001-01-23T00:00:00\", \"0001-01-27T00:00:00\", \"0001-01-27T00:00:00\", \"0001-01-23T00:00:00\", \"0001-01-23T00:00:00\", \"0001-01-27T00:00:00\", \"0001-01-30T00:00:00\", \"0001-01-30T00:00:00\", \"0001-01-27T00:00:00\", \"0001-01-27T00:00:00\", \"0001-03-12T00:00:00\", \"0001-03-13T00:00:00\", \"0001-03-13T00:00:00\", \"0001-03-12T00:00:00\", \"0001-03-12T00:00:00\", \"0001-01-20T00:00:00\", \"0001-01-23T00:00:00\", \"0001-01-23T00:00:00\", \"0001-01-20T00:00:00\"], \"y\": [2.8, 2.8, 3.2, 3.2, null, 10.8, 10.8, 11.2, 11.2, null, 12.8, 12.8, 13.2, 13.2, null, 20.8, 20.8, 21.2, 21.2, null, 28.8, 28.8, 29.2, 29.2, null, 30.8, 30.8, 31.2, 31.2]}, {\"fill\": \"toself\", \"fillcolor\": \"rgb(23, 190, 207)\", \"hoverinfo\": \"name\", \"legendgroup\": \"rgb(23, 190, 207)\", \"mode\": \"none\", \"name\": \"Machine #0\", \"showlegend\": true, \"type\": \"scatter\", \"x\": [\"0001-01-26T00:00:00\", \"0001-01-29T00:00:00\", \"0001-01-29T00:00:00\", \"0001-01-26T00:00:00\", \"0001-01-26T00:00:00\", \"0001-02-11T00:00:00\", \"0001-02-21T00:00:00\", \"0001-02-21T00:00:00\", \"0001-02-11T00:00:00\", \"0001-02-11T00:00:00\", \"0001-02-28T00:00:00\", \"0001-03-09T00:00:00\", \"0001-03-09T00:00:00\", \"0001-02-28T00:00:00\", \"0001-02-28T00:00:00\", \"0001-01-14T00:00:00\", \"0001-01-19T00:00:00\", \"0001-01-19T00:00:00\", \"0001-01-14T00:00:00\", \"0001-01-14T00:00:00\", \"0001-03-09T00:00:00\", \"0001-03-12T00:00:00\", \"0001-03-12T00:00:00\", \"0001-03-09T00:00:00\", \"0001-03-09T00:00:00\", \"0001-02-01T00:00:00\", \"0001-02-11T00:00:00\", \"0001-02-11T00:00:00\", \"0001-02-01T00:00:00\"], \"y\": [0.8, 0.8, 1.2, 1.2, null, 9.8, 9.8, 10.2, 10.2, null, 14.8, 14.8, 15.2, 15.2, null, 18.8, 18.8, 19.2, 19.2, null, 27.8, 27.8, 28.2, 28.2, null, 32.8, 32.8, 33.2, 33.2]}, {\"legendgroup\": \"rgb(127, 127, 127)\", \"marker\": {\"color\": \"rgb(127, 127, 127)\", \"opacity\": 0, \"size\": 1}, \"mode\": \"markers\", \"name\": \"\", \"showlegend\": false, \"text\": [null, null, null, null, null, null, null, null, null, null, null, null], \"type\": \"scatter\", \"x\": [\"0001-01-25T00:00:00\", \"0001-01-26T00:00:00\", \"0001-01-10T00:00:00\", \"0001-01-15T00:00:00\", \"0001-01-15T00:00:00\", \"0001-01-20T00:00:00\", \"0001-01-20T00:00:00\", \"0001-01-25T00:00:00\", \"0001-01-01T00:00:00\", \"0001-01-10T00:00:00\", \"0001-02-15T00:00:00\", \"0001-02-16T00:00:00\"], \"y\": [0, 0, 7, 7, 12, 12, 20, 20, 24, 24, 35, 35]}, {\"legendgroup\": \"rgb(140, 86, 75)\", \"marker\": {\"color\": \"rgb(140, 86, 75)\", \"opacity\": 0, \"size\": 1}, \"mode\": \"markers\", \"name\": \"\", \"showlegend\": false, \"text\": [null, null, null, null, null, null, null, null, null, null, null, null], \"type\": \"scatter\", \"x\": [\"0001-03-07T00:00:00\", \"0001-03-13T00:00:00\", \"0001-01-15T00:00:00\", \"0001-01-25T00:00:00\", \"0001-03-13T00:00:00\", \"0001-03-20T00:00:00\", \"0001-01-30T00:00:00\", \"0001-02-07T00:00:00\", \"0001-01-25T00:00:00\", \"0001-01-30T00:00:00\", \"0001-02-11T00:00:00\", \"0001-02-15T00:00:00\"], \"y\": [5, 5, 8, 8, 17, 17, 22, 22, 26, 26, 34, 34]}, {\"legendgroup\": \"rgb(148, 103, 189)\", \"marker\": {\"color\": \"rgb(148, 103, 189)\", \"opacity\": 0, \"size\": 1}, \"mode\": \"markers\", \"name\": \"\", \"showlegend\": false, \"text\": [null, null, null, null, null, null, null, null, null, null, null, null], \"type\": \"scatter\", \"x\": [\"0001-03-04T00:00:00\", \"0001-03-07T00:00:00\", \"0001-02-01T00:00:00\", \"0001-02-11T00:00:00\", \"0001-02-20T00:00:00\", \"0001-02-28T00:00:00\", \"0001-02-11T00:00:00\", \"0001-02-20T00:00:00\", \"0001-02-28T00:00:00\", \"0001-03-04T00:00:00\", \"0001-01-23T00:00:00\", \"0001-02-01T00:00:00\"], \"y\": [4, 4, 9, 9, 14, 14, 23, 23, 27, 27, 32, 32]}, {\"legendgroup\": \"rgb(188, 189, 34)\", \"marker\": {\"color\": \"rgb(188, 189, 34)\", \"opacity\": 0, \"size\": 1}, \"mode\": \"markers\", \"name\": \"\", \"showlegend\": false, \"text\": [null, null, null, null, null, null, null, null, null, null, null, null], \"type\": \"scatter\", \"x\": [\"0001-01-29T00:00:00\", \"0001-02-04T00:00:00\", \"0001-01-01T00:00:00\", \"0001-01-09T00:00:00\", \"0001-03-09T00:00:00\", \"0001-03-10T00:00:00\", \"0001-01-09T00:00:00\", \"0001-01-14T00:00:00\", \"0001-01-14T00:00:00\", \"0001-01-17T00:00:00\", \"0001-01-17T00:00:00\", \"0001-01-20T00:00:00\"], \"y\": [2, 2, 6, 6, 16, 16, 18, 18, 25, 25, 30, 30]}, {\"legendgroup\": \"rgb(227, 119, 194)\", \"marker\": {\"color\": \"rgb(227, 119, 194)\", \"opacity\": 0, \"size\": 1}, \"mode\": \"markers\", \"name\": \"\", \"showlegend\": false, \"text\": [null, null, null, null, null, null, null, null, null, null, null, null], \"type\": \"scatter\", \"x\": [\"0001-02-04T00:00:00\", \"0001-02-11T00:00:00\", \"0001-02-21T00:00:00\", \"0001-02-25T00:00:00\", \"0001-01-23T00:00:00\", \"0001-01-27T00:00:00\", \"0001-01-27T00:00:00\", \"0001-01-30T00:00:00\", \"0001-03-12T00:00:00\", \"0001-03-13T00:00:00\", \"0001-01-20T00:00:00\", \"0001-01-23T00:00:00\"], \"y\": [3, 3, 11, 11, 13, 13, 21, 21, 29, 29, 31, 31]}, {\"legendgroup\": \"rgb(23, 190, 207)\", \"marker\": {\"color\": \"rgb(23, 190, 207)\", \"opacity\": 0, \"size\": 1}, \"mode\": \"markers\", \"name\": \"\", \"showlegend\": false, \"text\": [null, null, null, null, null, null, null, null, null, null, null, null], \"type\": \"scatter\", \"x\": [\"0001-01-26T00:00:00\", \"0001-01-29T00:00:00\", \"0001-02-11T00:00:00\", \"0001-02-21T00:00:00\", \"0001-02-28T00:00:00\", \"0001-03-09T00:00:00\", \"0001-01-14T00:00:00\", \"0001-01-19T00:00:00\", \"0001-03-09T00:00:00\", \"0001-03-12T00:00:00\", \"0001-02-01T00:00:00\", \"0001-02-11T00:00:00\"], \"y\": [1, 1, 10, 10, 15, 15, 19, 19, 28, 28, 33, 33]}],\n                        {\"height\": 600, \"hovermode\": \"closest\", \"showlegend\": true, \"template\": {\"data\": {\"bar\": [{\"error_x\": {\"color\": \"#2a3f5f\"}, \"error_y\": {\"color\": \"#2a3f5f\"}, \"marker\": {\"line\": {\"color\": \"#E5ECF6\", \"width\": 0.5}}, \"type\": \"bar\"}], \"barpolar\": [{\"marker\": {\"line\": {\"color\": \"#E5ECF6\", \"width\": 0.5}}, \"type\": \"barpolar\"}], \"carpet\": [{\"aaxis\": {\"endlinecolor\": \"#2a3f5f\", \"gridcolor\": \"white\", \"linecolor\": \"white\", \"minorgridcolor\": \"white\", \"startlinecolor\": \"#2a3f5f\"}, \"baxis\": {\"endlinecolor\": \"#2a3f5f\", \"gridcolor\": \"white\", \"linecolor\": \"white\", \"minorgridcolor\": \"white\", \"startlinecolor\": \"#2a3f5f\"}, \"type\": \"carpet\"}], \"choropleth\": [{\"colorbar\": {\"outlinewidth\": 0, \"ticks\": \"\"}, \"type\": \"choropleth\"}], \"contour\": [{\"colorbar\": {\"outlinewidth\": 0, \"ticks\": \"\"}, \"colorscale\": [[0.0, \"#0d0887\"], [0.1111111111111111, \"#46039f\"], [0.2222222222222222, \"#7201a8\"], [0.3333333333333333, \"#9c179e\"], [0.4444444444444444, \"#bd3786\"], [0.5555555555555556, \"#d8576b\"], [0.6666666666666666, \"#ed7953\"], [0.7777777777777778, \"#fb9f3a\"], [0.8888888888888888, \"#fdca26\"], [1.0, \"#f0f921\"]], \"type\": \"contour\"}], \"contourcarpet\": [{\"colorbar\": {\"outlinewidth\": 0, \"ticks\": \"\"}, \"type\": \"contourcarpet\"}], \"heatmap\": [{\"colorbar\": {\"outlinewidth\": 0, \"ticks\": \"\"}, \"colorscale\": [[0.0, \"#0d0887\"], [0.1111111111111111, \"#46039f\"], [0.2222222222222222, \"#7201a8\"], [0.3333333333333333, \"#9c179e\"], [0.4444444444444444, \"#bd3786\"], [0.5555555555555556, \"#d8576b\"], [0.6666666666666666, \"#ed7953\"], [0.7777777777777778, \"#fb9f3a\"], [0.8888888888888888, \"#fdca26\"], [1.0, \"#f0f921\"]], \"type\": \"heatmap\"}], \"heatmapgl\": [{\"colorbar\": {\"outlinewidth\": 0, \"ticks\": \"\"}, \"colorscale\": [[0.0, \"#0d0887\"], [0.1111111111111111, \"#46039f\"], [0.2222222222222222, \"#7201a8\"], [0.3333333333333333, \"#9c179e\"], [0.4444444444444444, \"#bd3786\"], [0.5555555555555556, \"#d8576b\"], [0.6666666666666666, \"#ed7953\"], [0.7777777777777778, \"#fb9f3a\"], [0.8888888888888888, \"#fdca26\"], [1.0, \"#f0f921\"]], \"type\": \"heatmapgl\"}], \"histogram\": [{\"marker\": {\"colorbar\": {\"outlinewidth\": 0, \"ticks\": \"\"}}, \"type\": \"histogram\"}], \"histogram2d\": [{\"colorbar\": {\"outlinewidth\": 0, \"ticks\": \"\"}, \"colorscale\": [[0.0, \"#0d0887\"], [0.1111111111111111, \"#46039f\"], [0.2222222222222222, \"#7201a8\"], [0.3333333333333333, \"#9c179e\"], [0.4444444444444444, \"#bd3786\"], [0.5555555555555556, \"#d8576b\"], [0.6666666666666666, \"#ed7953\"], [0.7777777777777778, \"#fb9f3a\"], [0.8888888888888888, \"#fdca26\"], [1.0, \"#f0f921\"]], \"type\": \"histogram2d\"}], \"histogram2dcontour\": [{\"colorbar\": {\"outlinewidth\": 0, \"ticks\": \"\"}, \"colorscale\": [[0.0, \"#0d0887\"], [0.1111111111111111, \"#46039f\"], [0.2222222222222222, \"#7201a8\"], [0.3333333333333333, \"#9c179e\"], [0.4444444444444444, \"#bd3786\"], [0.5555555555555556, \"#d8576b\"], [0.6666666666666666, \"#ed7953\"], [0.7777777777777778, \"#fb9f3a\"], [0.8888888888888888, \"#fdca26\"], [1.0, \"#f0f921\"]], \"type\": \"histogram2dcontour\"}], \"mesh3d\": [{\"colorbar\": {\"outlinewidth\": 0, \"ticks\": \"\"}, \"type\": \"mesh3d\"}], \"parcoords\": [{\"line\": {\"colorbar\": {\"outlinewidth\": 0, \"ticks\": \"\"}}, \"type\": \"parcoords\"}], \"pie\": [{\"automargin\": true, \"type\": \"pie\"}], \"scatter\": [{\"marker\": {\"colorbar\": {\"outlinewidth\": 0, \"ticks\": \"\"}}, \"type\": \"scatter\"}], \"scatter3d\": [{\"line\": {\"colorbar\": {\"outlinewidth\": 0, \"ticks\": \"\"}}, \"marker\": {\"colorbar\": {\"outlinewidth\": 0, \"ticks\": \"\"}}, \"type\": \"scatter3d\"}], \"scattercarpet\": [{\"marker\": {\"colorbar\": {\"outlinewidth\": 0, \"ticks\": \"\"}}, \"type\": \"scattercarpet\"}], \"scattergeo\": [{\"marker\": {\"colorbar\": {\"outlinewidth\": 0, \"ticks\": \"\"}}, \"type\": \"scattergeo\"}], \"scattergl\": [{\"marker\": {\"colorbar\": {\"outlinewidth\": 0, \"ticks\": \"\"}}, \"type\": \"scattergl\"}], \"scattermapbox\": [{\"marker\": {\"colorbar\": {\"outlinewidth\": 0, \"ticks\": \"\"}}, \"type\": \"scattermapbox\"}], \"scatterpolar\": [{\"marker\": {\"colorbar\": {\"outlinewidth\": 0, \"ticks\": \"\"}}, \"type\": \"scatterpolar\"}], \"scatterpolargl\": [{\"marker\": {\"colorbar\": {\"outlinewidth\": 0, \"ticks\": \"\"}}, \"type\": \"scatterpolargl\"}], \"scatterternary\": [{\"marker\": {\"colorbar\": {\"outlinewidth\": 0, \"ticks\": \"\"}}, \"type\": \"scatterternary\"}], \"surface\": [{\"colorbar\": {\"outlinewidth\": 0, \"ticks\": \"\"}, \"colorscale\": [[0.0, \"#0d0887\"], [0.1111111111111111, \"#46039f\"], [0.2222222222222222, \"#7201a8\"], [0.3333333333333333, \"#9c179e\"], [0.4444444444444444, \"#bd3786\"], [0.5555555555555556, \"#d8576b\"], [0.6666666666666666, \"#ed7953\"], [0.7777777777777778, \"#fb9f3a\"], [0.8888888888888888, \"#fdca26\"], [1.0, \"#f0f921\"]], \"type\": \"surface\"}], \"table\": [{\"cells\": {\"fill\": {\"color\": \"#EBF0F8\"}, \"line\": {\"color\": \"white\"}}, \"header\": {\"fill\": {\"color\": \"#C8D4E3\"}, \"line\": {\"color\": \"white\"}}, \"type\": \"table\"}]}, \"layout\": {\"annotationdefaults\": {\"arrowcolor\": \"#2a3f5f\", \"arrowhead\": 0, \"arrowwidth\": 1}, \"coloraxis\": {\"colorbar\": {\"outlinewidth\": 0, \"ticks\": \"\"}}, \"colorscale\": {\"diverging\": [[0, \"#8e0152\"], [0.1, \"#c51b7d\"], [0.2, \"#de77ae\"], [0.3, \"#f1b6da\"], [0.4, \"#fde0ef\"], [0.5, \"#f7f7f7\"], [0.6, \"#e6f5d0\"], [0.7, \"#b8e186\"], [0.8, \"#7fbc41\"], [0.9, \"#4d9221\"], [1, \"#276419\"]], \"sequential\": [[0.0, \"#0d0887\"], [0.1111111111111111, \"#46039f\"], [0.2222222222222222, \"#7201a8\"], [0.3333333333333333, \"#9c179e\"], [0.4444444444444444, \"#bd3786\"], [0.5555555555555556, \"#d8576b\"], [0.6666666666666666, \"#ed7953\"], [0.7777777777777778, \"#fb9f3a\"], [0.8888888888888888, \"#fdca26\"], [1.0, \"#f0f921\"]], \"sequentialminus\": [[0.0, \"#0d0887\"], [0.1111111111111111, \"#46039f\"], [0.2222222222222222, \"#7201a8\"], [0.3333333333333333, \"#9c179e\"], [0.4444444444444444, \"#bd3786\"], [0.5555555555555556, \"#d8576b\"], [0.6666666666666666, \"#ed7953\"], [0.7777777777777778, \"#fb9f3a\"], [0.8888888888888888, \"#fdca26\"], [1.0, \"#f0f921\"]]}, \"colorway\": [\"#636efa\", \"#EF553B\", \"#00cc96\", \"#ab63fa\", \"#FFA15A\", \"#19d3f3\", \"#FF6692\", \"#B6E880\", \"#FF97FF\", \"#FECB52\"], \"font\": {\"color\": \"#2a3f5f\"}, \"geo\": {\"bgcolor\": \"white\", \"lakecolor\": \"white\", \"landcolor\": \"#E5ECF6\", \"showlakes\": true, \"showland\": true, \"subunitcolor\": \"white\"}, \"hoverlabel\": {\"align\": \"left\"}, \"hovermode\": \"closest\", \"mapbox\": {\"style\": \"light\"}, \"paper_bgcolor\": \"white\", \"plot_bgcolor\": \"#E5ECF6\", \"polar\": {\"angularaxis\": {\"gridcolor\": \"white\", \"linecolor\": \"white\", \"ticks\": \"\"}, \"bgcolor\": \"#E5ECF6\", \"radialaxis\": {\"gridcolor\": \"white\", \"linecolor\": \"white\", \"ticks\": \"\"}}, \"scene\": {\"xaxis\": {\"backgroundcolor\": \"#E5ECF6\", \"gridcolor\": \"white\", \"gridwidth\": 2, \"linecolor\": \"white\", \"showbackground\": true, \"ticks\": \"\", \"zerolinecolor\": \"white\"}, \"yaxis\": {\"backgroundcolor\": \"#E5ECF6\", \"gridcolor\": \"white\", \"gridwidth\": 2, \"linecolor\": \"white\", \"showbackground\": true, \"ticks\": \"\", \"zerolinecolor\": \"white\"}, \"zaxis\": {\"backgroundcolor\": \"#E5ECF6\", \"gridcolor\": \"white\", \"gridwidth\": 2, \"linecolor\": \"white\", \"showbackground\": true, \"ticks\": \"\", \"zerolinecolor\": \"white\"}}, \"shapedefaults\": {\"line\": {\"color\": \"#2a3f5f\"}}, \"ternary\": {\"aaxis\": {\"gridcolor\": \"white\", \"linecolor\": \"white\", \"ticks\": \"\"}, \"baxis\": {\"gridcolor\": \"white\", \"linecolor\": \"white\", \"ticks\": \"\"}, \"bgcolor\": \"#E5ECF6\", \"caxis\": {\"gridcolor\": \"white\", \"linecolor\": \"white\", \"ticks\": \"\"}}, \"title\": {\"x\": 0.05}, \"xaxis\": {\"automargin\": true, \"gridcolor\": \"white\", \"linecolor\": \"white\", \"ticks\": \"\", \"title\": {\"standoff\": 15}, \"zerolinecolor\": \"white\", \"zerolinewidth\": 2}, \"yaxis\": {\"automargin\": true, \"gridcolor\": \"white\", \"linecolor\": \"white\", \"ticks\": \"\", \"title\": {\"standoff\": 15}, \"zerolinecolor\": \"white\", \"zerolinewidth\": 2}}}, \"title\": {\"text\": \"Gantt Chart\"}, \"xaxis\": {\"rangeselector\": {\"buttons\": [{\"count\": 7, \"label\": \"1w\", \"step\": \"day\", \"stepmode\": \"backward\"}, {\"count\": 1, \"label\": \"1m\", \"step\": \"month\", \"stepmode\": \"backward\"}, {\"count\": 6, \"label\": \"6m\", \"step\": \"month\", \"stepmode\": \"backward\"}, {\"count\": 1, \"label\": \"YTD\", \"step\": \"year\", \"stepmode\": \"todate\"}, {\"count\": 1, \"label\": \"1y\", \"step\": \"year\", \"stepmode\": \"backward\"}, {\"step\": \"all\"}]}, \"showgrid\": true, \"tickformat\": \"%\", \"type\": \"date\", \"zeroline\": false}, \"yaxis\": {\"autorange\": false, \"range\": [-1, 37], \"showgrid\": true, \"ticktext\": [\"Job  #0\", \"Job  #0\", \"Job  #0\", \"Job  #0\", \"Job  #0\", \"Job  #0\", \"Job  #1\", \"Job  #1\", \"Job  #1\", \"Job  #1\", \"Job  #1\", \"Job  #1\", \"Job  #2\", \"Job  #2\", \"Job  #2\", \"Job  #2\", \"Job  #2\", \"Job  #2\", \"Job  #3\", \"Job  #3\", \"Job  #3\", \"Job  #3\", \"Job  #3\", \"Job  #3\", \"Job  #4\", \"Job  #4\", \"Job  #4\", \"Job  #4\", \"Job  #4\", \"Job  #4\", \"Job  #5\", \"Job  #5\", \"Job  #5\", \"Job  #5\", \"Job  #5\", \"Job  #5\"], \"tickvals\": [0, 1, 2, 3, 4, 5, 6, 7, 8, 9, 10, 11, 12, 13, 14, 15, 16, 17, 18, 19, 20, 21, 22, 23, 24, 25, 26, 27, 28, 29, 30, 31, 32, 33, 34, 35], \"zeroline\": false}},\n                        {\"responsive\": true}\n                    ).then(function(){\n                            \nvar gd = document.getElementById('4a7661aa-d322-4716-81e8-e1356a85d05b');\nvar x = new MutationObserver(function (mutations, observer) {{\n        var display = window.getComputedStyle(gd).display;\n        if (!display || display === 'none') {{\n            console.log([gd, 'removed!']);\n            Plotly.purge(gd);\n            observer.disconnect();\n        }}\n}});\n\n// Listen for the removal of the full notebook cells\nvar notebookContainer = gd.closest('#notebook-container');\nif (notebookContainer) {{\n    x.observe(notebookContainer, {childList: true});\n}}\n\n// Listen for the clearing of the current output cell\nvar outputEl = gd.closest('.output');\nif (outputEl) {{\n    x.observe(outputEl, {childList: true});\n}}\n\n                        })\n                };\n                });\n            </script>\n        </div>"
     },
     "metadata": {},
     "output_type": "display_data"
    }
   ],
   "source": [
    "plot_gantt(inst, grouping= False)\n"
   ],
   "metadata": {
    "collapsed": false,
    "pycharm": {
     "name": "#%%\n",
     "is_executing": false
    }
   }
  },
  {
   "cell_type": "code",
   "execution_count": 6,
   "outputs": [
    {
     "name": "stdout",
     "text": [
      "Task list\n",
      "Task # 0 : JobID= 0, taskID= 0, Start= 24, Finish=25, Machine= 2, State= Done\n",
      "Task # 1 : JobID= 0, taskID= 1, Start= 25, Finish=28, Machine= 0, State= Done\n",
      "Task # 2 : JobID= 0, taskID= 2, Start= 28, Finish=34, Machine= 1, State= Done\n",
      "Task # 3 : JobID= 0, taskID= 3, Start= 34, Finish=41, Machine= 3, State= Done\n",
      "Task # 4 : JobID= 0, taskID= 4, Start= 62, Finish=65, Machine= 5, State= Done\n",
      "Task # 5 : JobID= 0, taskID= 5, Start= 65, Finish=71, Machine= 4, State= Done\n",
      "Job state= Done\n",
      "Task list\n",
      "Task # 0 : JobID= 1, taskID= 0, Start= 0, Finish=8, Machine= 1, State= Done\n",
      "Task # 1 : JobID= 1, taskID= 1, Start= 9, Finish=14, Machine= 2, State= Done\n",
      "Task # 2 : JobID= 1, taskID= 2, Start= 14, Finish=24, Machine= 4, State= Done\n",
      "Task # 3 : JobID= 1, taskID= 3, Start= 31, Finish=41, Machine= 5, State= Done\n",
      "Task # 4 : JobID= 1, taskID= 4, Start= 41, Finish=51, Machine= 0, State= Done\n",
      "Task # 5 : JobID= 1, taskID= 5, Start= 51, Finish=55, Machine= 3, State= Done\n",
      "Job state= Done\n",
      "Task list\n",
      "Task # 0 : JobID= 2, taskID= 0, Start= 14, Finish=19, Machine= 2, State= Done\n",
      "Task # 1 : JobID= 2, taskID= 1, Start= 22, Finish=26, Machine= 3, State= Done\n",
      "Task # 2 : JobID= 2, taskID= 2, Start= 50, Finish=58, Machine= 5, State= Done\n",
      "Task # 3 : JobID= 2, taskID= 3, Start= 58, Finish=67, Machine= 0, State= Done\n",
      "Task # 4 : JobID= 2, taskID= 4, Start= 67, Finish=68, Machine= 1, State= Done\n",
      "Task # 5 : JobID= 2, taskID= 5, Start= 71, Finish=78, Machine= 4, State= Done\n",
      "Job state= Done\n",
      "Task list\n",
      "Task # 0 : JobID= 3, taskID= 0, Start= 8, Finish=13, Machine= 1, State= Done\n",
      "Task # 1 : JobID= 3, taskID= 1, Start= 13, Finish=18, Machine= 0, State= Done\n",
      "Task # 2 : JobID= 3, taskID= 2, Start= 19, Finish=24, Machine= 2, State= Done\n",
      "Task # 3 : JobID= 3, taskID= 3, Start= 26, Finish=29, Machine= 3, State= Done\n",
      "Task # 4 : JobID= 3, taskID= 4, Start= 29, Finish=37, Machine= 4, State= Done\n",
      "Task # 5 : JobID= 3, taskID= 5, Start= 41, Finish=50, Machine= 5, State= Done\n",
      "Job state= Done\n",
      "Task list\n",
      "Task # 0 : JobID= 4, taskID= 0, Start= 0, Finish=9, Machine= 2, State= Done\n",
      "Task # 1 : JobID= 4, taskID= 1, Start= 13, Finish=16, Machine= 1, State= Done\n",
      "Task # 2 : JobID= 4, taskID= 2, Start= 24, Finish=29, Machine= 4, State= Done\n",
      "Task # 3 : JobID= 4, taskID= 3, Start= 58, Finish=62, Machine= 5, State= Done\n",
      "Task # 4 : JobID= 4, taskID= 4, Start= 67, Finish=70, Machine= 0, State= Done\n",
      "Task # 5 : JobID= 4, taskID= 5, Start= 70, Finish=71, Machine= 3, State= Done\n",
      "Job state= Done\n",
      "Task list\n",
      "Task # 0 : JobID= 5, taskID= 0, Start= 16, Finish=19, Machine= 1, State= Done\n",
      "Task # 1 : JobID= 5, taskID= 1, Start= 19, Finish=22, Machine= 3, State= Done\n",
      "Task # 2 : JobID= 5, taskID= 2, Start= 22, Finish=31, Machine= 5, State= Done\n",
      "Task # 3 : JobID= 5, taskID= 3, Start= 31, Finish=41, Machine= 0, State= Done\n",
      "Task # 4 : JobID= 5, taskID= 4, Start= 41, Finish=45, Machine= 4, State= Done\n",
      "Task # 5 : JobID= 5, taskID= 5, Start= 45, Finish=46, Machine= 2, State= Done\n",
      "Job state= Done\n"
     ],
     "output_type": "stream"
    }
   ],
   "source": [
    "for j in inst.jobs_list:\n",
    "    print(j)"
   ],
   "metadata": {
    "collapsed": false,
    "pycharm": {
     "name": "#%%\n",
     "is_executing": false
    }
   }
  },
  {
   "cell_type": "code",
   "execution_count": null,
   "outputs": [],
   "source": [
    "\n"
   ],
   "metadata": {
    "collapsed": false,
    "pycharm": {
     "name": "#%%\n"
    }
   }
  }
 ],
 "metadata": {
  "kernelspec": {
   "display_name": "Python 3",
   "language": "python",
   "name": "python3"
  },
  "language_info": {
   "codemirror_mode": {
    "name": "ipython",
    "version": 3
   },
   "file_extension": ".py",
   "mimetype": "text/x-python",
   "name": "python",
   "nbconvert_exporter": "python",
   "pygments_lexer": "ipython3",
   "version": "3.6.8"
  },
  "pycharm": {
   "stem_cell": {
    "cell_type": "raw",
    "source": [],
    "metadata": {
     "collapsed": false
    }
   }
  }
 },
 "nbformat": 4,
 "nbformat_minor": 4
}
