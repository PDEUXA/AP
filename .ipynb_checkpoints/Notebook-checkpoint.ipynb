{
 "cells": [
  {
   "cell_type": "code",
   "execution_count": 1,
   "metadata": {
    "pycharm": {
     "is_executing": true,
     "name": "#%%\n"
    }
   },
   "outputs": [],
   "source": [
    "from script.utils import sort_task\n",
    "from objects.instance import Instance\n",
    "from script.affichage import plot_gantt, affichage_repetition\n",
    "from script.data import loader \n",
    "import numpy as np\n",
    "import networkx as nx\n",
    "import copy\n",
    "import matplotlib.pyplot as plt\n",
    "import random"
   ]
  },
  {
   "cell_type": "code",
   "execution_count": 2,
   "metadata": {
    "pycharm": {
     "is_executing": false,
     "name": "#%%\n"
    }
   },
   "outputs": [],
   "source": [
    "from script.heuristique import heuristique_gloutone, alloc_avec_liste, allocation_dispomachine_ASAP\n",
    "data, optimum= loader('ft06')\n"
   ]
  },
  {
   "cell_type": "code",
   "execution_count": 3,
   "metadata": {
    "pycharm": {
     "is_executing": false,
     "name": "#%%\n"
    }
   },
   "outputs": [
    {
     "name": "stdout",
     "output_type": "stream",
     "text": [
      "[4 1 1 3 1 2 3 4 5 2 3 2 0 4 5 0 3 0 3 1 2 0 1 2 2 3 1 5 5 4 0 0 4 4 5 5]\n"
     ]
    }
   ],
   "source": [
    "inst = Instance(**data)\n",
    "total = heuristique_gloutone(inst, verbose = 0, prio =\"LPT\" , rnd = 0)\n",
    "liste = affichage_repetition(inst, par = \"Start\")\n",
    "instance = Instance(**data)\n",
    "print(liste)"
   ]
  },
  {
   "cell_type": "code",
   "execution_count": 4,
   "metadata": {},
   "outputs": [
    {
     "data": {
      "text/plain": [
       "36"
      ]
     },
     "execution_count": 4,
     "metadata": {},
     "output_type": "execute_result"
    }
   ],
   "source": [
    "len(liste)"
   ]
  },
  {
   "cell_type": "code",
   "execution_count": 5,
   "metadata": {},
   "outputs": [],
   "source": [
    "def permutation_random(liste,nombre):\n",
    "    tempo = copy.copy(liste)\n",
    "    for i in range(nombre):\n",
    "        index1,index2= np.random.choice(liste,2,replace=False)\n",
    "        temp = tempo[index1]\n",
    "        tempo[index1] = tempo[index2]\n",
    "        tempo[index2] = temp\n",
    "    return tempo"
   ]
  },
  {
   "cell_type": "code",
   "execution_count": 6,
   "metadata": {},
   "outputs": [],
   "source": [
    "def exploration_voisinage_permutation(liste):\n",
    "    liste_permut = []\n",
    "    for j in range(0,len(liste)-1):\n",
    "        for i in range(j,len(liste)-1):\n",
    "            tempo = copy.copy(liste)\n",
    "            temp = tempo[j]\n",
    "            tempo[j] = tempo[i+1]\n",
    "            tempo[i+1] = temp   \n",
    "            liste_permut.append(tempo)\n",
    "    return liste_permut"
   ]
  },
  {
   "cell_type": "code",
   "execution_count": 7,
   "metadata": {},
   "outputs": [],
   "source": [
    "def exploration_voisinage_decalage(liste):\n",
    "    liste_decale = []\n",
    "    for j in range(0,len(liste)):\n",
    "        tempo = copy.copy(liste)\n",
    "        liste_decale.append(np.roll(tempo, j))\n",
    "    return liste_decale"
   ]
  },
  {
   "cell_type": "code",
   "execution_count": 9,
   "metadata": {},
   "outputs": [],
   "source": [
    "def exploration_voisinage_inversion(liste):\n",
    "    liste_inversion = []\n",
    "    for i in range(0, len(liste)):\n",
    "        for j in range(len(liste), i+1, -1):\n",
    "            tempo = copy.copy(liste)\n",
    "            tempohead = tempo[:i]\n",
    "            tobeflipped = tempo[i:j]\n",
    "            tempotail = tempo[j:]\n",
    "            liste_inversion.append(np.concatenate((tempohead,np.flip(tobeflipped),tempotail)))\n",
    "    return liste_inversion"
   ]
  },
  {
   "cell_type": "code",
   "execution_count": 10,
   "metadata": {},
   "outputs": [],
   "source": [
    "def permutation(liste):\n",
    "    return np.random.permutation(liste)"
   ]
  },
  {
   "cell_type": "code",
   "execution_count": 11,
   "metadata": {},
   "outputs": [],
   "source": [
    "def exploration_meilleur_voisinage(liste, inst, graph):\n",
    "    opti = inst.makeSpan\n",
    "    change = \"No\"\n",
    "    graph.add_node(opti)\n",
    "    opti_liste=[]\n",
    "    methode_voisinage = [exploration_voisinage_inversion,\n",
    "                         exploration_voisinage_decalage,\n",
    "                         exploration_voisinage_permutation]\n",
    "    # Calcul des voisins:\n",
    "    for m in methode_voisinage:\n",
    "        voisins = m(liste)\n",
    "        for v in voisins:\n",
    "            instance = Instance(**data)\n",
    "            allocation_dispomachine_ASAP(instance,v)\n",
    "            graph.add_node(instance.makeSpan) \n",
    "            graph.add_edge(opti, instance.makeSpan)\n",
    "            if instance.makeSpan < opti:\n",
    "                opti_liste = v\n",
    "                opti_inst = instance\n",
    "                opti = instance.makeSpan\n",
    "                change = \"Yes\"\n",
    "    if change ==\"Yes\":\n",
    "        return opti, opti_liste, graph ,opti_inst ,change\n",
    "    else :\n",
    "        return opti, liste, graph ,inst, change\n"
   ]
  },
  {
   "cell_type": "code",
   "execution_count": 111,
   "metadata": {},
   "outputs": [],
   "source": [
    "def exploration_10meilleurs_voisinage(liste, inst, graph, root):\n",
    "    opti = inst.makeSpan\n",
    "    change = \"No\"\n",
    "    graph.add_node('O')\n",
    "    dtype = [('methode', str), ('voisins', list), ('makespan', int)]\n",
    "    \n",
    "    \n",
    "    opti_liste=[]\n",
    "    best_vois =[]\n",
    "    best_liste={}\n",
    "    methode_voisinage = [exploration_voisinage_inversion,\n",
    "                         exploration_voisinage_decalage]\n",
    "                         #exploration_voisinage_permutation]\n",
    "    # Calcul des voisins:\n",
    "    for i,m in enumerate(methode_voisinage):\n",
    "        voisins = m(liste)\n",
    "        for j,v in enumerate(voisins):\n",
    "            instance = Instance(**data)\n",
    "            allocation_dispomachine_ASAP(instance,v)\n",
    "            \n",
    "            best_liste[m.__name__[22]+\":\"+str(j)+\":\"+str(root)]=[m,v,instance.makeSpan]\n",
    "    \n",
    "    best_liste = sorted(best_liste.items(), key=lambda x: x[1][2])[1]\n",
    "\n",
    "    for e in best_liste:\n",
    "        graph.add_node(str(e[0]), makespan=e[1][2]) \n",
    "        graph.add_edge(root, str(e[0]))\n",
    "        best_vois.append((e[1][1],str(e[0])))\n",
    "    \n",
    "          \n",
    "            \n",
    "    return best_vois"
   ]
  },
  {
   "cell_type": "code",
   "execution_count": 112,
   "metadata": {},
   "outputs": [
    {
     "ename": "IndexError",
     "evalue": "string index out of range",
     "output_type": "error",
     "traceback": [
      "\u001b[0;31m---------------------------------------------------------------------------\u001b[0m",
      "\u001b[0;31mIndexError\u001b[0m                                Traceback (most recent call last)",
      "\u001b[0;32m<ipython-input-112-d9ad10bd550c>\u001b[0m in \u001b[0;36m<module>\u001b[0;34m\u001b[0m\n\u001b[1;32m      1\u001b[0m \u001b[0mgraph\u001b[0m \u001b[0;34m=\u001b[0m \u001b[0mnx\u001b[0m\u001b[0;34m.\u001b[0m\u001b[0mMultiDiGraph\u001b[0m\u001b[0;34m(\u001b[0m\u001b[0;34m)\u001b[0m\u001b[0;34m\u001b[0m\u001b[0;34m\u001b[0m\u001b[0m\n\u001b[0;32m----> 2\u001b[0;31m \u001b[0mb\u001b[0m \u001b[0;34m=\u001b[0m \u001b[0mexploration_10meilleurs_voisinage\u001b[0m\u001b[0;34m(\u001b[0m\u001b[0mliste\u001b[0m\u001b[0;34m,\u001b[0m \u001b[0minst\u001b[0m\u001b[0;34m,\u001b[0m\u001b[0mgraph\u001b[0m\u001b[0;34m,\u001b[0m \u001b[0;34m'O'\u001b[0m\u001b[0;34m)\u001b[0m\u001b[0;34m\u001b[0m\u001b[0;34m\u001b[0m\u001b[0m\n\u001b[0m\u001b[1;32m      3\u001b[0m \u001b[0mlen\u001b[0m\u001b[0;34m(\u001b[0m\u001b[0mb\u001b[0m\u001b[0;34m)\u001b[0m\u001b[0;34m\u001b[0m\u001b[0;34m\u001b[0m\u001b[0m\n",
      "\u001b[0;32m<ipython-input-111-038b21c4acc7>\u001b[0m in \u001b[0;36mexploration_10meilleurs_voisinage\u001b[0;34m(liste, inst, graph, root)\u001b[0m\n\u001b[1;32m     24\u001b[0m \u001b[0;34m\u001b[0m\u001b[0m\n\u001b[1;32m     25\u001b[0m     \u001b[0;32mfor\u001b[0m \u001b[0me\u001b[0m \u001b[0;32min\u001b[0m \u001b[0mbest_liste\u001b[0m\u001b[0;34m:\u001b[0m\u001b[0;34m\u001b[0m\u001b[0;34m\u001b[0m\u001b[0m\n\u001b[0;32m---> 26\u001b[0;31m         \u001b[0mgraph\u001b[0m\u001b[0;34m.\u001b[0m\u001b[0madd_node\u001b[0m\u001b[0;34m(\u001b[0m\u001b[0mstr\u001b[0m\u001b[0;34m(\u001b[0m\u001b[0me\u001b[0m\u001b[0;34m[\u001b[0m\u001b[0;36m0\u001b[0m\u001b[0;34m]\u001b[0m\u001b[0;34m)\u001b[0m\u001b[0;34m,\u001b[0m \u001b[0mmakespan\u001b[0m\u001b[0;34m=\u001b[0m\u001b[0me\u001b[0m\u001b[0;34m[\u001b[0m\u001b[0;36m1\u001b[0m\u001b[0;34m]\u001b[0m\u001b[0;34m[\u001b[0m\u001b[0;36m2\u001b[0m\u001b[0;34m]\u001b[0m\u001b[0;34m)\u001b[0m\u001b[0;34m\u001b[0m\u001b[0;34m\u001b[0m\u001b[0m\n\u001b[0m\u001b[1;32m     27\u001b[0m         \u001b[0mgraph\u001b[0m\u001b[0;34m.\u001b[0m\u001b[0madd_edge\u001b[0m\u001b[0;34m(\u001b[0m\u001b[0mroot\u001b[0m\u001b[0;34m,\u001b[0m \u001b[0mstr\u001b[0m\u001b[0;34m(\u001b[0m\u001b[0me\u001b[0m\u001b[0;34m[\u001b[0m\u001b[0;36m0\u001b[0m\u001b[0;34m]\u001b[0m\u001b[0;34m)\u001b[0m\u001b[0;34m)\u001b[0m\u001b[0;34m\u001b[0m\u001b[0;34m\u001b[0m\u001b[0m\n\u001b[1;32m     28\u001b[0m         \u001b[0mbest_vois\u001b[0m\u001b[0;34m.\u001b[0m\u001b[0mappend\u001b[0m\u001b[0;34m(\u001b[0m\u001b[0;34m(\u001b[0m\u001b[0me\u001b[0m\u001b[0;34m[\u001b[0m\u001b[0;36m1\u001b[0m\u001b[0;34m]\u001b[0m\u001b[0;34m[\u001b[0m\u001b[0;36m1\u001b[0m\u001b[0;34m]\u001b[0m\u001b[0;34m,\u001b[0m\u001b[0mstr\u001b[0m\u001b[0;34m(\u001b[0m\u001b[0me\u001b[0m\u001b[0;34m[\u001b[0m\u001b[0;36m0\u001b[0m\u001b[0;34m]\u001b[0m\u001b[0;34m)\u001b[0m\u001b[0;34m)\u001b[0m\u001b[0;34m)\u001b[0m\u001b[0;34m\u001b[0m\u001b[0;34m\u001b[0m\u001b[0m\n",
      "\u001b[0;31mIndexError\u001b[0m: string index out of range"
     ]
    }
   ],
   "source": [
    "graph = nx.MultiDiGraph()\n",
    "b = exploration_10meilleurs_voisinage(liste, inst,graph, 'O')\n",
    "len(b)"
   ]
  },
  {
   "cell_type": "code",
   "execution_count": null,
   "metadata": {},
   "outputs": [],
   "source": [
    "for v,root in b:\n",
    "    exploration_10meilleurs_voisinage(v, inst,graph ,root)"
   ]
  },
  {
   "cell_type": "code",
   "execution_count": 107,
   "metadata": {},
   "outputs": [],
   "source": [
    "graph.nodes.data()\n",
    "test=[0]\n",
    "d = dict(graph.nodes.data())\n",
    "for v in d.values():\n",
    "    for vv in v.values():\n",
    "         test.append(vv)"
   ]
  },
  {
   "cell_type": "code",
   "execution_count": 110,
   "metadata": {},
   "outputs": [
    {
     "data": {
      "image/png": "[encoded data removed]",
      "text/plain": [
       "<Figure size 432x288 with 1 Axes>"
      ]
     },
     "metadata": {},
     "output_type": "display_data"
    }
   ],
   "source": [
    "import plotly.graph_objects as go\n",
    "pos = nx.spring_layout(graph)\n",
    "d = dict(graph.nodes.data())\n",
    "nx.draw(graph, pos,with_labels =True, node_color=range(graph.number_of_nodes()),\n",
    "        edge_color=range(graph.number_of_edges()),\n",
    "        width=4, edge_cmap=plt.cm.viridis,\n",
    "        node_size=[i for i in test], cmap=plt.cm.viridis)\n",
    "plt.show()"
   ]
  },
  {
   "cell_type": "code",
   "execution_count": 299,
   "metadata": {},
   "outputs": [],
   "source": [
    "graph = nx.MultiDiGraph()\n",
    "opti, opti_liste, graph ,opti_inst, change = exploration_voisinage(liste, inst,graph)\n",
    "for i in range(8):\n",
    "    if change == \"Yes\":\n",
    "        opti, opti_liste, graph ,opti_inst,change = exploration_voisinage(opti_liste, opti_inst,graph)\n"
   ]
  },
  {
   "cell_type": "code",
   "execution_count": 300,
   "metadata": {},
   "outputs": [
    {
     "data": {
      "image/png": "[encoded data removed]",
      "text/plain": [
       "<Figure size 432x288 with 1 Axes>"
      ]
     },
     "metadata": {},
     "output_type": "display_data"
    }
   ],
   "source": [
    "import plotly.graph_objects as go\n",
    "pos = nx.shell_layout(graph)\n",
    "nx.draw(graph, pos,with_labels =True, node_color=range(graph.number_of_nodes()), node_size=800, cmap=plt.cm.Blues)\n"
   ]
  },
  {
   "cell_type": "code",
   "execution_count": 172,
   "metadata": {},
   "outputs": [
    {
     "data": {
      "text/plain": [
       "array([0, 0, 0, 0, 0, 0, 1, 1, 1, 1, 1, 1, 2, 2, 2, 2, 2, 2, 3, 3, 3, 3,\n",
       "       3, 3, 4, 4, 4, 4, 4, 4, 5, 5, 5, 5, 5, 5])"
      ]
     },
     "execution_count": 172,
     "metadata": {},
     "output_type": "execute_result"
    }
   ],
   "source": [
    "a = np.array([0,1,2,3,4,5]*6)\n",
    "a = np.sort(a)\n",
    "a"
   ]
  },
  {
   "cell_type": "code",
   "execution_count": 179,
   "metadata": {},
   "outputs": [
    {
     "data": {
      "text/plain": [
       "197"
      ]
     },
     "execution_count": 179,
     "metadata": {},
     "output_type": "execute_result"
    }
   ],
   "source": [
    "instance = Instance(**data)\n",
    "temp =  alloc_avec_liste(instance,a)\n",
    "affichage_repetition(instance)\n",
    "temp"
   ]
  },
  {
   "cell_type": "code",
   "execution_count": 222,
   "metadata": {
    "scrolled": false
   },
   "outputs": [],
   "source": [
    "instance = Instance(**data)\n",
    "temp =  alloc_avec_liste(instance,a)\n",
    "j=0\n",
    "ecart = -1\n",
    "graph = nx.MultiDiGraph() \n",
    "name =str(j)+\":\"+ str(temp)\n",
    "graph.add_node(name,makespan=total )\n",
    "\n",
    "step =0\n",
    "vect = exploration_voisinage_inversion(a)\n",
    "it =iter(vect)\n",
    "verbose = 1\n",
    "j=1\n",
    "while ecart < 10:\n",
    "    instance = Instance(**data)\n",
    "    l = next(it)\n",
    "    alloc_avec_liste(instance,l)\n",
    "    graph.add_node(str(j)+\":\"+str(instance.makeSpan),makespan=instance.makeSpan) \n",
    "    graph.add_edge(name, instance.makeSpan)\n",
    "    if verbose > 1:\n",
    "        print(\"makespan\",instance.makeSpan)\n",
    "    ecart = instance.makeSpan - temp\n",
    "    \n",
    "    if verbose > 1:\n",
    "        print('écart',ecart)\n",
    "        print('optimum',temp)\n",
    "        print(\"====================\")\n",
    "\n",
    "    if instance.makeSpan < temp:\n",
    "        \n",
    "        step = 0\n",
    "        liste = l\n",
    "        name = str(j)+\":\"+str(instance.makeSpan)\n",
    "        j+=1\n",
    "        i = instance\n",
    "        temp = instance.makeSpan\n",
    "        vect = exploration_voisinage_inversion(l)\n",
    "        it =iter(vect)\n",
    "    step += 1\n"
   ]
  },
  {
   "cell_type": "code",
   "execution_count": 223,
   "metadata": {},
   "outputs": [
    {
     "data": {
      "text/plain": [
       "NodeDataView({'0:197': {'makespan': 79}, '1:197': {'makespan': 197}, 197: {}, '1:184': {'makespan': 184}, 184: {}, '2:197': {'makespan': 197}, '2:184': {}})"
      ]
     },
     "execution_count": 223,
     "metadata": {},
     "output_type": "execute_result"
    }
   ],
   "source": [
    "graph.nodes.data()\n"
   ]
  },
  {
   "cell_type": "code",
   "execution_count": 215,
   "metadata": {},
   "outputs": [
    {
     "name": "stdout",
     "output_type": "stream",
     "text": [
      "{'makespan': 79}\n",
      "79\n",
      "{'makespan': 70}\n",
      "70\n",
      "{}\n",
      "{'makespan': 68}\n",
      "68\n",
      "{}\n",
      "{'makespan': 70}\n",
      "70\n",
      "{'makespan': 72}\n",
      "72\n",
      "{}\n",
      "{'makespan': 76}\n",
      "76\n",
      "{}\n",
      "{'makespan': 68}\n",
      "68\n",
      "{'makespan': 75}\n",
      "75\n",
      "{}\n",
      "{'makespan': 77}\n",
      "77\n",
      "{}\n",
      "{'makespan': 81}\n",
      "81\n",
      "{}\n"
     ]
    }
   ],
   "source": [
    "graph.nodes.data()\n",
    "test=[]\n",
    "d = dict(graph.nodes.data())\n",
    "for v in d.values():\n",
    "    print(v)\n",
    "    for vv in v.values():\n",
    "        print(vv)\n",
    "        test.append(vv)\n"
   ]
  },
  {
   "cell_type": "code",
   "execution_count": 208,
   "metadata": {},
   "outputs": [
    {
     "ename": "IndexError",
     "evalue": "list index out of range",
     "output_type": "error",
     "traceback": [
      "\u001b[0;31m---------------------------------------------------------------------------\u001b[0m",
      "\u001b[0;31mIndexError\u001b[0m                                Traceback (most recent call last)",
      "\u001b[0;32m<ipython-input-208-8d010b73688d>\u001b[0m in \u001b[0;36m<module>\u001b[0;34m\u001b[0m\n\u001b[1;32m      4\u001b[0m         \u001b[0medge_color\u001b[0m\u001b[0;34m=\u001b[0m\u001b[0mrange\u001b[0m\u001b[0;34m(\u001b[0m\u001b[0mgraph\u001b[0m\u001b[0;34m.\u001b[0m\u001b[0mnumber_of_edges\u001b[0m\u001b[0;34m(\u001b[0m\u001b[0;34m)\u001b[0m\u001b[0;34m)\u001b[0m\u001b[0;34m,\u001b[0m\u001b[0;34m\u001b[0m\u001b[0;34m\u001b[0m\u001b[0m\n\u001b[1;32m      5\u001b[0m         \u001b[0mwidth\u001b[0m\u001b[0;34m=\u001b[0m\u001b[0;36m4\u001b[0m\u001b[0;34m,\u001b[0m \u001b[0medge_cmap\u001b[0m\u001b[0;34m=\u001b[0m\u001b[0mplt\u001b[0m\u001b[0;34m.\u001b[0m\u001b[0mcm\u001b[0m\u001b[0;34m.\u001b[0m\u001b[0mviridis\u001b[0m\u001b[0;34m,\u001b[0m\u001b[0;34m\u001b[0m\u001b[0;34m\u001b[0m\u001b[0m\n\u001b[0;32m----> 6\u001b[0;31m         node_size=[i**2 for i in test], cmap=plt.cm.viridis)\n\u001b[0m\u001b[1;32m      7\u001b[0m \u001b[0mplt\u001b[0m\u001b[0;34m.\u001b[0m\u001b[0mshow\u001b[0m\u001b[0;34m(\u001b[0m\u001b[0;34m)\u001b[0m\u001b[0;34m\u001b[0m\u001b[0;34m\u001b[0m\u001b[0m\n",
      "\u001b[0;32m~/anaconda3/envs/AP_JOB_SHOP/lib/python3.7/site-packages/networkx/drawing/nx_pylab.py\u001b[0m in \u001b[0;36mdraw\u001b[0;34m(G, pos, ax, **kwds)\u001b[0m\n\u001b[1;32m    123\u001b[0m         \u001b[0mkwds\u001b[0m\u001b[0;34m[\u001b[0m\u001b[0;34m'with_labels'\u001b[0m\u001b[0;34m]\u001b[0m \u001b[0;34m=\u001b[0m \u001b[0;34m'labels'\u001b[0m \u001b[0;32min\u001b[0m \u001b[0mkwds\u001b[0m\u001b[0;34m\u001b[0m\u001b[0;34m\u001b[0m\u001b[0m\n\u001b[1;32m    124\u001b[0m \u001b[0;34m\u001b[0m\u001b[0m\n\u001b[0;32m--> 125\u001b[0;31m     \u001b[0mdraw_networkx\u001b[0m\u001b[0;34m(\u001b[0m\u001b[0mG\u001b[0m\u001b[0;34m,\u001b[0m \u001b[0mpos\u001b[0m\u001b[0;34m=\u001b[0m\u001b[0mpos\u001b[0m\u001b[0;34m,\u001b[0m \u001b[0max\u001b[0m\u001b[0;34m=\u001b[0m\u001b[0max\u001b[0m\u001b[0;34m,\u001b[0m \u001b[0;34m**\u001b[0m\u001b[0mkwds\u001b[0m\u001b[0;34m)\u001b[0m\u001b[0;34m\u001b[0m\u001b[0;34m\u001b[0m\u001b[0m\n\u001b[0m\u001b[1;32m    126\u001b[0m     \u001b[0max\u001b[0m\u001b[0;34m.\u001b[0m\u001b[0mset_axis_off\u001b[0m\u001b[0;34m(\u001b[0m\u001b[0;34m)\u001b[0m\u001b[0;34m\u001b[0m\u001b[0;34m\u001b[0m\u001b[0m\n\u001b[1;32m    127\u001b[0m     \u001b[0mplt\u001b[0m\u001b[0;34m.\u001b[0m\u001b[0mdraw_if_interactive\u001b[0m\u001b[0;34m(\u001b[0m\u001b[0;34m)\u001b[0m\u001b[0;34m\u001b[0m\u001b[0;34m\u001b[0m\u001b[0m\n",
      "\u001b[0;32m~/anaconda3/envs/AP_JOB_SHOP/lib/python3.7/site-packages/networkx/drawing/nx_pylab.py\u001b[0m in \u001b[0;36mdraw_networkx\u001b[0;34m(G, pos, arrows, with_labels, **kwds)\u001b[0m\n\u001b[1;32m    273\u001b[0m \u001b[0;34m\u001b[0m\u001b[0m\n\u001b[1;32m    274\u001b[0m     \u001b[0mnode_collection\u001b[0m \u001b[0;34m=\u001b[0m \u001b[0mdraw_networkx_nodes\u001b[0m\u001b[0;34m(\u001b[0m\u001b[0mG\u001b[0m\u001b[0;34m,\u001b[0m \u001b[0mpos\u001b[0m\u001b[0;34m,\u001b[0m \u001b[0;34m**\u001b[0m\u001b[0mkwds\u001b[0m\u001b[0;34m)\u001b[0m\u001b[0;34m\u001b[0m\u001b[0;34m\u001b[0m\u001b[0m\n\u001b[0;32m--> 275\u001b[0;31m     \u001b[0medge_collection\u001b[0m \u001b[0;34m=\u001b[0m \u001b[0mdraw_networkx_edges\u001b[0m\u001b[0;34m(\u001b[0m\u001b[0mG\u001b[0m\u001b[0;34m,\u001b[0m \u001b[0mpos\u001b[0m\u001b[0;34m,\u001b[0m \u001b[0marrows\u001b[0m\u001b[0;34m=\u001b[0m\u001b[0marrows\u001b[0m\u001b[0;34m,\u001b[0m \u001b[0;34m**\u001b[0m\u001b[0mkwds\u001b[0m\u001b[0;34m)\u001b[0m\u001b[0;34m\u001b[0m\u001b[0;34m\u001b[0m\u001b[0m\n\u001b[0m\u001b[1;32m    276\u001b[0m     \u001b[0;32mif\u001b[0m \u001b[0mwith_labels\u001b[0m\u001b[0;34m:\u001b[0m\u001b[0;34m\u001b[0m\u001b[0;34m\u001b[0m\u001b[0m\n\u001b[1;32m    277\u001b[0m         \u001b[0mdraw_networkx_labels\u001b[0m\u001b[0;34m(\u001b[0m\u001b[0mG\u001b[0m\u001b[0;34m,\u001b[0m \u001b[0mpos\u001b[0m\u001b[0;34m,\u001b[0m \u001b[0;34m**\u001b[0m\u001b[0mkwds\u001b[0m\u001b[0;34m)\u001b[0m\u001b[0;34m\u001b[0m\u001b[0;34m\u001b[0m\u001b[0m\n",
      "\u001b[0;32m~/anaconda3/envs/AP_JOB_SHOP/lib/python3.7/site-packages/networkx/drawing/nx_pylab.py\u001b[0m in \u001b[0;36mdraw_networkx_edges\u001b[0;34m(G, pos, edgelist, width, edge_color, style, alpha, arrowstyle, arrowsize, edge_cmap, edge_vmin, edge_vmax, ax, arrows, label, node_size, nodelist, node_shape, connectionstyle, min_source_margin, min_target_margin, **kwds)\u001b[0m\n\u001b[1;32m    647\u001b[0m                 \u001b[0msrc_node\u001b[0m\u001b[0;34m,\u001b[0m \u001b[0mdst_node\u001b[0m \u001b[0;34m=\u001b[0m \u001b[0medgelist\u001b[0m\u001b[0;34m[\u001b[0m\u001b[0mi\u001b[0m\u001b[0;34m]\u001b[0m\u001b[0;34m[\u001b[0m\u001b[0;34m:\u001b[0m\u001b[0;36m2\u001b[0m\u001b[0;34m]\u001b[0m\u001b[0;34m\u001b[0m\u001b[0;34m\u001b[0m\u001b[0m\n\u001b[1;32m    648\u001b[0m                 \u001b[0mindex_node\u001b[0m \u001b[0;34m=\u001b[0m \u001b[0mnodelist\u001b[0m\u001b[0;34m.\u001b[0m\u001b[0mindex\u001b[0m\u001b[0;34m(\u001b[0m\u001b[0mdst_node\u001b[0m\u001b[0;34m)\u001b[0m\u001b[0;34m\u001b[0m\u001b[0;34m\u001b[0m\u001b[0m\n\u001b[0;32m--> 649\u001b[0;31m                 \u001b[0mmarker_size\u001b[0m \u001b[0;34m=\u001b[0m \u001b[0mnode_size\u001b[0m\u001b[0;34m[\u001b[0m\u001b[0mindex_node\u001b[0m\u001b[0;34m]\u001b[0m\u001b[0;34m\u001b[0m\u001b[0;34m\u001b[0m\u001b[0m\n\u001b[0m\u001b[1;32m    650\u001b[0m                 \u001b[0mshrink_target\u001b[0m \u001b[0;34m=\u001b[0m \u001b[0mto_marker_edge\u001b[0m\u001b[0;34m(\u001b[0m\u001b[0mmarker_size\u001b[0m\u001b[0;34m,\u001b[0m \u001b[0mnode_shape\u001b[0m\u001b[0;34m)\u001b[0m\u001b[0;34m\u001b[0m\u001b[0;34m\u001b[0m\u001b[0m\n\u001b[1;32m    651\u001b[0m             \u001b[0;32melse\u001b[0m\u001b[0;34m:\u001b[0m\u001b[0;34m\u001b[0m\u001b[0;34m\u001b[0m\u001b[0m\n",
      "\u001b[0;31mIndexError\u001b[0m: list index out of range"
     ]
    },
    {
     "data": {
      "image/png": "[encoded data removed]",
      "text/plain": [
       "<Figure size 432x288 with 1 Axes>"
      ]
     },
     "metadata": {},
     "output_type": "display_data"
    }
   ],
   "source": [
    "\n",
    "pos = nx.shell_layout(graph)\n",
    "d = dict(graph.nodes.data())\n",
    "nx.draw(graph, pos,with_labels =True, node_color=range(graph.number_of_nodes()),\n",
    "        edge_color=range(graph.number_of_edges()),\n",
    "        width=4, edge_cmap=plt.cm.viridis,\n",
    "        node_size=[i**2 for i in test], cmap=plt.cm.viridis)\n",
    "plt.show()"
   ]
  },
  {
   "cell_type": "code",
   "execution_count": 16,
   "metadata": {},
   "outputs": [
    {
     "data": {
      "application/vnd.plotly.v1+json": {
       "config": {
        "plotlyServerURL": "https://plot.ly"
       },
       "data": [
        {
         "fill": "toself",
         "fillcolor": "rgb(140, 86, 75)",
         "hoverinfo": "name",
         "legendgroup": "rgb(140, 86, 75)",
         "mode": "none",
         "name": "Machine #5",
         "showlegend": true,
         "type": "scatter",
         "x": [
          "0001-03-05T00:00:00",
          "0001-03-08T00:00:00",
          "0001-03-08T00:00:00",
          "0001-03-05T00:00:00",
          "0001-03-05T00:00:00",
          "0001-02-01T00:00:00",
          "0001-02-11T00:00:00",
          "0001-02-11T00:00:00",
          "0001-02-01T00:00:00",
          "0001-02-01T00:00:00",
          "0001-01-24T00:00:00",
          "0001-02-01T00:00:00",
          "0001-02-01T00:00:00",
          "0001-01-24T00:00:00",
          "0001-01-24T00:00:00",
          "0001-02-15T00:00:00",
          "0001-02-24T00:00:00",
          "0001-02-24T00:00:00",
          "0001-02-15T00:00:00",
          "0001-02-15T00:00:00",
          "0001-02-11T00:00:00",
          "0001-02-15T00:00:00",
          "0001-02-15T00:00:00",
          "0001-02-11T00:00:00",
          "0001-02-11T00:00:00",
          "0001-02-24T00:00:00",
          "0001-03-05T00:00:00",
          "0001-03-05T00:00:00",
          "0001-02-24T00:00:00"
         ],
         "y": [
          3.8,
          3.8,
          4.2,
          4.2,
          null,
          8.8,
          8.8,
          9.2,
          9.2,
          null,
          13.8,
          13.8,
          14.2,
          14.2,
          null,
          22.8,
          22.8,
          23.2,
          23.2,
          null,
          26.8,
          26.8,
          27.2,
          27.2,
          null,
          31.8,
          31.8,
          32.2,
          32.2
         ]
        },
        {
         "fill": "toself",
         "fillcolor": "rgb(148, 103, 189)",
         "hoverinfo": "name",
         "legendgroup": "rgb(148, 103, 189)",
         "mode": "none",
         "name": "Machine #4",
         "showlegend": true,
         "type": "scatter",
         "x": [
          "0001-03-08T00:00:00",
          "0001-03-14T00:00:00",
          "0001-03-14T00:00:00",
          "0001-03-08T00:00:00",
          "0001-03-08T00:00:00",
          "0001-01-15T00:00:00",
          "0001-01-25T00:00:00",
          "0001-01-25T00:00:00",
          "0001-01-15T00:00:00",
          "0001-01-15T00:00:00",
          "0001-02-11T00:00:00",
          "0001-02-18T00:00:00",
          "0001-02-18T00:00:00",
          "0001-02-11T00:00:00",
          "0001-02-11T00:00:00",
          "0001-01-30T00:00:00",
          "0001-02-07T00:00:00",
          "0001-02-07T00:00:00",
          "0001-01-30T00:00:00",
          "0001-01-30T00:00:00",
          "0001-01-25T00:00:00",
          "0001-01-30T00:00:00",
          "0001-01-30T00:00:00",
          "0001-01-25T00:00:00",
          "0001-01-25T00:00:00",
          "0001-03-15T00:00:00",
          "0001-03-19T00:00:00",
          "0001-03-19T00:00:00",
          "0001-03-15T00:00:00"
         ],
         "y": [
          4.8,
          4.8,
          5.2,
          5.2,
          null,
          7.8,
          7.8,
          8.2,
          8.2,
          null,
          16.8,
          16.8,
          17.2,
          17.2,
          null,
          21.8,
          21.8,
          22.2,
          22.2,
          null,
          25.8,
          25.8,
          26.2,
          26.2,
          null,
          33.8,
          33.8,
          34.2,
          34.2
         ]
        },
        {
         "fill": "toself",
         "fillcolor": "rgb(214, 39, 40)",
         "hoverinfo": "name",
         "legendgroup": "rgb(214, 39, 40)",
         "mode": "none",
         "name": "Machine #3",
         "showlegend": true,
         "type": "scatter",
         "x": [
          "0001-02-04T00:00:00",
          "0001-02-11T00:00:00",
          "0001-02-11T00:00:00",
          "0001-02-04T00:00:00",
          "0001-02-04T00:00:00",
          "0001-02-21T00:00:00",
          "0001-02-25T00:00:00",
          "0001-02-25T00:00:00",
          "0001-02-21T00:00:00",
          "0001-02-21T00:00:00",
          "0001-01-20T00:00:00",
          "0001-01-24T00:00:00",
          "0001-01-24T00:00:00",
          "0001-01-20T00:00:00",
          "0001-01-20T00:00:00",
          "0001-01-27T00:00:00",
          "0001-01-30T00:00:00",
          "0001-01-30T00:00:00",
          "0001-01-27T00:00:00",
          "0001-01-27T00:00:00",
          "0001-02-25T00:00:00",
          "0001-02-26T00:00:00",
          "0001-02-26T00:00:00",
          "0001-02-25T00:00:00",
          "0001-02-25T00:00:00",
          "0001-01-24T00:00:00",
          "0001-01-27T00:00:00",
          "0001-01-27T00:00:00",
          "0001-01-24T00:00:00"
         ],
         "y": [
          2.8,
          2.8,
          3.2,
          3.2,
          null,
          10.8,
          10.8,
          11.2,
          11.2,
          null,
          12.8,
          12.8,
          13.2,
          13.2,
          null,
          20.8,
          20.8,
          21.2,
          21.2,
          null,
          28.8,
          28.8,
          29.2,
          29.2,
          null,
          30.8,
          30.8,
          31.2,
          31.2
         ]
        },
        {
         "fill": "toself",
         "fillcolor": "rgb(255, 127, 14)",
         "hoverinfo": "name",
         "legendgroup": "rgb(255, 127, 14)",
         "mode": "none",
         "name": "Machine #1",
         "showlegend": true,
         "type": "scatter",
         "x": [
          "0001-01-29T00:00:00",
          "0001-02-04T00:00:00",
          "0001-02-04T00:00:00",
          "0001-01-29T00:00:00",
          "0001-01-29T00:00:00",
          "0001-01-01T00:00:00",
          "0001-01-09T00:00:00",
          "0001-01-09T00:00:00",
          "0001-01-01T00:00:00",
          "0001-01-01T00:00:00",
          "0001-02-10T00:00:00",
          "0001-02-11T00:00:00",
          "0001-02-11T00:00:00",
          "0001-02-10T00:00:00",
          "0001-02-10T00:00:00",
          "0001-01-09T00:00:00",
          "0001-01-14T00:00:00",
          "0001-01-14T00:00:00",
          "0001-01-09T00:00:00",
          "0001-01-09T00:00:00",
          "0001-01-14T00:00:00",
          "0001-01-17T00:00:00",
          "0001-01-17T00:00:00",
          "0001-01-14T00:00:00",
          "0001-01-14T00:00:00",
          "0001-01-17T00:00:00",
          "0001-01-20T00:00:00",
          "0001-01-20T00:00:00",
          "0001-01-17T00:00:00"
         ],
         "y": [
          1.8,
          1.8,
          2.2,
          2.2,
          null,
          5.8,
          5.8,
          6.2,
          6.2,
          null,
          15.8,
          15.8,
          16.2,
          16.2,
          null,
          17.8,
          17.8,
          18.2,
          18.2,
          null,
          24.8,
          24.8,
          25.2,
          25.2,
          null,
          29.8,
          29.8,
          30.2,
          30.2
         ]
        },
        {
         "fill": "toself",
         "fillcolor": "rgb(31, 119, 180)",
         "hoverinfo": "name",
         "legendgroup": "rgb(31, 119, 180)",
         "mode": "none",
         "name": "Machine #0",
         "showlegend": true,
         "type": "scatter",
         "x": [
          "0001-01-26T00:00:00",
          "0001-01-29T00:00:00",
          "0001-01-29T00:00:00",
          "0001-01-26T00:00:00",
          "0001-01-26T00:00:00",
          "0001-02-11T00:00:00",
          "0001-02-21T00:00:00",
          "0001-02-21T00:00:00",
          "0001-02-11T00:00:00",
          "0001-02-11T00:00:00",
          "0001-02-01T00:00:00",
          "0001-02-10T00:00:00",
          "0001-02-10T00:00:00",
          "0001-02-01T00:00:00",
          "0001-02-01T00:00:00",
          "0001-01-14T00:00:00",
          "0001-01-19T00:00:00",
          "0001-01-19T00:00:00",
          "0001-01-14T00:00:00",
          "0001-01-14T00:00:00",
          "0001-02-21T00:00:00",
          "0001-02-24T00:00:00",
          "0001-02-24T00:00:00",
          "0001-02-21T00:00:00",
          "0001-02-21T00:00:00",
          "0001-03-05T00:00:00",
          "0001-03-15T00:00:00",
          "0001-03-15T00:00:00",
          "0001-03-05T00:00:00"
         ],
         "y": [
          0.8,
          0.8,
          1.2,
          1.2,
          null,
          9.8,
          9.8,
          10.2,
          10.2,
          null,
          14.8,
          14.8,
          15.2,
          15.2,
          null,
          18.8,
          18.8,
          19.2,
          19.2,
          null,
          27.8,
          27.8,
          28.2,
          28.2,
          null,
          32.8,
          32.8,
          33.2,
          33.2
         ]
        },
        {
         "fill": "toself",
         "fillcolor": "rgb(44, 160, 44)",
         "hoverinfo": "name",
         "legendgroup": "rgb(44, 160, 44)",
         "mode": "none",
         "name": "Machine #2",
         "showlegend": true,
         "type": "scatter",
         "x": [
          "0001-01-25T00:00:00",
          "0001-01-26T00:00:00",
          "0001-01-26T00:00:00",
          "0001-01-25T00:00:00",
          "0001-01-25T00:00:00",
          "0001-01-10T00:00:00",
          "0001-01-15T00:00:00",
          "0001-01-15T00:00:00",
          "0001-01-10T00:00:00",
          "0001-01-10T00:00:00",
          "0001-01-15T00:00:00",
          "0001-01-20T00:00:00",
          "0001-01-20T00:00:00",
          "0001-01-15T00:00:00",
          "0001-01-15T00:00:00",
          "0001-01-20T00:00:00",
          "0001-01-25T00:00:00",
          "0001-01-25T00:00:00",
          "0001-01-20T00:00:00",
          "0001-01-20T00:00:00",
          "0001-01-01T00:00:00",
          "0001-01-10T00:00:00",
          "0001-01-10T00:00:00",
          "0001-01-01T00:00:00",
          "0001-01-01T00:00:00",
          "0001-03-19T00:00:00",
          "0001-03-20T00:00:00",
          "0001-03-20T00:00:00",
          "0001-03-19T00:00:00"
         ],
         "y": [
          -0.2,
          -0.2,
          0.2,
          0.2,
          null,
          6.8,
          6.8,
          7.2,
          7.2,
          null,
          11.8,
          11.8,
          12.2,
          12.2,
          null,
          19.8,
          19.8,
          20.2,
          20.2,
          null,
          23.8,
          23.8,
          24.2,
          24.2,
          null,
          34.8,
          34.8,
          35.2,
          35.2
         ]
        },
        {
         "legendgroup": "rgb(140, 86, 75)",
         "marker": {
          "color": "rgb(140, 86, 75)",
          "opacity": 0,
          "size": 1
         },
         "mode": "markers",
         "name": "",
         "showlegend": false,
         "text": [
          null,
          null,
          null,
          null,
          null,
          null,
          null,
          null,
          null,
          null,
          null,
          null
         ],
         "type": "scatter",
         "x": [
          "0001-03-05T00:00:00",
          "0001-03-08T00:00:00",
          "0001-02-01T00:00:00",
          "0001-02-11T00:00:00",
          "0001-01-24T00:00:00",
          "0001-02-01T00:00:00",
          "0001-02-15T00:00:00",
          "0001-02-24T00:00:00",
          "0001-02-11T00:00:00",
          "0001-02-15T00:00:00",
          "0001-02-24T00:00:00",
          "0001-03-05T00:00:00"
         ],
         "y": [
          4,
          4,
          9,
          9,
          14,
          14,
          23,
          23,
          27,
          27,
          32,
          32
         ]
        },
        {
         "legendgroup": "rgb(148, 103, 189)",
         "marker": {
          "color": "rgb(148, 103, 189)",
          "opacity": 0,
          "size": 1
         },
         "mode": "markers",
         "name": "",
         "showlegend": false,
         "text": [
          null,
          null,
          null,
          null,
          null,
          null,
          null,
          null,
          null,
          null,
          null,
          null
         ],
         "type": "scatter",
         "x": [
          "0001-03-08T00:00:00",
          "0001-03-14T00:00:00",
          "0001-01-15T00:00:00",
          "0001-01-25T00:00:00",
          "0001-02-11T00:00:00",
          "0001-02-18T00:00:00",
          "0001-01-30T00:00:00",
          "0001-02-07T00:00:00",
          "0001-01-25T00:00:00",
          "0001-01-30T00:00:00",
          "0001-03-15T00:00:00",
          "0001-03-19T00:00:00"
         ],
         "y": [
          5,
          5,
          8,
          8,
          17,
          17,
          22,
          22,
          26,
          26,
          34,
          34
         ]
        },
        {
         "legendgroup": "rgb(214, 39, 40)",
         "marker": {
          "color": "rgb(214, 39, 40)",
          "opacity": 0,
          "size": 1
         },
         "mode": "markers",
         "name": "",
         "showlegend": false,
         "text": [
          null,
          null,
          null,
          null,
          null,
          null,
          null,
          null,
          null,
          null,
          null,
          null
         ],
         "type": "scatter",
         "x": [
          "0001-02-04T00:00:00",
          "0001-02-11T00:00:00",
          "0001-02-21T00:00:00",
          "0001-02-25T00:00:00",
          "0001-01-20T00:00:00",
          "0001-01-24T00:00:00",
          "0001-01-27T00:00:00",
          "0001-01-30T00:00:00",
          "0001-02-25T00:00:00",
          "0001-02-26T00:00:00",
          "0001-01-24T00:00:00",
          "0001-01-27T00:00:00"
         ],
         "y": [
          3,
          3,
          11,
          11,
          13,
          13,
          21,
          21,
          29,
          29,
          31,
          31
         ]
        },
        {
         "legendgroup": "rgb(255, 127, 14)",
         "marker": {
          "color": "rgb(255, 127, 14)",
          "opacity": 0,
          "size": 1
         },
         "mode": "markers",
         "name": "",
         "showlegend": false,
         "text": [
          null,
          null,
          null,
          null,
          null,
          null,
          null,
          null,
          null,
          null,
          null,
          null
         ],
         "type": "scatter",
         "x": [
          "0001-01-29T00:00:00",
          "0001-02-04T00:00:00",
          "0001-01-01T00:00:00",
          "0001-01-09T00:00:00",
          "0001-02-10T00:00:00",
          "0001-02-11T00:00:00",
          "0001-01-09T00:00:00",
          "0001-01-14T00:00:00",
          "0001-01-14T00:00:00",
          "0001-01-17T00:00:00",
          "0001-01-17T00:00:00",
          "0001-01-20T00:00:00"
         ],
         "y": [
          2,
          2,
          6,
          6,
          16,
          16,
          18,
          18,
          25,
          25,
          30,
          30
         ]
        },
        {
         "legendgroup": "rgb(31, 119, 180)",
         "marker": {
          "color": "rgb(31, 119, 180)",
          "opacity": 0,
          "size": 1
         },
         "mode": "markers",
         "name": "",
         "showlegend": false,
         "text": [
          null,
          null,
          null,
          null,
          null,
          null,
          null,
          null,
          null,
          null,
          null,
          null
         ],
         "type": "scatter",
         "x": [
          "0001-01-26T00:00:00",
          "0001-01-29T00:00:00",
          "0001-02-11T00:00:00",
          "0001-02-21T00:00:00",
          "0001-02-01T00:00:00",
          "0001-02-10T00:00:00",
          "0001-01-14T00:00:00",
          "0001-01-19T00:00:00",
          "0001-02-21T00:00:00",
          "0001-02-24T00:00:00",
          "0001-03-05T00:00:00",
          "0001-03-15T00:00:00"
         ],
         "y": [
          1,
          1,
          10,
          10,
          15,
          15,
          19,
          19,
          28,
          28,
          33,
          33
         ]
        },
        {
         "legendgroup": "rgb(44, 160, 44)",
         "marker": {
          "color": "rgb(44, 160, 44)",
          "opacity": 0,
          "size": 1
         },
         "mode": "markers",
         "name": "",
         "showlegend": false,
         "text": [
          null,
          null,
          null,
          null,
          null,
          null,
          null,
          null,
          null,
          null,
          null,
          null
         ],
         "type": "scatter",
         "x": [
          "0001-01-25T00:00:00",
          "0001-01-26T00:00:00",
          "0001-01-10T00:00:00",
          "0001-01-15T00:00:00",
          "0001-01-15T00:00:00",
          "0001-01-20T00:00:00",
          "0001-01-20T00:00:00",
          "0001-01-25T00:00:00",
          "0001-01-01T00:00:00",
          "0001-01-10T00:00:00",
          "0001-03-19T00:00:00",
          "0001-03-20T00:00:00"
         ],
         "y": [
          0,
          0,
          7,
          7,
          12,
          12,
          20,
          20,
          24,
          24,
          35,
          35
         ]
        }
       ],
       "layout": {
        "height": 600,
        "hovermode": "closest",
        "showlegend": true,
        "template": {
         "data": {
          "bar": [
           {
            "error_x": {
             "color": "#2a3f5f"
            },
            "error_y": {
             "color": "#2a3f5f"
            },
            "marker": {
             "line": {
              "color": "#E5ECF6",
              "width": 0.5
             }
            },
            "type": "bar"
           }
          ],
          "barpolar": [
           {
            "marker": {
             "line": {
              "color": "#E5ECF6",
              "width": 0.5
             }
            },
            "type": "barpolar"
           }
          ],
          "carpet": [
           {
            "aaxis": {
             "endlinecolor": "#2a3f5f",
             "gridcolor": "white",
             "linecolor": "white",
             "minorgridcolor": "white",
             "startlinecolor": "#2a3f5f"
            },
            "baxis": {
             "endlinecolor": "#2a3f5f",
             "gridcolor": "white",
             "linecolor": "white",
             "minorgridcolor": "white",
             "startlinecolor": "#2a3f5f"
            },
            "type": "carpet"
           }
          ],
          "choropleth": [
           {
            "colorbar": {
             "outlinewidth": 0,
             "ticks": ""
            },
            "type": "choropleth"
           }
          ],
          "contour": [
           {
            "colorbar": {
             "outlinewidth": 0,
             "ticks": ""
            },
            "colorscale": [
             [
              0,
              "#0d0887"
             ],
             [
              0.1111111111111111,
              "#46039f"
             ],
             [
              0.2222222222222222,
              "#7201a8"
             ],
             [
              0.3333333333333333,
              "#9c179e"
             ],
             [
              0.4444444444444444,
              "#bd3786"
             ],
             [
              0.5555555555555556,
              "#d8576b"
             ],
             [
              0.6666666666666666,
              "#ed7953"
             ],
             [
              0.7777777777777778,
              "#fb9f3a"
             ],
             [
              0.8888888888888888,
              "#fdca26"
             ],
             [
              1,
              "#f0f921"
             ]
            ],
            "type": "contour"
           }
          ],
          "contourcarpet": [
           {
            "colorbar": {
             "outlinewidth": 0,
             "ticks": ""
            },
            "type": "contourcarpet"
           }
          ],
          "heatmap": [
           {
            "colorbar": {
             "outlinewidth": 0,
             "ticks": ""
            },
            "colorscale": [
             [
              0,
              "#0d0887"
             ],
             [
              0.1111111111111111,
              "#46039f"
             ],
             [
              0.2222222222222222,
              "#7201a8"
             ],
             [
              0.3333333333333333,
              "#9c179e"
             ],
             [
              0.4444444444444444,
              "#bd3786"
             ],
             [
              0.5555555555555556,
              "#d8576b"
             ],
             [
              0.6666666666666666,
              "#ed7953"
             ],
             [
              0.7777777777777778,
              "#fb9f3a"
             ],
             [
              0.8888888888888888,
              "#fdca26"
             ],
             [
              1,
              "#f0f921"
             ]
            ],
            "type": "heatmap"
           }
          ],
          "heatmapgl": [
           {
            "colorbar": {
             "outlinewidth": 0,
             "ticks": ""
            },
            "colorscale": [
             [
              0,
              "#0d0887"
             ],
             [
              0.1111111111111111,
              "#46039f"
             ],
             [
              0.2222222222222222,
              "#7201a8"
             ],
             [
              0.3333333333333333,
              "#9c179e"
             ],
             [
              0.4444444444444444,
              "#bd3786"
             ],
             [
              0.5555555555555556,
              "#d8576b"
             ],
             [
              0.6666666666666666,
              "#ed7953"
             ],
             [
              0.7777777777777778,
              "#fb9f3a"
             ],
             [
              0.8888888888888888,
              "#fdca26"
             ],
             [
              1,
              "#f0f921"
             ]
            ],
            "type": "heatmapgl"
           }
          ],
          "histogram": [
           {
            "marker": {
             "colorbar": {
              "outlinewidth": 0,
              "ticks": ""
             }
            },
            "type": "histogram"
           }
          ],
          "histogram2d": [
           {
            "colorbar": {
             "outlinewidth": 0,
             "ticks": ""
            },
            "colorscale": [
             [
              0,
              "#0d0887"
             ],
             [
              0.1111111111111111,
              "#46039f"
             ],
             [
              0.2222222222222222,
              "#7201a8"
             ],
             [
              0.3333333333333333,
              "#9c179e"
             ],
             [
              0.4444444444444444,
              "#bd3786"
             ],
             [
              0.5555555555555556,
              "#d8576b"
             ],
             [
              0.6666666666666666,
              "#ed7953"
             ],
             [
              0.7777777777777778,
              "#fb9f3a"
             ],
             [
              0.8888888888888888,
              "#fdca26"
             ],
             [
              1,
              "#f0f921"
             ]
            ],
            "type": "histogram2d"
           }
          ],
          "histogram2dcontour": [
           {
            "colorbar": {
             "outlinewidth": 0,
             "ticks": ""
            },
            "colorscale": [
             [
              0,
              "#0d0887"
             ],
             [
              0.1111111111111111,
              "#46039f"
             ],
             [
              0.2222222222222222,
              "#7201a8"
             ],
             [
              0.3333333333333333,
              "#9c179e"
             ],
             [
              0.4444444444444444,
              "#bd3786"
             ],
             [
              0.5555555555555556,
              "#d8576b"
             ],
             [
              0.6666666666666666,
              "#ed7953"
             ],
             [
              0.7777777777777778,
              "#fb9f3a"
             ],
             [
              0.8888888888888888,
              "#fdca26"
             ],
             [
              1,
              "#f0f921"
             ]
            ],
            "type": "histogram2dcontour"
           }
          ],
          "mesh3d": [
           {
            "colorbar": {
             "outlinewidth": 0,
             "ticks": ""
            },
            "type": "mesh3d"
           }
          ],
          "parcoords": [
           {
            "line": {
             "colorbar": {
              "outlinewidth": 0,
              "ticks": ""
             }
            },
            "type": "parcoords"
           }
          ],
          "pie": [
           {
            "automargin": true,
            "type": "pie"
           }
          ],
          "scatter": [
           {
            "marker": {
             "colorbar": {
              "outlinewidth": 0,
              "ticks": ""
             }
            },
            "type": "scatter"
           }
          ],
          "scatter3d": [
           {
            "line": {
             "colorbar": {
              "outlinewidth": 0,
              "ticks": ""
             }
            },
            "marker": {
             "colorbar": {
              "outlinewidth": 0,
              "ticks": ""
             }
            },
            "type": "scatter3d"
           }
          ],
          "scattercarpet": [
           {
            "marker": {
             "colorbar": {
              "outlinewidth": 0,
              "ticks": ""
             }
            },
            "type": "scattercarpet"
           }
          ],
          "scattergeo": [
           {
            "marker": {
             "colorbar": {
              "outlinewidth": 0,
              "ticks": ""
             }
            },
            "type": "scattergeo"
           }
          ],
          "scattergl": [
           {
            "marker": {
             "colorbar": {
              "outlinewidth": 0,
              "ticks": ""
             }
            },
            "type": "scattergl"
           }
          ],
          "scattermapbox": [
           {
            "marker": {
             "colorbar": {
              "outlinewidth": 0,
              "ticks": ""
             }
            },
            "type": "scattermapbox"
           }
          ],
          "scatterpolar": [
           {
            "marker": {
             "colorbar": {
              "outlinewidth": 0,
              "ticks": ""
             }
            },
            "type": "scatterpolar"
           }
          ],
          "scatterpolargl": [
           {
            "marker": {
             "colorbar": {
              "outlinewidth": 0,
              "ticks": ""
             }
            },
            "type": "scatterpolargl"
           }
          ],
          "scatterternary": [
           {
            "marker": {
             "colorbar": {
              "outlinewidth": 0,
              "ticks": ""
             }
            },
            "type": "scatterternary"
           }
          ],
          "surface": [
           {
            "colorbar": {
             "outlinewidth": 0,
             "ticks": ""
            },
            "colorscale": [
             [
              0,
              "#0d0887"
             ],
             [
              0.1111111111111111,
              "#46039f"
             ],
             [
              0.2222222222222222,
              "#7201a8"
             ],
             [
              0.3333333333333333,
              "#9c179e"
             ],
             [
              0.4444444444444444,
              "#bd3786"
             ],
             [
              0.5555555555555556,
              "#d8576b"
             ],
             [
              0.6666666666666666,
              "#ed7953"
             ],
             [
              0.7777777777777778,
              "#fb9f3a"
             ],
             [
              0.8888888888888888,
              "#fdca26"
             ],
             [
              1,
              "#f0f921"
             ]
            ],
            "type": "surface"
           }
          ],
          "table": [
           {
            "cells": {
             "fill": {
              "color": "#EBF0F8"
             },
             "line": {
              "color": "white"
             }
            },
            "header": {
             "fill": {
              "color": "#C8D4E3"
             },
             "line": {
              "color": "white"
             }
            },
            "type": "table"
           }
          ]
         },
         "layout": {
          "annotationdefaults": {
           "arrowcolor": "#2a3f5f",
           "arrowhead": 0,
           "arrowwidth": 1
          },
          "coloraxis": {
           "colorbar": {
            "outlinewidth": 0,
            "ticks": ""
           }
          },
          "colorscale": {
           "diverging": [
            [
             0,
             "#8e0152"
            ],
            [
             0.1,
             "#c51b7d"
            ],
            [
             0.2,
             "#de77ae"
            ],
            [
             0.3,
             "#f1b6da"
            ],
            [
             0.4,
             "#fde0ef"
            ],
            [
             0.5,
             "#f7f7f7"
            ],
            [
             0.6,
             "#e6f5d0"
            ],
            [
             0.7,
             "#b8e186"
            ],
            [
             0.8,
             "#7fbc41"
            ],
            [
             0.9,
             "#4d9221"
            ],
            [
             1,
             "#276419"
            ]
           ],
           "sequential": [
            [
             0,
             "#0d0887"
            ],
            [
             0.1111111111111111,
             "#46039f"
            ],
            [
             0.2222222222222222,
             "#7201a8"
            ],
            [
             0.3333333333333333,
             "#9c179e"
            ],
            [
             0.4444444444444444,
             "#bd3786"
            ],
            [
             0.5555555555555556,
             "#d8576b"
            ],
            [
             0.6666666666666666,
             "#ed7953"
            ],
            [
             0.7777777777777778,
             "#fb9f3a"
            ],
            [
             0.8888888888888888,
             "#fdca26"
            ],
            [
             1,
             "#f0f921"
            ]
           ],
           "sequentialminus": [
            [
             0,
             "#0d0887"
            ],
            [
             0.1111111111111111,
             "#46039f"
            ],
            [
             0.2222222222222222,
             "#7201a8"
            ],
            [
             0.3333333333333333,
             "#9c179e"
            ],
            [
             0.4444444444444444,
             "#bd3786"
            ],
            [
             0.5555555555555556,
             "#d8576b"
            ],
            [
             0.6666666666666666,
             "#ed7953"
            ],
            [
             0.7777777777777778,
             "#fb9f3a"
            ],
            [
             0.8888888888888888,
             "#fdca26"
            ],
            [
             1,
             "#f0f921"
            ]
           ]
          },
          "colorway": [
           "#636efa",
           "#EF553B",
           "#00cc96",
           "#ab63fa",
           "#FFA15A",
           "#19d3f3",
           "#FF6692",
           "#B6E880",
           "#FF97FF",
           "#FECB52"
          ],
          "font": {
           "color": "#2a3f5f"
          },
          "geo": {
           "bgcolor": "white",
           "lakecolor": "white",
           "landcolor": "#E5ECF6",
           "showlakes": true,
           "showland": true,
           "subunitcolor": "white"
          },
          "hoverlabel": {
           "align": "left"
          },
          "hovermode": "closest",
          "mapbox": {
           "style": "light"
          },
          "paper_bgcolor": "white",
          "plot_bgcolor": "#E5ECF6",
          "polar": {
           "angularaxis": {
            "gridcolor": "white",
            "linecolor": "white",
            "ticks": ""
           },
           "bgcolor": "#E5ECF6",
           "radialaxis": {
            "gridcolor": "white",
            "linecolor": "white",
            "ticks": ""
           }
          },
          "scene": {
           "xaxis": {
            "backgroundcolor": "#E5ECF6",
            "gridcolor": "white",
            "gridwidth": 2,
            "linecolor": "white",
            "showbackground": true,
            "ticks": "",
            "zerolinecolor": "white"
           },
           "yaxis": {
            "backgroundcolor": "#E5ECF6",
            "gridcolor": "white",
            "gridwidth": 2,
            "linecolor": "white",
            "showbackground": true,
            "ticks": "",
            "zerolinecolor": "white"
           },
           "zaxis": {
            "backgroundcolor": "#E5ECF6",
            "gridcolor": "white",
            "gridwidth": 2,
            "linecolor": "white",
            "showbackground": true,
            "ticks": "",
            "zerolinecolor": "white"
           }
          },
          "shapedefaults": {
           "line": {
            "color": "#2a3f5f"
           }
          },
          "ternary": {
           "aaxis": {
            "gridcolor": "white",
            "linecolor": "white",
            "ticks": ""
           },
           "baxis": {
            "gridcolor": "white",
            "linecolor": "white",
            "ticks": ""
           },
           "bgcolor": "#E5ECF6",
           "caxis": {
            "gridcolor": "white",
            "linecolor": "white",
            "ticks": ""
           }
          },
          "title": {
           "x": 0.05
          },
          "xaxis": {
           "automargin": true,
           "gridcolor": "white",
           "linecolor": "white",
           "ticks": "",
           "title": {
            "standoff": 15
           },
           "zerolinecolor": "white",
           "zerolinewidth": 2
          },
          "yaxis": {
           "automargin": true,
           "gridcolor": "white",
           "linecolor": "white",
           "ticks": "",
           "title": {
            "standoff": 15
           },
           "zerolinecolor": "white",
           "zerolinewidth": 2
          }
         }
        },
        "title": {
         "text": "Gantt Chart"
        },
        "xaxis": {
         "rangeselector": {
          "buttons": [
           {
            "count": 7,
            "label": "1w",
            "step": "day",
            "stepmode": "backward"
           },
           {
            "count": 1,
            "label": "1m",
            "step": "month",
            "stepmode": "backward"
           },
           {
            "count": 6,
            "label": "6m",
            "step": "month",
            "stepmode": "backward"
           },
           {
            "count": 1,
            "label": "YTD",
            "step": "year",
            "stepmode": "todate"
           },
           {
            "count": 1,
            "label": "1y",
            "step": "year",
            "stepmode": "backward"
           },
           {
            "step": "all"
           }
          ]
         },
         "showgrid": true,
         "type": "date",
         "zeroline": false
        },
        "yaxis": {
         "autorange": false,
         "range": [
          -1,
          37
         ],
         "showgrid": true,
         "ticktext": [
          "Job  #0",
          "Job  #0",
          "Job  #0",
          "Job  #0",
          "Job  #0",
          "Job  #0",
          "Job  #1",
          "Job  #1",
          "Job  #1",
          "Job  #1",
          "Job  #1",
          "Job  #1",
          "Job  #2",
          "Job  #2",
          "Job  #2",
          "Job  #2",
          "Job  #2",
          "Job  #2",
          "Job  #3",
          "Job  #3",
          "Job  #3",
          "Job  #3",
          "Job  #3",
          "Job  #3",
          "Job  #4",
          "Job  #4",
          "Job  #4",
          "Job  #4",
          "Job  #4",
          "Job  #4",
          "Job  #5",
          "Job  #5",
          "Job  #5",
          "Job  #5",
          "Job  #5",
          "Job  #5"
         ],
         "tickvals": [
          0,
          1,
          2,
          3,
          4,
          5,
          6,
          7,
          8,
          9,
          10,
          11,
          12,
          13,
          14,
          15,
          16,
          17,
          18,
          19,
          20,
          21,
          22,
          23,
          24,
          25,
          26,
          27,
          28,
          29,
          30,
          31,
          32,
          33,
          34,
          35
         ],
         "zeroline": false
        }
       }
      },
      "text/html": [
       "<div>\n",
       "        \n",
       "        \n",
       "            <div id=\"e2878ea9-831a-4b0a-8d53-54636be2a8f9\" class=\"plotly-graph-div\" style=\"height:600px; width:100%;\"></div>\n",
       "            <script type=\"text/javascript\">\n",
       "                require([\"plotly\"], function(Plotly) {\n",
       "                    window.PLOTLYENV=window.PLOTLYENV || {};\n",
       "                    \n",
       "                if (document.getElementById(\"e2878ea9-831a-4b0a-8d53-54636be2a8f9\")) {\n",
       "                    Plotly.newPlot(\n",
       "                        'e2878ea9-831a-4b0a-8d53-54636be2a8f9',\n",
       "                        [{\"fill\": \"toself\", \"fillcolor\": \"rgb(140, 86, 75)\", \"hoverinfo\": \"name\", \"legendgroup\": \"rgb(140, 86, 75)\", \"mode\": \"none\", \"name\": \"Machine #5\", \"showlegend\": true, \"type\": \"scatter\", \"x\": [\"0001-03-05T00:00:00\", \"0001-03-08T00:00:00\", \"0001-03-08T00:00:00\", \"0001-03-05T00:00:00\", \"0001-03-05T00:00:00\", \"0001-02-01T00:00:00\", \"0001-02-11T00:00:00\", \"0001-02-11T00:00:00\", \"0001-02-01T00:00:00\", \"0001-02-01T00:00:00\", \"0001-01-24T00:00:00\", \"0001-02-01T00:00:00\", \"0001-02-01T00:00:00\", \"0001-01-24T00:00:00\", \"0001-01-24T00:00:00\", \"0001-02-15T00:00:00\", \"0001-02-24T00:00:00\", \"0001-02-24T00:00:00\", \"0001-02-15T00:00:00\", \"0001-02-15T00:00:00\", \"0001-02-11T00:00:00\", \"0001-02-15T00:00:00\", \"0001-02-15T00:00:00\", \"0001-02-11T00:00:00\", \"0001-02-11T00:00:00\", \"0001-02-24T00:00:00\", \"0001-03-05T00:00:00\", \"0001-03-05T00:00:00\", \"0001-02-24T00:00:00\"], \"y\": [3.8, 3.8, 4.2, 4.2, null, 8.8, 8.8, 9.2, 9.2, null, 13.8, 13.8, 14.2, 14.2, null, 22.8, 22.8, 23.2, 23.2, null, 26.8, 26.8, 27.2, 27.2, null, 31.8, 31.8, 32.2, 32.2]}, {\"fill\": \"toself\", \"fillcolor\": \"rgb(148, 103, 189)\", \"hoverinfo\": \"name\", \"legendgroup\": \"rgb(148, 103, 189)\", \"mode\": \"none\", \"name\": \"Machine #4\", \"showlegend\": true, \"type\": \"scatter\", \"x\": [\"0001-03-08T00:00:00\", \"0001-03-14T00:00:00\", \"0001-03-14T00:00:00\", \"0001-03-08T00:00:00\", \"0001-03-08T00:00:00\", \"0001-01-15T00:00:00\", \"0001-01-25T00:00:00\", \"0001-01-25T00:00:00\", \"0001-01-15T00:00:00\", \"0001-01-15T00:00:00\", \"0001-02-11T00:00:00\", \"0001-02-18T00:00:00\", \"0001-02-18T00:00:00\", \"0001-02-11T00:00:00\", \"0001-02-11T00:00:00\", \"0001-01-30T00:00:00\", \"0001-02-07T00:00:00\", \"0001-02-07T00:00:00\", \"0001-01-30T00:00:00\", \"0001-01-30T00:00:00\", \"0001-01-25T00:00:00\", \"0001-01-30T00:00:00\", \"0001-01-30T00:00:00\", \"0001-01-25T00:00:00\", \"0001-01-25T00:00:00\", \"0001-03-15T00:00:00\", \"0001-03-19T00:00:00\", \"0001-03-19T00:00:00\", \"0001-03-15T00:00:00\"], \"y\": [4.8, 4.8, 5.2, 5.2, null, 7.8, 7.8, 8.2, 8.2, null, 16.8, 16.8, 17.2, 17.2, null, 21.8, 21.8, 22.2, 22.2, null, 25.8, 25.8, 26.2, 26.2, null, 33.8, 33.8, 34.2, 34.2]}, {\"fill\": \"toself\", \"fillcolor\": \"rgb(214, 39, 40)\", \"hoverinfo\": \"name\", \"legendgroup\": \"rgb(214, 39, 40)\", \"mode\": \"none\", \"name\": \"Machine #3\", \"showlegend\": true, \"type\": \"scatter\", \"x\": [\"0001-02-04T00:00:00\", \"0001-02-11T00:00:00\", \"0001-02-11T00:00:00\", \"0001-02-04T00:00:00\", \"0001-02-04T00:00:00\", \"0001-02-21T00:00:00\", \"0001-02-25T00:00:00\", \"0001-02-25T00:00:00\", \"0001-02-21T00:00:00\", \"0001-02-21T00:00:00\", \"0001-01-20T00:00:00\", \"0001-01-24T00:00:00\", \"0001-01-24T00:00:00\", \"0001-01-20T00:00:00\", \"0001-01-20T00:00:00\", \"0001-01-27T00:00:00\", \"0001-01-30T00:00:00\", \"0001-01-30T00:00:00\", \"0001-01-27T00:00:00\", \"0001-01-27T00:00:00\", \"0001-02-25T00:00:00\", \"0001-02-26T00:00:00\", \"0001-02-26T00:00:00\", \"0001-02-25T00:00:00\", \"0001-02-25T00:00:00\", \"0001-01-24T00:00:00\", \"0001-01-27T00:00:00\", \"0001-01-27T00:00:00\", \"0001-01-24T00:00:00\"], \"y\": [2.8, 2.8, 3.2, 3.2, null, 10.8, 10.8, 11.2, 11.2, null, 12.8, 12.8, 13.2, 13.2, null, 20.8, 20.8, 21.2, 21.2, null, 28.8, 28.8, 29.2, 29.2, null, 30.8, 30.8, 31.2, 31.2]}, {\"fill\": \"toself\", \"fillcolor\": \"rgb(255, 127, 14)\", \"hoverinfo\": \"name\", \"legendgroup\": \"rgb(255, 127, 14)\", \"mode\": \"none\", \"name\": \"Machine #1\", \"showlegend\": true, \"type\": \"scatter\", \"x\": [\"0001-01-29T00:00:00\", \"0001-02-04T00:00:00\", \"0001-02-04T00:00:00\", \"0001-01-29T00:00:00\", \"0001-01-29T00:00:00\", \"0001-01-01T00:00:00\", \"0001-01-09T00:00:00\", \"0001-01-09T00:00:00\", \"0001-01-01T00:00:00\", \"0001-01-01T00:00:00\", \"0001-02-10T00:00:00\", \"0001-02-11T00:00:00\", \"0001-02-11T00:00:00\", \"0001-02-10T00:00:00\", \"0001-02-10T00:00:00\", \"0001-01-09T00:00:00\", \"0001-01-14T00:00:00\", \"0001-01-14T00:00:00\", \"0001-01-09T00:00:00\", \"0001-01-09T00:00:00\", \"0001-01-14T00:00:00\", \"0001-01-17T00:00:00\", \"0001-01-17T00:00:00\", \"0001-01-14T00:00:00\", \"0001-01-14T00:00:00\", \"0001-01-17T00:00:00\", \"0001-01-20T00:00:00\", \"0001-01-20T00:00:00\", \"0001-01-17T00:00:00\"], \"y\": [1.8, 1.8, 2.2, 2.2, null, 5.8, 5.8, 6.2, 6.2, null, 15.8, 15.8, 16.2, 16.2, null, 17.8, 17.8, 18.2, 18.2, null, 24.8, 24.8, 25.2, 25.2, null, 29.8, 29.8, 30.2, 30.2]}, {\"fill\": \"toself\", \"fillcolor\": \"rgb(31, 119, 180)\", \"hoverinfo\": \"name\", \"legendgroup\": \"rgb(31, 119, 180)\", \"mode\": \"none\", \"name\": \"Machine #0\", \"showlegend\": true, \"type\": \"scatter\", \"x\": [\"0001-01-26T00:00:00\", \"0001-01-29T00:00:00\", \"0001-01-29T00:00:00\", \"0001-01-26T00:00:00\", \"0001-01-26T00:00:00\", \"0001-02-11T00:00:00\", \"0001-02-21T00:00:00\", \"0001-02-21T00:00:00\", \"0001-02-11T00:00:00\", \"0001-02-11T00:00:00\", \"0001-02-01T00:00:00\", \"0001-02-10T00:00:00\", \"0001-02-10T00:00:00\", \"0001-02-01T00:00:00\", \"0001-02-01T00:00:00\", \"0001-01-14T00:00:00\", \"0001-01-19T00:00:00\", \"0001-01-19T00:00:00\", \"0001-01-14T00:00:00\", \"0001-01-14T00:00:00\", \"0001-02-21T00:00:00\", \"0001-02-24T00:00:00\", \"0001-02-24T00:00:00\", \"0001-02-21T00:00:00\", \"0001-02-21T00:00:00\", \"0001-03-05T00:00:00\", \"0001-03-15T00:00:00\", \"0001-03-15T00:00:00\", \"0001-03-05T00:00:00\"], \"y\": [0.8, 0.8, 1.2, 1.2, null, 9.8, 9.8, 10.2, 10.2, null, 14.8, 14.8, 15.2, 15.2, null, 18.8, 18.8, 19.2, 19.2, null, 27.8, 27.8, 28.2, 28.2, null, 32.8, 32.8, 33.2, 33.2]}, {\"fill\": \"toself\", \"fillcolor\": \"rgb(44, 160, 44)\", \"hoverinfo\": \"name\", \"legendgroup\": \"rgb(44, 160, 44)\", \"mode\": \"none\", \"name\": \"Machine #2\", \"showlegend\": true, \"type\": \"scatter\", \"x\": [\"0001-01-25T00:00:00\", \"0001-01-26T00:00:00\", \"0001-01-26T00:00:00\", \"0001-01-25T00:00:00\", \"0001-01-25T00:00:00\", \"0001-01-10T00:00:00\", \"0001-01-15T00:00:00\", \"0001-01-15T00:00:00\", \"0001-01-10T00:00:00\", \"0001-01-10T00:00:00\", \"0001-01-15T00:00:00\", \"0001-01-20T00:00:00\", \"0001-01-20T00:00:00\", \"0001-01-15T00:00:00\", \"0001-01-15T00:00:00\", \"0001-01-20T00:00:00\", \"0001-01-25T00:00:00\", \"0001-01-25T00:00:00\", \"0001-01-20T00:00:00\", \"0001-01-20T00:00:00\", \"0001-01-01T00:00:00\", \"0001-01-10T00:00:00\", \"0001-01-10T00:00:00\", \"0001-01-01T00:00:00\", \"0001-01-01T00:00:00\", \"0001-03-19T00:00:00\", \"0001-03-20T00:00:00\", \"0001-03-20T00:00:00\", \"0001-03-19T00:00:00\"], \"y\": [-0.2, -0.2, 0.2, 0.2, null, 6.8, 6.8, 7.2, 7.2, null, 11.8, 11.8, 12.2, 12.2, null, 19.8, 19.8, 20.2, 20.2, null, 23.8, 23.8, 24.2, 24.2, null, 34.8, 34.8, 35.2, 35.2]}, {\"legendgroup\": \"rgb(140, 86, 75)\", \"marker\": {\"color\": \"rgb(140, 86, 75)\", \"opacity\": 0, \"size\": 1}, \"mode\": \"markers\", \"name\": \"\", \"showlegend\": false, \"text\": [null, null, null, null, null, null, null, null, null, null, null, null], \"type\": \"scatter\", \"x\": [\"0001-03-05T00:00:00\", \"0001-03-08T00:00:00\", \"0001-02-01T00:00:00\", \"0001-02-11T00:00:00\", \"0001-01-24T00:00:00\", \"0001-02-01T00:00:00\", \"0001-02-15T00:00:00\", \"0001-02-24T00:00:00\", \"0001-02-11T00:00:00\", \"0001-02-15T00:00:00\", \"0001-02-24T00:00:00\", \"0001-03-05T00:00:00\"], \"y\": [4, 4, 9, 9, 14, 14, 23, 23, 27, 27, 32, 32]}, {\"legendgroup\": \"rgb(148, 103, 189)\", \"marker\": {\"color\": \"rgb(148, 103, 189)\", \"opacity\": 0, \"size\": 1}, \"mode\": \"markers\", \"name\": \"\", \"showlegend\": false, \"text\": [null, null, null, null, null, null, null, null, null, null, null, null], \"type\": \"scatter\", \"x\": [\"0001-03-08T00:00:00\", \"0001-03-14T00:00:00\", \"0001-01-15T00:00:00\", \"0001-01-25T00:00:00\", \"0001-02-11T00:00:00\", \"0001-02-18T00:00:00\", \"0001-01-30T00:00:00\", \"0001-02-07T00:00:00\", \"0001-01-25T00:00:00\", \"0001-01-30T00:00:00\", \"0001-03-15T00:00:00\", \"0001-03-19T00:00:00\"], \"y\": [5, 5, 8, 8, 17, 17, 22, 22, 26, 26, 34, 34]}, {\"legendgroup\": \"rgb(214, 39, 40)\", \"marker\": {\"color\": \"rgb(214, 39, 40)\", \"opacity\": 0, \"size\": 1}, \"mode\": \"markers\", \"name\": \"\", \"showlegend\": false, \"text\": [null, null, null, null, null, null, null, null, null, null, null, null], \"type\": \"scatter\", \"x\": [\"0001-02-04T00:00:00\", \"0001-02-11T00:00:00\", \"0001-02-21T00:00:00\", \"0001-02-25T00:00:00\", \"0001-01-20T00:00:00\", \"0001-01-24T00:00:00\", \"0001-01-27T00:00:00\", \"0001-01-30T00:00:00\", \"0001-02-25T00:00:00\", \"0001-02-26T00:00:00\", \"0001-01-24T00:00:00\", \"0001-01-27T00:00:00\"], \"y\": [3, 3, 11, 11, 13, 13, 21, 21, 29, 29, 31, 31]}, {\"legendgroup\": \"rgb(255, 127, 14)\", \"marker\": {\"color\": \"rgb(255, 127, 14)\", \"opacity\": 0, \"size\": 1}, \"mode\": \"markers\", \"name\": \"\", \"showlegend\": false, \"text\": [null, null, null, null, null, null, null, null, null, null, null, null], \"type\": \"scatter\", \"x\": [\"0001-01-29T00:00:00\", \"0001-02-04T00:00:00\", \"0001-01-01T00:00:00\", \"0001-01-09T00:00:00\", \"0001-02-10T00:00:00\", \"0001-02-11T00:00:00\", \"0001-01-09T00:00:00\", \"0001-01-14T00:00:00\", \"0001-01-14T00:00:00\", \"0001-01-17T00:00:00\", \"0001-01-17T00:00:00\", \"0001-01-20T00:00:00\"], \"y\": [2, 2, 6, 6, 16, 16, 18, 18, 25, 25, 30, 30]}, {\"legendgroup\": \"rgb(31, 119, 180)\", \"marker\": {\"color\": \"rgb(31, 119, 180)\", \"opacity\": 0, \"size\": 1}, \"mode\": \"markers\", \"name\": \"\", \"showlegend\": false, \"text\": [null, null, null, null, null, null, null, null, null, null, null, null], \"type\": \"scatter\", \"x\": [\"0001-01-26T00:00:00\", \"0001-01-29T00:00:00\", \"0001-02-11T00:00:00\", \"0001-02-21T00:00:00\", \"0001-02-01T00:00:00\", \"0001-02-10T00:00:00\", \"0001-01-14T00:00:00\", \"0001-01-19T00:00:00\", \"0001-02-21T00:00:00\", \"0001-02-24T00:00:00\", \"0001-03-05T00:00:00\", \"0001-03-15T00:00:00\"], \"y\": [1, 1, 10, 10, 15, 15, 19, 19, 28, 28, 33, 33]}, {\"legendgroup\": \"rgb(44, 160, 44)\", \"marker\": {\"color\": \"rgb(44, 160, 44)\", \"opacity\": 0, \"size\": 1}, \"mode\": \"markers\", \"name\": \"\", \"showlegend\": false, \"text\": [null, null, null, null, null, null, null, null, null, null, null, null], \"type\": \"scatter\", \"x\": [\"0001-01-25T00:00:00\", \"0001-01-26T00:00:00\", \"0001-01-10T00:00:00\", \"0001-01-15T00:00:00\", \"0001-01-15T00:00:00\", \"0001-01-20T00:00:00\", \"0001-01-20T00:00:00\", \"0001-01-25T00:00:00\", \"0001-01-01T00:00:00\", \"0001-01-10T00:00:00\", \"0001-03-19T00:00:00\", \"0001-03-20T00:00:00\"], \"y\": [0, 0, 7, 7, 12, 12, 20, 20, 24, 24, 35, 35]}],\n",
       "                        {\"height\": 600, \"hovermode\": \"closest\", \"showlegend\": true, \"template\": {\"data\": {\"bar\": [{\"error_x\": {\"color\": \"#2a3f5f\"}, \"error_y\": {\"color\": \"#2a3f5f\"}, \"marker\": {\"line\": {\"color\": \"#E5ECF6\", \"width\": 0.5}}, \"type\": \"bar\"}], \"barpolar\": [{\"marker\": {\"line\": {\"color\": \"#E5ECF6\", \"width\": 0.5}}, \"type\": \"barpolar\"}], \"carpet\": [{\"aaxis\": {\"endlinecolor\": \"#2a3f5f\", \"gridcolor\": \"white\", \"linecolor\": \"white\", \"minorgridcolor\": \"white\", \"startlinecolor\": \"#2a3f5f\"}, \"baxis\": {\"endlinecolor\": \"#2a3f5f\", \"gridcolor\": \"white\", \"linecolor\": \"white\", \"minorgridcolor\": \"white\", \"startlinecolor\": \"#2a3f5f\"}, \"type\": \"carpet\"}], \"choropleth\": [{\"colorbar\": {\"outlinewidth\": 0, \"ticks\": \"\"}, \"type\": \"choropleth\"}], \"contour\": [{\"colorbar\": {\"outlinewidth\": 0, \"ticks\": \"\"}, \"colorscale\": [[0.0, \"#0d0887\"], [0.1111111111111111, \"#46039f\"], [0.2222222222222222, \"#7201a8\"], [0.3333333333333333, \"#9c179e\"], [0.4444444444444444, \"#bd3786\"], [0.5555555555555556, \"#d8576b\"], [0.6666666666666666, \"#ed7953\"], [0.7777777777777778, \"#fb9f3a\"], [0.8888888888888888, \"#fdca26\"], [1.0, \"#f0f921\"]], \"type\": \"contour\"}], \"contourcarpet\": [{\"colorbar\": {\"outlinewidth\": 0, \"ticks\": \"\"}, \"type\": \"contourcarpet\"}], \"heatmap\": [{\"colorbar\": {\"outlinewidth\": 0, \"ticks\": \"\"}, \"colorscale\": [[0.0, \"#0d0887\"], [0.1111111111111111, \"#46039f\"], [0.2222222222222222, \"#7201a8\"], [0.3333333333333333, \"#9c179e\"], [0.4444444444444444, \"#bd3786\"], [0.5555555555555556, \"#d8576b\"], [0.6666666666666666, \"#ed7953\"], [0.7777777777777778, \"#fb9f3a\"], [0.8888888888888888, \"#fdca26\"], [1.0, \"#f0f921\"]], \"type\": \"heatmap\"}], \"heatmapgl\": [{\"colorbar\": {\"outlinewidth\": 0, \"ticks\": \"\"}, \"colorscale\": [[0.0, \"#0d0887\"], [0.1111111111111111, \"#46039f\"], [0.2222222222222222, \"#7201a8\"], [0.3333333333333333, \"#9c179e\"], [0.4444444444444444, \"#bd3786\"], [0.5555555555555556, \"#d8576b\"], [0.6666666666666666, \"#ed7953\"], [0.7777777777777778, \"#fb9f3a\"], [0.8888888888888888, \"#fdca26\"], [1.0, \"#f0f921\"]], \"type\": \"heatmapgl\"}], \"histogram\": [{\"marker\": {\"colorbar\": {\"outlinewidth\": 0, \"ticks\": \"\"}}, \"type\": \"histogram\"}], \"histogram2d\": [{\"colorbar\": {\"outlinewidth\": 0, \"ticks\": \"\"}, \"colorscale\": [[0.0, \"#0d0887\"], [0.1111111111111111, \"#46039f\"], [0.2222222222222222, \"#7201a8\"], [0.3333333333333333, \"#9c179e\"], [0.4444444444444444, \"#bd3786\"], [0.5555555555555556, \"#d8576b\"], [0.6666666666666666, \"#ed7953\"], [0.7777777777777778, \"#fb9f3a\"], [0.8888888888888888, \"#fdca26\"], [1.0, \"#f0f921\"]], \"type\": \"histogram2d\"}], \"histogram2dcontour\": [{\"colorbar\": {\"outlinewidth\": 0, \"ticks\": \"\"}, \"colorscale\": [[0.0, \"#0d0887\"], [0.1111111111111111, \"#46039f\"], [0.2222222222222222, \"#7201a8\"], [0.3333333333333333, \"#9c179e\"], [0.4444444444444444, \"#bd3786\"], [0.5555555555555556, \"#d8576b\"], [0.6666666666666666, \"#ed7953\"], [0.7777777777777778, \"#fb9f3a\"], [0.8888888888888888, \"#fdca26\"], [1.0, \"#f0f921\"]], \"type\": \"histogram2dcontour\"}], \"mesh3d\": [{\"colorbar\": {\"outlinewidth\": 0, \"ticks\": \"\"}, \"type\": \"mesh3d\"}], \"parcoords\": [{\"line\": {\"colorbar\": {\"outlinewidth\": 0, \"ticks\": \"\"}}, \"type\": \"parcoords\"}], \"pie\": [{\"automargin\": true, \"type\": \"pie\"}], \"scatter\": [{\"marker\": {\"colorbar\": {\"outlinewidth\": 0, \"ticks\": \"\"}}, \"type\": \"scatter\"}], \"scatter3d\": [{\"line\": {\"colorbar\": {\"outlinewidth\": 0, \"ticks\": \"\"}}, \"marker\": {\"colorbar\": {\"outlinewidth\": 0, \"ticks\": \"\"}}, \"type\": \"scatter3d\"}], \"scattercarpet\": [{\"marker\": {\"colorbar\": {\"outlinewidth\": 0, \"ticks\": \"\"}}, \"type\": \"scattercarpet\"}], \"scattergeo\": [{\"marker\": {\"colorbar\": {\"outlinewidth\": 0, \"ticks\": \"\"}}, \"type\": \"scattergeo\"}], \"scattergl\": [{\"marker\": {\"colorbar\": {\"outlinewidth\": 0, \"ticks\": \"\"}}, \"type\": \"scattergl\"}], \"scattermapbox\": [{\"marker\": {\"colorbar\": {\"outlinewidth\": 0, \"ticks\": \"\"}}, \"type\": \"scattermapbox\"}], \"scatterpolar\": [{\"marker\": {\"colorbar\": {\"outlinewidth\": 0, \"ticks\": \"\"}}, \"type\": \"scatterpolar\"}], \"scatterpolargl\": [{\"marker\": {\"colorbar\": {\"outlinewidth\": 0, \"ticks\": \"\"}}, \"type\": \"scatterpolargl\"}], \"scatterternary\": [{\"marker\": {\"colorbar\": {\"outlinewidth\": 0, \"ticks\": \"\"}}, \"type\": \"scatterternary\"}], \"surface\": [{\"colorbar\": {\"outlinewidth\": 0, \"ticks\": \"\"}, \"colorscale\": [[0.0, \"#0d0887\"], [0.1111111111111111, \"#46039f\"], [0.2222222222222222, \"#7201a8\"], [0.3333333333333333, \"#9c179e\"], [0.4444444444444444, \"#bd3786\"], [0.5555555555555556, \"#d8576b\"], [0.6666666666666666, \"#ed7953\"], [0.7777777777777778, \"#fb9f3a\"], [0.8888888888888888, \"#fdca26\"], [1.0, \"#f0f921\"]], \"type\": \"surface\"}], \"table\": [{\"cells\": {\"fill\": {\"color\": \"#EBF0F8\"}, \"line\": {\"color\": \"white\"}}, \"header\": {\"fill\": {\"color\": \"#C8D4E3\"}, \"line\": {\"color\": \"white\"}}, \"type\": \"table\"}]}, \"layout\": {\"annotationdefaults\": {\"arrowcolor\": \"#2a3f5f\", \"arrowhead\": 0, \"arrowwidth\": 1}, \"coloraxis\": {\"colorbar\": {\"outlinewidth\": 0, \"ticks\": \"\"}}, \"colorscale\": {\"diverging\": [[0, \"#8e0152\"], [0.1, \"#c51b7d\"], [0.2, \"#de77ae\"], [0.3, \"#f1b6da\"], [0.4, \"#fde0ef\"], [0.5, \"#f7f7f7\"], [0.6, \"#e6f5d0\"], [0.7, \"#b8e186\"], [0.8, \"#7fbc41\"], [0.9, \"#4d9221\"], [1, \"#276419\"]], \"sequential\": [[0.0, \"#0d0887\"], [0.1111111111111111, \"#46039f\"], [0.2222222222222222, \"#7201a8\"], [0.3333333333333333, \"#9c179e\"], [0.4444444444444444, \"#bd3786\"], [0.5555555555555556, \"#d8576b\"], [0.6666666666666666, \"#ed7953\"], [0.7777777777777778, \"#fb9f3a\"], [0.8888888888888888, \"#fdca26\"], [1.0, \"#f0f921\"]], \"sequentialminus\": [[0.0, \"#0d0887\"], [0.1111111111111111, \"#46039f\"], [0.2222222222222222, \"#7201a8\"], [0.3333333333333333, \"#9c179e\"], [0.4444444444444444, \"#bd3786\"], [0.5555555555555556, \"#d8576b\"], [0.6666666666666666, \"#ed7953\"], [0.7777777777777778, \"#fb9f3a\"], [0.8888888888888888, \"#fdca26\"], [1.0, \"#f0f921\"]]}, \"colorway\": [\"#636efa\", \"#EF553B\", \"#00cc96\", \"#ab63fa\", \"#FFA15A\", \"#19d3f3\", \"#FF6692\", \"#B6E880\", \"#FF97FF\", \"#FECB52\"], \"font\": {\"color\": \"#2a3f5f\"}, \"geo\": {\"bgcolor\": \"white\", \"lakecolor\": \"white\", \"landcolor\": \"#E5ECF6\", \"showlakes\": true, \"showland\": true, \"subunitcolor\": \"white\"}, \"hoverlabel\": {\"align\": \"left\"}, \"hovermode\": \"closest\", \"mapbox\": {\"style\": \"light\"}, \"paper_bgcolor\": \"white\", \"plot_bgcolor\": \"#E5ECF6\", \"polar\": {\"angularaxis\": {\"gridcolor\": \"white\", \"linecolor\": \"white\", \"ticks\": \"\"}, \"bgcolor\": \"#E5ECF6\", \"radialaxis\": {\"gridcolor\": \"white\", \"linecolor\": \"white\", \"ticks\": \"\"}}, \"scene\": {\"xaxis\": {\"backgroundcolor\": \"#E5ECF6\", \"gridcolor\": \"white\", \"gridwidth\": 2, \"linecolor\": \"white\", \"showbackground\": true, \"ticks\": \"\", \"zerolinecolor\": \"white\"}, \"yaxis\": {\"backgroundcolor\": \"#E5ECF6\", \"gridcolor\": \"white\", \"gridwidth\": 2, \"linecolor\": \"white\", \"showbackground\": true, \"ticks\": \"\", \"zerolinecolor\": \"white\"}, \"zaxis\": {\"backgroundcolor\": \"#E5ECF6\", \"gridcolor\": \"white\", \"gridwidth\": 2, \"linecolor\": \"white\", \"showbackground\": true, \"ticks\": \"\", \"zerolinecolor\": \"white\"}}, \"shapedefaults\": {\"line\": {\"color\": \"#2a3f5f\"}}, \"ternary\": {\"aaxis\": {\"gridcolor\": \"white\", \"linecolor\": \"white\", \"ticks\": \"\"}, \"baxis\": {\"gridcolor\": \"white\", \"linecolor\": \"white\", \"ticks\": \"\"}, \"bgcolor\": \"#E5ECF6\", \"caxis\": {\"gridcolor\": \"white\", \"linecolor\": \"white\", \"ticks\": \"\"}}, \"title\": {\"x\": 0.05}, \"xaxis\": {\"automargin\": true, \"gridcolor\": \"white\", \"linecolor\": \"white\", \"ticks\": \"\", \"title\": {\"standoff\": 15}, \"zerolinecolor\": \"white\", \"zerolinewidth\": 2}, \"yaxis\": {\"automargin\": true, \"gridcolor\": \"white\", \"linecolor\": \"white\", \"ticks\": \"\", \"title\": {\"standoff\": 15}, \"zerolinecolor\": \"white\", \"zerolinewidth\": 2}}}, \"title\": {\"text\": \"Gantt Chart\"}, \"xaxis\": {\"rangeselector\": {\"buttons\": [{\"count\": 7, \"label\": \"1w\", \"step\": \"day\", \"stepmode\": \"backward\"}, {\"count\": 1, \"label\": \"1m\", \"step\": \"month\", \"stepmode\": \"backward\"}, {\"count\": 6, \"label\": \"6m\", \"step\": \"month\", \"stepmode\": \"backward\"}, {\"count\": 1, \"label\": \"YTD\", \"step\": \"year\", \"stepmode\": \"todate\"}, {\"count\": 1, \"label\": \"1y\", \"step\": \"year\", \"stepmode\": \"backward\"}, {\"step\": \"all\"}]}, \"showgrid\": true, \"type\": \"date\", \"zeroline\": false}, \"yaxis\": {\"autorange\": false, \"range\": [-1, 37], \"showgrid\": true, \"ticktext\": [\"Job  #0\", \"Job  #0\", \"Job  #0\", \"Job  #0\", \"Job  #0\", \"Job  #0\", \"Job  #1\", \"Job  #1\", \"Job  #1\", \"Job  #1\", \"Job  #1\", \"Job  #1\", \"Job  #2\", \"Job  #2\", \"Job  #2\", \"Job  #2\", \"Job  #2\", \"Job  #2\", \"Job  #3\", \"Job  #3\", \"Job  #3\", \"Job  #3\", \"Job  #3\", \"Job  #3\", \"Job  #4\", \"Job  #4\", \"Job  #4\", \"Job  #4\", \"Job  #4\", \"Job  #4\", \"Job  #5\", \"Job  #5\", \"Job  #5\", \"Job  #5\", \"Job  #5\", \"Job  #5\"], \"tickvals\": [0, 1, 2, 3, 4, 5, 6, 7, 8, 9, 10, 11, 12, 13, 14, 15, 16, 17, 18, 19, 20, 21, 22, 23, 24, 25, 26, 27, 28, 29, 30, 31, 32, 33, 34, 35], \"zeroline\": false}},\n",
       "                        {\"responsive\": true}\n",
       "                    ).then(function(){\n",
       "                            \n",
       "var gd = document.getElementById('e2878ea9-831a-4b0a-8d53-54636be2a8f9');\n",
       "var x = new MutationObserver(function (mutations, observer) {{\n",
       "        var display = window.getComputedStyle(gd).display;\n",
       "        if (!display || display === 'none') {{\n",
       "            console.log([gd, 'removed!']);\n",
       "            Plotly.purge(gd);\n",
       "            observer.disconnect();\n",
       "        }}\n",
       "}});\n",
       "\n",
       "// Listen for the removal of the full notebook cells\n",
       "var notebookContainer = gd.closest('#notebook-container');\n",
       "if (notebookContainer) {{\n",
       "    x.observe(notebookContainer, {childList: true});\n",
       "}}\n",
       "\n",
       "// Listen for the clearing of the current output cell\n",
       "var outputEl = gd.closest('.output');\n",
       "if (outputEl) {{\n",
       "    x.observe(outputEl, {childList: true});\n",
       "}}\n",
       "\n",
       "                        })\n",
       "                };\n",
       "                });\n",
       "            </script>\n",
       "        </div>"
      ]
     },
     "metadata": {},
     "output_type": "display_data"
    }
   ],
   "source": [
    "plot_gantt(instance, by=\"JOB\", grouping=False)"
   ]
  },
  {
   "cell_type": "code",
   "execution_count": null,
   "metadata": {},
   "outputs": [],
   "source": [
    "for j in instance.jobs_list:\n",
    "    print(j)"
   ]
  },
  {
   "cell_type": "code",
   "execution_count": null,
   "metadata": {},
   "outputs": [],
   "source": [
    "liste = affichage_repetition(inst)"
   ]
  },
  {
   "cell_type": "code",
   "execution_count": null,
   "metadata": {},
   "outputs": [],
   "source": []
  },
  {
   "cell_type": "code",
   "execution_count": null,
   "metadata": {},
   "outputs": [],
   "source": [
    "i.makeSpan"
   ]
  },
  {
   "cell_type": "code",
   "execution_count": null,
   "metadata": {},
   "outputs": [],
   "source": [
    "instance =Instance(**data)\n",
    "alloc_avec_liste(instance,liste)\n",
    "\n",
    "plot_gantt(instance)\n"
   ]
  },
  {
   "cell_type": "code",
   "execution_count": null,
   "metadata": {
    "scrolled": true
   },
   "outputs": [],
   "source": [
    "for j in i.jobs_list:\n",
    "    print(j)"
   ]
  },
  {
   "cell_type": "code",
   "execution_count": null,
   "metadata": {},
   "outputs": [],
   "source": [
    "liste"
   ]
  },
  {
   "cell_type": "code",
   "execution_count": null,
   "metadata": {},
   "outputs": [],
   "source": []
  },
  {
   "cell_type": "code",
   "execution_count": null,
   "metadata": {
    "pycharm": {
     "is_executing": false,
     "name": "#%%\n"
    }
   },
   "outputs": [],
   "source": [
    "for j in instance.jobs_list:\n",
    "    print(j)"
   ]
  },
  {
   "cell_type": "code",
   "execution_count": null,
   "metadata": {
    "pycharm": {
     "is_executing": false,
     "name": "#%%\n"
    }
   },
   "outputs": [],
   "source": [
    "plot_gantt(instance, by='MACHINE', grouping =False)"
   ]
  },
  {
   "cell_type": "code",
   "execution_count": null,
   "metadata": {},
   "outputs": [],
   "source": [
    "liste = affichage_repetition(inst)\n",
    "liste\n"
   ]
  },
  {
   "cell_type": "code",
   "execution_count": null,
   "metadata": {},
   "outputs": [],
   "source": [
    "liste = affichage_repetition(instance)\n",
    "liste\n"
   ]
  },
  {
   "cell_type": "code",
   "execution_count": null,
   "metadata": {},
   "outputs": [],
   "source": []
  },
  {
   "cell_type": "code",
   "execution_count": null,
   "metadata": {},
   "outputs": [],
   "source": []
  },
  {
   "cell_type": "code",
   "execution_count": null,
   "metadata": {
    "pycharm": {
     "is_executing": false,
     "name": "#%%\n"
    }
   },
   "outputs": [],
   "source": [
    "dfs = pd.DataFrame(test)\n",
    "dfs"
   ]
  },
  {
   "cell_type": "code",
   "execution_count": null,
   "metadata": {
    "pycharm": {
     "is_executing": false,
     "name": "#%%\n"
    }
   },
   "outputs": [],
   "source": [
    "compt = 0\n",
    "minRND = 100000    \n",
    "inst2 = Instance(**data)\n",
    "totalSPT = heuristique_gloutone(inst2, verbose = 0, prio =\"SPT\" , rnd = 0)\n",
    "minSPT = totalSPT\n",
    "\n",
    "for i in range(100):\n",
    "    inst = Instance(**data)\n",
    "    totalRND = heuristique_gloutone(inst, verbose = 0, prio =\"SPT\" , rnd = 1)\n",
    "    if totalRND < minRND :\n",
    "        minRND = totalRND\n",
    "    \n",
    "    if totalRND > totalSPT:\n",
    "        compt += 1\n",
    "        \n",
    "print(\"RND perd\", compt,\"/\", len(range(100)))\n",
    "print(\"RND gagne\", len(range(100)) - compt,\"/\", len(range(100)))\n",
    "print(\"Optimium\", optimum)\n",
    "print(\"minRND\", minRND)\n",
    "print(\"minSPT\", minSPT)"
   ]
  },
  {
   "cell_type": "code",
   "execution_count": null,
   "metadata": {
    "pycharm": {
     "is_executing": false,
     "name": "#%%\n"
    }
   },
   "outputs": [],
   "source": []
  },
  {
   "cell_type": "code",
   "execution_count": null,
   "metadata": {
    "pycharm": {
     "is_executing": false,
     "name": "#%%\n"
    }
   },
   "outputs": [],
   "source": [
    "plot_gantt(inst2, by= \"JOB\", grouping = True)"
   ]
  },
  {
   "cell_type": "code",
   "execution_count": null,
   "metadata": {
    "pycharm": {
     "is_executing": false,
     "name": "#%%\n"
    }
   },
   "outputs": [],
   "source": []
  },
  {
   "cell_type": "code",
   "execution_count": null,
   "metadata": {
    "pycharm": {
     "is_executing": false,
     "name": "#%%\n"
    }
   },
   "outputs": [],
   "source": [
    "import numpy as np\n",
    "a = np.array(a)\n",
    "b = a[:,0]"
   ]
  },
  {
   "cell_type": "code",
   "execution_count": null,
   "metadata": {
    "pycharm": {
     "is_executing": false,
     "name": "#%%\n"
    }
   },
   "outputs": [],
   "source": [
    "        task_list = sorted(task_list.items(), key=lambda x: x[1][2])\n",
    "\n",
    "a[:]"
   ]
  },
  {
   "cell_type": "code",
   "execution_count": null,
   "metadata": {
    "pycharm": {
     "is_executing": false,
     "name": "#%%\n"
    }
   },
   "outputs": [],
   "source": [
    "list(b)"
   ]
  },
  {
   "cell_type": "code",
   "execution_count": null,
   "metadata": {
    "pycharm": {
     "is_executing": false,
     "name": "#%%\n"
    }
   },
   "outputs": [],
   "source": [
    "v = [int(x[0][0]) for x in np.array(a)]\n",
    "\n"
   ]
  },
  {
   "cell_type": "code",
   "execution_count": null,
   "metadata": {
    "pycharm": {
     "is_executing": false,
     "name": "#%%\n"
    }
   },
   "outputs": [],
   "source": [
    "l = affichage_repetition(inst)"
   ]
  },
  {
   "cell_type": "code",
   "execution_count": null,
   "metadata": {
    "pycharm": {
     "is_executing": false,
     "name": "#%%\n"
    }
   },
   "outputs": [],
   "source": [
    "int(True)"
   ]
  },
  {
   "cell_type": "code",
   "execution_count": null,
   "metadata": {
    "pycharm": {
     "is_executing": false,
     "name": "#%%\n"
    }
   },
   "outputs": [],
   "source": [
    "\n"
   ]
  }
 ],
 "metadata": {
  "kernelspec": {
   "display_name": "Python 3",
   "language": "python",
   "name": "python3"
  },
  "language_info": {
   "codemirror_mode": {
    "name": "ipython",
    "version": 3
   },
   "file_extension": ".py",
   "mimetype": "text/x-python",
   "name": "python",
   "nbconvert_exporter": "python",
   "pygments_lexer": "ipython3",
   "version": "3.7.6"
  },
  "pycharm": {
   "stem_cell": {
    "cell_type": "raw",
    "metadata": {
     "collapsed": false
    },
    "source": []
   }
  }
 },
 "nbformat": 4,
 "nbformat_minor": 4
}
